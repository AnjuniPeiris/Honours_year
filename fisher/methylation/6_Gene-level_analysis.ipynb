{
 "cells": [
  {
   "cell_type": "markdown",
   "metadata": {},
   "source": [
    "# <span style=\"color:#ff1414\"> BEDtools analysis. </span>\n",
    "\n",
    "This is a script to answer research questions outlined elsewhere. In summary, this script:\n",
    "\n",
    "1. compares methylation results between different methylation-callers, and between different methylation sequencing methods.\n",
    "\n",
    "2. compares methylation between genes and non-gene regions\n",
    "\n",
    "3. compares methylation between transposons and non-repetitive regions\n",
    "\n",
    "4. compares transposons and genes\n",
    "\n",
    "\n",
    "Note:\n",
    "- PB/pb = PacBio\n",
    "- ONT/ont = Oxford Nanopore Technology\n",
    "- NP = Nanopolish"
   ]
  },
  {
   "cell_type": "code",
   "execution_count": 104,
   "metadata": {},
   "outputs": [],
   "source": [
    "import pybedtools\n",
    "import scipy\n",
    "\n",
    "import matplotlib.patches as mpatches\n",
    "\n",
    "import numpy as np # need for  stats\n",
    "\n",
    "from scipy.stats import wilcoxon\n",
    "import matplotlib.pyplot as plt\n",
    "from matplotlib_venn import venn2"
   ]
  },
  {
   "cell_type": "code",
   "execution_count": 142,
   "metadata": {},
   "outputs": [],
   "source": [
    "# load modules\n",
    "import os\n",
    "import glob\n",
    "import pprint\n",
    "from pybedtools import BedTool\n",
    "from scipy.stats import spearmanr\n",
    "import pandas as pd\n",
    "from scipy.stats import wilcoxon\n",
    "import scipy"
   ]
  },
  {
   "cell_type": "code",
   "execution_count": 106,
   "metadata": {},
   "outputs": [],
   "source": [
    "#First we need to define the base dirs\n",
    "\n",
    "DIRS = {}\n",
    "DIRS['BASE2'] = '/home/anjuni/analysis'\n",
    "DIRS['BASE1'] = '/home/anjuni/methylation_calling/pacbio'\n",
    "DIRS['GFF_INPUT'] = os.path.join(DIRS['BASE2'], 'gff_output')\n",
    "DIRS['FIGURES'] = os.path.join(DIRS['BASE2'], 'figures')\n",
    "DIRS['COVERAGE'] = os.path.join(DIRS['BASE2'], 'coverage')\n",
    "DIRS['FEATURES'] = os.path.join(DIRS['COVERAGE'], 'feature_files')\n",
    "DIRS['RAND'] = os.path.join(DIRS['BASE2'], 'coverage', 'randomisation')\n",
    "DIRS['TE_SF'] = os.path.join(DIRS['COVERAGE'], 'superfamily_files')\n",
    "DIRS['GENE'] = os.path.join(DIRS['COVERAGE'], 'gene_level')\n",
    "DIRS['GENE_BODY'] = os.path.join(DIRS['GENE'], 'gene_body')\n",
    "DIRS['BOTH_U_D'] = os.path.join(DIRS['GENE'], 'both_upstream_downstream')\n",
    "DIRS['DOWN_STR'] = os.path.join(DIRS['GENE'], 'downstream')\n",
    "DIRS['UP_STR'] = os.path.join(DIRS['GENE'], 'upstream')\n",
    "DIRS['TSS'] = os.path.join(DIRS['GENE'], 'tss_6mA_only')\n",
    "DIRS['TE'] = os.path.join(DIRS['GENE'], 'te')"
   ]
  },
  {
   "cell_type": "code",
   "execution_count": 107,
   "metadata": {},
   "outputs": [],
   "source": [
    "#Quick chech if directories exist\n",
    "for value in DIRS.values():\n",
    "    if not os.path.exists(value):\n",
    "        print('%s does not exist' % value)"
   ]
  },
  {
   "cell_type": "markdown",
   "metadata": {},
   "source": [
    "## <span style='color:#14c4ff'> 6. Intersecting methylation with gene annotation files. <span/>"
   ]
  },
  {
   "cell_type": "code",
   "execution_count": 108,
   "metadata": {},
   "outputs": [],
   "source": [
    "# Function to easily convert the values in the file name dict into bedtools objects\n",
    "def make_bed_dict(fn_dict):\n",
    "    \"\"\"Takes an input filename dictionary and outputs a dictionary of pybedtools objects for the filenames.\"\"\"\n",
    "    bed_dict = {}\n",
    "    for key, value in fn_dict.items():      \n",
    "        bed_dict[key] = BedTool(value)\n",
    "    return bed_dict"
   ]
  },
  {
   "cell_type": "markdown",
   "metadata": {},
   "source": [
    "### <span style='color:#14c4ff'> 6.A Intersecting 5mC and 6mA with gene body. <span/>"
   ]
  },
  {
   "cell_type": "markdown",
   "metadata": {},
   "source": [
    "#### <span style='color:#a347ff'> 6.A.1  Collecting annotation files <span/>"
   ]
  },
  {
   "cell_type": "code",
   "execution_count": 9,
   "metadata": {},
   "outputs": [],
   "source": [
    "# Copy the gene annotation files to the input folder\n",
    "# sections: gene_body, upstream, downstream, both_u_d, tss_6mA_only, te\n",
    "\n",
    "! cp /home/anjuni/analysis/gff_output/*combined*  /home/anjuni/analysis/coverage/gene_level/gene_body/input/"
   ]
  },
  {
   "cell_type": "code",
   "execution_count": 109,
   "metadata": {},
   "outputs": [],
   "source": [
    "# Converted the gff anno files to bed files in the anno_file_prep notebook\n",
    "# Set filepaths for the anno bed files\n",
    "\n",
    "gene_body_fn_dict = {}\n",
    "for fn in glob.iglob('%s/*.bed' % os.path.join(DIRS['GENE_BODY'], 'input'), recursive=True):\n",
    "    key = fn.split('/')[-1]\n",
    "    gene_body_fn_dict[key] = fn\n",
    "\n",
    "# Make dictionary of bedtools objects and check if it worked (it did!)\n",
    "gene_body_bed_dict = make_bed_dict(gene_body_fn_dict)"
   ]
  },
  {
   "cell_type": "code",
   "execution_count": 110,
   "metadata": {
    "collapsed": true
   },
   "outputs": [
    {
     "data": {
      "text/plain": [
       "{'Pst_104E_v13_h_ctg_combined_sorted_anno.bed': '/home/anjuni/analysis/coverage/gene_level/gene_body/input/Pst_104E_v13_h_ctg_combined_sorted_anno.bed',\n",
       " 'Pst_104E_v13_p_ctg_combined_sorted_anno.bed': '/home/anjuni/analysis/coverage/gene_level/gene_body/input/Pst_104E_v13_p_ctg_combined_sorted_anno.bed'}"
      ]
     },
     "execution_count": 110,
     "metadata": {},
     "output_type": "execute_result"
    }
   ],
   "source": [
    "gene_body_fn_dict"
   ]
  },
  {
   "cell_type": "code",
   "execution_count": 111,
   "metadata": {
    "collapsed": true
   },
   "outputs": [
    {
     "data": {
      "text/plain": [
       "{'Pst_104E_v13_h_ctg_combined_sorted_anno.bed': <BedTool(/home/anjuni/analysis/coverage/gene_level/gene_body/input/Pst_104E_v13_h_ctg_combined_sorted_anno.bed)>,\n",
       " 'Pst_104E_v13_p_ctg_combined_sorted_anno.bed': <BedTool(/home/anjuni/analysis/coverage/gene_level/gene_body/input/Pst_104E_v13_p_ctg_combined_sorted_anno.bed)>}"
      ]
     },
     "execution_count": 111,
     "metadata": {},
     "output_type": "execute_result"
    }
   ],
   "source": [
    "gene_body_bed_dict"
   ]
  },
  {
   "cell_type": "markdown",
   "metadata": {},
   "source": [
    "#### <span style='color:#a347ff'> 6.A.2 Collecting methylation files and randomised methylation files for the rest of the analysis.<span/>"
   ]
  },
  {
   "cell_type": "code",
   "execution_count": 112,
   "metadata": {},
   "outputs": [],
   "source": [
    "# Make a dictionary of methylation files\n",
    "methyl_fn_dict = {} # lowest cutoff as it had the highest similarity between sequencers/callers\n",
    "methyl_fn_dict['5mC_hc_tombo_sorted.cutoff.0.80.bed'] = os.path.join(DIRS['FEATURES'], '5mC_hc_tombo_sorted.cutoff.0.80.bed',)\n",
    "methyl_fn_dict['6mA_hc_tombo_sorted.cutoff.0.80.bed'] = os.path.join(DIRS['FEATURES'], '6mA_hc_tombo_sorted.cutoff.0.80.bed',)\n",
    "\n",
    "# Make dictionary of bedtools objects and check if it worked (it did!)\n",
    "methyl_bed_dict = make_bed_dict(methyl_fn_dict)"
   ]
  },
  {
   "cell_type": "code",
   "execution_count": 113,
   "metadata": {
    "collapsed": true
   },
   "outputs": [
    {
     "data": {
      "text/plain": [
       "{'5mC_hc_tombo_sorted.cutoff.0.80.bed': <BedTool(/home/anjuni/analysis/coverage/feature_files/5mC_hc_tombo_sorted.cutoff.0.80.bed)>,\n",
       " '6mA_hc_tombo_sorted.cutoff.0.80.bed': <BedTool(/home/anjuni/analysis/coverage/feature_files/6mA_hc_tombo_sorted.cutoff.0.80.bed)>}"
      ]
     },
     "execution_count": 113,
     "metadata": {},
     "output_type": "execute_result"
    }
   ],
   "source": [
    "methyl_bed_dict"
   ]
  },
  {
   "cell_type": "code",
   "execution_count": 114,
   "metadata": {},
   "outputs": [],
   "source": [
    "# Randomisation\n",
    "# Generating randomised files as controls\n",
    "\n",
    "# Dictionary of filepaths \n",
    "methyl_rand_fn_dict = {}\n",
    "methyl_rand_fn_dict['5mC_hc_tombo_sorted.cutoff.0.80.bed'] = '/home/anjuni/analysis/coverage/randomisation/5mC_hc_tombo_sorted.cutoff.0.80_rand.bed'\n",
    "methyl_rand_fn_dict['6mA_hc_tombo_sorted.cutoff.0.80.bed'] = '/home/anjuni/analysis/coverage/randomisation/6mA_hc_tombo_sorted.cutoff.0.80_rand.bed'\n",
    "\n",
    "# Make a dictionary of randomised methylation bed files\n",
    "methyl_rand_bed_dict = make_bed_dict(methyl_rand_fn_dict)"
   ]
  },
  {
   "cell_type": "code",
   "execution_count": 115,
   "metadata": {},
   "outputs": [
    {
     "data": {
      "text/plain": [
       "{'5mC_hc_tombo_sorted.cutoff.0.80.bed': <BedTool(/home/anjuni/analysis/coverage/randomisation/5mC_hc_tombo_sorted.cutoff.0.80_rand.bed)>,\n",
       " '6mA_hc_tombo_sorted.cutoff.0.80.bed': <BedTool(/home/anjuni/analysis/coverage/randomisation/6mA_hc_tombo_sorted.cutoff.0.80_rand.bed)>}"
      ]
     },
     "execution_count": 115,
     "metadata": {},
     "output_type": "execute_result"
    }
   ],
   "source": [
    "methyl_rand_bed_dict"
   ]
  },
  {
   "cell_type": "markdown",
   "metadata": {},
   "source": [
    "#### <span style='color:#a347ff'> 6.A.3 Running gene body coverage for methylation and randomised methylation.<span/>"
   ]
  },
  {
   "cell_type": "code",
   "execution_count": 55,
   "metadata": {},
   "outputs": [],
   "source": [
    "# Make a function to do overlaps for gene files and methylation\n",
    "def coverage_gene(genebed_dict, methylbed_dict, genefn_dict, old_folder_name, new_folder_name):\n",
    "    \"\"\"Create coverage files from:\n",
    "    Inputs: dictionary of gene pybedtools objects, dictionary of methylation pybedtools objects, dictionary of gene filenames, old folder name and new folder name.\n",
    "    Output: dictionary of pandas dataframes for all coverage files.\"\"\"\n",
    "    feature_overlap_df_dict = {}\n",
    "    for gkey, gbed in genebed_dict.items():\n",
    "        for mkey, mbed in methylbed_dict.items():\n",
    "            tmp_df = gbed.coverage(mbed, s=True).to_dataframe().iloc[:,[0,1,2,3,6,9]] # make a dataframe to put headings\n",
    "            tmp_df.rename(columns={'thickStart': 'overlap_count', 'blockCount': 'overlap_fraction'}, inplace=True) # rename headings\n",
    "            tmp_fn = genefn_dict[gkey].replace('.bed', '.%s.overlap.bed' % mkey[:-4]) # change output file path\n",
    "            tmp_fn = tmp_fn.replace(old_folder_name, new_folder_name)\n",
    "            feature_overlap_df_dict[tmp_fn.split('/')[-1]] = tmp_df # file name as key and dataframe as value for overlap dict\n",
    "            tmp_df.to_csv(tmp_fn, sep='\\t', header=None, index=None) # save to a csv(pybedtools outputs more d.p. than BEDTools)\n",
    "    return feature_overlap_df_dict"
   ]
  },
  {
   "cell_type": "code",
   "execution_count": 133,
   "metadata": {},
   "outputs": [],
   "source": [
    "te_methyl_overlap_dict = coverage_gene(te_bed_dict, methyl_bed_dict, te_fn_dict, 'input', 'coverage')\n",
    "te_rand_methyl_overlap_dict = coverage_gene(te_bed_dict, methyl_bed_dict, te_fn_dict, 'input', 'rand')"
   ]
  },
  {
   "cell_type": "code",
   "execution_count": 134,
   "metadata": {},
   "outputs": [],
   "source": [
    "# run overlap over the gene body for the genes\n",
    "gene_methyl_overlap_dict = coverage_gene(gene_body_bed_dict, methyl_bed_dict, gene_body_fn_dict, 'input', 'coverage')\n",
    "gene_rand_methyl_overlap_dict = coverage_gene(gene_body_bed_dict, methyl_rand_bed_dict, gene_body_fn_dict, 'input', 'rand')"
   ]
  },
  {
   "cell_type": "markdown",
   "metadata": {},
   "source": [
    "### <span style='color:#14c4ff'> 6.B Intersecting 5mC and 6mA with upstream and downstream regions. <span/>"
   ]
  },
  {
   "cell_type": "markdown",
   "metadata": {},
   "source": [
    "#### <span style='color:#a347ff'> 6.B.1 Making flank files for the upstream and downstream regions.<span/>"
   ]
  },
  {
   "cell_type": "code",
   "execution_count": 116,
   "metadata": {
    "collapsed": true
   },
   "outputs": [
    {
     "ename": "KeyError",
     "evalue": "'GENE_ANNO'",
     "output_type": "error",
     "traceback": [
      "\u001b[0;31m---------------------------------------------------------------------------\u001b[0m",
      "\u001b[0;31mKeyError\u001b[0m                                  Traceback (most recent call last)",
      "\u001b[0;32m<ipython-input-116-35aeb37b3d6e>\u001b[0m in \u001b[0;36m<module>\u001b[0;34m()\u001b[0m\n\u001b[1;32m      1\u001b[0m \u001b[0mgene_anno_dict\u001b[0m \u001b[0;34m=\u001b[0m \u001b[0;34m{\u001b[0m\u001b[0;34m}\u001b[0m\u001b[0;34m\u001b[0m\u001b[0m\n\u001b[0;32m----> 2\u001b[0;31m \u001b[0;32mfor\u001b[0m \u001b[0mfn\u001b[0m \u001b[0;32min\u001b[0m \u001b[0mglob\u001b[0m\u001b[0;34m.\u001b[0m\u001b[0miglob\u001b[0m\u001b[0;34m(\u001b[0m\u001b[0;34m'%s/*combined_sorted_anno.bed'\u001b[0m \u001b[0;34m%\u001b[0m \u001b[0mDIRS\u001b[0m\u001b[0;34m[\u001b[0m\u001b[0;34m'GENE_ANNO'\u001b[0m\u001b[0;34m]\u001b[0m\u001b[0;34m,\u001b[0m \u001b[0mrecursive\u001b[0m\u001b[0;34m=\u001b[0m\u001b[0;32mTrue\u001b[0m\u001b[0;34m)\u001b[0m\u001b[0;34m:\u001b[0m\u001b[0;34m\u001b[0m\u001b[0m\n\u001b[0m\u001b[1;32m      3\u001b[0m     \u001b[0mkey\u001b[0m \u001b[0;34m=\u001b[0m \u001b[0mfn\u001b[0m\u001b[0;34m.\u001b[0m\u001b[0msplit\u001b[0m\u001b[0;34m(\u001b[0m\u001b[0;34m'/'\u001b[0m\u001b[0;34m)\u001b[0m\u001b[0;34m[\u001b[0m\u001b[0;34m-\u001b[0m\u001b[0;36m1\u001b[0m\u001b[0;34m]\u001b[0m\u001b[0;34m\u001b[0m\u001b[0m\n\u001b[1;32m      4\u001b[0m     \u001b[0mgene_anno_dict\u001b[0m\u001b[0;34m[\u001b[0m\u001b[0mkey\u001b[0m\u001b[0;34m]\u001b[0m \u001b[0;34m=\u001b[0m \u001b[0mfn\u001b[0m\u001b[0;34m\u001b[0m\u001b[0m\n\u001b[1;32m      5\u001b[0m \u001b[0;34m\u001b[0m\u001b[0m\n",
      "\u001b[0;31mKeyError\u001b[0m: 'GENE_ANNO'"
     ]
    }
   ],
   "source": [
    "gene_anno_dict = {}\n",
    "for fn in glob.iglob('%s/*combined_sorted_anno.bed' % DIRS['GENE_ANNO'], recursive=True):\n",
    "    key = fn.split('/')[-1]\n",
    "    gene_anno_dict[key] = fn\n",
    "\n",
    "# Make dictionary of bedtools objects and check if it worked (it did!)\n",
    "gene_bed_dict = make_bed_dict(gene_anno_dict)"
   ]
  },
  {
   "cell_type": "code",
   "execution_count": 32,
   "metadata": {},
   "outputs": [
    {
     "data": {
      "text/plain": [
       "{'Pst_104E_v13_h_ctg_combined_sorted_anno.bed': <BedTool(/home/anjuni/analysis/coverage/gene_level/gene_anno/Pst_104E_v13_h_ctg_combined_sorted_anno.bed)>,\n",
       " 'Pst_104E_v13_p_ctg_combined_sorted_anno.bed': <BedTool(/home/anjuni/analysis/coverage/gene_level/gene_anno/Pst_104E_v13_p_ctg_combined_sorted_anno.bed)>}"
      ]
     },
     "execution_count": 32,
     "metadata": {},
     "output_type": "execute_result"
    }
   ],
   "source": [
    "gene_bed_dict"
   ]
  },
  {
   "cell_type": "code",
   "execution_count": 33,
   "metadata": {},
   "outputs": [],
   "source": [
    "# Make files of upstream and downstream regions\n",
    "def make_flank_files(genebed_dict, genefn_dict, genome_size_fn, up_window, down_window, old_folder_name, new_folder_name, suffix):\n",
    "    \"\"\"This function makes flanking regions upstream and downstream of the input feature file.\"\"\"\n",
    "    out_fn_dict = {}\n",
    "    for gkey, gbed in genebed_dict.items():\n",
    "            tmp_bed = gbed.flank(g=genome_size_f_fn, l=up_window, r=down_window, s= True)\n",
    "            tmp_fn = genefn_dict[gkey].replace('.bed', '.%s.bed' % suffix)\n",
    "            tmp_fn = tmp_fn.replace(old_folder_name, new_folder_name) # change output file path\n",
    "            tmp_bed.saveas(tmp_fn) # save flank to a csv\n",
    "            out_fn_dict[tmp_fn.split('/')[-1]] = tmp_fn # file name as key and dataframe as value for overlap dict\n",
    "    return out_fn_dict"
   ]
  },
  {
   "cell_type": "code",
   "execution_count": 35,
   "metadata": {},
   "outputs": [],
   "source": [
    "genome_size_f_fn = os.path.join(DIRS['WINDOW_INPUT'], 'Pst_104E_v13_ph_ctg.sorted.genome_file')"
   ]
  },
  {
   "cell_type": "code",
   "execution_count": 36,
   "metadata": {},
   "outputs": [],
   "source": [
    "# Make filename dict for inputs\n",
    "upstream_flank_fn_dict = make_flank_files(gene_bed_dict, gene_anno_dict, genome_size_f_fn, 1000, 0, 'gene_anno', 'upstream/input', 'upstream')\n",
    "downstream_flank_fn_dict = make_flank_files(gene_bed_dict, gene_anno_dict, genome_size_f_fn, 0, 1000, 'gene_anno', 'downstream/input', 'downstream')\n",
    "both_u_d_flank_fn_dict = make_flank_files(gene_bed_dict, gene_anno_dict, genome_size_f_fn, 1000, 1000, 'gene_anno', 'both_upstream_downstream/input', 'both_u_d')"
   ]
  },
  {
   "cell_type": "code",
   "execution_count": 37,
   "metadata": {},
   "outputs": [],
   "source": [
    "# Make bedtool object dictionary of inputs\n",
    "upstream_flank_bed_dict = make_bed_dict(upstream_flank_fn_dict)\n",
    "downstream_flank_bed_dict = make_bed_dict(downstream_flank_fn_dict)\n",
    "both_u_d_flank_bed_dict = make_bed_dict(both_u_d_flank_fn_dict)"
   ]
  },
  {
   "cell_type": "code",
   "execution_count": 120,
   "metadata": {},
   "outputs": [],
   "source": [
    "# Convert list to dict of fn\n",
    "def file_name_dict(file_list):\n",
    "    \"\"\"Outputs a dictionary of input file paths for a given list of input file paths.\"\"\"\n",
    "    file_dict = {}\n",
    "    for file in file_list:\n",
    "        file_dict[file.split('/')[-1]] = file\n",
    "    return file_dict"
   ]
  },
  {
   "cell_type": "code",
   "execution_count": 123,
   "metadata": {},
   "outputs": [],
   "source": [
    "upstream_flank_fn_dict = file_name_dict([fn for fn in glob.iglob('%s/*bed' % os.path.join(DIRS['UP_STR'], 'input'), recursive=True)])\n",
    "downstream_flank_fn_dict = file_name_dict([fn for fn in glob.iglob('%s/*bed' % os.path.join(DIRS['DOWN_STR'], 'input'), recursive=True)])\n",
    "both_u_d_flank_fn_dict = file_name_dict([fn for fn in glob.iglob('%s/*bed' % os.path.join(DIRS['BOTH_U_D'], 'input'), recursive=True)])"
   ]
  },
  {
   "cell_type": "code",
   "execution_count": 124,
   "metadata": {},
   "outputs": [],
   "source": [
    "upstream_flank_bed_dict = make_bed_dict(upstream_flank_fn_dict)\n",
    "downstream_flank_bed_dict = make_bed_dict(downstream_flank_fn_dict)\n",
    "both_u_d_flank_bed_dict = make_bed_dict(both_u_d_flank_fn_dict)"
   ]
  },
  {
   "cell_type": "markdown",
   "metadata": {},
   "source": [
    "#### <span style='color:#a347ff'> 6.B.2 Running upstream, downstream, and both_u_d coverage for methylation and randomised methylation.<span/>"
   ]
  },
  {
   "cell_type": "code",
   "execution_count": 39,
   "metadata": {},
   "outputs": [],
   "source": [
    "# Make a function to do overlaps for flank files and methylation\n",
    "def coverage_flank(genebed_dict, methylbed_dict, genefn_dict, old_folder_name, new_folder_name, suffix):\n",
    "    \"\"\"Create coverage files from:\n",
    "    Inputs: dictionary of gene pybedtools objects, dictionary of methylation pybedtools objects, dictionary of gene filenames, old folder name and new folder name.\n",
    "    Output: dictionary of pandas dataframes for all coverage files.\"\"\"\n",
    "    feature_overlap_df_dict = {}\n",
    "    for gkey, gbed in genebed_dict.items():\n",
    "        for mkey, mbed in methylbed_dict.items():\n",
    "            tmp_df = gbed.coverage(mbed, s=True).to_dataframe().iloc[:,[0,1,2,3,6,9]] # make a dataframe to put headings\n",
    "            tmp_df.rename(columns={'thickStart': 'overlap_count', 'blockCount': 'overlap_fraction'}, inplace=True) # rename headings\n",
    "            tmp_fn = genefn_dict[gkey].replace('.%s.bed' % suffix, '.bed')\n",
    "            tmp_fn = tmp_fn.replace('.bed', '.%s.%s.overlap.bed' % (mkey[:-4], suffix)) # change output file path\n",
    "            tmp_fn = tmp_fn.replace(old_folder_name, new_folder_name)\n",
    "            feature_overlap_df_dict[tmp_fn.split('/')[-1]] = tmp_df # file name as key and dataframe as value for overlap dict\n",
    "            tmp_df.to_csv(tmp_fn, sep='\\t', header=None, index=None) # save to a csv(pybedtools outputs more d.p. than BEDTools)\n",
    "    return feature_overlap_df_dict"
   ]
  },
  {
   "cell_type": "code",
   "execution_count": 135,
   "metadata": {},
   "outputs": [],
   "source": [
    "# Make dictionaries of dataframes for each coverage file\n",
    "upstream_coverage_dict = coverage_flank(upstream_flank_bed_dict, methyl_bed_dict, upstream_flank_fn_dict, 'input', 'coverage', 'upstream')\n",
    "downstream_coverage_dict = coverage_flank(downstream_flank_bed_dict, methyl_bed_dict, downstream_flank_fn_dict, 'input', 'coverage', 'downstream')\n",
    "both_u_d_coverage_dict = coverage_flank(both_u_d_flank_bed_dict, methyl_bed_dict, both_u_d_flank_fn_dict, 'input', 'coverage', 'both_u_d')"
   ]
  },
  {
   "cell_type": "code",
   "execution_count": null,
   "metadata": {},
   "outputs": [
    {
     "name": "stdout",
     "output_type": "stream",
     "text": [
      "Pst_104E_v13_p_ctg_combined_sorted_anno.5mC_hc_tombo_sorted.cutoff.0.80.upstream.overlap.bed\n",
      "Pst_104E_v13_p_ctg_combined_sorted_anno.6mA_hc_tombo_sorted.cutoff.0.80.upstream.overlap.bed\n",
      "Pst_104E_v13_h_ctg_combined_sorted_anno.5mC_hc_tombo_sorted.cutoff.0.80.upstream.overlap.bed\n",
      "Pst_104E_v13_h_ctg_combined_sorted_anno.6mA_hc_tombo_sorted.cutoff.0.80.upstream.overlap.bed\n"
     ]
    }
   ],
   "source": [
    "print(*upstream_coverage_dict, sep='\\n')"
   ]
  },
  {
   "cell_type": "code",
   "execution_count": null,
   "metadata": {},
   "outputs": [],
   "source": [
    "# Make dictionaries of dataframes for randomised methylation for each coverage file\n",
    "upstream_rand_coverage_dict = coverage_flank(upstream_flank_bed_dict, methyl_rand_bed_dict, upstream_flank_fn_dict, 'input', 'rand', 'upstream')\n",
    "downstream_rand_coverage_dict = coverage_flank(downstream_flank_bed_dict, methyl_rand_bed_dict, downstream_flank_fn_dict, 'input', 'rand', 'downstream')\n",
    "both_u_d_rand_coverage_dict = coverage_flank(both_u_d_flank_bed_dict, methyl_rand_bed_dict, both_u_d_flank_fn_dict, 'input', 'rand', 'both_u_d')"
   ]
  },
  {
   "cell_type": "markdown",
   "metadata": {},
   "source": [
    "### <span style='color:#14c4ff'> 6.C Intersecting 6mA with transcription start site. <span/>"
   ]
  },
  {
   "cell_type": "markdown",
   "metadata": {},
   "source": [
    "#### <span style='color:#a347ff'> 6.C.1 Making TSS files.<span/>"
   ]
  },
  {
   "cell_type": "code",
   "execution_count": null,
   "metadata": {},
   "outputs": [],
   "source": [
    "# 6mA is at TSS or slightly downstream (+/- 500bp)\n",
    "# Make gene files with just the first 500bp of the gene\n",
    "# Run coverage for these"
   ]
  },
  {
   "cell_type": "code",
   "execution_count": 19,
   "metadata": {},
   "outputs": [],
   "source": [
    "# write a function to take the files in gene_anno_dict, convert to df and edit the df and save out\n",
    "def make_tss_file(fn_dict):\n",
    "    out_fn_dict = {}\n",
    "    for key, value in fn_dict.items():\n",
    "        in_fn = fn_dict[key]\n",
    "        df = pd.read_csv(in_fn, sep='\\t', header = None)\n",
    "        for index, row in df.iterrows():\n",
    "            tss = row[1] + 500\n",
    "            df.iat[index,2] = tss # change the gene end site to 500bp downstream of TSS\n",
    "        out_fn = in_fn.replace('.bed', '.tss.bed')\n",
    "        out_fn = out_fn.replace('gene_anno', 'tss_6mA_only/input') # make the outfile name\n",
    "        df.to_csv(out_fn, header=None, index=None, sep='\\t') # save the new tss df to a bed file\n",
    "        outkey = out_fn.split('/')[-1]\n",
    "        out_fn_dict[outkey] = out_fn # save the outfile names to a dictionary\n",
    "    return out_fn_dict"
   ]
  },
  {
   "cell_type": "code",
   "execution_count": 22,
   "metadata": {},
   "outputs": [],
   "source": [
    "# Make the TSS files and return dictionary of filepaths to TSS files\n",
    "tss_fn_dict = make_tss_file(gene_anno_dict)\n",
    "\n",
    "# Make a bedtools object dictionary of TSS files\n",
    "tss_bed_dict = make_bed_dict(tss_fn_dict)"
   ]
  },
  {
   "cell_type": "code",
   "execution_count": 129,
   "metadata": {},
   "outputs": [],
   "source": [
    "tss_fn_dict = file_name_dict([fn for fn in glob.iglob('%s/*bed' % os.path.join(DIRS['TSS'], 'input'), recursive=True)])\n",
    "tss_bed_dict = make_bed_dict(tss_fn_dict)"
   ]
  },
  {
   "cell_type": "code",
   "execution_count": 130,
   "metadata": {
    "collapsed": true
   },
   "outputs": [
    {
     "data": {
      "text/plain": [
       "{'Pst_104E_v13_h_ctg_combined_sorted_anno.tss.bed': <BedTool(/home/anjuni/analysis/coverage/gene_level/tss_6mA_only/input/Pst_104E_v13_h_ctg_combined_sorted_anno.tss.bed)>,\n",
       " 'Pst_104E_v13_p_ctg_combined_sorted_anno.tss.bed': <BedTool(/home/anjuni/analysis/coverage/gene_level/tss_6mA_only/input/Pst_104E_v13_p_ctg_combined_sorted_anno.tss.bed)>}"
      ]
     },
     "execution_count": 130,
     "metadata": {},
     "output_type": "execute_result"
    }
   ],
   "source": [
    "tss_bed_dict"
   ]
  },
  {
   "cell_type": "markdown",
   "metadata": {},
   "source": [
    "#### <span style='color:#a347ff'> 6.C.2 Running TSS coverage for methylation files and randomised methylation files .<span/>"
   ]
  },
  {
   "cell_type": "code",
   "execution_count": null,
   "metadata": {},
   "outputs": [],
   "source": [
    "def coverage_gene(genebed_dict, methylbed_dict, genefn_dict, old_folder_name, new_folder_name):\n",
    "    \"\"\"Create coverage files from:\n",
    "    Inputs: dictionary of gene pybedtools objects, dictionary of methylation pybedtools objects, dictionary of gene filenames, old folder name and new folder name.\n",
    "    Output: dictionary of pandas dataframes for all coverage files.\"\"\"\n",
    "    feature_overlap_df_dict = {}\n",
    "    for gkey, gbed in genebed_dict.items():\n",
    "        for mkey, mbed in methylbed_dict.items():\n",
    "            tmp_df = gbed.coverage(mbed, s=True).to_dataframe().iloc[:,[0,1,2,3,6,9]] # make a dataframe to put headings\n",
    "            tmp_df.rename(columns={'thickStart': 'overlap_count', 'blockCount': 'overlap_fraction'}, inplace=True) # rename headings\n",
    "            tmp_fn = genefn_dict[gkey].replace('.bed', '.%s.overlap.bed' % mkey[:-4]) # change output file path\n",
    "            tmp_fn = tmp_fn.replace(old_folder_name, new_folder_name)\n",
    "            feature_overlap_df_dict[tmp_fn.split('/')[-1]] = tmp_df # file name as key and dataframe as value for overlap dict\n",
    "            tmp_df.to_csv(tmp_fn, sep='\\t', header=None, index=None) # save to a csv(pybedtools outputs more d.p. than BEDTools)\n",
    "    return feature_overlap_df_dict"
   ]
  },
  {
   "cell_type": "code",
   "execution_count": 187,
   "metadata": {},
   "outputs": [],
   "source": [
    "# Make a function to do overlaps for tss files and methylation\n",
    "def coverage_tss(genebed_dict, methylbed_dict, genefn_dict, old_folder_name, new_folder_name, suffix):\n",
    "    \"\"\"Create coverage files from:\n",
    "    Inputs: dictionary of gene pybedtools objects, dictionary of methylation pybedtools objects, dictionary of gene filenames, old folder name and new folder name.\n",
    "    Output: dictionary of pandas dataframes for all coverage files.\"\"\"\n",
    "    feature_overlap_df_dict = {}\n",
    "    for gkey, gbed in genebed_dict.items():\n",
    "        for mkey, mbed in methylbed_dict.items():\n",
    "            tmp_df = gbed.coverage(mbed, s=True).to_dataframe().iloc[:,[0,1,2,3,6,9]] # make a dataframe to put headings\n",
    "            tmp_df.rename(columns={'thickStart': 'overlap_count', 'blockCount': 'overlap_fraction'}, inplace=True) # rename headings\n",
    "            tmp_fn = genefn_dict[gkey].replace('.%s.bed' % suffix, '.bed')\n",
    "            tmp_fn = tmp_fn.replace('.bed', '.%s.%s.overlap.bed' % (mkey[:-4], suffix)) # change output file path\n",
    "            tmp_fn = tmp_fn.replace(old_folder_name, new_folder_name)\n",
    "            feature_overlap_df_dict[tmp_fn.split('/')[-1]] = tmp_df # file name as key and dataframe as value for overlap dict\n",
    "            tmp_df.to_csv(tmp_fn, sep='\\t', header=None, index=None) # save to a csv(pybedtools outputs more d.p. than BEDTools)\n",
    "    return feature_overlap_df_dict"
   ]
  },
  {
   "cell_type": "code",
   "execution_count": 189,
   "metadata": {},
   "outputs": [],
   "source": [
    "# Run coverage for tss and return dictionary of dataframes\n",
    "tss_overlap_dict = coverage_tss(tss_bed_dict, methyl_bed_dict, tss_fn_dict, 'input', 'coverage', 'tss')"
   ]
  },
  {
   "cell_type": "code",
   "execution_count": 158,
   "metadata": {},
   "outputs": [
    {
     "name": "stdout",
     "output_type": "stream",
     "text": [
      "Pst_104E_v13_h_ctg_combined_sorted_anno.tss.5mC_hc_tombo_sorted.cutoff.0.80.overlap.bed\n",
      "Pst_104E_v13_h_ctg_combined_sorted_anno.tss.6mA_hc_tombo_sorted.cutoff.0.80.overlap.bed\n",
      "Pst_104E_v13_p_ctg_combined_sorted_anno.tss.5mC_hc_tombo_sorted.cutoff.0.80.overlap.bed\n",
      "Pst_104E_v13_p_ctg_combined_sorted_anno.tss.6mA_hc_tombo_sorted.cutoff.0.80.overlap.bed\n"
     ]
    }
   ],
   "source": [
    "print(*tss_overlap_dict, sep='\\n')"
   ]
  },
  {
   "cell_type": "code",
   "execution_count": 190,
   "metadata": {},
   "outputs": [],
   "source": [
    "# Run randomised coverage for tss and return dictionary of dataframes\n",
    "tss_rand_dict = coverage_tss(tss_bed_dict, methyl_rand_bed_dict, tss_fn_dict, 'input', 'rand', 'tss')"
   ]
  },
  {
   "cell_type": "code",
   "execution_count": 226,
   "metadata": {},
   "outputs": [],
   "source": [
    "# get only 6mA for tss\n",
    "del tss_overlap_dict['Pst_104E_v13_h_ctg_combined_sorted_anno.5mC_hc_tombo_sorted.cutoff.0.80.tss.overlap.bed']\n",
    "del tss_overlap_dict['Pst_104E_v13_p_ctg_combined_sorted_anno.5mC_hc_tombo_sorted.cutoff.0.80.tss.overlap.bed']\n",
    "del tss_rand_dict['Pst_104E_v13_h_ctg_combined_sorted_anno.5mC_hc_tombo_sorted.cutoff.0.80.tss.overlap.bed']\n",
    "del tss_rand_dict['Pst_104E_v13_p_ctg_combined_sorted_anno.5mC_hc_tombo_sorted.cutoff.0.80.tss.overlap.bed']"
   ]
  },
  {
   "cell_type": "markdown",
   "metadata": {},
   "source": [
    "### <span style='color:#14c4ff'> 6.D Intersecting transposons files with methylation. <span/>"
   ]
  },
  {
   "cell_type": "markdown",
   "metadata": {},
   "source": [
    "#### <span style='color:#a347ff'> 6.D.1 Collecting transposon annotation files .<span/>"
   ]
  },
  {
   "cell_type": "code",
   "execution_count": 53,
   "metadata": {},
   "outputs": [],
   "source": [
    "# Converted the gff anno files to bed files in the anno_file_prep notebook\n",
    "# Set filepaths for the te anno bed files\n",
    "\n",
    "!cp /home/anjuni/analysis/coverage/feature_files/*REPET* /home/anjuni/analysis/coverage/gene_level/te/input\n",
    "\n",
    "te_fn_dict = {}\n",
    "for fn in glob.iglob('%s/*.bed' % os.path.join(DIRS['TE'], 'input'), recursive=True):\n",
    "    key = fn.split('/')[-1]\n",
    "    te_fn_dict[key] = fn\n",
    "\n",
    "# Make dictionary of bedtools objects and check if it worked (it did!)\n",
    "te_bed_dict = make_bed_dict(te_fn_dict)"
   ]
  },
  {
   "cell_type": "code",
   "execution_count": 161,
   "metadata": {},
   "outputs": [
    {
     "data": {
      "text/plain": [
       "{'Pst_104E_v13_h_ctg.REPET.bed': <BedTool(/home/anjuni/analysis/coverage/gene_level/te/input/Pst_104E_v13_h_ctg.REPET.bed)>,\n",
       " 'Pst_104E_v13_p_ctg.REPET.bed': <BedTool(/home/anjuni/analysis/coverage/gene_level/te/input/Pst_104E_v13_p_ctg.REPET.bed)>}"
      ]
     },
     "execution_count": 161,
     "metadata": {},
     "output_type": "execute_result"
    }
   ],
   "source": [
    "te_bed_dict"
   ]
  },
  {
   "cell_type": "code",
   "execution_count": 132,
   "metadata": {},
   "outputs": [
    {
     "name": "stdout",
     "output_type": "stream",
     "text": [
      "Pst_104E_v13_p_ctg.REPET.bed\n",
      "Pst_104E_v13_h_ctg.REPET.bed\n",
      "5mC_hc_tombo_sorted.cutoff.0.80.bed\n",
      "6mA_hc_tombo_sorted.cutoff.0.80.bed\n"
     ]
    }
   ],
   "source": [
    "print(*te_bed_dict, sep='\\n')\n",
    "print(*methyl_bed_dict, sep='\\n')"
   ]
  },
  {
   "cell_type": "markdown",
   "metadata": {},
   "source": [
    "#### <span style='color:#a347ff'> 6.D.2 Running transposon coverage for methylation files and randomised methylation files.<span/>"
   ]
  },
  {
   "cell_type": "code",
   "execution_count": null,
   "metadata": {},
   "outputs": [],
   "source": [
    "te_methyl_overlap_dict = coverage_gene(te_bed_dict, methyl_bed_dict, te_fn_dict, 'input', 'coverage')\n",
    "te_rand_methyl_overlap_dict = coverage_gene(te_bed_dict, methyl_bed_dict, te_fn_dict, 'input', 'rand')"
   ]
  },
  {
   "cell_type": "markdown",
   "metadata": {},
   "source": [
    "### <span style='color:#14c4ff'> 6.E Testing statistical significance of gene coverage files. <span/>"
   ]
  },
  {
   "cell_type": "markdown",
   "metadata": {},
   "source": [
    "#### <span style='color:#a347ff'> 6.E.1 Running Wilcoxon test.<span/>"
   ]
  },
  {
   "cell_type": "markdown",
   "metadata": {},
   "source": [
    "Wilcoxon test used to test for significance of methylation at genes."
   ]
  },
  {
   "cell_type": "code",
   "execution_count": 83,
   "metadata": {},
   "outputs": [],
   "source": [
    "def coverage_wilcoxon_same_key(obs_df_dict, exp_df_dict):\n",
    "    \"\"\"This function returns a dictionary of Wilcoxon statistic and p-value for a test of observed and randomised sites.\"\"\"\n",
    "    wilcoxon_dict = {}\n",
    "    for okey, ovalue in obs_df_dict.items():\n",
    "        for ekey, evalue in exp_df_dict.items():\n",
    "            if okey == ekey:\n",
    "                o_df = ovalue\n",
    "                e_df = evalue\n",
    "                obs = o_df['overlap_fraction']\n",
    "                exp = e_df['overlap_fraction']\n",
    "                stat, p = wilcoxon(obs, exp)\n",
    "                wilcoxon_dict[okey] = stat, p\n",
    "    return wilcoxon_dict"
   ]
  },
  {
   "cell_type": "code",
   "execution_count": 143,
   "metadata": {},
   "outputs": [],
   "source": [
    "# Run wilcoxon for gene body\n",
    "gene_body_wilcoxon = coverage_wilcoxon_same_key(gene_methyl_overlap_dict, gene_rand_methyl_overlap_dict)"
   ]
  },
  {
   "cell_type": "code",
   "execution_count": 144,
   "metadata": {},
   "outputs": [],
   "source": [
    "# Run wilcoxon for regions outside gene body\n",
    "upstream_wilcoxon = coverage_wilcoxon_same_key(upstream_coverage_dict, upstream_rand_coverage_dict)\n",
    "downstream_wilcoxon = coverage_wilcoxon_same_key(downstream_coverage_dict, downstream_rand_coverage_dict)\n",
    "both_u_d_wilcoxon = coverage_wilcoxon_same_key(both_u_d_coverage_dict, both_u_d_rand_coverage_dict)"
   ]
  },
  {
   "cell_type": "code",
   "execution_count": 145,
   "metadata": {},
   "outputs": [],
   "source": [
    "# Run wilcoxon for TSS\n",
    "tss_wilcoxon = coverage_wilcoxon_same_key(tss_overlap_dict, tss_rand_dict)"
   ]
  },
  {
   "cell_type": "code",
   "execution_count": 169,
   "metadata": {},
   "outputs": [
    {
     "name": "stderr",
     "output_type": "stream",
     "text": [
      "/home/anjuni/anaconda3/lib/python3.6/site-packages/scipy/stats/morestats.py:2385: UserWarning: Warning: sample size too small for normal approximation.\n",
      "  warnings.warn(\"Warning: sample size too small for normal approximation.\")\n",
      "/home/anjuni/anaconda3/lib/python3.6/site-packages/scipy/stats/morestats.py:2410: RuntimeWarning: invalid value encountered in double_scalars\n",
      "  z = (T - mn - correction) / se\n"
     ]
    }
   ],
   "source": [
    "te_wilcoxon = coverage_wilcoxon_same_key(te_methyl_overlap_dict, te_rand_methyl_overlap_dict)"
   ]
  },
  {
   "cell_type": "code",
   "execution_count": 170,
   "metadata": {},
   "outputs": [
    {
     "data": {
      "text/plain": [
       "{'Pst_104E_v13_h_ctg.REPET.5mC_hc_tombo_sorted.cutoff.0.80.overlap.bed': (0.0,\n",
       "  nan),\n",
       " 'Pst_104E_v13_h_ctg.REPET.6mA_hc_tombo_sorted.cutoff.0.80.overlap.bed': (0.0,\n",
       "  nan),\n",
       " 'Pst_104E_v13_p_ctg.REPET.5mC_hc_tombo_sorted.cutoff.0.80.overlap.bed': (0.0,\n",
       "  nan),\n",
       " 'Pst_104E_v13_p_ctg.REPET.6mA_hc_tombo_sorted.cutoff.0.80.overlap.bed': (0.0,\n",
       "  nan)}"
      ]
     },
     "execution_count": 170,
     "metadata": {},
     "output_type": "execute_result"
    }
   ],
   "source": [
    "te_wilcoxon"
   ]
  },
  {
   "cell_type": "markdown",
   "metadata": {},
   "source": [
    "#### <span style='color:#a347ff'> 6.E.2 Making a table of Wilcoxon stats.<span/>"
   ]
  },
  {
   "cell_type": "code",
   "execution_count": null,
   "metadata": {},
   "outputs": [],
   "source": [
    "wilcoxon_df = pd.DataFrame.from_dict(ug_spearman_dict, orient='index')\n",
    "spearman_df.rename(columns={0: 'Wilcoxon T statistic', 1: 'p-value'}, inplace=True)\n",
    "\n",
    "spearman_df.to_csv(out_fn, header=True, sep = '\\t')"
   ]
  },
  {
   "cell_type": "code",
   "execution_count": 172,
   "metadata": {},
   "outputs": [],
   "source": [
    "dlist = [gene_body_wilcoxon, upstream_wilcoxon, downstream_wilcoxon, both_u_d_wilcoxon, tss_wilcoxon]"
   ]
  },
  {
   "cell_type": "code",
   "execution_count": 177,
   "metadata": {},
   "outputs": [],
   "source": [
    "def make_df_list(dict_list):\n",
    "    dfs = []\n",
    "    for dct in dict_list:\n",
    "        df = pd.DataFrame.from_dict(dct, orient='index')\n",
    "        df.rename(columns={0: 'Wilcoxon T statistic', 1: 'p-value'}, inplace=True)\n",
    "        dfs.append(df)\n",
    "    return dfs"
   ]
  },
  {
   "cell_type": "code",
   "execution_count": 178,
   "metadata": {},
   "outputs": [],
   "source": [
    "dfs_list = make_df_list(dlist)"
   ]
  },
  {
   "cell_type": "code",
   "execution_count": 182,
   "metadata": {},
   "outputs": [],
   "source": [
    "# save out the wilcoxon stats\n",
    "wilcoxon_df = pd.concat(dfs_list)\n",
    "out_fn = os.path.join(DIRS['FIGURES'], 'coverage', 'gene_level_wilcoxon_t_table.tsv')\n",
    "wilcoxon_df.to_csv(out_fn, header=True, sep = '\\t')"
   ]
  },
  {
   "cell_type": "code",
   "execution_count": 183,
   "metadata": {
    "collapsed": true
   },
   "outputs": [
    {
     "data": {
      "text/html": [
       "<div>\n",
       "<style scoped>\n",
       "    .dataframe tbody tr th:only-of-type {\n",
       "        vertical-align: middle;\n",
       "    }\n",
       "\n",
       "    .dataframe tbody tr th {\n",
       "        vertical-align: top;\n",
       "    }\n",
       "\n",
       "    .dataframe thead th {\n",
       "        text-align: right;\n",
       "    }\n",
       "</style>\n",
       "<table border=\"1\" class=\"dataframe\">\n",
       "  <thead>\n",
       "    <tr style=\"text-align: right;\">\n",
       "      <th></th>\n",
       "      <th>Wilcoxon T statistic</th>\n",
       "      <th>p-value</th>\n",
       "    </tr>\n",
       "  </thead>\n",
       "  <tbody>\n",
       "    <tr>\n",
       "      <th>Pst_104E_v13_p_ctg_combined_sorted_anno.5mC_hc_tombo_sorted.cutoff.0.80.overlap.bed</th>\n",
       "      <td>49414335.5</td>\n",
       "      <td>0.000000e+00</td>\n",
       "    </tr>\n",
       "    <tr>\n",
       "      <th>Pst_104E_v13_p_ctg_combined_sorted_anno.6mA_hc_tombo_sorted.cutoff.0.80.overlap.bed</th>\n",
       "      <td>40109462.0</td>\n",
       "      <td>0.000000e+00</td>\n",
       "    </tr>\n",
       "    <tr>\n",
       "      <th>Pst_104E_v13_h_ctg_combined_sorted_anno.5mC_hc_tombo_sorted.cutoff.0.80.overlap.bed</th>\n",
       "      <td>46935264.5</td>\n",
       "      <td>2.287847e-240</td>\n",
       "    </tr>\n",
       "    <tr>\n",
       "      <th>Pst_104E_v13_h_ctg_combined_sorted_anno.6mA_hc_tombo_sorted.cutoff.0.80.overlap.bed</th>\n",
       "      <td>42178461.5</td>\n",
       "      <td>0.000000e+00</td>\n",
       "    </tr>\n",
       "    <tr>\n",
       "      <th>Pst_104E_v13_p_ctg_combined_sorted_anno.5mC_hc_tombo_sorted.cutoff.0.80.upstream.overlap.bed</th>\n",
       "      <td>44702720.5</td>\n",
       "      <td>0.000000e+00</td>\n",
       "    </tr>\n",
       "    <tr>\n",
       "      <th>Pst_104E_v13_p_ctg_combined_sorted_anno.6mA_hc_tombo_sorted.cutoff.0.80.upstream.overlap.bed</th>\n",
       "      <td>45586442.5</td>\n",
       "      <td>0.000000e+00</td>\n",
       "    </tr>\n",
       "    <tr>\n",
       "      <th>Pst_104E_v13_h_ctg_combined_sorted_anno.5mC_hc_tombo_sorted.cutoff.0.80.upstream.overlap.bed</th>\n",
       "      <td>43225635.5</td>\n",
       "      <td>0.000000e+00</td>\n",
       "    </tr>\n",
       "    <tr>\n",
       "      <th>Pst_104E_v13_h_ctg_combined_sorted_anno.6mA_hc_tombo_sorted.cutoff.0.80.upstream.overlap.bed</th>\n",
       "      <td>46128200.0</td>\n",
       "      <td>2.530488e-248</td>\n",
       "    </tr>\n",
       "    <tr>\n",
       "      <th>Pst_104E_v13_h_ctg_combined_sorted_anno.5mC_hc_tombo_sorted.cutoff.0.80.downstream.overlap.bed</th>\n",
       "      <td>44772456.0</td>\n",
       "      <td>1.642831e-291</td>\n",
       "    </tr>\n",
       "    <tr>\n",
       "      <th>Pst_104E_v13_h_ctg_combined_sorted_anno.6mA_hc_tombo_sorted.cutoff.0.80.downstream.overlap.bed</th>\n",
       "      <td>45154961.5</td>\n",
       "      <td>1.449955e-270</td>\n",
       "    </tr>\n",
       "    <tr>\n",
       "      <th>Pst_104E_v13_p_ctg_combined_sorted_anno.5mC_hc_tombo_sorted.cutoff.0.80.downstream.overlap.bed</th>\n",
       "      <td>46231243.0</td>\n",
       "      <td>0.000000e+00</td>\n",
       "    </tr>\n",
       "    <tr>\n",
       "      <th>Pst_104E_v13_p_ctg_combined_sorted_anno.6mA_hc_tombo_sorted.cutoff.0.80.downstream.overlap.bed</th>\n",
       "      <td>44048857.0</td>\n",
       "      <td>0.000000e+00</td>\n",
       "    </tr>\n",
       "    <tr>\n",
       "      <th>Pst_104E_v13_p_ctg_combined_sorted_anno.5mC_hc_tombo_sorted.cutoff.0.80.both_u_d.overlap.bed</th>\n",
       "      <td>181806810.5</td>\n",
       "      <td>0.000000e+00</td>\n",
       "    </tr>\n",
       "    <tr>\n",
       "      <th>Pst_104E_v13_p_ctg_combined_sorted_anno.6mA_hc_tombo_sorted.cutoff.0.80.both_u_d.overlap.bed</th>\n",
       "      <td>179242817.0</td>\n",
       "      <td>0.000000e+00</td>\n",
       "    </tr>\n",
       "    <tr>\n",
       "      <th>Pst_104E_v13_h_ctg_combined_sorted_anno.5mC_hc_tombo_sorted.cutoff.0.80.both_u_d.overlap.bed</th>\n",
       "      <td>175932907.5</td>\n",
       "      <td>0.000000e+00</td>\n",
       "    </tr>\n",
       "    <tr>\n",
       "      <th>Pst_104E_v13_h_ctg_combined_sorted_anno.6mA_hc_tombo_sorted.cutoff.0.80.both_u_d.overlap.bed</th>\n",
       "      <td>182549681.0</td>\n",
       "      <td>0.000000e+00</td>\n",
       "    </tr>\n",
       "    <tr>\n",
       "      <th>Pst_104E_v13_h_ctg_combined_sorted_anno.tss.6mA_hc_tombo_sorted.cutoff.0.80.overlap.bed</th>\n",
       "      <td>41348298.0</td>\n",
       "      <td>7.061468e-307</td>\n",
       "    </tr>\n",
       "    <tr>\n",
       "      <th>Pst_104E_v13_p_ctg_combined_sorted_anno.tss.6mA_hc_tombo_sorted.cutoff.0.80.overlap.bed</th>\n",
       "      <td>40870391.5</td>\n",
       "      <td>0.000000e+00</td>\n",
       "    </tr>\n",
       "  </tbody>\n",
       "</table>\n",
       "</div>"
      ],
      "text/plain": [
       "                                                    Wilcoxon T statistic  \\\n",
       "Pst_104E_v13_p_ctg_combined_sorted_anno.5mC_hc_...            49414335.5   \n",
       "Pst_104E_v13_p_ctg_combined_sorted_anno.6mA_hc_...            40109462.0   \n",
       "Pst_104E_v13_h_ctg_combined_sorted_anno.5mC_hc_...            46935264.5   \n",
       "Pst_104E_v13_h_ctg_combined_sorted_anno.6mA_hc_...            42178461.5   \n",
       "Pst_104E_v13_p_ctg_combined_sorted_anno.5mC_hc_...            44702720.5   \n",
       "Pst_104E_v13_p_ctg_combined_sorted_anno.6mA_hc_...            45586442.5   \n",
       "Pst_104E_v13_h_ctg_combined_sorted_anno.5mC_hc_...            43225635.5   \n",
       "Pst_104E_v13_h_ctg_combined_sorted_anno.6mA_hc_...            46128200.0   \n",
       "Pst_104E_v13_h_ctg_combined_sorted_anno.5mC_hc_...            44772456.0   \n",
       "Pst_104E_v13_h_ctg_combined_sorted_anno.6mA_hc_...            45154961.5   \n",
       "Pst_104E_v13_p_ctg_combined_sorted_anno.5mC_hc_...            46231243.0   \n",
       "Pst_104E_v13_p_ctg_combined_sorted_anno.6mA_hc_...            44048857.0   \n",
       "Pst_104E_v13_p_ctg_combined_sorted_anno.5mC_hc_...           181806810.5   \n",
       "Pst_104E_v13_p_ctg_combined_sorted_anno.6mA_hc_...           179242817.0   \n",
       "Pst_104E_v13_h_ctg_combined_sorted_anno.5mC_hc_...           175932907.5   \n",
       "Pst_104E_v13_h_ctg_combined_sorted_anno.6mA_hc_...           182549681.0   \n",
       "Pst_104E_v13_h_ctg_combined_sorted_anno.tss.6mA...            41348298.0   \n",
       "Pst_104E_v13_p_ctg_combined_sorted_anno.tss.6mA...            40870391.5   \n",
       "\n",
       "                                                          p-value  \n",
       "Pst_104E_v13_p_ctg_combined_sorted_anno.5mC_hc_...   0.000000e+00  \n",
       "Pst_104E_v13_p_ctg_combined_sorted_anno.6mA_hc_...   0.000000e+00  \n",
       "Pst_104E_v13_h_ctg_combined_sorted_anno.5mC_hc_...  2.287847e-240  \n",
       "Pst_104E_v13_h_ctg_combined_sorted_anno.6mA_hc_...   0.000000e+00  \n",
       "Pst_104E_v13_p_ctg_combined_sorted_anno.5mC_hc_...   0.000000e+00  \n",
       "Pst_104E_v13_p_ctg_combined_sorted_anno.6mA_hc_...   0.000000e+00  \n",
       "Pst_104E_v13_h_ctg_combined_sorted_anno.5mC_hc_...   0.000000e+00  \n",
       "Pst_104E_v13_h_ctg_combined_sorted_anno.6mA_hc_...  2.530488e-248  \n",
       "Pst_104E_v13_h_ctg_combined_sorted_anno.5mC_hc_...  1.642831e-291  \n",
       "Pst_104E_v13_h_ctg_combined_sorted_anno.6mA_hc_...  1.449955e-270  \n",
       "Pst_104E_v13_p_ctg_combined_sorted_anno.5mC_hc_...   0.000000e+00  \n",
       "Pst_104E_v13_p_ctg_combined_sorted_anno.6mA_hc_...   0.000000e+00  \n",
       "Pst_104E_v13_p_ctg_combined_sorted_anno.5mC_hc_...   0.000000e+00  \n",
       "Pst_104E_v13_p_ctg_combined_sorted_anno.6mA_hc_...   0.000000e+00  \n",
       "Pst_104E_v13_h_ctg_combined_sorted_anno.5mC_hc_...   0.000000e+00  \n",
       "Pst_104E_v13_h_ctg_combined_sorted_anno.6mA_hc_...   0.000000e+00  \n",
       "Pst_104E_v13_h_ctg_combined_sorted_anno.tss.6mA...  7.061468e-307  \n",
       "Pst_104E_v13_p_ctg_combined_sorted_anno.tss.6mA...   0.000000e+00  "
      ]
     },
     "execution_count": 183,
     "metadata": {},
     "output_type": "execute_result"
    }
   ],
   "source": [
    "wilcoxon_df"
   ]
  },
  {
   "cell_type": "code",
   "execution_count": 164,
   "metadata": {},
   "outputs": [
    {
     "data": {
      "text/plain": [
       "{'Pst_104E_v13_h_ctg_combined_sorted_anno.tss.5mC_hc_tombo_sorted.cutoff.0.80.overlap.bed': (45858018.5,\n",
       "  3.739094782863053e-220),\n",
       " 'Pst_104E_v13_h_ctg_combined_sorted_anno.tss.6mA_hc_tombo_sorted.cutoff.0.80.overlap.bed': (41348298.0,\n",
       "  7.061467931510914e-307),\n",
       " 'Pst_104E_v13_p_ctg_combined_sorted_anno.tss.5mC_hc_tombo_sorted.cutoff.0.80.overlap.bed': (48814229.0,\n",
       "  0.0),\n",
       " 'Pst_104E_v13_p_ctg_combined_sorted_anno.tss.6mA_hc_tombo_sorted.cutoff.0.80.overlap.bed': (40870391.5,\n",
       "  0.0)}"
      ]
     },
     "execution_count": 164,
     "metadata": {},
     "output_type": "execute_result"
    }
   ],
   "source": [
    "# this dict has all the tss overlap files\n",
    "#tss_all_wilcoxon = tss_wilcoxon\n",
    "tss_all_wilcoxon"
   ]
  },
  {
   "cell_type": "code",
   "execution_count": 191,
   "metadata": {},
   "outputs": [
    {
     "data": {
      "text/html": [
       "<div>\n",
       "<style scoped>\n",
       "    .dataframe tbody tr th:only-of-type {\n",
       "        vertical-align: middle;\n",
       "    }\n",
       "\n",
       "    .dataframe tbody tr th {\n",
       "        vertical-align: top;\n",
       "    }\n",
       "\n",
       "    .dataframe thead th {\n",
       "        text-align: right;\n",
       "    }\n",
       "</style>\n",
       "<table border=\"1\" class=\"dataframe\">\n",
       "  <thead>\n",
       "    <tr style=\"text-align: right;\">\n",
       "      <th></th>\n",
       "      <th>chrom</th>\n",
       "      <th>start</th>\n",
       "      <th>end</th>\n",
       "      <th>name</th>\n",
       "      <th>overlap_count</th>\n",
       "      <th>overlap_fraction</th>\n",
       "    </tr>\n",
       "  </thead>\n",
       "  <tbody>\n",
       "    <tr>\n",
       "      <th>0</th>\n",
       "      <td>hcontig_000_003</td>\n",
       "      <td>1022</td>\n",
       "      <td>1469</td>\n",
       "      <td>gene_model_hcontig_0000_03.1</td>\n",
       "      <td>47</td>\n",
       "      <td>0.105145</td>\n",
       "    </tr>\n",
       "    <tr>\n",
       "      <th>1</th>\n",
       "      <td>hcontig_000_003</td>\n",
       "      <td>4849</td>\n",
       "      <td>5854</td>\n",
       "      <td>gene_model_hcontig_0000_03.2</td>\n",
       "      <td>2</td>\n",
       "      <td>0.001990</td>\n",
       "    </tr>\n",
       "    <tr>\n",
       "      <th>2</th>\n",
       "      <td>hcontig_000_003</td>\n",
       "      <td>7889</td>\n",
       "      <td>8965</td>\n",
       "      <td>gene_model_hcontig_0000_03.3</td>\n",
       "      <td>6</td>\n",
       "      <td>0.005576</td>\n",
       "    </tr>\n",
       "    <tr>\n",
       "      <th>3</th>\n",
       "      <td>hcontig_000_003</td>\n",
       "      <td>11922</td>\n",
       "      <td>13626</td>\n",
       "      <td>gene_model_hcontig_0000_03.4</td>\n",
       "      <td>52</td>\n",
       "      <td>0.030516</td>\n",
       "    </tr>\n",
       "    <tr>\n",
       "      <th>4</th>\n",
       "      <td>hcontig_000_003</td>\n",
       "      <td>14562</td>\n",
       "      <td>15702</td>\n",
       "      <td>EVM prediction%2hcontig_0000_003.5</td>\n",
       "      <td>16</td>\n",
       "      <td>0.014035</td>\n",
       "    </tr>\n",
       "  </tbody>\n",
       "</table>\n",
       "</div>"
      ],
      "text/plain": [
       "             chrom  start    end                                name  \\\n",
       "0  hcontig_000_003   1022   1469        gene_model_hcontig_0000_03.1   \n",
       "1  hcontig_000_003   4849   5854        gene_model_hcontig_0000_03.2   \n",
       "2  hcontig_000_003   7889   8965        gene_model_hcontig_0000_03.3   \n",
       "3  hcontig_000_003  11922  13626        gene_model_hcontig_0000_03.4   \n",
       "4  hcontig_000_003  14562  15702  EVM prediction%2hcontig_0000_003.5   \n",
       "\n",
       "   overlap_count  overlap_fraction  \n",
       "0             47          0.105145  \n",
       "1              2          0.001990  \n",
       "2              6          0.005576  \n",
       "3             52          0.030516  \n",
       "4             16          0.014035  "
      ]
     },
     "execution_count": 191,
     "metadata": {},
     "output_type": "execute_result"
    }
   ],
   "source": [
    "gene_methyl_overlap_dict['Pst_104E_v13_h_ctg_combined_sorted_anno.5mC_hc_tombo_sorted.cutoff.0.80.overlap.bed'].head()"
   ]
  },
  {
   "cell_type": "markdown",
   "metadata": {},
   "source": [
    "#### <span style='color:#a347ff'> 6.E.3 Running Wilcoxon for all the gene types.<span/>"
   ]
  },
  {
   "cell_type": "markdown",
   "metadata": {},
   "source": [
    "# <span style='color:#a347ff'> H contig <span/>"
   ]
  },
  {
   "cell_type": "code",
   "execution_count": 283,
   "metadata": {},
   "outputs": [],
   "source": [
    "h_contig_df = None"
   ]
  },
  {
   "cell_type": "code",
   "execution_count": 284,
   "metadata": {},
   "outputs": [],
   "source": [
    "# make one big data frame of gene_ID and all the coverage for every region and their corresponding randomised score\n",
    "\n",
    "# initial df = just the gene names\n",
    "# get gene names from a file\n",
    "h_contig_df = gene_methyl_overlap_dict['Pst_104E_v13_h_ctg_combined_sorted_anno.5mC_hc_tombo_sorted.cutoff.0.80.overlap.bed'][['name']]"
   ]
  },
  {
   "cell_type": "code",
   "execution_count": 351,
   "metadata": {},
   "outputs": [
    {
     "data": {
      "text/html": [
       "<div>\n",
       "<style scoped>\n",
       "    .dataframe tbody tr th:only-of-type {\n",
       "        vertical-align: middle;\n",
       "    }\n",
       "\n",
       "    .dataframe tbody tr th {\n",
       "        vertical-align: top;\n",
       "    }\n",
       "\n",
       "    .dataframe thead th {\n",
       "        text-align: right;\n",
       "    }\n",
       "</style>\n",
       "<table border=\"1\" class=\"dataframe\">\n",
       "  <thead>\n",
       "    <tr style=\"text-align: right;\">\n",
       "      <th></th>\n",
       "      <th>name</th>\n",
       "      <th>5mC_gene_body</th>\n",
       "      <th>6mA_gene_body</th>\n",
       "      <th>5mC_gene_body_rand</th>\n",
       "      <th>6mA_gene_body_rand</th>\n",
       "      <th>5mC_upstream</th>\n",
       "      <th>6mA_upstream</th>\n",
       "      <th>5mC_upstream_rand</th>\n",
       "      <th>6mA_upstream_rand</th>\n",
       "      <th>5mC_downstream</th>\n",
       "      <th>6mA_downstream</th>\n",
       "      <th>5mC_downstream_rand</th>\n",
       "      <th>6mA_downstream_rand</th>\n",
       "      <th>6mA_tss</th>\n",
       "      <th>6mA_tss_rand</th>\n",
       "      <th>5mC_both</th>\n",
       "      <th>6mA_both</th>\n",
       "      <th>5mC_both_rand</th>\n",
       "      <th>6mA_both_rand</th>\n",
       "      <th>Gene_type</th>\n",
       "    </tr>\n",
       "  </thead>\n",
       "  <tbody>\n",
       "    <tr>\n",
       "      <th>0</th>\n",
       "      <td>gene_model_hcontig_0000_03.1</td>\n",
       "      <td>0.105145</td>\n",
       "      <td>0.040268</td>\n",
       "      <td>0.013423</td>\n",
       "      <td>0.004474</td>\n",
       "      <td>0.124</td>\n",
       "      <td>0.034</td>\n",
       "      <td>0.018</td>\n",
       "      <td>0.010</td>\n",
       "      <td>0.109</td>\n",
       "      <td>0.035</td>\n",
       "      <td>0.014</td>\n",
       "      <td>0.017</td>\n",
       "      <td>0.048</td>\n",
       "      <td>0.004</td>\n",
       "      <td>0.1165</td>\n",
       "      <td>0.0345</td>\n",
       "      <td>0.0160</td>\n",
       "      <td>0.0135</td>\n",
       "      <td>Effector</td>\n",
       "    </tr>\n",
       "    <tr>\n",
       "      <th>1</th>\n",
       "      <td>gene_model_hcontig_0000_03.2</td>\n",
       "      <td>0.001990</td>\n",
       "      <td>0.005970</td>\n",
       "      <td>0.015920</td>\n",
       "      <td>0.010945</td>\n",
       "      <td>0.028</td>\n",
       "      <td>0.012</td>\n",
       "      <td>0.012</td>\n",
       "      <td>0.011</td>\n",
       "      <td>0.016</td>\n",
       "      <td>0.028</td>\n",
       "      <td>0.017</td>\n",
       "      <td>0.007</td>\n",
       "      <td>0.000</td>\n",
       "      <td>0.014</td>\n",
       "      <td>0.0220</td>\n",
       "      <td>0.0200</td>\n",
       "      <td>0.0145</td>\n",
       "      <td>0.0090</td>\n",
       "      <td>Effector</td>\n",
       "    </tr>\n",
       "    <tr>\n",
       "      <th>2</th>\n",
       "      <td>gene_model_hcontig_0000_03.3</td>\n",
       "      <td>0.005576</td>\n",
       "      <td>0.004647</td>\n",
       "      <td>0.012082</td>\n",
       "      <td>0.008364</td>\n",
       "      <td>0.005</td>\n",
       "      <td>0.002</td>\n",
       "      <td>0.012</td>\n",
       "      <td>0.010</td>\n",
       "      <td>0.013</td>\n",
       "      <td>0.002</td>\n",
       "      <td>0.016</td>\n",
       "      <td>0.005</td>\n",
       "      <td>0.008</td>\n",
       "      <td>0.008</td>\n",
       "      <td>0.0090</td>\n",
       "      <td>0.0020</td>\n",
       "      <td>0.0140</td>\n",
       "      <td>0.0075</td>\n",
       "      <td>Other genes</td>\n",
       "    </tr>\n",
       "    <tr>\n",
       "      <th>3</th>\n",
       "      <td>gene_model_hcontig_0000_03.4</td>\n",
       "      <td>0.030516</td>\n",
       "      <td>0.028756</td>\n",
       "      <td>0.011150</td>\n",
       "      <td>0.013498</td>\n",
       "      <td>0.028</td>\n",
       "      <td>0.081</td>\n",
       "      <td>0.011</td>\n",
       "      <td>0.017</td>\n",
       "      <td>0.013</td>\n",
       "      <td>0.039</td>\n",
       "      <td>0.007</td>\n",
       "      <td>0.018</td>\n",
       "      <td>0.030</td>\n",
       "      <td>0.024</td>\n",
       "      <td>0.0205</td>\n",
       "      <td>0.0600</td>\n",
       "      <td>0.0090</td>\n",
       "      <td>0.0175</td>\n",
       "      <td>Other genes</td>\n",
       "    </tr>\n",
       "    <tr>\n",
       "      <th>4</th>\n",
       "      <td>EVM prediction%2hcontig_0000_003.5</td>\n",
       "      <td>0.014035</td>\n",
       "      <td>0.055263</td>\n",
       "      <td>0.007017</td>\n",
       "      <td>0.016667</td>\n",
       "      <td>0.013</td>\n",
       "      <td>0.042</td>\n",
       "      <td>0.007</td>\n",
       "      <td>0.017</td>\n",
       "      <td>0.012</td>\n",
       "      <td>0.039</td>\n",
       "      <td>0.011</td>\n",
       "      <td>0.014</td>\n",
       "      <td>0.058</td>\n",
       "      <td>0.012</td>\n",
       "      <td>0.0125</td>\n",
       "      <td>0.0405</td>\n",
       "      <td>0.0090</td>\n",
       "      <td>0.0155</td>\n",
       "      <td>TE gene</td>\n",
       "    </tr>\n",
       "  </tbody>\n",
       "</table>\n",
       "</div>"
      ],
      "text/plain": [
       "                                 name  5mC_gene_body  6mA_gene_body  \\\n",
       "0        gene_model_hcontig_0000_03.1       0.105145       0.040268   \n",
       "1        gene_model_hcontig_0000_03.2       0.001990       0.005970   \n",
       "2        gene_model_hcontig_0000_03.3       0.005576       0.004647   \n",
       "3        gene_model_hcontig_0000_03.4       0.030516       0.028756   \n",
       "4  EVM prediction%2hcontig_0000_003.5       0.014035       0.055263   \n",
       "\n",
       "   5mC_gene_body_rand  6mA_gene_body_rand  5mC_upstream  6mA_upstream  \\\n",
       "0            0.013423            0.004474         0.124         0.034   \n",
       "1            0.015920            0.010945         0.028         0.012   \n",
       "2            0.012082            0.008364         0.005         0.002   \n",
       "3            0.011150            0.013498         0.028         0.081   \n",
       "4            0.007017            0.016667         0.013         0.042   \n",
       "\n",
       "   5mC_upstream_rand  6mA_upstream_rand  5mC_downstream  6mA_downstream  \\\n",
       "0              0.018              0.010           0.109           0.035   \n",
       "1              0.012              0.011           0.016           0.028   \n",
       "2              0.012              0.010           0.013           0.002   \n",
       "3              0.011              0.017           0.013           0.039   \n",
       "4              0.007              0.017           0.012           0.039   \n",
       "\n",
       "   5mC_downstream_rand  6mA_downstream_rand  6mA_tss  6mA_tss_rand  5mC_both  \\\n",
       "0                0.014                0.017    0.048         0.004    0.1165   \n",
       "1                0.017                0.007    0.000         0.014    0.0220   \n",
       "2                0.016                0.005    0.008         0.008    0.0090   \n",
       "3                0.007                0.018    0.030         0.024    0.0205   \n",
       "4                0.011                0.014    0.058         0.012    0.0125   \n",
       "\n",
       "   6mA_both  5mC_both_rand  6mA_both_rand    Gene_type  \n",
       "0    0.0345         0.0160         0.0135     Effector  \n",
       "1    0.0200         0.0145         0.0090     Effector  \n",
       "2    0.0020         0.0140         0.0075  Other genes  \n",
       "3    0.0600         0.0090         0.0175  Other genes  \n",
       "4    0.0405         0.0090         0.0155      TE gene  "
      ]
     },
     "execution_count": 351,
     "metadata": {},
     "output_type": "execute_result"
    }
   ],
   "source": [
    "h_contig_df.head()"
   ]
  },
  {
   "cell_type": "code",
   "execution_count": null,
   "metadata": {},
   "outputs": [],
   "source": [
    "# the dictionaries\n",
    "gene_methyl_overlap_dict\n",
    "gene_rand_methyl_overlap_dict\n",
    "upstream_coverage_dict\n",
    "upstream_rand_coverage_dict\n",
    "downstream_coverage_dict\n",
    "downstream_rand_coverage_dict\n",
    "both_u_d_coverage_dict\n",
    "both_u_d_rand_coverage_dict\n",
    "tss_overlap_dict\n",
    "tss_rand_dict"
   ]
  },
  {
   "cell_type": "code",
   "execution_count": 286,
   "metadata": {},
   "outputs": [],
   "source": [
    "#gene body\n",
    "h_contig_df = h_contig_df.join(gene_methyl_overlap_dict['Pst_104E_v13_h_ctg_combined_sorted_anno.5mC_hc_tombo_sorted.cutoff.0.80.overlap.bed'][['name', 'overlap_fraction']].set_index('name'), on='name').copy()\n",
    "h_contig_df.rename(columns={'overlap_fraction': '5mC_gene_body'}, inplace=True)\n",
    "h_contig_df = h_contig_df.join(gene_methyl_overlap_dict['Pst_104E_v13_h_ctg_combined_sorted_anno.6mA_hc_tombo_sorted.cutoff.0.80.overlap.bed'][['name', 'overlap_fraction']].set_index('name'), on='name').copy()\n",
    "h_contig_df.rename(columns={'overlap_fraction': '6mA_gene_body'}, inplace=True)\n",
    "h_contig_df = h_contig_df.join(gene_rand_methyl_overlap_dict['Pst_104E_v13_h_ctg_combined_sorted_anno.5mC_hc_tombo_sorted.cutoff.0.80.overlap.bed'][['name', 'overlap_fraction']].set_index('name'), on='name').copy()\n",
    "h_contig_df.rename(columns={'overlap_fraction': '5mC_gene_body_rand'}, inplace=True)\n",
    "h_contig_df = h_contig_df.join(gene_rand_methyl_overlap_dict['Pst_104E_v13_h_ctg_combined_sorted_anno.6mA_hc_tombo_sorted.cutoff.0.80.overlap.bed'][['name', 'overlap_fraction']].set_index('name'), on='name').copy()\n",
    "h_contig_df.rename(columns={'overlap_fraction': '6mA_gene_body_rand'}, inplace=True)\n",
    "\n",
    "#upstream\n",
    "h_contig_df = h_contig_df.join(upstream_coverage_dict['Pst_104E_v13_h_ctg_combined_sorted_anno.5mC_hc_tombo_sorted.cutoff.0.80.upstream.overlap.bed'][['name', 'overlap_fraction']].set_index('name'), on='name').copy()\n",
    "h_contig_df.rename(columns={'overlap_fraction': '5mC_upstream'}, inplace=True)\n",
    "h_contig_df = h_contig_df.join(upstream_coverage_dict['Pst_104E_v13_h_ctg_combined_sorted_anno.6mA_hc_tombo_sorted.cutoff.0.80.upstream.overlap.bed'][['name', 'overlap_fraction']].set_index('name'), on='name').copy()\n",
    "h_contig_df.rename(columns={'overlap_fraction': '6mA_upstream'}, inplace=True)\n",
    "h_contig_df = h_contig_df.join(upstream_rand_coverage_dict['Pst_104E_v13_h_ctg_combined_sorted_anno.5mC_hc_tombo_sorted.cutoff.0.80.upstream.overlap.bed'][['name', 'overlap_fraction']].set_index('name'), on='name').copy()\n",
    "h_contig_df.rename(columns={'overlap_fraction': '5mC_upstream_rand'}, inplace=True)\n",
    "h_contig_df = h_contig_df.join(upstream_rand_coverage_dict['Pst_104E_v13_h_ctg_combined_sorted_anno.6mA_hc_tombo_sorted.cutoff.0.80.upstream.overlap.bed'][['name', 'overlap_fraction']].set_index('name'), on='name').copy()\n",
    "h_contig_df.rename(columns={'overlap_fraction': '6mA_upstream_rand'}, inplace=True)\n",
    "\n",
    "#downstream\n",
    "h_contig_df = h_contig_df.join(downstream_coverage_dict['Pst_104E_v13_h_ctg_combined_sorted_anno.5mC_hc_tombo_sorted.cutoff.0.80.downstream.overlap.bed'][['name', 'overlap_fraction']].set_index('name'), on='name').copy()\n",
    "h_contig_df.rename(columns={'overlap_fraction': '5mC_downstream'}, inplace=True)\n",
    "h_contig_df = h_contig_df.join(downstream_coverage_dict['Pst_104E_v13_h_ctg_combined_sorted_anno.6mA_hc_tombo_sorted.cutoff.0.80.downstream.overlap.bed'][['name', 'overlap_fraction']].set_index('name'), on='name').copy()\n",
    "h_contig_df.rename(columns={'overlap_fraction': '6mA_downstream'}, inplace=True)\n",
    "h_contig_df = h_contig_df.join(downstream_rand_coverage_dict['Pst_104E_v13_h_ctg_combined_sorted_anno.5mC_hc_tombo_sorted.cutoff.0.80.downstream.overlap.bed'][['name', 'overlap_fraction']].set_index('name'), on='name').copy()\n",
    "h_contig_df.rename(columns={'overlap_fraction': '5mC_downstream_rand'}, inplace=True)\n",
    "h_contig_df = h_contig_df.join(downstream_rand_coverage_dict['Pst_104E_v13_h_ctg_combined_sorted_anno.6mA_hc_tombo_sorted.cutoff.0.80.downstream.overlap.bed'][['name', 'overlap_fraction']].set_index('name'), on='name').copy()\n",
    "h_contig_df.rename(columns={'overlap_fraction': '6mA_downstream_rand'}, inplace=True)\n",
    "\n",
    "#tss\n",
    "h_contig_df = h_contig_df.join(tss_overlap_dict['Pst_104E_v13_h_ctg_combined_sorted_anno.6mA_hc_tombo_sorted.cutoff.0.80.tss.overlap.bed'][['name', 'overlap_fraction']].set_index('name'), on='name').copy()\n",
    "h_contig_df.rename(columns={'overlap_fraction': '6mA_tss'}, inplace=True)\n",
    "h_contig_df = h_contig_df.join(tss_rand_dict['Pst_104E_v13_h_ctg_combined_sorted_anno.6mA_hc_tombo_sorted.cutoff.0.80.tss.overlap.bed'][['name', 'overlap_fraction']].set_index('name'), on='name').copy()\n",
    "h_contig_df.rename(columns={'overlap_fraction': '6mA_tss_rand'}, inplace=True)"
   ]
  },
  {
   "cell_type": "code",
   "execution_count": 234,
   "metadata": {},
   "outputs": [],
   "source": [
    "# add the both_u_d column\n",
    "def add_both_ud_to_df(df, upstream_col, downstream_col, new_col_name):\n",
    "    \"\"\"This function adds a column with the average of the upstream and downstream methylation coverage to the dataframe.\"\"\"\n",
    "    both_list = []\n",
    "    for index, row in df.iterrows():\n",
    "        both = ( row[upstream_col] + row[downstream_col] ) / 2\n",
    "        both_list.append(both)\n",
    "    df[new_col_name] = pd.Series(both_list)"
   ]
  },
  {
   "cell_type": "code",
   "execution_count": 287,
   "metadata": {},
   "outputs": [],
   "source": [
    "add_both_ud_to_df(h_contig_df, '5mC_upstream', '5mC_downstream', '5mC_both')\n",
    "add_both_ud_to_df(h_contig_df, '6mA_upstream', '6mA_downstream', '6mA_both')\n",
    "add_both_ud_to_df(h_contig_df, '5mC_upstream_rand', '5mC_downstream_rand', '5mC_both_rand')\n",
    "add_both_ud_to_df(h_contig_df, '6mA_upstream_rand', '6mA_downstream_rand', '6mA_both_rand')"
   ]
  },
  {
   "cell_type": "code",
   "execution_count": 239,
   "metadata": {},
   "outputs": [],
   "source": [
    "#add column with gene types\n",
    "\n",
    "#make a list of genes in each type\n",
    "busco_list_h = pd.read_csv(os.path.join(DIRS['GFF_INPUT'], 'Pst_104E_v12_h_busco.gene_name.bed'), sep='\\t', header=None)[3].tolist()\n",
    "effector_list_h = pd.read_csv(os.path.join(DIRS['GFF_INPUT'], 'Pst_104E_v13_h_ctg.effectors.bed'), sep='\\t', header=None)[3].tolist()\n",
    "te_list_h = pd.read_csv(os.path.join(DIRS['GFF_INPUT'], 'Pst_104E_v13_h_ctg.TE.sorted.bed'), sep='\\t', header=None)[3].tolist()"
   ]
  },
  {
   "cell_type": "code",
   "execution_count": 290,
   "metadata": {},
   "outputs": [],
   "source": [
    "# add gene types\n",
    "h_contig_df['Gene_type'] = 'Other genes'\n",
    "h_contig_df.loc[h_contig_df.name.isin(effector_list_h), 'Gene_type'] = 'Effector'\n",
    "h_contig_df.loc[h_contig_df.name.isin(busco_list_h), 'Gene_type'] = 'BUSCO'\n",
    "h_contig_df.loc[h_contig_df.name.isin(te_list_h), 'Gene_type'] = 'TE gene'"
   ]
  },
  {
   "cell_type": "code",
   "execution_count": 293,
   "metadata": {},
   "outputs": [],
   "source": [
    "# make dataframes for each group\n",
    "def gene_type_df(df, gene):\n",
    "    df2 = df[(df['Gene_type'] == gene)]\n",
    "    return df2"
   ]
  },
  {
   "cell_type": "code",
   "execution_count": 332,
   "metadata": {},
   "outputs": [],
   "source": [
    "busco_df_h = gene_type_df(h_contig_df, 'BUSCO')\n",
    "effector_df_h = gene_type_df(h_contig_df, 'Effector')\n",
    "te_gene_df_h = gene_type_df(h_contig_df, 'TE gene')\n",
    "other_gene_df_h = gene_type_df(h_contig_df, 'Other genes')"
   ]
  },
  {
   "cell_type": "code",
   "execution_count": 292,
   "metadata": {},
   "outputs": [],
   "source": [
    "column_list = [ '5mC_gene_body', '6mA_gene_body', '5mC_upstream', '6mA_upstream', '5mC_downstream', '6mA_downstream', '6mA_tss', '5mC_both', '6mA_both']"
   ]
  },
  {
   "cell_type": "code",
   "execution_count": 316,
   "metadata": {},
   "outputs": [],
   "source": [
    "#run spearman on each gene subtype\n",
    "\n",
    "def wilcoxon_gene_types(df, columns_list):\n",
    "    \"\"\"This function returns a dictionary of spearman's R statistic and p-value for a test of observed and expected sites.\"\"\"\n",
    "    wilcoxon_dict = {}\n",
    "    for column in columns_list:\n",
    "        obs = df[column]\n",
    "        rand = column + '_rand'\n",
    "        exp = df[rand]\n",
    "        stat, p = wilcoxon(obs, exp)\n",
    "        wilcoxon_dict[column] = stat, p\n",
    "    return wilcoxon_dict"
   ]
  },
  {
   "cell_type": "code",
   "execution_count": 333,
   "metadata": {},
   "outputs": [],
   "source": [
    "# run wilcoxon test to see whether each gene non-randomly associated with methylation\n",
    "busco_wilcoxon_dict_h = wilcoxon_gene_types(busco_df_h, column_list)\n",
    "effector_wilcoxon_dict_h = wilcoxon_gene_types(effector_df_h, column_list)\n",
    "te_gene_wilcoxon_dict_h = wilcoxon_gene_types(te_gene_df_h, column_list)\n",
    "other_gene_wilcoxon_dict_h = wilcoxon_gene_types(other_gene_df_h, column_list)"
   ]
  },
  {
   "cell_type": "code",
   "execution_count": 338,
   "metadata": {},
   "outputs": [],
   "source": [
    "# save out dataframes of each wilcoxon dict as tsv\n",
    "\n",
    "def save_wilcoxon_dict(wdict, name, genome):\n",
    "    df = pd.DataFrame.from_dict(wdict, orient='index')\n",
    "    df.rename(columns={0: 'Wilcoxon T statistic', 1: 'p-value'}, inplace=True)\n",
    "    out_fn = os.path.join(DIRS['FIGURES'], 'coverage', ('%s_wilcoxon_t_table_%s.tsv' % (name, genome)))\n",
    "    df.to_csv(out_fn, header=True, sep = '\\t')"
   ]
  },
  {
   "cell_type": "code",
   "execution_count": 339,
   "metadata": {},
   "outputs": [],
   "source": [
    "save_wilcoxon_dict(busco_wilcoxon_dict_h, 'busco', 'h')\n",
    "save_wilcoxon_dict(effector_wilcoxon_dict_h, 'effector', 'h')\n",
    "save_wilcoxon_dict(te_gene_wilcoxon_dict_h, 'te_gene', 'h')\n",
    "save_wilcoxon_dict(other_gene_wilcoxon_dict_h, 'other_gene', 'h')"
   ]
  },
  {
   "cell_type": "code",
   "execution_count": 358,
   "metadata": {},
   "outputs": [],
   "source": [
    "#save out the large df of coverage results\n",
    "h_contig_df.to_csv((os.path.join(DIRS['FIGURES'], 'coverage', 'coverage_df_h.tsv')), header=True, index=False, sep = '\\t')"
   ]
  },
  {
   "cell_type": "code",
   "execution_count": 359,
   "metadata": {},
   "outputs": [
    {
     "data": {
      "text/html": [
       "<div>\n",
       "<style scoped>\n",
       "    .dataframe tbody tr th:only-of-type {\n",
       "        vertical-align: middle;\n",
       "    }\n",
       "\n",
       "    .dataframe tbody tr th {\n",
       "        vertical-align: top;\n",
       "    }\n",
       "\n",
       "    .dataframe thead th {\n",
       "        text-align: right;\n",
       "    }\n",
       "</style>\n",
       "<table border=\"1\" class=\"dataframe\">\n",
       "  <thead>\n",
       "    <tr style=\"text-align: right;\">\n",
       "      <th></th>\n",
       "      <th>name</th>\n",
       "      <th>5mC_gene_body</th>\n",
       "      <th>6mA_gene_body</th>\n",
       "      <th>5mC_gene_body_rand</th>\n",
       "      <th>6mA_gene_body_rand</th>\n",
       "      <th>5mC_upstream</th>\n",
       "      <th>6mA_upstream</th>\n",
       "      <th>5mC_upstream_rand</th>\n",
       "      <th>6mA_upstream_rand</th>\n",
       "      <th>5mC_downstream</th>\n",
       "      <th>6mA_downstream</th>\n",
       "      <th>5mC_downstream_rand</th>\n",
       "      <th>6mA_downstream_rand</th>\n",
       "      <th>6mA_tss</th>\n",
       "      <th>6mA_tss_rand</th>\n",
       "      <th>5mC_both</th>\n",
       "      <th>6mA_both</th>\n",
       "      <th>5mC_both_rand</th>\n",
       "      <th>6mA_both_rand</th>\n",
       "      <th>Gene_type</th>\n",
       "    </tr>\n",
       "  </thead>\n",
       "  <tbody>\n",
       "    <tr>\n",
       "      <th>0</th>\n",
       "      <td>gene_model_hcontig_0000_03.1</td>\n",
       "      <td>0.105145</td>\n",
       "      <td>0.040268</td>\n",
       "      <td>0.013423</td>\n",
       "      <td>0.004474</td>\n",
       "      <td>0.124</td>\n",
       "      <td>0.034</td>\n",
       "      <td>0.018</td>\n",
       "      <td>0.010</td>\n",
       "      <td>0.109</td>\n",
       "      <td>0.035</td>\n",
       "      <td>0.014</td>\n",
       "      <td>0.017</td>\n",
       "      <td>0.048</td>\n",
       "      <td>0.004</td>\n",
       "      <td>0.1165</td>\n",
       "      <td>0.0345</td>\n",
       "      <td>0.0160</td>\n",
       "      <td>0.0135</td>\n",
       "      <td>Effector</td>\n",
       "    </tr>\n",
       "    <tr>\n",
       "      <th>1</th>\n",
       "      <td>gene_model_hcontig_0000_03.2</td>\n",
       "      <td>0.001990</td>\n",
       "      <td>0.005970</td>\n",
       "      <td>0.015920</td>\n",
       "      <td>0.010945</td>\n",
       "      <td>0.028</td>\n",
       "      <td>0.012</td>\n",
       "      <td>0.012</td>\n",
       "      <td>0.011</td>\n",
       "      <td>0.016</td>\n",
       "      <td>0.028</td>\n",
       "      <td>0.017</td>\n",
       "      <td>0.007</td>\n",
       "      <td>0.000</td>\n",
       "      <td>0.014</td>\n",
       "      <td>0.0220</td>\n",
       "      <td>0.0200</td>\n",
       "      <td>0.0145</td>\n",
       "      <td>0.0090</td>\n",
       "      <td>Effector</td>\n",
       "    </tr>\n",
       "    <tr>\n",
       "      <th>2</th>\n",
       "      <td>gene_model_hcontig_0000_03.3</td>\n",
       "      <td>0.005576</td>\n",
       "      <td>0.004647</td>\n",
       "      <td>0.012082</td>\n",
       "      <td>0.008364</td>\n",
       "      <td>0.005</td>\n",
       "      <td>0.002</td>\n",
       "      <td>0.012</td>\n",
       "      <td>0.010</td>\n",
       "      <td>0.013</td>\n",
       "      <td>0.002</td>\n",
       "      <td>0.016</td>\n",
       "      <td>0.005</td>\n",
       "      <td>0.008</td>\n",
       "      <td>0.008</td>\n",
       "      <td>0.0090</td>\n",
       "      <td>0.0020</td>\n",
       "      <td>0.0140</td>\n",
       "      <td>0.0075</td>\n",
       "      <td>Other genes</td>\n",
       "    </tr>\n",
       "    <tr>\n",
       "      <th>3</th>\n",
       "      <td>gene_model_hcontig_0000_03.4</td>\n",
       "      <td>0.030516</td>\n",
       "      <td>0.028756</td>\n",
       "      <td>0.011150</td>\n",
       "      <td>0.013498</td>\n",
       "      <td>0.028</td>\n",
       "      <td>0.081</td>\n",
       "      <td>0.011</td>\n",
       "      <td>0.017</td>\n",
       "      <td>0.013</td>\n",
       "      <td>0.039</td>\n",
       "      <td>0.007</td>\n",
       "      <td>0.018</td>\n",
       "      <td>0.030</td>\n",
       "      <td>0.024</td>\n",
       "      <td>0.0205</td>\n",
       "      <td>0.0600</td>\n",
       "      <td>0.0090</td>\n",
       "      <td>0.0175</td>\n",
       "      <td>Other genes</td>\n",
       "    </tr>\n",
       "    <tr>\n",
       "      <th>4</th>\n",
       "      <td>EVM prediction%2hcontig_0000_003.5</td>\n",
       "      <td>0.014035</td>\n",
       "      <td>0.055263</td>\n",
       "      <td>0.007017</td>\n",
       "      <td>0.016667</td>\n",
       "      <td>0.013</td>\n",
       "      <td>0.042</td>\n",
       "      <td>0.007</td>\n",
       "      <td>0.017</td>\n",
       "      <td>0.012</td>\n",
       "      <td>0.039</td>\n",
       "      <td>0.011</td>\n",
       "      <td>0.014</td>\n",
       "      <td>0.058</td>\n",
       "      <td>0.012</td>\n",
       "      <td>0.0125</td>\n",
       "      <td>0.0405</td>\n",
       "      <td>0.0090</td>\n",
       "      <td>0.0155</td>\n",
       "      <td>TE gene</td>\n",
       "    </tr>\n",
       "  </tbody>\n",
       "</table>\n",
       "</div>"
      ],
      "text/plain": [
       "                                 name  5mC_gene_body  6mA_gene_body  \\\n",
       "0        gene_model_hcontig_0000_03.1       0.105145       0.040268   \n",
       "1        gene_model_hcontig_0000_03.2       0.001990       0.005970   \n",
       "2        gene_model_hcontig_0000_03.3       0.005576       0.004647   \n",
       "3        gene_model_hcontig_0000_03.4       0.030516       0.028756   \n",
       "4  EVM prediction%2hcontig_0000_003.5       0.014035       0.055263   \n",
       "\n",
       "   5mC_gene_body_rand  6mA_gene_body_rand  5mC_upstream  6mA_upstream  \\\n",
       "0            0.013423            0.004474         0.124         0.034   \n",
       "1            0.015920            0.010945         0.028         0.012   \n",
       "2            0.012082            0.008364         0.005         0.002   \n",
       "3            0.011150            0.013498         0.028         0.081   \n",
       "4            0.007017            0.016667         0.013         0.042   \n",
       "\n",
       "   5mC_upstream_rand  6mA_upstream_rand  5mC_downstream  6mA_downstream  \\\n",
       "0              0.018              0.010           0.109           0.035   \n",
       "1              0.012              0.011           0.016           0.028   \n",
       "2              0.012              0.010           0.013           0.002   \n",
       "3              0.011              0.017           0.013           0.039   \n",
       "4              0.007              0.017           0.012           0.039   \n",
       "\n",
       "   5mC_downstream_rand  6mA_downstream_rand  6mA_tss  6mA_tss_rand  5mC_both  \\\n",
       "0                0.014                0.017    0.048         0.004    0.1165   \n",
       "1                0.017                0.007    0.000         0.014    0.0220   \n",
       "2                0.016                0.005    0.008         0.008    0.0090   \n",
       "3                0.007                0.018    0.030         0.024    0.0205   \n",
       "4                0.011                0.014    0.058         0.012    0.0125   \n",
       "\n",
       "   6mA_both  5mC_both_rand  6mA_both_rand    Gene_type  \n",
       "0    0.0345         0.0160         0.0135     Effector  \n",
       "1    0.0200         0.0145         0.0090     Effector  \n",
       "2    0.0020         0.0140         0.0075  Other genes  \n",
       "3    0.0600         0.0090         0.0175  Other genes  \n",
       "4    0.0405         0.0090         0.0155      TE gene  "
      ]
     },
     "execution_count": 359,
     "metadata": {},
     "output_type": "execute_result"
    }
   ],
   "source": [
    "h_contig_df.head()"
   ]
  },
  {
   "cell_type": "markdown",
   "metadata": {},
   "source": [
    "# <span style='color:#a347ff'> P contig <span/>"
   ]
  },
  {
   "cell_type": "code",
   "execution_count": 340,
   "metadata": {},
   "outputs": [],
   "source": [
    "# make one big data frame of gene_ID and all the coverage for every region and their corresponding randomised score\n",
    "\n",
    "# initial df = just the gene names\n",
    "# get gene names from a file\n",
    "p_contig_df = gene_methyl_overlap_dict['Pst_104E_v13_p_ctg_combined_sorted_anno.5mC_hc_tombo_sorted.cutoff.0.80.overlap.bed'][['name']]"
   ]
  },
  {
   "cell_type": "code",
   "execution_count": 342,
   "metadata": {},
   "outputs": [],
   "source": [
    "#gene body\n",
    "p_contig_df = p_contig_df.join(gene_methyl_overlap_dict['Pst_104E_v13_p_ctg_combined_sorted_anno.5mC_hc_tombo_sorted.cutoff.0.80.overlap.bed'][['name', 'overlap_fraction']].set_index('name'), on='name').copy()\n",
    "p_contig_df.rename(columns={'overlap_fraction': '5mC_gene_body'}, inplace=True)\n",
    "p_contig_df = p_contig_df.join(gene_methyl_overlap_dict['Pst_104E_v13_p_ctg_combined_sorted_anno.6mA_hc_tombo_sorted.cutoff.0.80.overlap.bed'][['name', 'overlap_fraction']].set_index('name'), on='name').copy()\n",
    "p_contig_df.rename(columns={'overlap_fraction': '6mA_gene_body'}, inplace=True)\n",
    "p_contig_df = p_contig_df.join(gene_rand_methyl_overlap_dict['Pst_104E_v13_p_ctg_combined_sorted_anno.5mC_hc_tombo_sorted.cutoff.0.80.overlap.bed'][['name', 'overlap_fraction']].set_index('name'), on='name').copy()\n",
    "p_contig_df.rename(columns={'overlap_fraction': '5mC_gene_body_rand'}, inplace=True)\n",
    "p_contig_df = p_contig_df.join(gene_rand_methyl_overlap_dict['Pst_104E_v13_p_ctg_combined_sorted_anno.6mA_hc_tombo_sorted.cutoff.0.80.overlap.bed'][['name', 'overlap_fraction']].set_index('name'), on='name').copy()\n",
    "p_contig_df.rename(columns={'overlap_fraction': '6mA_gene_body_rand'}, inplace=True)\n",
    "\n",
    "#upstream\n",
    "p_contig_df = p_contig_df.join(upstream_coverage_dict['Pst_104E_v13_p_ctg_combined_sorted_anno.5mC_hc_tombo_sorted.cutoff.0.80.upstream.overlap.bed'][['name', 'overlap_fraction']].set_index('name'), on='name').copy()\n",
    "p_contig_df.rename(columns={'overlap_fraction': '5mC_upstream'}, inplace=True)\n",
    "p_contig_df = p_contig_df.join(upstream_coverage_dict['Pst_104E_v13_p_ctg_combined_sorted_anno.6mA_hc_tombo_sorted.cutoff.0.80.upstream.overlap.bed'][['name', 'overlap_fraction']].set_index('name'), on='name').copy()\n",
    "p_contig_df.rename(columns={'overlap_fraction': '6mA_upstream'}, inplace=True)\n",
    "p_contig_df = p_contig_df.join(upstream_rand_coverage_dict['Pst_104E_v13_p_ctg_combined_sorted_anno.5mC_hc_tombo_sorted.cutoff.0.80.upstream.overlap.bed'][['name', 'overlap_fraction']].set_index('name'), on='name').copy()\n",
    "p_contig_df.rename(columns={'overlap_fraction': '5mC_upstream_rand'}, inplace=True)\n",
    "p_contig_df = p_contig_df.join(upstream_rand_coverage_dict['Pst_104E_v13_p_ctg_combined_sorted_anno.6mA_hc_tombo_sorted.cutoff.0.80.upstream.overlap.bed'][['name', 'overlap_fraction']].set_index('name'), on='name').copy()\n",
    "p_contig_df.rename(columns={'overlap_fraction': '6mA_upstream_rand'}, inplace=True)\n",
    "\n",
    "#downstream\n",
    "p_contig_df = p_contig_df.join(downstream_coverage_dict['Pst_104E_v13_p_ctg_combined_sorted_anno.5mC_hc_tombo_sorted.cutoff.0.80.downstream.overlap.bed'][['name', 'overlap_fraction']].set_index('name'), on='name').copy()\n",
    "p_contig_df.rename(columns={'overlap_fraction': '5mC_downstream'}, inplace=True)\n",
    "p_contig_df = p_contig_df.join(downstream_coverage_dict['Pst_104E_v13_p_ctg_combined_sorted_anno.6mA_hc_tombo_sorted.cutoff.0.80.downstream.overlap.bed'][['name', 'overlap_fraction']].set_index('name'), on='name').copy()\n",
    "p_contig_df.rename(columns={'overlap_fraction': '6mA_downstream'}, inplace=True)\n",
    "p_contig_df = p_contig_df.join(downstream_rand_coverage_dict['Pst_104E_v13_p_ctg_combined_sorted_anno.5mC_hc_tombo_sorted.cutoff.0.80.downstream.overlap.bed'][['name', 'overlap_fraction']].set_index('name'), on='name').copy()\n",
    "p_contig_df.rename(columns={'overlap_fraction': '5mC_downstream_rand'}, inplace=True)\n",
    "p_contig_df = p_contig_df.join(downstream_rand_coverage_dict['Pst_104E_v13_p_ctg_combined_sorted_anno.6mA_hc_tombo_sorted.cutoff.0.80.downstream.overlap.bed'][['name', 'overlap_fraction']].set_index('name'), on='name').copy()\n",
    "p_contig_df.rename(columns={'overlap_fraction': '6mA_downstream_rand'}, inplace=True)\n",
    "\n",
    "#tss\n",
    "p_contig_df = p_contig_df.join(tss_overlap_dict['Pst_104E_v13_p_ctg_combined_sorted_anno.6mA_hc_tombo_sorted.cutoff.0.80.tss.overlap.bed'][['name', 'overlap_fraction']].set_index('name'), on='name').copy()\n",
    "p_contig_df.rename(columns={'overlap_fraction': '6mA_tss'}, inplace=True)\n",
    "p_contig_df = p_contig_df.join(tss_rand_dict['Pst_104E_v13_p_ctg_combined_sorted_anno.6mA_hc_tombo_sorted.cutoff.0.80.tss.overlap.bed'][['name', 'overlap_fraction']].set_index('name'), on='name').copy()\n",
    "p_contig_df.rename(columns={'overlap_fraction': '6mA_tss_rand'}, inplace=True)"
   ]
  },
  {
   "cell_type": "code",
   "execution_count": 344,
   "metadata": {},
   "outputs": [],
   "source": [
    "add_both_ud_to_df(p_contig_df, '5mC_upstream', '5mC_downstream', '5mC_both')\n",
    "add_both_ud_to_df(p_contig_df, '6mA_upstream', '6mA_downstream', '6mA_both')\n",
    "add_both_ud_to_df(p_contig_df, '5mC_upstream_rand', '5mC_downstream_rand', '5mC_both_rand')\n",
    "add_both_ud_to_df(p_contig_df, '6mA_upstream_rand', '6mA_downstream_rand', '6mA_both_rand')"
   ]
  },
  {
   "cell_type": "code",
   "execution_count": 346,
   "metadata": {},
   "outputs": [],
   "source": [
    "#add column with gene types\n",
    "\n",
    "#make a list of genes in each type\n",
    "busco_list_p = pd.read_csv(os.path.join(DIRS['GFF_INPUT'], 'Pst_104E_v12_p_busco.gene_name.bed'), sep='\\t', header=None)[3].tolist()\n",
    "effector_list_p = pd.read_csv(os.path.join(DIRS['GFF_INPUT'], 'Pst_104E_v13_p_ctg.effectors.bed'), sep='\\t', header=None)[3].tolist()\n",
    "te_list_p = pd.read_csv(os.path.join(DIRS['GFF_INPUT'], 'Pst_104E_v13_p_ctg.TE.sorted.bed'), sep='\\t', header=None)[3].tolist()\n",
    "\n",
    "# add gene types\n",
    "p_contig_df['Gene_type'] = 'Other genes'\n",
    "p_contig_df.loc[p_contig_df.name.isin(effector_list_p), 'Gene_type'] = 'Effector'\n",
    "p_contig_df.loc[p_contig_df.name.isin(busco_list_p), 'Gene_type'] = 'BUSCO'\n",
    "p_contig_df.loc[p_contig_df.name.isin(te_list_p), 'Gene_type'] = 'TE gene'\n",
    "\n",
    "#make gene type df\n",
    "busco_df_p = gene_type_df(p_contig_df, 'BUSCO')\n",
    "effector_df_p = gene_type_df(p_contig_df, 'Effector')\n",
    "te_gene_df_p = gene_type_df(p_contig_df, 'TE gene')\n",
    "other_gene_df_p = gene_type_df(p_contig_df, 'Other genes')"
   ]
  },
  {
   "cell_type": "code",
   "execution_count": 349,
   "metadata": {},
   "outputs": [],
   "source": [
    "busco_wilcoxon_dict_p = wilcoxon_gene_types(busco_df_p, column_list)\n",
    "effector_wilcoxon_dict_p = wilcoxon_gene_types(effector_df_p, column_list)\n",
    "te_gene_wilcoxon_dict_p = wilcoxon_gene_types(te_gene_df_p, column_list)\n",
    "other_gene_wilcoxon_dict_p = wilcoxon_gene_types(other_gene_df_p, column_list)\n",
    "\n",
    "save_wilcoxon_dict(busco_wilcoxon_dict_p, 'busco', 'p')\n",
    "save_wilcoxon_dict(effector_wilcoxon_dict_p, 'effector', 'p')\n",
    "save_wilcoxon_dict(te_gene_wilcoxon_dict_p, 'te_gene', 'p')\n",
    "save_wilcoxon_dict(other_gene_wilcoxon_dict_p, 'other_gene', 'p')"
   ]
  },
  {
   "cell_type": "code",
   "execution_count": 345,
   "metadata": {},
   "outputs": [
    {
     "data": {
      "text/plain": [
       "Index(['name', '5mC_gene_body', '6mA_gene_body', '5mC_gene_body_rand',\n",
       "       '6mA_gene_body_rand', '5mC_upstream', '6mA_upstream',\n",
       "       '5mC_upstream_rand', '6mA_upstream_rand', '5mC_downstream',\n",
       "       '6mA_downstream', '5mC_downstream_rand', '6mA_downstream_rand',\n",
       "       '6mA_tss', '6mA_tss_rand', '5mC_both', '6mA_both', '5mC_both_rand',\n",
       "       '6mA_both_rand'],\n",
       "      dtype='object')"
      ]
     },
     "execution_count": 345,
     "metadata": {},
     "output_type": "execute_result"
    }
   ],
   "source": [
    "p_contig_df.columns"
   ]
  },
  {
   "cell_type": "code",
   "execution_count": 350,
   "metadata": {
    "collapsed": true
   },
   "outputs": [
    {
     "data": {
      "text/html": [
       "<div>\n",
       "<style scoped>\n",
       "    .dataframe tbody tr th:only-of-type {\n",
       "        vertical-align: middle;\n",
       "    }\n",
       "\n",
       "    .dataframe tbody tr th {\n",
       "        vertical-align: top;\n",
       "    }\n",
       "\n",
       "    .dataframe thead th {\n",
       "        text-align: right;\n",
       "    }\n",
       "</style>\n",
       "<table border=\"1\" class=\"dataframe\">\n",
       "  <thead>\n",
       "    <tr style=\"text-align: right;\">\n",
       "      <th></th>\n",
       "      <th>name</th>\n",
       "      <th>5mC_gene_body</th>\n",
       "      <th>6mA_gene_body</th>\n",
       "      <th>5mC_gene_body_rand</th>\n",
       "      <th>6mA_gene_body_rand</th>\n",
       "      <th>5mC_upstream</th>\n",
       "      <th>6mA_upstream</th>\n",
       "      <th>5mC_upstream_rand</th>\n",
       "      <th>6mA_upstream_rand</th>\n",
       "      <th>5mC_downstream</th>\n",
       "      <th>6mA_downstream</th>\n",
       "      <th>5mC_downstream_rand</th>\n",
       "      <th>6mA_downstream_rand</th>\n",
       "      <th>6mA_tss</th>\n",
       "      <th>6mA_tss_rand</th>\n",
       "      <th>5mC_both</th>\n",
       "      <th>6mA_both</th>\n",
       "      <th>5mC_both_rand</th>\n",
       "      <th>6mA_both_rand</th>\n",
       "      <th>Gene_type</th>\n",
       "    </tr>\n",
       "  </thead>\n",
       "  <tbody>\n",
       "    <tr>\n",
       "      <th>0</th>\n",
       "      <td>gene_model_pcontig_000.1</td>\n",
       "      <td>0.152112</td>\n",
       "      <td>0.044690</td>\n",
       "      <td>0.014760</td>\n",
       "      <td>0.011070</td>\n",
       "      <td>0.172324</td>\n",
       "      <td>0.075718</td>\n",
       "      <td>0.01436</td>\n",
       "      <td>0.007833</td>\n",
       "      <td>0.117</td>\n",
       "      <td>0.033</td>\n",
       "      <td>0.012</td>\n",
       "      <td>0.010</td>\n",
       "      <td>0.064</td>\n",
       "      <td>0.016</td>\n",
       "      <td>0.144662</td>\n",
       "      <td>0.054359</td>\n",
       "      <td>0.01318</td>\n",
       "      <td>0.008916</td>\n",
       "      <td>Other genes</td>\n",
       "    </tr>\n",
       "    <tr>\n",
       "      <th>1</th>\n",
       "      <td>gene_model_pcontig_000.2</td>\n",
       "      <td>0.082353</td>\n",
       "      <td>0.013235</td>\n",
       "      <td>0.016176</td>\n",
       "      <td>0.010294</td>\n",
       "      <td>0.091000</td>\n",
       "      <td>0.024000</td>\n",
       "      <td>0.01600</td>\n",
       "      <td>0.011000</td>\n",
       "      <td>0.020</td>\n",
       "      <td>0.015</td>\n",
       "      <td>0.012</td>\n",
       "      <td>0.008</td>\n",
       "      <td>0.018</td>\n",
       "      <td>0.008</td>\n",
       "      <td>0.055500</td>\n",
       "      <td>0.019500</td>\n",
       "      <td>0.01400</td>\n",
       "      <td>0.009500</td>\n",
       "      <td>Other genes</td>\n",
       "    </tr>\n",
       "    <tr>\n",
       "      <th>2</th>\n",
       "      <td>gene_model_pcontig_000.3</td>\n",
       "      <td>0.068794</td>\n",
       "      <td>0.046859</td>\n",
       "      <td>0.018943</td>\n",
       "      <td>0.009970</td>\n",
       "      <td>0.028000</td>\n",
       "      <td>0.023000</td>\n",
       "      <td>0.01500</td>\n",
       "      <td>0.009000</td>\n",
       "      <td>0.043</td>\n",
       "      <td>0.063</td>\n",
       "      <td>0.012</td>\n",
       "      <td>0.008</td>\n",
       "      <td>0.036</td>\n",
       "      <td>0.012</td>\n",
       "      <td>0.035500</td>\n",
       "      <td>0.043000</td>\n",
       "      <td>0.01350</td>\n",
       "      <td>0.008500</td>\n",
       "      <td>Effector</td>\n",
       "    </tr>\n",
       "    <tr>\n",
       "      <th>3</th>\n",
       "      <td>gene_model_pcontig_000.4</td>\n",
       "      <td>0.002788</td>\n",
       "      <td>0.002788</td>\n",
       "      <td>0.012082</td>\n",
       "      <td>0.013940</td>\n",
       "      <td>0.000000</td>\n",
       "      <td>0.000000</td>\n",
       "      <td>0.01600</td>\n",
       "      <td>0.017000</td>\n",
       "      <td>0.004</td>\n",
       "      <td>0.000</td>\n",
       "      <td>0.015</td>\n",
       "      <td>0.015</td>\n",
       "      <td>0.002</td>\n",
       "      <td>0.012</td>\n",
       "      <td>0.002000</td>\n",
       "      <td>0.000000</td>\n",
       "      <td>0.01550</td>\n",
       "      <td>0.016000</td>\n",
       "      <td>Other genes</td>\n",
       "    </tr>\n",
       "    <tr>\n",
       "      <th>4</th>\n",
       "      <td>gene_model_pcontig_000.5</td>\n",
       "      <td>0.006355</td>\n",
       "      <td>0.001733</td>\n",
       "      <td>0.019064</td>\n",
       "      <td>0.009821</td>\n",
       "      <td>0.013000</td>\n",
       "      <td>0.002000</td>\n",
       "      <td>0.01000</td>\n",
       "      <td>0.009000</td>\n",
       "      <td>0.020</td>\n",
       "      <td>0.000</td>\n",
       "      <td>0.005</td>\n",
       "      <td>0.010</td>\n",
       "      <td>0.002</td>\n",
       "      <td>0.010</td>\n",
       "      <td>0.016500</td>\n",
       "      <td>0.001000</td>\n",
       "      <td>0.00750</td>\n",
       "      <td>0.009500</td>\n",
       "      <td>Other genes</td>\n",
       "    </tr>\n",
       "  </tbody>\n",
       "</table>\n",
       "</div>"
      ],
      "text/plain": [
       "                       name  5mC_gene_body  6mA_gene_body  5mC_gene_body_rand  \\\n",
       "0  gene_model_pcontig_000.1       0.152112       0.044690            0.014760   \n",
       "1  gene_model_pcontig_000.2       0.082353       0.013235            0.016176   \n",
       "2  gene_model_pcontig_000.3       0.068794       0.046859            0.018943   \n",
       "3  gene_model_pcontig_000.4       0.002788       0.002788            0.012082   \n",
       "4  gene_model_pcontig_000.5       0.006355       0.001733            0.019064   \n",
       "\n",
       "   6mA_gene_body_rand  5mC_upstream  6mA_upstream  5mC_upstream_rand  \\\n",
       "0            0.011070      0.172324      0.075718            0.01436   \n",
       "1            0.010294      0.091000      0.024000            0.01600   \n",
       "2            0.009970      0.028000      0.023000            0.01500   \n",
       "3            0.013940      0.000000      0.000000            0.01600   \n",
       "4            0.009821      0.013000      0.002000            0.01000   \n",
       "\n",
       "   6mA_upstream_rand  5mC_downstream  6mA_downstream  5mC_downstream_rand  \\\n",
       "0           0.007833           0.117           0.033                0.012   \n",
       "1           0.011000           0.020           0.015                0.012   \n",
       "2           0.009000           0.043           0.063                0.012   \n",
       "3           0.017000           0.004           0.000                0.015   \n",
       "4           0.009000           0.020           0.000                0.005   \n",
       "\n",
       "   6mA_downstream_rand  6mA_tss  6mA_tss_rand  5mC_both  6mA_both  \\\n",
       "0                0.010    0.064         0.016  0.144662  0.054359   \n",
       "1                0.008    0.018         0.008  0.055500  0.019500   \n",
       "2                0.008    0.036         0.012  0.035500  0.043000   \n",
       "3                0.015    0.002         0.012  0.002000  0.000000   \n",
       "4                0.010    0.002         0.010  0.016500  0.001000   \n",
       "\n",
       "   5mC_both_rand  6mA_both_rand    Gene_type  \n",
       "0        0.01318       0.008916  Other genes  \n",
       "1        0.01400       0.009500  Other genes  \n",
       "2        0.01350       0.008500     Effector  \n",
       "3        0.01550       0.016000  Other genes  \n",
       "4        0.00750       0.009500  Other genes  "
      ]
     },
     "execution_count": 350,
     "metadata": {},
     "output_type": "execute_result"
    }
   ],
   "source": [
    "p_contig_df.head()"
   ]
  },
  {
   "cell_type": "code",
   "execution_count": 357,
   "metadata": {},
   "outputs": [],
   "source": [
    "#save out the large df of coverage results\n",
    "p_contig_df.to_csv((os.path.join(DIRS['FIGURES'], 'coverage', 'coverage_df_p.tsv')), header=True, index=False, sep = '\\t')"
   ]
  },
  {
   "cell_type": "markdown",
   "metadata": {},
   "source": [
    "# Old stuff"
   ]
  },
  {
   "cell_type": "code",
   "execution_count": 120,
   "metadata": {
    "collapsed": true
   },
   "outputs": [
    {
     "data": {
      "text/plain": [
       "{'5mC_hc_tombo_sorted.cutoff.0.99.10kb.overlap.5mC_hc_tombo_sorted.cutoff.0.99.10kb.overlap.bed': (1.0,\n",
       "  0.0),\n",
       " '5mC_hc_tombo_sorted.cutoff.0.99.10kb.overlap.6mA_hc_tombo_sorted.cutoff.0.99.10kb.overlap.bed': (0.7384667531527627,\n",
       "  0.0),\n",
       " '5mC_hc_tombo_sorted.cutoff.0.99.10kb.overlap.Pst_104E_v13_ph_ctg.REPET.sorted.filtered.superfamily.10kb.overlap.bed': (0.44630536410739424,\n",
       "  0.0),\n",
       " '5mC_hc_tombo_sorted.cutoff.0.99.10kb.overlap.Pst_104E_v13_ph_ctg.TE.sorted.10kb.overlap.bed': (0.25369718437406363,\n",
       "  1.690789556321972e-233),\n",
       " '5mC_hc_tombo_sorted.cutoff.0.99.10kb.overlap.Pst_104E_v13_ph_ctg.anno.sorted.10kb.overlap.bed': (-0.38281643716088243,\n",
       "  0.0),\n",
       " '6mA_hc_tombo_sorted.cutoff.0.99.10kb.overlap.5mC_hc_tombo_sorted.cutoff.0.99.10kb.overlap.bed': (0.7384667531527627,\n",
       "  0.0),\n",
       " '6mA_hc_tombo_sorted.cutoff.0.99.10kb.overlap.6mA_hc_tombo_sorted.cutoff.0.99.10kb.overlap.bed': (1.0,\n",
       "  0.0),\n",
       " '6mA_hc_tombo_sorted.cutoff.0.99.10kb.overlap.Pst_104E_v13_ph_ctg.REPET.sorted.filtered.superfamily.10kb.overlap.bed': (0.2185812973777763,\n",
       "  2.212641478085935e-172),\n",
       " '6mA_hc_tombo_sorted.cutoff.0.99.10kb.overlap.Pst_104E_v13_ph_ctg.TE.sorted.10kb.overlap.bed': (0.09330526525126864,\n",
       "  2.775701706245244e-32),\n",
       " '6mA_hc_tombo_sorted.cutoff.0.99.10kb.overlap.Pst_104E_v13_ph_ctg.anno.sorted.10kb.overlap.bed': (-0.18353279200007624,\n",
       "  2.970389253688614e-121),\n",
       " 'Pst_104E_v13_ph_ctg.REPET.sorted.filtered.superfamily.10kb.overlap.5mC_hc_tombo_sorted.cutoff.0.99.10kb.overlap.bed': (0.4463053641073943,\n",
       "  0.0),\n",
       " 'Pst_104E_v13_ph_ctg.REPET.sorted.filtered.superfamily.10kb.overlap.6mA_hc_tombo_sorted.cutoff.0.99.10kb.overlap.bed': (0.2185812973777763,\n",
       "  2.212641478085935e-172),\n",
       " 'Pst_104E_v13_ph_ctg.REPET.sorted.filtered.superfamily.10kb.overlap.Pst_104E_v13_ph_ctg.REPET.sorted.filtered.superfamily.10kb.overlap.bed': (1.0,\n",
       "  0.0),\n",
       " 'Pst_104E_v13_ph_ctg.REPET.sorted.filtered.superfamily.10kb.overlap.Pst_104E_v13_ph_ctg.TE.sorted.10kb.overlap.bed': (0.48856932313825496,\n",
       "  0.0),\n",
       " 'Pst_104E_v13_ph_ctg.REPET.sorted.filtered.superfamily.10kb.overlap.Pst_104E_v13_ph_ctg.anno.sorted.10kb.overlap.bed': (-0.6675123606806304,\n",
       "  0.0),\n",
       " 'Pst_104E_v13_ph_ctg.TE.sorted.10kb.overlap.5mC_hc_tombo_sorted.cutoff.0.99.10kb.overlap.bed': (0.25369718437406363,\n",
       "  1.690789556321972e-233),\n",
       " 'Pst_104E_v13_ph_ctg.TE.sorted.10kb.overlap.6mA_hc_tombo_sorted.cutoff.0.99.10kb.overlap.bed': (0.09330526525126864,\n",
       "  2.775701706245244e-32),\n",
       " 'Pst_104E_v13_ph_ctg.TE.sorted.10kb.overlap.Pst_104E_v13_ph_ctg.REPET.sorted.filtered.superfamily.10kb.overlap.bed': (0.48856932313825496,\n",
       "  0.0),\n",
       " 'Pst_104E_v13_ph_ctg.TE.sorted.10kb.overlap.Pst_104E_v13_ph_ctg.TE.sorted.10kb.overlap.bed': (1.0,\n",
       "  0.0),\n",
       " 'Pst_104E_v13_ph_ctg.TE.sorted.10kb.overlap.Pst_104E_v13_ph_ctg.anno.sorted.10kb.overlap.bed': (-0.42175630733134983,\n",
       "  0.0),\n",
       " 'Pst_104E_v13_ph_ctg.anno.sorted.10kb.overlap.5mC_hc_tombo_sorted.cutoff.0.99.10kb.overlap.bed': (-0.38281643716088243,\n",
       "  0.0),\n",
       " 'Pst_104E_v13_ph_ctg.anno.sorted.10kb.overlap.6mA_hc_tombo_sorted.cutoff.0.99.10kb.overlap.bed': (-0.18353279200007622,\n",
       "  2.970389253689121e-121),\n",
       " 'Pst_104E_v13_ph_ctg.anno.sorted.10kb.overlap.Pst_104E_v13_ph_ctg.REPET.sorted.filtered.superfamily.10kb.overlap.bed': (-0.6675123606806304,\n",
       "  0.0),\n",
       " 'Pst_104E_v13_ph_ctg.anno.sorted.10kb.overlap.Pst_104E_v13_ph_ctg.TE.sorted.10kb.overlap.bed': (-0.42175630733134983,\n",
       "  0.0),\n",
       " 'Pst_104E_v13_ph_ctg.anno.sorted.10kb.overlap.Pst_104E_v13_ph_ctg.anno.sorted.10kb.overlap.bed': (0.9999999999999998,\n",
       "  0.0)}"
      ]
     },
     "execution_count": 120,
     "metadata": {},
     "output_type": "execute_result"
    }
   ],
   "source": [
    "# spearman_dict = spearman_coverage(coverage_fn_dict)\n",
    "spearman_dict"
   ]
  },
  {
   "cell_type": "code",
   "execution_count": 113,
   "metadata": {
    "collapsed": true
   },
   "outputs": [
    {
     "data": {
      "text/plain": [
       "{'5mC_hc_tombo_sorted.cutoff.0.00.10kb.overlap.5mC_hc_tombo_sorted.cutoff.0.00.10kb.overlap.bed': (0.9999999999999998,\n",
       "  0.0),\n",
       " '5mC_hc_tombo_sorted.cutoff.0.00.10kb.overlap.6mA_hc_tombo_sorted.cutoff.0.00.10kb.overlap.bed': (-0.47934594757954724,\n",
       "  0.0),\n",
       " '5mC_hc_tombo_sorted.cutoff.0.00.10kb.overlap.Pst_104E_v13_ph_ctg.REPET.sorted.filtered.superfamily.10kb.overlap.bed': (-0.12843414371679912,\n",
       "  7.829840669103839e-60),\n",
       " '5mC_hc_tombo_sorted.cutoff.0.00.10kb.overlap.Pst_104E_v13_ph_ctg.TE.sorted.10kb.overlap.bed': (0.07554648842181759,\n",
       "  1.0681836180294743e-21),\n",
       " '5mC_hc_tombo_sorted.cutoff.0.00.10kb.overlap.Pst_104E_v13_ph_ctg.anno.sorted.10kb.overlap.bed': (0.14866356711046494,\n",
       "  9.316874268222433e-80),\n",
       " '6mA_hc_tombo_sorted.cutoff.0.00.10kb.overlap.5mC_hc_tombo_sorted.cutoff.0.00.10kb.overlap.bed': (-0.4793459475795472,\n",
       "  0.0),\n",
       " '6mA_hc_tombo_sorted.cutoff.0.00.10kb.overlap.6mA_hc_tombo_sorted.cutoff.0.00.10kb.overlap.bed': (1.0,\n",
       "  0.0),\n",
       " '6mA_hc_tombo_sorted.cutoff.0.00.10kb.overlap.Pst_104E_v13_ph_ctg.REPET.sorted.filtered.superfamily.10kb.overlap.bed': (0.029600436833638867,\n",
       "  0.00018025867135858874),\n",
       " '6mA_hc_tombo_sorted.cutoff.0.00.10kb.overlap.Pst_104E_v13_ph_ctg.TE.sorted.10kb.overlap.bed': (-0.05796052975886572,\n",
       "  2.1680246293458693e-13),\n",
       " '6mA_hc_tombo_sorted.cutoff.0.00.10kb.overlap.Pst_104E_v13_ph_ctg.anno.sorted.10kb.overlap.bed': (-0.041568334010774755,\n",
       "  1.436293260042083e-07),\n",
       " 'Pst_104E_v13_ph_ctg.REPET.sorted.filtered.superfamily.10kb.overlap.5mC_hc_tombo_sorted.cutoff.0.00.10kb.overlap.bed': (-0.12843414371679912,\n",
       "  7.829840669103839e-60),\n",
       " 'Pst_104E_v13_ph_ctg.REPET.sorted.filtered.superfamily.10kb.overlap.6mA_hc_tombo_sorted.cutoff.0.00.10kb.overlap.bed': (0.029600436833638864,\n",
       "  0.0001802586713585892),\n",
       " 'Pst_104E_v13_ph_ctg.REPET.sorted.filtered.superfamily.10kb.overlap.Pst_104E_v13_ph_ctg.REPET.sorted.filtered.superfamily.10kb.overlap.bed': (1.0,\n",
       "  0.0),\n",
       " 'Pst_104E_v13_ph_ctg.REPET.sorted.filtered.superfamily.10kb.overlap.Pst_104E_v13_ph_ctg.TE.sorted.10kb.overlap.bed': (0.48856932313825496,\n",
       "  0.0),\n",
       " 'Pst_104E_v13_ph_ctg.REPET.sorted.filtered.superfamily.10kb.overlap.Pst_104E_v13_ph_ctg.anno.sorted.10kb.overlap.bed': (-0.6675123606806304,\n",
       "  0.0),\n",
       " 'Pst_104E_v13_ph_ctg.TE.sorted.10kb.overlap.5mC_hc_tombo_sorted.cutoff.0.00.10kb.overlap.bed': (0.07554648842181759,\n",
       "  1.0681836180294743e-21),\n",
       " 'Pst_104E_v13_ph_ctg.TE.sorted.10kb.overlap.6mA_hc_tombo_sorted.cutoff.0.00.10kb.overlap.bed': (-0.057960529758865724,\n",
       "  2.168024629345846e-13),\n",
       " 'Pst_104E_v13_ph_ctg.TE.sorted.10kb.overlap.Pst_104E_v13_ph_ctg.REPET.sorted.filtered.superfamily.10kb.overlap.bed': (0.48856932313825496,\n",
       "  0.0),\n",
       " 'Pst_104E_v13_ph_ctg.TE.sorted.10kb.overlap.Pst_104E_v13_ph_ctg.TE.sorted.10kb.overlap.bed': (1.0,\n",
       "  0.0),\n",
       " 'Pst_104E_v13_ph_ctg.TE.sorted.10kb.overlap.Pst_104E_v13_ph_ctg.anno.sorted.10kb.overlap.bed': (-0.42175630733134983,\n",
       "  0.0),\n",
       " 'Pst_104E_v13_ph_ctg.anno.sorted.10kb.overlap.5mC_hc_tombo_sorted.cutoff.0.00.10kb.overlap.bed': (0.14866356711046497,\n",
       "  9.316874268221105e-80),\n",
       " 'Pst_104E_v13_ph_ctg.anno.sorted.10kb.overlap.6mA_hc_tombo_sorted.cutoff.0.00.10kb.overlap.bed': (-0.041568334010774755,\n",
       "  1.436293260042083e-07),\n",
       " 'Pst_104E_v13_ph_ctg.anno.sorted.10kb.overlap.Pst_104E_v13_ph_ctg.REPET.sorted.filtered.superfamily.10kb.overlap.bed': (-0.6675123606806304,\n",
       "  0.0),\n",
       " 'Pst_104E_v13_ph_ctg.anno.sorted.10kb.overlap.Pst_104E_v13_ph_ctg.TE.sorted.10kb.overlap.bed': (-0.42175630733134983,\n",
       "  0.0),\n",
       " 'Pst_104E_v13_ph_ctg.anno.sorted.10kb.overlap.Pst_104E_v13_ph_ctg.anno.sorted.10kb.overlap.bed': (0.9999999999999998,\n",
       "  0.0)}"
      ]
     },
     "execution_count": 113,
     "metadata": {},
     "output_type": "execute_result"
    }
   ],
   "source": [
    "spearman_dict"
   ]
  },
  {
   "cell_type": "markdown",
   "metadata": {},
   "source": [
    "### Part 1\n",
    "1. A. Run everything again for only genes that are not in transposons. 3 files: p, h and ph\n",
    "\n",
    "\n",
    "1. B. Or just subset the dataframes for \"combined\" by removing any rows in \"TE\" and save this df to csv under the right name\n",
    "2. And add the df to the coverage dictionary :)\n",
    "3. Just rerun the bed file dictionary generator for each one\n",
    "4. And add the input file to the gene_anno_dict :)\n",
    "\n",
    "Need to run this for:\n",
    "- upstream/input\n",
    "- upstream/coverage\n",
    "- upstream/rand\n",
    "- downstream/input\n",
    "- downstream/coverage\n",
    "- downstream/rand\n",
    "- both_upstream_downstream/input\n",
    "- both_upstream_downstream/coverage\n",
    "- both_upstream_downstream/rand\n",
    "- gene_body/input\n",
    "- gene_body/coverage\n",
    "- gene_body/rand\n",
    "\n",
    "### Part 2\n",
    "1. subset df to get genes that ONLY have methylation in gene body/ upstream/ downstream/ both/ TSS\n",
    "2. subset randomisation df for these too\n",
    "3. test significance\n",
    "4. use these as section of expression analysis"
   ]
  },
  {
   "cell_type": "code",
   "execution_count": 2505,
   "metadata": {},
   "outputs": [],
   "source": [
    "# save out the Spearman's rho values as a table\n",
    "spearman_df = pd.DataFrame.from_dict(ug_spearman_dict, orient='index')\n",
    "spearman_df.rename(columns={0: 'R', 1: 'p-value'}, inplace=True)\n",
    "out_fn = os.path.join(DIRS['FIGURES'], 'expression', 'spearman_r_table.tsv')\n",
    "spearman_df.to_csv(out_fn, header=True, sep = '\\t')"
   ]
  },
  {
   "cell_type": "code",
   "execution_count": null,
   "metadata": {},
   "outputs": [],
   "source": [
    "# 6mA: Spearman's rho between ranked methylated genes in df and ranked expressed genes in df"
   ]
  },
  {
   "cell_type": "code",
   "execution_count": null,
   "metadata": {},
   "outputs": [],
   "source": [
    "# Ignore both_u_d files for now!\n",
    "# For the both_u_d files:\n",
    "# iterrows through df and if name == name:\n",
    "# add the frac1 + frac2 and divide by 2\n",
    "# append the average to a list\n",
    "# make a new df of ... ok this is too hard I'll ask Ben on Monday"
   ]
  },
  {
   "cell_type": "code",
   "execution_count": null,
   "metadata": {},
   "outputs": [],
   "source": [
    "# Make files ranking genes expressed in each life cycle stage from high to low expression\n",
    "\n",
    "# Make a new file of the highly expressed genes for each life cycle stage\n",
    "# Make a new file of the lowly expressed genes for each life cycle stage\n",
    "\n",
    "# Make a file of genes that are highly expressed in all stages -> for loop that checks whether gene is in all \"highly expressed\" files\n"
   ]
  }
 ],
 "metadata": {
  "kernelspec": {
   "display_name": "Python 3",
   "language": "python",
   "name": "python3"
  },
  "language_info": {
   "codemirror_mode": {
    "name": "ipython",
    "version": 3
   },
   "file_extension": ".py",
   "mimetype": "text/x-python",
   "name": "python",
   "nbconvert_exporter": "python",
   "pygments_lexer": "ipython3",
   "version": "3.6.3"
  }
 },
 "nbformat": 4,
 "nbformat_minor": 2
}
