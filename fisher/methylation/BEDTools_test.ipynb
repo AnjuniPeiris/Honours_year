{
 "cells": [
  {
   "cell_type": "markdown",
   "metadata": {},
   "source": [
    "# <span style=\"color:magenta\"> BEDtools test. </span>\n",
    "\n",
    "This notebook combines the TE model data with the gene model data, as they were previously separated.\n",
    "\n",
    "1. Get the annotations file (.gff3) and the reference file (ctg.fa)\n",
    "2. SeqIO.parse through reference genome and get a list of all contig names.\n",
    "3. Make pandas dataframe of annotation file.\n",
    "4. Subset dataframe to column 0 that only has values in list of contig names from reference file.\n",
    "5. Use \"to.csv(\\t)\" to convert the subset to a tab-separated GFF file.\n",
    "6. Cat this subset GFF file of TE data to the gene data GFF file."
   ]
  },
  {
   "cell_type": "code",
   "execution_count": 8,
   "metadata": {},
   "outputs": [],
   "source": [
    "import pybedtools\n",
    "from pybedtools import BedTool\n",
    "import os\n",
    "import glob\n",
    "import pprint\n",
    "import numpy # needed for last few bedtools functions\n",
    "import scipy"
   ]
  },
  {
   "cell_type": "code",
   "execution_count": 9,
   "metadata": {},
   "outputs": [],
   "source": [
    "#First we need to define the base dirs\n",
    "DIRS ={}\n",
    "DIRS['BASE'] = '/home/anjuni/methylation_calling/pacbio'\n",
    "DIRS['BED_INPUT'] = os.path.join(DIRS['BASE'], 'input', 'sorted_bed_files')\n",
    "DIRS['GFF_INPUT'] = os.path.join('/home/anjuni/analysis/output')\n",
    "DIRS['BED_OUT'] = os.path.join(DIRS['BASE'], 'output', 'intersected_bed_files')"
   ]
  },
  {
   "cell_type": "code",
   "execution_count": 10,
   "metadata": {},
   "outputs": [
    {
     "name": "stdout",
     "output_type": "stream",
     "text": [
      "/home/anjuni/methylation_calling/pacbio\n",
      "/home/anjuni/methylation_calling/pacbio/input/sorted_bed_files\n",
      "/home/anjuni/analysis/output does not exist\n",
      "/home/anjuni/methylation_calling/pacbio/output/intersected_bed_files\n"
     ]
    }
   ],
   "source": [
    "#Quick chech if directories exist\n",
    "for value in DIRS.values():\n",
    "    if not os.path.exists(value):\n",
    "        print('%s does not exist' % value)\n",
    "    else:\n",
    "        print(value)"
   ]
  },
  {
   "cell_type": "code",
   "execution_count": 11,
   "metadata": {},
   "outputs": [],
   "source": [
    "#Make filepaths\n",
    "bed_file_list = [fn for fn in glob.iglob('%s/*.bed' % DIRS['BED_INPUT'], recursive=True)]\n",
    "ph_Pst_104E_gff = os.path.join(DIRS['GFF_INPUT'], 'Pst_104E_v13_ph_ctg_combined_sorted_anno.gff3')"
   ]
  },
  {
   "cell_type": "code",
   "execution_count": 12,
   "metadata": {},
   "outputs": [
    {
     "name": "stdout",
     "output_type": "stream",
     "text": [
      "['5mC_hc_nanopolish_sorted.bed', 'filtered_bed', '5mC_tombo_sorted.bed', '6mA_tombo_sorted.bed', '6mA_smrtlink_sorted.bed', '6mA_prob_smrtlink_sorted.bed']\n"
     ]
    }
   ],
   "source": [
    "# not sure how to use it as it doesn't have absolute path\n",
    "all_bed_files = os.listdir(DIRS['BED_INPUT'])\n",
    "print(all_bed_files)"
   ]
  },
  {
   "cell_type": "code",
   "execution_count": 13,
   "metadata": {},
   "outputs": [
    {
     "name": "stdout",
     "output_type": "stream",
     "text": [
      "/home/anjuni/methylation_calling/pacbio/input/sorted_bed_files/5mC_hc_nanopolish_sorted.bed\n",
      "/home/anjuni/methylation_calling/pacbio/input/sorted_bed_files/5mC_tombo_sorted.bed\n",
      "/home/anjuni/methylation_calling/pacbio/input/sorted_bed_files/6mA_tombo_sorted.bed\n",
      "/home/anjuni/methylation_calling/pacbio/input/sorted_bed_files/6mA_smrtlink_sorted.bed\n",
      "/home/anjuni/methylation_calling/pacbio/input/sorted_bed_files/6mA_prob_smrtlink_sorted.bed\n"
     ]
    }
   ],
   "source": [
    "#Check that the list works\n",
    "print(*bed_file_list, sep='\\n')"
   ]
  },
  {
   "cell_type": "code",
   "execution_count": 14,
   "metadata": {},
   "outputs": [
    {
     "ename": "IndexError",
     "evalue": "list index out of range",
     "output_type": "error",
     "traceback": [
      "\u001b[0;31m---------------------------------------------------------------------------\u001b[0m",
      "\u001b[0;31mIndexError\u001b[0m                                Traceback (most recent call last)",
      "\u001b[0;32m<ipython-input-14-ab36f4af2e83>\u001b[0m in \u001b[0;36m<module>\u001b[0;34m()\u001b[0m\n\u001b[1;32m      6\u001b[0m \u001b[0mm6a_tombo\u001b[0m \u001b[0;34m=\u001b[0m \u001b[0mBedTool\u001b[0m\u001b[0;34m(\u001b[0m\u001b[0mbed_file_list\u001b[0m\u001b[0;34m[\u001b[0m\u001b[0;36m3\u001b[0m\u001b[0;34m]\u001b[0m\u001b[0;34m)\u001b[0m\u001b[0;34m\u001b[0m\u001b[0m\n\u001b[1;32m      7\u001b[0m \u001b[0mm6a_smrt\u001b[0m \u001b[0;34m=\u001b[0m \u001b[0mBedTool\u001b[0m\u001b[0;34m(\u001b[0m\u001b[0mbed_file_list\u001b[0m\u001b[0;34m[\u001b[0m\u001b[0;36m4\u001b[0m\u001b[0;34m]\u001b[0m\u001b[0;34m)\u001b[0m\u001b[0;34m\u001b[0m\u001b[0m\n\u001b[0;32m----> 8\u001b[0;31m \u001b[0mm6a_prob_smrt\u001b[0m \u001b[0;34m=\u001b[0m \u001b[0mBedTool\u001b[0m\u001b[0;34m(\u001b[0m\u001b[0mbed_file_list\u001b[0m\u001b[0;34m[\u001b[0m\u001b[0;36m5\u001b[0m\u001b[0;34m]\u001b[0m\u001b[0;34m)\u001b[0m\u001b[0;34m\u001b[0m\u001b[0m\n\u001b[0m\u001b[1;32m      9\u001b[0m \u001b[0manno_ph_gff\u001b[0m \u001b[0;34m=\u001b[0m \u001b[0mBedTool\u001b[0m\u001b[0;34m(\u001b[0m\u001b[0mph_Pst_104E_gff\u001b[0m\u001b[0;34m)\u001b[0m\u001b[0;34m\u001b[0m\u001b[0m\n",
      "\u001b[0;31mIndexError\u001b[0m: list index out of range"
     ]
    }
   ],
   "source": [
    "# Testing out making a BedT\n",
    "# Setting BedTools objects\n",
    "m5c_hc_nano = BedTool(bed_file_list[0])\n",
    "m5c_tombo = BedTool(bed_file_list[1])\n",
    "m5c_nano = BedTool(bed_file_list[2])\n",
    "m6a_tombo = BedTool(bed_file_list[3])\n",
    "m6a_smrt = BedTool(bed_file_list[4])\n",
    "m6a_prob_smrt = BedTool(bed_file_list[5])\n",
    "anno_ph_gff = BedTool(ph_Pst_104E_gff)"
   ]
  },
  {
   "cell_type": "code",
   "execution_count": 15,
   "metadata": {},
   "outputs": [],
   "source": [
    "# Using a dictionary to make a list of bed files\n",
    "BED = {}\n",
    "for file in bed_file_list:\n",
    "    name = (file[63:-4])\n",
    "    bed_file = BedTool(file)\n",
    "    BED[name] = bed_file"
   ]
  },
  {
   "cell_type": "code",
   "execution_count": 16,
   "metadata": {},
   "outputs": [
    {
     "name": "stdout",
     "output_type": "stream",
     "text": [
      "{'5mC_hc_nanopolish_sorted': <BedTool(/home/anjuni/methylation_calling/pacbio/input/sorted_bed_files/5mC_hc_nanopolish_sorted.bed)>,\n",
      " '5mC_tombo_sorted': <BedTool(/home/anjuni/methylation_calling/pacbio/input/sorted_bed_files/5mC_tombo_sorted.bed)>,\n",
      " '6mA_prob_smrtlink_sorted': <BedTool(/home/anjuni/methylation_calling/pacbio/input/sorted_bed_files/6mA_prob_smrtlink_sorted.bed)>,\n",
      " '6mA_smrtlink_sorted': <BedTool(/home/anjuni/methylation_calling/pacbio/input/sorted_bed_files/6mA_smrtlink_sorted.bed)>,\n",
      " '6mA_tombo_sorted': <BedTool(/home/anjuni/methylation_calling/pacbio/input/sorted_bed_files/6mA_tombo_sorted.bed)>}\n"
     ]
    }
   ],
   "source": [
    "pprint.pprint(BED) # see if it works"
   ]
  },
  {
   "cell_type": "code",
   "execution_count": 17,
   "metadata": {},
   "outputs": [],
   "source": [
    "# Make output file handles\n",
    "hc_nano_tombo_m5c = DIRS['BED_OUT'] = os.path.join(DIRS['BASE'], 'output', 'intersected_bed_files', '5mC_hc_nano_tombo.bed')\n",
    "nano_tombo_m5c = DIRS['BED_OUT'] = os.path.join(DIRS['BASE'], 'output', 'intersected_bed_files', '5mC_nano_tombo.bed')\n",
    "tombo_hc_nano_m5c = DIRS['BED_OUT'] = os.path.join(DIRS['BASE'], 'output', 'intersected_bed_files', '5mC_tombo_hc_nano.bed')\n",
    "tombo_nano_5mc = DIRS['BED_OUT'] = os.path.join(DIRS['BASE'], 'output', 'intersected_bed_files', '5mC_tombo_nano.bed')\n",
    "\n",
    "#for trying to filter the tombo files\n",
    "hc_tombo_m5c = DIRS['BED_OUT'] = os.path.join(DIRS['BASE'], 'output', 'intersected_bed_files', '5mC_hc_tombo_sorted.bed')\n",
    "hc_tombo_m6a = DIRS['BED_OUT'] = os.path.join(DIRS['BASE'], 'output', 'intersected_bed_files', '6mA_hc_tombo_sorted.bed')"
   ]
  },
  {
   "cell_type": "markdown",
   "metadata": {},
   "source": [
    "# <span style=\"color:crimson\"> Intersections. </span>"
   ]
  },
  {
   "cell_type": "code",
   "execution_count": 24,
   "metadata": {},
   "outputs": [
    {
     "data": {
      "text/plain": [
       "<BedTool(/home/anjuni/methylation_calling/pacbio/output/intersected_bed_files/5mC_hc_nano_tombo.bed)>"
      ]
     },
     "execution_count": 24,
     "metadata": {},
     "output_type": "execute_result"
    }
   ],
   "source": [
    "# Intersect the high confidence nanopolish 5mC methylation sites with the tombo ones\n",
    "m5c_hc_nano.intersect(m5c_tombo).saveas(hc_nano_tombo_m5c)"
   ]
  },
  {
   "cell_type": "code",
   "execution_count": 27,
   "metadata": {},
   "outputs": [
    {
     "data": {
      "text/plain": [
       "<BedTool(/home/anjuni/methylation_calling/pacbio/output/intersected_bed_files/5mC_nano_tombo.bed)>"
      ]
     },
     "execution_count": 27,
     "metadata": {},
     "output_type": "execute_result"
    }
   ],
   "source": [
    "# Intersect the low confidence nanopolish 5mC methylation sites with the tombo ones\n",
    "m5c_nano.intersect(m5c_tombo).saveas(nano_tombo_m5c)"
   ]
  },
  {
   "cell_type": "code",
   "execution_count": 166,
   "metadata": {},
   "outputs": [
    {
     "data": {
      "text/plain": [
       "<BedTool(/home/anjuni/methylation_calling/pacbio/output/intersected_bed_files/5mC_tombo_nano.bed)>"
      ]
     },
     "execution_count": 166,
     "metadata": {},
     "output_type": "execute_result"
    }
   ],
   "source": [
    "m5c_tombo.intersect(m5c_nano).saveas(tombo_nano_5mc)"
   ]
  },
  {
   "cell_type": "code",
   "execution_count": 9,
   "metadata": {},
   "outputs": [
    {
     "name": "stdout",
     "output_type": "stream",
     "text": [
      " "
     ]
    }
   ],
   "source": [
    "%prun m5c_tombo.intersect(m5c_hc_nano).saveas(tombo_hc_nano_m5c)"
   ]
  },
  {
   "cell_type": "code",
   "execution_count": 22,
   "metadata": {},
   "outputs": [
    {
     "name": "stdout",
     "output_type": "stream",
     "text": [
      "hcontig_000_003\t289\t290\t5mC\t0.071\t+\n",
      " hcontig_000_003\t438\t439\t5mC\t0.048\t+\n",
      " hcontig_000_003\t443\t444\t5mC\t0.048\t+\n",
      " hcontig_000_003\t823\t824\t5mC\t0.091\t+\n",
      " hcontig_000_003\t851\t852\t5mC\t0.071\t+\n",
      " hcontig_000_003\t931\t932\t5mC\t0.071\t+\n",
      " hcontig_000_003\t935\t936\t5mC\t0.071\t+\n",
      " hcontig_000_003\t1004\t1005\t5mC\t0.071\t+\n",
      " hcontig_000_003\t1074\t1075\t5mC\t0.071\t+\n",
      " hcontig_000_003\t1077\t1078\t5mC\t0.071\t+\n",
      " "
     ]
    }
   ],
   "source": [
    "m5c_hc_nano.head()"
   ]
  },
  {
   "cell_type": "code",
   "execution_count": 257,
   "metadata": {},
   "outputs": [],
   "source": [
    "genes = gff.intersect(tombo_hc_nano)"
   ]
  },
  {
   "cell_type": "code",
   "execution_count": 259,
   "metadata": {},
   "outputs": [
    {
     "data": {
      "text/plain": [
       "<BedTool(/home/anjuni/methylation_calling/pacbio/output/intersected_bed_files/gff_tombo_5mC.bed)>"
      ]
     },
     "execution_count": 259,
     "metadata": {},
     "output_type": "execute_result"
    }
   ],
   "source": [
    "genes.saveas(os.path.join(DIRS['BASE'], 'output', 'intersected_bed_files', 'gff_tombo_5mC.bed'))"
   ]
  },
  {
   "cell_type": "code",
   "execution_count": 255,
   "metadata": {},
   "outputs": [],
   "source": [
    "tombo_hc_nano = BedTool(tombo_hc_nano_m5c)"
   ]
  },
  {
   "cell_type": "code",
   "execution_count": 256,
   "metadata": {},
   "outputs": [],
   "source": [
    "gff = BedTool(ph_Pst_104E_gff)"
   ]
  },
  {
   "cell_type": "markdown",
   "metadata": {},
   "source": [
    "# <span style=\"color:deeppink\"> Intervals. </span>"
   ]
  },
  {
   "cell_type": "code",
   "execution_count": 10,
   "metadata": {},
   "outputs": [],
   "source": [
    "feature = m5c_hc_nano[0]"
   ]
  },
  {
   "cell_type": "code",
   "execution_count": 13,
   "metadata": {},
   "outputs": [
    {
     "name": "stdout",
     "output_type": "stream",
     "text": [
      "hcontig_000_003\t289\t290\t5mC\t0.071\t+\n",
      "\n"
     ]
    }
   ],
   "source": [
    "print(feature)"
   ]
  },
  {
   "cell_type": "code",
   "execution_count": 90,
   "metadata": {},
   "outputs": [],
   "source": [
    "features = m5c_hc_nano[1:3] # slice does not seem to work"
   ]
  },
  {
   "cell_type": "code",
   "execution_count": 28,
   "metadata": {},
   "outputs": [
    {
     "name": "stdout",
     "output_type": "stream",
     "text": [
      "<itertools.islice object at 0x7f88830d19f8>\n"
     ]
    }
   ],
   "source": [
    "print(features) # bedtool object supports slices but it doesn't show"
   ]
  },
  {
   "cell_type": "code",
   "execution_count": 46,
   "metadata": {},
   "outputs": [
    {
     "name": "stdout",
     "output_type": "stream",
     "text": [
      "0.071\n",
      "1\n",
      "0.048\n",
      "1\n",
      "0.048\n",
      "1\n",
      "0.091\n",
      "1\n"
     ]
    }
   ],
   "source": [
    "features = m5c_hc_nano[0:4] # need to name features before each loop because the loop consumes the iterator\n",
    "for line in features:       # need a loop to view slice\n",
    "    print(line.score)\n",
    "    print(len(line))        # difference between start and stop"
   ]
  },
  {
   "cell_type": "code",
   "execution_count": 23,
   "metadata": {},
   "outputs": [
    {
     "data": {
      "text/plain": [
       "'hcontig_000_003'"
      ]
     },
     "execution_count": 23,
     "metadata": {},
     "output_type": "execute_result"
    }
   ],
   "source": [
    "feature.chrom # only for one line"
   ]
  },
  {
   "cell_type": "code",
   "execution_count": 48,
   "metadata": {},
   "outputs": [
    {
     "data": {
      "text/plain": [
       "'5mC'"
      ]
     },
     "execution_count": 48,
     "metadata": {},
     "output_type": "execute_result"
    }
   ],
   "source": [
    "feature.fields[3] # indexed column"
   ]
  },
  {
   "cell_type": "code",
   "execution_count": 33,
   "metadata": {},
   "outputs": [
    {
     "data": {
      "text/plain": [
       "1"
      ]
     },
     "execution_count": 33,
     "metadata": {},
     "output_type": "execute_result"
    }
   ],
   "source": [
    "len(feature)"
   ]
  },
  {
   "cell_type": "code",
   "execution_count": 58,
   "metadata": {},
   "outputs": [
    {
     "data": {
      "text/plain": [
       "[('ID', 'evm.model.hcontig_000_003.1'),\n",
       " ('Parent', 'evm.TU.hcontig_000_003.1'),\n",
       " ('locus_tag', 'Pst104E_15928')]"
      ]
     },
     "execution_count": 58,
     "metadata": {},
     "output_type": "execute_result"
    }
   ],
   "source": [
    "# viewing gff file attributes with bedtools\n",
    "interval = anno_ph_gff[1]\n",
    "sorted(interval.attrs.items())"
   ]
  },
  {
   "cell_type": "markdown",
   "metadata": {},
   "source": [
    "# <span style=\"color:mediumvioletred\"> Filtering. </span>"
   ]
  },
  {
   "cell_type": "code",
   "execution_count": null,
   "metadata": {},
   "outputs": [],
   "source": [
    "#input files were produced above\n",
    "\n",
    "#output files for trying to filter the tombo files\n",
    "hc_tombo_m5c = DIRS['BED_OUT'] = os.path.join(DIRS['BASE'], 'output', 'intersected_bed_files', '5mC_hc_tombo_sorted.bed')\n",
    "hc_tombo_m6a = DIRS['BED_OUT'] = os.path.join(DIRS['BASE'], 'output', 'intersected_bed_files', '6mA_hc_tombo_sorted.bed')"
   ]
  },
  {
   "cell_type": "code",
   "execution_count": 18,
   "metadata": {},
   "outputs": [],
   "source": [
    "# define function to filter\n",
    "def score_filter(feature, L):\n",
    "    \"Returns True if feature is longer than L\"\n",
    "    return float(feature.score) > L"
   ]
  },
  {
   "cell_type": "code",
   "execution_count": 22,
   "metadata": {},
   "outputs": [],
   "source": [
    "# filter out scores that are zero\n",
    "filtered_tombo_m5c = BED['5mC_tombo_sorted'].filter(score_filter, 0)\n",
    "filtered_tombo_m6a = BED['6mA_tombo_sorted'].filter(score_filter, 0)"
   ]
  },
  {
   "cell_type": "code",
   "execution_count": 20,
   "metadata": {},
   "outputs": [],
   "source": [
    "# try filtering again with the original (manually generated) bed files\n",
    "filtered_tombo_m5c = m5c_tombo.filter(score_filter, 0)"
   ]
  },
  {
   "cell_type": "code",
   "execution_count": 23,
   "metadata": {},
   "outputs": [
    {
     "data": {
      "text/plain": [
       "<BedTool(/home/anjuni/methylation_calling/pacbio/output/intersected_bed_files/5mC_hc_tombo_sorted.bed)>"
      ]
     },
     "execution_count": 23,
     "metadata": {},
     "output_type": "execute_result"
    }
   ],
   "source": [
    "filtered_tombo_m5c.saveas(hc_tombo_m5c)"
   ]
  },
  {
   "cell_type": "code",
   "execution_count": 24,
   "metadata": {},
   "outputs": [
    {
     "data": {
      "text/plain": [
       "<BedTool(/home/anjuni/methylation_calling/pacbio/output/intersected_bed_files/6mA_hc_tombo_sorted.bed)>"
      ]
     },
     "execution_count": 24,
     "metadata": {},
     "output_type": "execute_result"
    }
   ],
   "source": [
    "filtered_tombo_m6a.saveas(hc_tombo_m6a)"
   ]
  },
  {
   "cell_type": "code",
   "execution_count": 145,
   "metadata": {},
   "outputs": [
    {
     "data": {
      "text/plain": [
       "pybedtools.bedtool.BedTool"
      ]
     },
     "execution_count": 145,
     "metadata": {},
     "output_type": "execute_result"
    }
   ],
   "source": [
    "type(m5c_tombo)"
   ]
  },
  {
   "cell_type": "code",
   "execution_count": 107,
   "metadata": {},
   "outputs": [
    {
     "data": {
      "text/plain": [
       "pybedtools.bedtool.BedTool"
      ]
     },
     "execution_count": 107,
     "metadata": {},
     "output_type": "execute_result"
    }
   ],
   "source": [
    "type(m5c_hc_nano)"
   ]
  },
  {
   "cell_type": "markdown",
   "metadata": {},
   "source": [
    "# <span style=\"color:orchid\"> Each. </span>"
   ]
  },
  {
   "cell_type": "code",
   "execution_count": 193,
   "metadata": {},
   "outputs": [],
   "source": [
    "# applies a function to each line\n",
    "# use output = to save to a file as well\n",
    "# use u=true to to something else\n",
    "# try these out on example_file a and b"
   ]
  },
  {
   "cell_type": "code",
   "execution_count": 238,
   "metadata": {},
   "outputs": [
    {
     "name": "stdout",
     "output_type": "stream",
     "text": [
      "chr1\t1\t100\tfeature1\t0\t+\n",
      "chr1\t100\t200\tfeature2\t0\t+\n",
      "chr1\t150\t500\tfeature3\t0\t-\n",
      "chr1\t900\t950\tfeature4\t0\t+\n",
      " \n",
      " chr1\t155\t200\tfeature5\t0\t-\n",
      "chr1\t800\t901\tfeature6\t0\t+\n",
      "\n"
     ]
    }
   ],
   "source": [
    "print(a, '\\n', b)"
   ]
  },
  {
   "cell_type": "code",
   "execution_count": 239,
   "metadata": {},
   "outputs": [],
   "source": [
    "ab = a.intersect(b, u=True) # -u means show the full feature of A, not just the overlapping region"
   ]
  },
  {
   "cell_type": "code",
   "execution_count": 241,
   "metadata": {},
   "outputs": [
    {
     "name": "stdout",
     "output_type": "stream",
     "text": [
      "chr1\t100\t200\tfeature2\t0\t+\n",
      "chr1\t150\t500\tfeature3\t0\t-\n",
      "chr1\t900\t950\tfeature4\t0\t+\n",
      "\n"
     ]
    }
   ],
   "source": [
    "print(ab)"
   ]
  },
  {
   "cell_type": "code",
   "execution_count": 242,
   "metadata": {},
   "outputs": [],
   "source": [
    "ab = a.intersect(b) # by default, only the overlapping region is shown"
   ]
  },
  {
   "cell_type": "code",
   "execution_count": 243,
   "metadata": {},
   "outputs": [
    {
     "name": "stdout",
     "output_type": "stream",
     "text": [
      "chr1\t155\t200\tfeature2\t0\t+\n",
      "chr1\t155\t200\tfeature3\t0\t-\n",
      "chr1\t900\t901\tfeature4\t0\t+\n",
      "\n"
     ]
    }
   ],
   "source": [
    "print(ab)"
   ]
  },
  {
   "cell_type": "code",
   "execution_count": 244,
   "metadata": {},
   "outputs": [],
   "source": [
    "ab = a.intersect(b, c=True) # -c ads count column"
   ]
  },
  {
   "cell_type": "code",
   "execution_count": 245,
   "metadata": {},
   "outputs": [
    {
     "name": "stdout",
     "output_type": "stream",
     "text": [
      "chr1\t1\t100\tfeature1\t0\t+\t0\n",
      "chr1\t100\t200\tfeature2\t0\t+\t1\n",
      "chr1\t150\t500\tfeature3\t0\t-\t1\n",
      "chr1\t900\t950\tfeature4\t0\t+\t1\n",
      "\n"
     ]
    }
   ],
   "source": [
    "print(ab)"
   ]
  },
  {
   "cell_type": "code",
   "execution_count": 246,
   "metadata": {},
   "outputs": [],
   "source": [
    "ab = a.intersect(b, v=True) # like grep -v, -v gives non-overlapping features"
   ]
  },
  {
   "cell_type": "code",
   "execution_count": 247,
   "metadata": {},
   "outputs": [
    {
     "name": "stdout",
     "output_type": "stream",
     "text": [
      "chr1\t1\t100\tfeature1\t0\t+\n",
      "\n"
     ]
    }
   ],
   "source": [
    "print(ab)"
   ]
  },
  {
   "cell_type": "code",
   "execution_count": 248,
   "metadata": {},
   "outputs": [],
   "source": [
    "ab = a.intersect(b, s=True) # only matching strand features given"
   ]
  },
  {
   "cell_type": "code",
   "execution_count": 249,
   "metadata": {},
   "outputs": [
    {
     "name": "stdout",
     "output_type": "stream",
     "text": [
      "chr1\t155\t200\tfeature3\t0\t-\n",
      "chr1\t900\t901\tfeature4\t0\t+\n",
      "\n"
     ]
    }
   ],
   "source": [
    "print(ab)"
   ]
  },
  {
   "cell_type": "code",
   "execution_count": 250,
   "metadata": {},
   "outputs": [],
   "source": [
    "ab = a.intersect(b, S=True) # only opposite strand features given"
   ]
  },
  {
   "cell_type": "code",
   "execution_count": 251,
   "metadata": {},
   "outputs": [
    {
     "name": "stdout",
     "output_type": "stream",
     "text": [
      "chr1\t155\t200\tfeature2\t0\t+\n",
      "\n"
     ]
    }
   ],
   "source": [
    "print(ab)"
   ]
  },
  {
   "cell_type": "markdown",
   "metadata": {},
   "source": [
    "# <span style=\"color:fuchsia\"> Randomisation. </span>"
   ]
  },
  {
   "cell_type": "code",
   "execution_count": null,
   "metadata": {},
   "outputs": [],
   "source": [
    "# assigns a significance value to the overlap between two bed files\n",
    "# randomly shuffle a file many times, each time intersecting with another file and counting intersections.\n",
    "# overlap of original file is compared to empirical distribution of overlaps of shuffled files to get p-value"
   ]
  },
  {
   "cell_type": "code",
   "execution_count": 186,
   "metadata": {},
   "outputs": [],
   "source": [
    "chromsizes = {'chr1': (0, 1000)} # first, need to set chromosome sizes, so use reference genome fasta for this!\n",
    "a = pybedtools.example_bedtool('a.bed').set_chromsizes(chromsizes) # set the chromosome sizes for the first bed file\n",
    "b = pybedtools.example_bedtool('b.bed')"
   ]
  },
  {
   "cell_type": "code",
   "execution_count": 187,
   "metadata": {},
   "outputs": [
    {
     "name": "stdout",
     "output_type": "stream",
     "text": [
      "chr1\t1\t100\tfeature1\t0\t+\n",
      " chr1\t100\t200\tfeature2\t0\t+\n",
      " chr1\t150\t500\tfeature3\t0\t-\n",
      " chr1\t900\t950\tfeature4\t0\t+\n",
      " "
     ]
    }
   ],
   "source": [
    "a.head()"
   ]
  },
  {
   "cell_type": "code",
   "execution_count": 185,
   "metadata": {},
   "outputs": [
    {
     "name": "stdout",
     "output_type": "stream",
     "text": [
      "chr1\t155\t200\tfeature5\t0\t-\n",
      " chr1\t800\t901\tfeature6\t0\t+\n",
      " "
     ]
    }
   ],
   "source": [
    "b.head()"
   ]
  },
  {
   "cell_type": "code",
   "execution_count": 183,
   "metadata": {},
   "outputs": [
    {
     "data": {
      "text/plain": [
       "4"
      ]
     },
     "execution_count": 183,
     "metadata": {},
     "output_type": "execute_result"
    }
   ],
   "source": [
    "len(a)"
   ]
  },
  {
   "cell_type": "code",
   "execution_count": 184,
   "metadata": {},
   "outputs": [
    {
     "data": {
      "text/plain": [
       "2"
      ]
     },
     "execution_count": 184,
     "metadata": {},
     "output_type": "execute_result"
    }
   ],
   "source": [
    "len(b)"
   ]
  },
  {
   "cell_type": "code",
   "execution_count": 188,
   "metadata": {},
   "outputs": [],
   "source": [
    "results = a.randomintersection(b, iterations=100, shuffle_kwargs={'chrom': True}, debug=True) # set debug=False normally"
   ]
  },
  {
   "cell_type": "code",
   "execution_count": 189,
   "metadata": {},
   "outputs": [
    {
     "data": {
      "text/plain": [
       "100"
      ]
     },
     "execution_count": 189,
     "metadata": {},
     "output_type": "execute_result"
    }
   ],
   "source": [
    "results = list(results) # normally do 1000 or 10000 randomisations\n",
    "len(results)"
   ]
  },
  {
   "cell_type": "code",
   "execution_count": 190,
   "metadata": {},
   "outputs": [
    {
     "name": "stdout",
     "output_type": "stream",
     "text": [
      "[0, 3, 1, 1, 2, 2, 2, 1, 4, 2]\n"
     ]
    }
   ],
   "source": [
    "print(results[:10])"
   ]
  },
  {
   "cell_type": "code",
   "execution_count": 192,
   "metadata": {},
   "outputs": [],
   "source": [
    "results_dict = a.randomstats(b, iterations=100, shuffle_kwargs={'chrom': True}, debug=True)"
   ]
  },
  {
   "cell_type": "code",
   "execution_count": 195,
   "metadata": {},
   "outputs": [
    {
     "name": "stdout",
     "output_type": "stream",
     "text": [
      "{'/home/anjuni/anaconda3/lib/python3.6/site-packages/pybedtools/test/data/a.bed': 4,\n",
      " '/home/anjuni/anaconda3/lib/python3.6/site-packages/pybedtools/test/data/b.bed': 2,\n",
      " 'actual': 3,\n",
      " 'file_a': '/home/anjuni/anaconda3/lib/python3.6/site-packages/pybedtools/test/data/a.bed',\n",
      " 'file_b': '/home/anjuni/anaconda3/lib/python3.6/site-packages/pybedtools/test/data/b.bed',\n",
      " 'frac randomized above actual': 0.01,\n",
      " 'frac randomized below actual': 0.87,\n",
      " 'iterations': 100,\n",
      " 'lower_2.5th': 0.0,\n",
      " 'median randomized': 2.0,\n",
      " 'normalized': 1.5,\n",
      " 'other': 2,\n",
      " 'percentile': 93.5,\n",
      " 'self': 4,\n",
      " 'upper_97.5th': 3.0}\n"
     ]
    }
   ],
   "source": [
    "pprint.pprint(results_dict) # percentile of actual within the distribution percentiles gives the p-value, normalised is the score"
   ]
  },
  {
   "cell_type": "code",
   "execution_count": 196,
   "metadata": {},
   "outputs": [
    {
     "name": "stdout",
     "output_type": "stream",
     "text": [
      "self: 4\n",
      "other: 2\n",
      "actual: 3\n",
      "median randomized: 2.0\n",
      "normalized: 1.5\n",
      "percentile: 93.5\n"
     ]
    }
   ],
   "source": [
    "keys = ['self', 'other', 'actual', 'median randomized', 'normalized', 'percentile']\n",
    "for key in keys:\n",
    "    print('%s: %s' % (key, results_dict[key]))"
   ]
  },
  {
   "cell_type": "markdown",
   "metadata": {},
   "source": [
    "In practice, a comparison between two sets of features (say, two transcription factors) with 1000 randomizations will have an empirical p-value of < 0.001. That is, out of all the randomizations performed, every single one had fewer intersections than the original. Of course the resolution of the p-value is dependent on the number of randomizations: the lowest nonzero p-value for 10000 iterations will be 0.0001. Getting a non-zero p-value often requires doing more randomizations than is practical (several million to tens of millions).\n",
    "\n",
    "That's where the enrichment score comes in. The randomized intersections typically have a normal distribution, but just in case, we take the median of the randomized intersections and call this the background or control. Then we divide the actual intersections by this median to get an enrichment score.\n",
    "\n",
    "The advantage to using the enrichment score is that it gives nonzero scores for more fine-grained comparison among sets of features without performing impractical amounts of randomization. The first example of its usage that I'm aware of is Negre et al. (2010) PLoS Genet 6(1): e1000814, The downside of this metric is that the numbers are relative, and have their greatest utility for making biological conclusions when used in large matrices of pairwise comparisons.\n",
    "\n",
    "BedTool.randomintersection() and BedTool.randomstats() both use the intersection count method. That is, for each randomization the calculated metric is \"number of intersection events\". An alternative is to compute the Jaccard statistic on each iteration, as implemented in BedTool.naive_jaccard(). The Jaccard statistic (or Jaccard similarity) is the ratio of the intersection over the union, and is introduced in a genomic intersection context in Favorov et al. (2012) PLoS Comput Biol 8(5): e1002529. However, this still has the same p-value resolution limitation, so the actual-divided-by-median approach could be tried here as well."
   ]
  },
  {
   "cell_type": "markdown",
   "metadata": {},
   "source": [
    "# <span style=\"color:orange\"> History. </span>"
   ]
  },
  {
   "cell_type": "code",
   "execution_count": 199,
   "metadata": {},
   "outputs": [
    {
     "name": "stdout",
     "output_type": "stream",
     "text": [
      "[]\n"
     ]
    }
   ],
   "source": [
    "print(a.history) # use the tags given to find an instance of a bedtool, and the functions to recreate it"
   ]
  },
  {
   "cell_type": "code",
   "execution_count": 200,
   "metadata": {},
   "outputs": [],
   "source": [
    "a = pybedtools.example_bedtool('a.bed')\n",
    ">>> b = pybedtools.example_bedtool('b.bed')\n",
    ">>> c = a.intersect(b)\n",
    ">>> d = c.slop(g=pybedtools.chromsizes('hg19'), b=1)\n",
    ">>> e = d.merge()\n",
    "\n",
    ">>> # this step adds complexity!\n",
    ">>> f = e.subtract(b)"
   ]
  },
  {
   "cell_type": "code",
   "execution_count": 205,
   "metadata": {},
   "outputs": [],
   "source": [
    "h = f.history"
   ]
  },
  {
   "cell_type": "code",
   "execution_count": 217,
   "metadata": {},
   "outputs": [
    {
     "name": "stdout",
     "output_type": "stream",
     "text": [
      "[[[[<HistoryStep> BedTool(\"/home/anjuni/anaconda3/lib/python3.6/site-packages/pybedtools/test/data/a.bed\").intersect(\"/home/anjuni/anaconda3/lib/python3.6/site-packages/pybedtools/test/data/b.bed\", ), parent tag: olljamny, result tag: ildowzuw], <HistoryStep> BedTool(\"/tmp/pybedtools.50k6v2sp.tmp\").slop(g=OrderedDict([('chr1', (0, 249250621)), ('chr2', (0, 243199373)), ('chr3', (0, 198022430)), ('chr4', (0, 191154276)), ('chr5', (0, 180915260)), ('chr6', (0, 171115067)), ('chr7', (0, 159138663)), ('chr8', (0, 146364022)), ('chr9', (0, 141213431)), ('chr10', (0, 135534747)), ('chr11', (0, 135006516)), ('chr12', (0, 133851895)), ('chr13', (0, 115169878)), ('chr14', (0, 107349540)), ('chr15', (0, 102531392)), ('chr16', (0, 90354753)), ('chr17', (0, 81195210)), ('chr18', (0, 78077248)), ('chr19', (0, 59128983)), ('chr20', (0, 63025520)), ('chr21', (0, 48129895)), ('chr22', (0, 51304566)), ('chrX', (0, 155270560)), ('chrY', (0, 59373566)), ('chrM', (0, 16571)), ('chr6_ssto_hap7', (0, 4928567)), ('chr6_mcf_hap5', (0, 4833398)), ('chr6_cox_hap2', (0, 4795371)), ('chr6_mann_hap4', (0, 4683263)), ('chr6_apd_hap1', (0, 4622290)), ('chr6_qbl_hap6', (0, 4611984)), ('chr6_dbb_hap3', (0, 4610396)), ('chr17_ctg5_hap1', (0, 1680828)), ('chr4_ctg9_hap1', (0, 590426)), ('chr1_gl000192_random', (0, 547496)), ('chrUn_gl000225', (0, 211173)), ('chr4_gl000194_random', (0, 191469)), ('chr4_gl000193_random', (0, 189789)), ('chr9_gl000200_random', (0, 187035)), ('chrUn_gl000222', (0, 186861)), ('chrUn_gl000212', (0, 186858)), ('chr7_gl000195_random', (0, 182896)), ('chrUn_gl000223', (0, 180455)), ('chrUn_gl000224', (0, 179693)), ('chrUn_gl000219', (0, 179198)), ('chr17_gl000205_random', (0, 174588)), ('chrUn_gl000215', (0, 172545)), ('chrUn_gl000216', (0, 172294)), ('chrUn_gl000217', (0, 172149)), ('chr9_gl000199_random', (0, 169874)), ('chrUn_gl000211', (0, 166566)), ('chrUn_gl000213', (0, 164239)), ('chrUn_gl000220', (0, 161802)), ('chrUn_gl000218', (0, 161147)), ('chr19_gl000209_random', (0, 159169)), ('chrUn_gl000221', (0, 155397)), ('chrUn_gl000214', (0, 137718)), ('chrUn_gl000228', (0, 129120)), ('chrUn_gl000227', (0, 128374)), ('chr1_gl000191_random', (0, 106433)), ('chr19_gl000208_random', (0, 92689)), ('chr9_gl000198_random', (0, 90085)), ('chr17_gl000204_random', (0, 81310)), ('chrUn_gl000233', (0, 45941)), ('chrUn_gl000237', (0, 45867)), ('chrUn_gl000230', (0, 43691)), ('chrUn_gl000242', (0, 43523)), ('chrUn_gl000243', (0, 43341)), ('chrUn_gl000241', (0, 42152)), ('chrUn_gl000236', (0, 41934)), ('chrUn_gl000240', (0, 41933)), ('chr17_gl000206_random', (0, 41001)), ('chrUn_gl000232', (0, 40652)), ('chrUn_gl000234', (0, 40531)), ('chr11_gl000202_random', (0, 40103)), ('chrUn_gl000238', (0, 39939)), ('chrUn_gl000244', (0, 39929)), ('chrUn_gl000248', (0, 39786)), ('chr8_gl000196_random', (0, 38914)), ('chrUn_gl000249', (0, 38502)), ('chrUn_gl000246', (0, 38154)), ('chr17_gl000203_random', (0, 37498)), ('chr8_gl000197_random', (0, 37175)), ('chrUn_gl000245', (0, 36651)), ('chrUn_gl000247', (0, 36422)), ('chr9_gl000201_random', (0, 36148)), ('chrUn_gl000235', (0, 34474)), ('chrUn_gl000239', (0, 33824)), ('chr21_gl000210_random', (0, 27682)), ('chrUn_gl000231', (0, 27386)), ('chrUn_gl000229', (0, 19913)), ('chrUn_gl000226', (0, 15008)), ('chr18_gl000207_random', (0, 4262))]),b=1), parent tag: ildowzuw, result tag: jmerdczb], <HistoryStep> BedTool(\"/tmp/pybedtools.g6httepk.tmp\").merge(), parent tag: jmerdczb, result tag: jlokosbv], <HistoryStep> BedTool(\"/tmp/pybedtools.lgjwbu5h.tmp\").subtract(\"/home/anjuni/anaconda3/lib/python3.6/site-packages/pybedtools/test/data/b.bed\", ), parent tag: jlokosbv, result tag: qzcrzjoz]\n"
     ]
    }
   ],
   "source": [
    "print(h) # can't really see the steps separated"
   ]
  },
  {
   "cell_type": "markdown",
   "metadata": {},
   "source": [
    "# <span style=\"color:teal\"> Piping. </span>"
   ]
  },
  {
   "cell_type": "code",
   "execution_count": 229,
   "metadata": {},
   "outputs": [
    {
     "data": {
      "text/plain": [
       "True"
      ]
     },
     "execution_count": 229,
     "metadata": {},
     "output_type": "execute_result"
    }
   ],
   "source": [
    ">>> x1 = a.intersect(b, u=True)\n",
    ">>> x2 = x1.merge()\n",
    "\n",
    ">>> x3 = a.intersect(b, u=True).merge()\n",
    "\n",
    ">>> x2 == x3"
   ]
  },
  {
   "cell_type": "code",
   "execution_count": 230,
   "metadata": {},
   "outputs": [],
   "source": [
    "x4 = a.intersect(b, u=True).saveas('a-with-b.bed').merge().saveas('a-with-b-merged.bed')"
   ]
  },
  {
   "cell_type": "code",
   "execution_count": 236,
   "metadata": {},
   "outputs": [],
   "source": [
    ">>> x4 = a\\\n",
    "... .intersect(b, u=True)\\\n",
    "... .saveas('a-with-b.bed')\\\n",
    "... .merge()\\\n",
    "... .saveas('a-with-b-merged.bed')"
   ]
  },
  {
   "cell_type": "code",
   "execution_count": null,
   "metadata": {},
   "outputs": [],
   "source": []
  },
  {
   "cell_type": "code",
   "execution_count": 218,
   "metadata": {},
   "outputs": [
    {
     "data": {
      "text/plain": [
       "True"
      ]
     },
     "execution_count": 218,
     "metadata": {},
     "output_type": "execute_result"
    }
   ],
   "source": [
    ">>> x5 = a.intersect(b, u=True) # u only sets the actual parts of a that overlapped with a part of b\n",
    ">>> x6 = a + b                  # this part isn't relevant to methylation since its by each base\n",
    "                                # but it might be useful when comparing patterns of methylation...\n",
    ">>> x5 == x6"
   ]
  },
  {
   "cell_type": "code",
   "execution_count": 222,
   "metadata": {},
   "outputs": [
    {
     "data": {
      "text/plain": [
       "False"
      ]
     },
     "execution_count": 222,
     "metadata": {},
     "output_type": "execute_result"
    }
   ],
   "source": [
    "x0 = a.intersect(b)\n",
    "x5 == x0"
   ]
  },
  {
   "cell_type": "code",
   "execution_count": 223,
   "metadata": {},
   "outputs": [
    {
     "name": "stdout",
     "output_type": "stream",
     "text": [
      "chr1\t155\t200\tfeature2\t0\t+\n",
      " chr1\t155\t200\tfeature3\t0\t-\n",
      " chr1\t900\t901\tfeature4\t0\t+\n",
      " "
     ]
    }
   ],
   "source": [
    "x0.head()"
   ]
  },
  {
   "cell_type": "code",
   "execution_count": 221,
   "metadata": {},
   "outputs": [
    {
     "name": "stdout",
     "output_type": "stream",
     "text": [
      "chr1\t100\t200\tfeature2\t0\t+\n",
      " chr1\t150\t500\tfeature3\t0\t-\n",
      " chr1\t900\t950\tfeature4\t0\t+\n",
      " "
     ]
    }
   ],
   "source": [
    "x5.head()"
   ]
  },
  {
   "cell_type": "code",
   "execution_count": 224,
   "metadata": {},
   "outputs": [
    {
     "data": {
      "text/plain": [
       "True"
      ]
     },
     "execution_count": 224,
     "metadata": {},
     "output_type": "execute_result"
    }
   ],
   "source": [
    ">>> x7 = a.intersect(b, v=True) # v gives the full feature of a\n",
    ">>> x8 = a - b\n",
    "\n",
    ">>> x7 == x8"
   ]
  },
  {
   "cell_type": "code",
   "execution_count": 225,
   "metadata": {},
   "outputs": [],
   "source": [
    "x10 = a.intersect(b)"
   ]
  },
  {
   "cell_type": "code",
   "execution_count": 227,
   "metadata": {},
   "outputs": [
    {
     "name": "stdout",
     "output_type": "stream",
     "text": [
      "chr1\t155\t200\tfeature2\t0\t+\n",
      " chr1\t155\t200\tfeature3\t0\t-\n",
      " chr1\t900\t901\tfeature4\t0\t+\n",
      " "
     ]
    }
   ],
   "source": [
    "x10.head()"
   ]
  },
  {
   "cell_type": "code",
   "execution_count": 237,
   "metadata": {},
   "outputs": [
    {
     "data": {
      "text/plain": [
       "True"
      ]
     },
     "execution_count": 237,
     "metadata": {},
     "output_type": "execute_result"
    }
   ],
   "source": [
    "x9 = (a + b).merge()\n",
    "x2 == x3 == x4 == x9"
   ]
  },
  {
   "cell_type": "code",
   "execution_count": null,
   "metadata": {},
   "outputs": [],
   "source": [
    "# have a look at a.window_maker and a.window"
   ]
  }
 ],
 "metadata": {
  "kernelspec": {
   "display_name": "Python 3",
   "language": "python",
   "name": "python3"
  },
  "language_info": {
   "codemirror_mode": {
    "name": "ipython",
    "version": 3
   },
   "file_extension": ".py",
   "mimetype": "text/x-python",
   "name": "python",
   "nbconvert_exporter": "python",
   "pygments_lexer": "ipython3",
   "version": "3.6.4"
  }
 },
 "nbformat": 4,
 "nbformat_minor": 2
}
