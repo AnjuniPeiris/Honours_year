{
 "cells": [
  {
   "cell_type": "markdown",
   "metadata": {},
   "source": [
    "# <span style=\"color:#ff1414\"> BEDtools analysis. </span>\n",
    "\n",
    "This is a script to answer research questions outlined elsewhere. In summary, this script:\n",
    "\n",
    "1. compares methylation results between different methylation-callers, and between different methylation sequencing methods.\n",
    "\n",
    "2. compares methylation between genes and non-gene regions\n",
    "\n",
    "3. compares methylation between transposons and non-repetitive regions\n",
    "\n",
    "4. compares transposons and genes\n",
    "\n",
    "\n",
    "Note:\n",
    "- PB/pb = PacBio\n",
    "- ONT/ont = Oxford Nanopore Technology\n",
    "- NP = Nanopolish"
   ]
  },
  {
   "cell_type": "code",
   "execution_count": 14,
   "metadata": {},
   "outputs": [],
   "source": [
    "import pybedtools\n",
    "from pybedtools import BedTool\n",
    "import os\n",
    "import glob\n",
    "import pprint\n",
    "import numpy # need for p-value stats\n",
    "import scipy"
   ]
  },
  {
   "cell_type": "code",
   "execution_count": 18,
   "metadata": {},
   "outputs": [],
   "source": [
    "#First we need to define the base dirs\n",
    "DIRS ={}\n",
    "DIRS['BASE1'] = '/home/anjuni/methylation_calling/pacbio'\n",
    "DIRS['BASE2'] = '/home/anjuni/analysis'\n",
    "DIRS['BED_INPUT'] = os.path.join(DIRS['BASE2'], 'bedtools_output', 'sequencing_comparison')\n",
    "DIRS['GFF_INPUT'] = os.path.join(DIRS['BASE2'], 'gff_output')\n",
    "DIRS['WINDOW_OUTPUT'] = os.path.join(DIRS['BASE2'], 'windows')"
   ]
  },
  {
   "cell_type": "code",
   "execution_count": 6,
   "metadata": {},
   "outputs": [],
   "source": [
    "#Quick chech if directories exist\n",
    "for value in DIRS.values():\n",
    "    if not os.path.exists(value):\n",
    "        print('%s does not exist' % value)"
   ]
  },
  {
   "cell_type": "code",
   "execution_count": 8,
   "metadata": {},
   "outputs": [],
   "source": [
    "#Make filepaths\n",
    "bed_file_list = [fn for fn in glob.iglob('%s/*.bed' % DIRS['BED_INPUT'], recursive=True)]\n",
    "gff_file_list = [fn for fn in glob.iglob('%s/*anno.gff3' % DIRS['GFF_INPUT'], recursive=True)]\n",
    "te_file_list = [fn for fn in glob.iglob('%s/*.gff' % DIRS['GFF_INPUT'], recursive=True)]"
   ]
  },
  {
   "cell_type": "code",
   "execution_count": 9,
   "metadata": {
    "collapsed": true
   },
   "outputs": [
    {
     "name": "stdout",
     "output_type": "stream",
     "text": [
      "/home/anjuni/methylation_calling/pacbio/input/sorted_bed_files/filtered_bed/6mA_tombo_sorted.cutoff.0.5.bed\n",
      "/home/anjuni/methylation_calling/pacbio/input/sorted_bed_files/filtered_bed/5mC_tombo_sorted.cutoff.0.4.bed\n",
      "/home/anjuni/methylation_calling/pacbio/input/sorted_bed_files/filtered_bed/6mA_tombo_sorted.cutoff.0.6.bed\n",
      "/home/anjuni/methylation_calling/pacbio/input/sorted_bed_files/filtered_bed/6mA_prob_smrtlink_sorted.cutoff.0.95.bed\n",
      "/home/anjuni/methylation_calling/pacbio/input/sorted_bed_files/filtered_bed/5mC_nanopolish_sorted.cutoff.1.bed\n",
      "/home/anjuni/methylation_calling/pacbio/input/sorted_bed_files/filtered_bed/5mC_tombo_sorted.cutoff.0.2.bed\n",
      "/home/anjuni/methylation_calling/pacbio/input/sorted_bed_files/filtered_bed/5mC_nanopolish_sorted.cutoff.0.9.bed\n",
      "/home/anjuni/methylation_calling/pacbio/input/sorted_bed_files/filtered_bed/5mC_tombo_sorted.cutoff.1.bed\n",
      "/home/anjuni/methylation_calling/pacbio/input/sorted_bed_files/filtered_bed/5mC_nanopolish_sorted.cutoff.0.4.bed\n",
      "/home/anjuni/methylation_calling/pacbio/input/sorted_bed_files/filtered_bed/6mA_prob_smrtlink_sorted.cutoff.0.6.bed\n",
      "/home/anjuni/methylation_calling/pacbio/input/sorted_bed_files/filtered_bed/6mA_tombo_sorted.cutoff.0.95.bed\n",
      "/home/anjuni/methylation_calling/pacbio/input/sorted_bed_files/filtered_bed/5mC_tombo_sorted.cutoff.0.5.bed\n",
      "/home/anjuni/methylation_calling/pacbio/input/sorted_bed_files/filtered_bed/5mC_nanopolish_sorted.cutoff.0.8.bed\n",
      "/home/anjuni/methylation_calling/pacbio/input/sorted_bed_files/filtered_bed/6mA_tombo_sorted.cutoff.0.9.bed\n",
      "/home/anjuni/methylation_calling/pacbio/input/sorted_bed_files/filtered_bed/6mA_prob_smrtlink_sorted.cutoff.0.8.bed\n",
      "/home/anjuni/methylation_calling/pacbio/input/sorted_bed_files/filtered_bed/5mC_nanopolish_sorted.cutoff.0.1.bed\n",
      "/home/anjuni/methylation_calling/pacbio/input/sorted_bed_files/filtered_bed/6mA_prob_smrtlink_sorted.cutoff.0.9.bed\n",
      "/home/anjuni/methylation_calling/pacbio/input/sorted_bed_files/filtered_bed/5mC_tombo_sorted.cutoff.0.95.bed\n",
      "/home/anjuni/methylation_calling/pacbio/input/sorted_bed_files/filtered_bed/6mA_prob_smrtlink_sorted.cutoff.0.2.bed\n",
      "/home/anjuni/methylation_calling/pacbio/input/sorted_bed_files/filtered_bed/5mC_nanopolish_sorted.cutoff.0.5.bed\n",
      "/home/anjuni/methylation_calling/pacbio/input/sorted_bed_files/filtered_bed/6mA_prob_smrtlink_sorted.cutoff.0.1.bed\n",
      "/home/anjuni/methylation_calling/pacbio/input/sorted_bed_files/filtered_bed/5mC_tombo_sorted.cutoff.0.8.bed\n",
      "/home/anjuni/methylation_calling/pacbio/input/sorted_bed_files/filtered_bed/5mC_tombo_sorted.cutoff.0.7.bed\n",
      "/home/anjuni/methylation_calling/pacbio/input/sorted_bed_files/filtered_bed/5mC_nanopolish_sorted.cutoff.0.7.bed\n",
      "/home/anjuni/methylation_calling/pacbio/input/sorted_bed_files/filtered_bed/5mC_nanopolish_sorted.cutoff.0.99.bed\n",
      "/home/anjuni/methylation_calling/pacbio/input/sorted_bed_files/filtered_bed/6mA_tombo_sorted.cutoff.0.7.bed\n",
      "/home/anjuni/methylation_calling/pacbio/input/sorted_bed_files/filtered_bed/6mA_tombo_sorted.cutoff.0.8.bed\n",
      "/home/anjuni/methylation_calling/pacbio/input/sorted_bed_files/filtered_bed/5mC_tombo_sorted.cutoff.0.99.bed\n",
      "/home/anjuni/methylation_calling/pacbio/input/sorted_bed_files/filtered_bed/6mA_tombo_sorted.cutoff.0.2.bed\n",
      "/home/anjuni/methylation_calling/pacbio/input/sorted_bed_files/filtered_bed/5mC_tombo_sorted.cutoff.0.6.bed\n",
      "/home/anjuni/methylation_calling/pacbio/input/sorted_bed_files/filtered_bed/5mC_nanopolish_sorted.cutoff.0.95.bed\n",
      "/home/anjuni/methylation_calling/pacbio/input/sorted_bed_files/filtered_bed/5mC_nanopolish_sorted.cutoff.0.2.bed\n",
      "/home/anjuni/methylation_calling/pacbio/input/sorted_bed_files/filtered_bed/5mC_tombo_sorted.cutoff.0.9.bed\n",
      "/home/anjuni/methylation_calling/pacbio/input/sorted_bed_files/filtered_bed/5mC_tombo_sorted.cutoff.0.3.bed\n",
      "/home/anjuni/methylation_calling/pacbio/input/sorted_bed_files/filtered_bed/6mA_prob_smrtlink_sorted.cutoff.0.4.bed\n",
      "/home/anjuni/methylation_calling/pacbio/input/sorted_bed_files/filtered_bed/6mA_tombo_sorted.cutoff.1.bed\n",
      "/home/anjuni/methylation_calling/pacbio/input/sorted_bed_files/filtered_bed/6mA_prob_smrtlink_sorted.cutoff.0.7.bed\n",
      "/home/anjuni/methylation_calling/pacbio/input/sorted_bed_files/filtered_bed/6mA_tombo_sorted.cutoff.0.99.bed\n",
      "/home/anjuni/methylation_calling/pacbio/input/sorted_bed_files/filtered_bed/5mC_tombo_sorted.cutoff.0.1.bed\n",
      "/home/anjuni/methylation_calling/pacbio/input/sorted_bed_files/filtered_bed/6mA_prob_smrtlink_sorted.cutoff.0.99.bed\n",
      "/home/anjuni/methylation_calling/pacbio/input/sorted_bed_files/filtered_bed/6mA_prob_smrtlink_sorted.cutoff.0.5.bed\n",
      "/home/anjuni/methylation_calling/pacbio/input/sorted_bed_files/filtered_bed/6mA_tombo_sorted.cutoff.0.4.bed\n",
      "/home/anjuni/methylation_calling/pacbio/input/sorted_bed_files/filtered_bed/6mA_tombo_sorted.cutoff.0.1.bed\n",
      "/home/anjuni/methylation_calling/pacbio/input/sorted_bed_files/filtered_bed/5mC_nanopolish_sorted.cutoff.0.6.bed\n",
      "/home/anjuni/methylation_calling/pacbio/input/sorted_bed_files/filtered_bed/5mC_nanopolish_sorted.cutoff.0.3.bed\n",
      "/home/anjuni/methylation_calling/pacbio/input/sorted_bed_files/filtered_bed/6mA_prob_smrtlink_sorted.cutoff.0.3.bed\n",
      "/home/anjuni/methylation_calling/pacbio/input/sorted_bed_files/filtered_bed/6mA_prob_smrtlink_sorted.cutoff.1.bed\n",
      "/home/anjuni/methylation_calling/pacbio/input/sorted_bed_files/filtered_bed/6mA_tombo_sorted.cutoff.0.3.bed\n",
      "/home/anjuni/analysis/gff_output/Pst_104E_v13_ph_ctg_combined_sorted_anno.gff3\n",
      "/home/anjuni/analysis/gff_output/Pst_104E_v13_p_ctg_combined_sorted_anno.gff3\n",
      "/home/anjuni/analysis/gff_output/Pst_104E_v13_h_ctg_combined_sorted_anno.gff3\n",
      "/home/anjuni/analysis/gff_output/Pst_104E_v13_h_ctg.REPET.sorted.filtered.superfamily.gff\n",
      "/home/anjuni/analysis/gff_output/Pst_104E_v13_p_ctg.REPET.sorted.filtered.superfamily.gff\n",
      "/home/anjuni/analysis/gff_output/Pst_104E_v13_ph_ctg.REPET.sorted.filtered.superfamily.gff\n"
     ]
    }
   ],
   "source": [
    "#Check that the list works\n",
    "print(*bed_file_list, sep='\\n')\n",
    "print(*gff_file_list, sep='\\n')\n",
    "print(*te_file_list, sep='\\n')"
   ]
  },
  {
   "cell_type": "markdown",
   "metadata": {},
   "source": [
    "## <span style='color:deeppink'> 1. Comparing methylation sequencing methods <span/>"
   ]
  },
  {
   "cell_type": "code",
   "execution_count": 8,
   "metadata": {},
   "outputs": [
    {
     "name": "stdout",
     "output_type": "stream",
     "text": [
      "/home/anjuni/methylation_calling/pacbio/input/sorted_bed_files/6mA_prob_smrtlink_sorted.bed\n",
      "/home/anjuni/methylation_calling/pacbio/input/sorted_bed_files/6mA_hc_tombo_sorted.bed\n"
     ]
    }
   ],
   "source": [
    "%%bash\n",
    "\n",
    "# find overlap between 6mA from PacBio and Nanopore for 6mA data\n",
    "\n",
    "pb=/home/anjuni/methylation_calling/pacbio/input/sorted_bed_files/6mA_prob_smrtlink_sorted.bed # use basecall accuracy instead of Phred score\n",
    "ont=/home/anjuni/methylation_calling/pacbio/input/sorted_bed_files/6mA_hc_tombo_sorted.bed # use sites with non-zero methylation\n",
    "\n",
    "out1=/home/anjuni/analysis/bedtools_output/sequencing_comparison/6mA_pb_ont.bed\n",
    "out2=/home/anjuni/analysis/bedtools_output/sequencing_comparison/6mA_ont_pb.bed\n",
    "\n",
    "echo $pb\n",
    "echo $ont\n",
    "\n",
    "bedtools intersect -a $pb -b $ont > $out1\n",
    "bedtools intersect -a $ont -b $pb > $out2"
   ]
  },
  {
   "cell_type": "code",
   "execution_count": 12,
   "metadata": {},
   "outputs": [
    {
     "name": "stdout",
     "output_type": "stream",
     "text": [
      "PacBio sites:\n",
      "88932\n",
      "Overlapping sites:\n",
      "84733\n",
      "Nanopore sites:\n",
      "83451878\n",
      "Overlapping sites:\n",
      "84733\n",
      "Total adenine sites:\n",
      "85779879\n"
     ]
    }
   ],
   "source": [
    "%%bash\n",
    "\n",
    "#check how many overlapping sites there were\n",
    "\n",
    "cd /home/anjuni/analysis/bedtools_output/sequencing_comparison/\n",
    "echo PacBio sites:\n",
    "less /home/anjuni/methylation_calling/pacbio/input/sorted_bed_files/6mA_prob_smrtlink_sorted.bed | wc -l\n",
    "\n",
    "echo Overlapping sites:\n",
    "less 6mA_pb_ont.bed | wc -l\n",
    "\n",
    "echo Nanopore sites:\n",
    "less /home/anjuni/methylation_calling/pacbio/input/sorted_bed_files/6mA_hc_tombo_sorted.bed | wc -l\n",
    "\n",
    "echo Overlapping sites:\n",
    "less 6mA_ont_pb.bed | wc -l\n",
    "\n",
    "echo Total adenine sites:\n",
    "less /home/anjuni/methylation_calling/pacbio/input/sorted_bed_files/6mA_tombo_sorted.bed | wc -l"
   ]
  },
  {
   "cell_type": "code",
   "execution_count": 27,
   "metadata": {},
   "outputs": [
    {
     "name": "stdout",
     "output_type": "stream",
     "text": [
      "Percentage overlap between PacBio and Nanopore as a proportion of PB sites: 0.9527841496874017\n",
      "Percentage overlap between PacBio and Nanopore as a proportation of ONT sites: 0.0010153516257596982\n",
      "Percentage adenine methylation: 0.0009877957510292129\n"
     ]
    }
   ],
   "source": [
    "# Descriptive Statistics\n",
    "\n",
    "print('Percentage overlap between PacBio and Nanopore as a proportion of PB sites:', (84733/88932))\n",
    "# overlap between pb and ont, divided by total PacBio sites\n",
    "\n",
    "print('Percentage overlap between PacBio and Nanopore as a proportation of ONT sites:', (84733/83451878))\n",
    "# = overlap between pb and ont, divided by total Nanopore sites\n",
    "\n",
    "print('Percentage adenine methylation:', (84733/85779879))\n",
    "# = overlapping sites, divided by total number of adenines (gained from number of lines on tombo file. tombo counts all adenines)"
   ]
  },
  {
   "cell_type": "markdown",
   "metadata": {},
   "source": [
    "#### <span style='color:deeppink'> Observations <span/>\n",
    "\n",
    "Very high similarity between Nanopore and PacBio, when compared to PacBio. But PacBio sites are only a small fraction of Tombo sites, and only include highly accurate sites.\n",
    "\n",
    "When overlapping PacBio and all Nanopore (Tombo) sites, there was a higher overlap (88932) than when overlapping only non-zero PB and ONT sites (84733). This indicates PB detected sites that Nanopore did not, and these were high probability sites that were missed, as PB only had high probability (>99% basecall accuracy) sites.\n",
    "\n",
    "There are also more overlapped sites when using the zero-probability sites from tombo, compared to only using only high confidence sites from both. This also suggests that Tombo/Nanopore had missed some methylated sites."
   ]
  },
  {
   "cell_type": "markdown",
   "metadata": {},
   "source": [
    "## <span style='color:#ff14ff'> 2. Comparing methylation detection methods <span/>"
   ]
  },
  {
   "cell_type": "code",
   "execution_count": 3,
   "metadata": {},
   "outputs": [
    {
     "name": "stdout",
     "output_type": "stream",
     "text": [
      "/home/anjuni/methylation_calling/pacbio/input/sorted_bed_files/5mC_hc_nanopolish_sorted.bed\n",
      "/home/anjuni/methylation_calling/pacbio/input/sorted_bed_files/5mC_hc_tombo_sorted.bed\n"
     ]
    }
   ],
   "source": [
    "%%bash\n",
    "\n",
    "# compare overlap between Tombo and Nanopolish for 5mC data\n",
    "np=/home/anjuni/methylation_calling/pacbio/input/sorted_bed_files/5mC_hc_nanopolish_sorted.bed\n",
    "tombo=/home/anjuni/methylation_calling/pacbio/input/sorted_bed_files/5mC_hc_tombo_sorted.bed\n",
    "\n",
    "out1=/home/anjuni/analysis/bedtools_output/sequencing_comparison/5mC_np_tombo.bed\n",
    "out2=/home/anjuni/analysis/bedtools_output/sequencing_comparison/5mC_tombo_np.bed\n",
    "\n",
    "echo $np\n",
    "echo $tombo\n",
    "\n",
    "bedtools intersect -a $np -b $tombo > $out1\n",
    "bedtools intersect -a $tombo -b $np > $out2"
   ]
  },
  {
   "cell_type": "code",
   "execution_count": 5,
   "metadata": {},
   "outputs": [
    {
     "name": "stdout",
     "output_type": "stream",
     "text": [
      "Nanopolish sites:\n",
      "3783438\n",
      "Overlapping sites:\n",
      "1681653\n",
      "Tombo sites:\n",
      "67308386\n",
      "Overlapping sites:\n",
      "1681653\n",
      "Total cytosine sites:\n",
      "68536018\n",
      "Total CpG sites:\n",
      "5302131\n"
     ]
    }
   ],
   "source": [
    "%%bash\n",
    "\n",
    "#check how many overlapping sites there were\n",
    "\n",
    "cd /home/anjuni/analysis/bedtools_output/sequencing_comparison/\n",
    "\n",
    "echo Nanopolish sites:\n",
    "less /home/anjuni/methylation_calling/pacbio/input/sorted_bed_files/5mC_hc_nanopolish_sorted.bed | wc -l\n",
    "\n",
    "echo Overlapping sites:\n",
    "less 5mC_np_tombo.bed | wc -l\n",
    "\n",
    "echo Tombo sites:\n",
    "less /home/anjuni/methylation_calling/pacbio/input/sorted_bed_files/5mC_hc_tombo_sorted.bed | wc -l\n",
    "\n",
    "echo Overlapping sites:\n",
    "less 5mC_tombo_np.bed | wc -l\n",
    "\n",
    "echo Total cytosine sites:\n",
    "less /home/anjuni/methylation_calling/pacbio/input/sorted_bed_files/5mC_tombo_sorted.bed | wc -l\n",
    "\n",
    "echo Total CpG sites:\n",
    "less /home/anjuni/methylation_calling/pacbio/input/sorted_bed_files/5mC_nanopolish_sorted.bed | wc -l"
   ]
  },
  {
   "cell_type": "code",
   "execution_count": 14,
   "metadata": {},
   "outputs": [
    {
     "name": "stdout",
     "output_type": "stream",
     "text": [
      "Percentage overlap between Nanopolish and Tombo as a proportion of NP sites: 0.4444774831779984\n",
      "Percentage overlap between Nanopolish and Tombo as a proportation of Tombo sites: 0.02498430136179465\n",
      "Percentage cytosine methylation: 0.02453677714395371\n",
      "Percentage of CpG sites methylated: 0.3171654944021564\n"
     ]
    }
   ],
   "source": [
    "# Descriptive Statistics\n",
    "\n",
    "print('Percentage overlap between Nanopolish and Tombo as a proportion of NP sites:', (1681653/3783438))\n",
    "# overlap between np and tombo, divided by total NP sites\n",
    "\n",
    "print('Percentage overlap between Nanopolish and Tombo as a proportation of Tombo sites:', (1681653/67308386))\n",
    "# = overlap between np and tombo, divided by total Tombo sites\n",
    "\n",
    "print('Percentage cytosine methylation:', (1681653/68536018))\n",
    "# = overlapping sites, divided by total number of cytosines (gained from number of lines on tombo file. tombo counts all cytosines)\n",
    "\n",
    "print('Percentage of CpG sites methylated:', (1681653/5302131))\n",
    "# = overlapping sites, divided by total number of CpG sites (gained from number of lines on np file. np counts all cpg sites)"
   ]
  },
  {
   "cell_type": "markdown",
   "metadata": {},
   "source": [
    "#### <span style='color:#ff14ff'> Observations <span/>\n",
    "While adenine methylation had high similarity between ONT and PB, cytosine methylation had only 44% similarity between NP and tombo. This is likely because NP only has CpG sites, and Tombo has all cytosine sites, so Tombo will detect far more potentially methylated sites, even those that are not CpG sites, so it will have far more sites than NP to begin with."
   ]
  },
  {
   "cell_type": "code",
   "execution_count": 24,
   "metadata": {},
   "outputs": [
    {
     "name": "stdout",
     "output_type": "stream",
     "text": [
      "CpG sites:\n",
      "5302131\n",
      "Cytosine sites:\n",
      "68536018\n"
     ]
    }
   ],
   "source": [
    "%%bash\n",
    "\n",
    "#check how many cytosine sites and CpG sites there are\n",
    "\n",
    "cd /home/anjuni/methylation_calling/pacbio/input/sorted_bed_files/\n",
    "\n",
    "echo CpG sites:\n",
    "less 5mC_nanopolish_sorted.bed | wc -l\n",
    "\n",
    "echo Cytosine sites:\n",
    "less 5mC_tombo_sorted.bed | wc -l"
   ]
  },
  {
   "cell_type": "code",
   "execution_count": 23,
   "metadata": {},
   "outputs": [
    {
     "name": "stdout",
     "output_type": "stream",
     "text": [
      "Percentage of CpG sites as a proportion of cytosine sites: 0.07736269416761271\n"
     ]
    }
   ],
   "source": [
    "# Descriptive Statistics\n",
    "\n",
    "print('Percentage of CpG sites as a proportion of cytosine sites:', (5302131/68536018))\n",
    "# np sites divided by tombo sites"
   ]
  },
  {
   "cell_type": "markdown",
   "metadata": {},
   "source": [
    "#### <span style='color:#ff14ff'> Solution <span/>\n",
    "1. Make a file of methylated CpG sites detected by Tombo.\n",
    "2. Intersect this with methylated (CpG) sites detected by Nanopolish.\n",
    "\n",
    "I will be overlapping CpG sites from Tombo and NP, because NP only has CpG sites and Tombo has all cytosine sites.\n",
    "So from the start, the overlap wouldn't have been accurate, because tombo considers sites that NP does not."
   ]
  },
  {
   "cell_type": "markdown",
   "metadata": {},
   "source": [
    "### <span style='color:#ff14ff'> CpG Sites <span/>"
   ]
  },
  {
   "cell_type": "code",
   "execution_count": 39,
   "metadata": {},
   "outputs": [],
   "source": [
    "%%bash\n",
    "\n",
    "# make a file of CpG sites from tombo\n",
    "all_cpg=/home/anjuni/methylation_calling/pacbio/input/sorted_bed_files/5mC_nanopolish_sorted.bed\n",
    "all_tombo=/home/anjuni/methylation_calling/pacbio/input/sorted_bed_files/5mC_hc_tombo_sorted.bed\n",
    "tombo_cpg=/home/anjuni/methylation_calling/pacbio/input/sorted_bed_files/5mC_hc_tombo_sorted.CpG.bed\n",
    "\n",
    "bedtools intersect -a $all_cpg -b $all_tombo > $tombo_cpg"
   ]
  },
  {
   "cell_type": "code",
   "execution_count": 19,
   "metadata": {},
   "outputs": [],
   "source": [
    "%%bash\n",
    "\n",
    "# intersect Tombo and NP CpG sites\n",
    "tombo_cpg=/home/anjuni/methylation_calling/pacbio/input/sorted_bed_files/5mC_hc_tombo_sorted.CpG.bed\n",
    "np_cpg=/home/anjuni/methylation_calling/pacbio/input/sorted_bed_files/5mC_hc_nanopolish_sorted.bed\n",
    "m_tombo_cpg=/home/anjuni/analysis/bedtools_output/sequencing_comparison/5mC_CpG_tombo_np.bed\n",
    "m_np_cpg=/home/anjuni/analysis/bedtools_output/sequencing_comparison/5mC_CpG_np_tombo.bed\n",
    "\n",
    "bedtools intersect -a $tombo_cpg -b $np_cpg > $m_tombo_cpg\n",
    "bedtools intersect -a $np_cpg -b $tombo_cpg > $m_np_cpg"
   ]
  },
  {
   "cell_type": "code",
   "execution_count": 8,
   "metadata": {},
   "outputs": [
    {
     "name": "stdout",
     "output_type": "stream",
     "text": [
      "Nanopolish methylated CpG sites:\n",
      "3783438\n",
      "Tombo methylated CpG sites:\n",
      "2352724\n",
      "Overlapping methylated CpG sites:\n",
      "1681653\n",
      "Total CpG sites:\n",
      "5302131\n"
     ]
    }
   ],
   "source": [
    "%%bash\n",
    "\n",
    "#check how many overlapping sites there were\n",
    "cd /home/anjuni/analysis/bedtools_output/sequencing_comparison/\n",
    "\n",
    "echo Nanopolish methylated CpG sites:\n",
    "less /home/anjuni/methylation_calling/pacbio/input/sorted_bed_files/5mC_hc_nanopolish_sorted.bed | wc -l\n",
    "\n",
    "echo Tombo methylated CpG sites:\n",
    "less /home/anjuni/methylation_calling/pacbio/input/sorted_bed_files/5mC_hc_tombo_sorted.CpG.bed | wc -l\n",
    "\n",
    "echo Overlapping methylated CpG sites:\n",
    "less 5mC_CpG_tombo_np.bed | wc -l\n",
    "\n",
    "echo Total CpG sites:\n",
    "less /home/anjuni/methylation_calling/pacbio/input/sorted_bed_files/5mC_nanopolish_sorted.bed | wc -l"
   ]
  },
  {
   "cell_type": "code",
   "execution_count": 9,
   "metadata": {},
   "outputs": [
    {
     "name": "stdout",
     "output_type": "stream",
     "text": [
      "Percentage overlap between Nanopolish and Tombo as a proportion of NP sites: 0.4444774831779984\n",
      "Percentage overlap between Nanopolish and Tombo as a proportation of Tombo sites: 0.7147684981323776\n",
      "Percentage of CpG sites methylated: 0.3171654944021564\n"
     ]
    }
   ],
   "source": [
    "# Descriptive Statistics\n",
    "\n",
    "print('Percentage overlap between Nanopolish and Tombo as a proportion of NP sites:', (1681653/3783438))\n",
    "# overlap between np and tombo, divided by total NP sites\n",
    "\n",
    "print('Percentage overlap between Nanopolish and Tombo as a proportation of Tombo sites:', (1681653/2352724))\n",
    "# = overlap between np and tombo, divided by total Tombo sites\n",
    "\n",
    "print('Percentage of CpG sites methylated:', (1681653/5302131))\n",
    "# = overlapping sites, divided by total number of CpG sites (gained from number of lines on np file. np counts all cpg sites)"
   ]
  },
  {
   "cell_type": "markdown",
   "metadata": {},
   "source": [
    "#### <span style='color:#ff14ff'> Observations <span/>\n",
    "While the overlap between Tombo and NP didn't change after only comparing CpG sites, the nearly 50% overlap may be because NP only considers one strand while Tomb considers both.\n",
    "\n",
    "This may be resolved by using only the plus file from Tombo and comparing its results to NP."
   ]
  },
  {
   "cell_type": "markdown",
   "metadata": {},
   "source": [
    "#### <span style='color:#ff14ff'> insert diagram: venn diagram of naopolish CpG and tombo CpG <span/>"
   ]
  },
  {
   "cell_type": "markdown",
   "metadata": {},
   "source": [
    "## <span style='color:#8a14ff'> 3. Making cutoff files. <span/>"
   ]
  },
  {
   "cell_type": "markdown",
   "metadata": {},
   "source": [
    "### <span style='color:#8a14ff'> 3.A Making cutoff files for overlapping files from previous section. <span/>"
   ]
  },
  {
   "cell_type": "code",
   "execution_count": null,
   "metadata": {},
   "outputs": [],
   "source": [
    "%%bash\n",
    "\n",
    "#Move the tombo hc file to the 'sequencing_comparison' folder with the other overlapped files to continue analysis\n",
    "cp 5mC_hc_tombo_sorted.bed ~/analysis/bedtools_output/sequencing_comparison/"
   ]
  },
  {
   "cell_type": "code",
   "execution_count": 35,
   "metadata": {},
   "outputs": [],
   "source": [
    "#Make filepaths for both 6mA files, both CpG files, and the tombo file\n",
    "bed_file_list = ['/home/anjuni/analysis/bedtools_output/sequencing_comparison/6mA_ont_pb.bed', \\\n",
    "                 '/home/anjuni/analysis/bedtools_output/sequencing_comparison/6mA_pb_ont.bed', \\\n",
    "                 '/home/anjuni/analysis/bedtools_output/sequencing_comparison/5mC_CpG_tombo_np.bed', \\\n",
    "                 '/home/anjuni/analysis/bedtools_output/sequencing_comparison/5mC_CpG_np_tombo.bed', \\\n",
    "                 '/home/anjuni/analysis/bedtools_output/sequencing_comparison/5mC_hc_tombo_sorted.bed']"
   ]
  },
  {
   "cell_type": "code",
   "execution_count": 36,
   "metadata": {},
   "outputs": [],
   "source": [
    "# Make the list of cutoffs\n",
    "cutoff_list = [1.00, 0.99, 0.95, 0.90, 0.80, 0.70, 0.60, 0.50, 0.40, 0.30, 0.20, 0.10]"
   ]
  },
  {
   "cell_type": "code",
   "execution_count": 42,
   "metadata": {},
   "outputs": [],
   "source": [
    "# Define function to filter\n",
    "def score_filter(feature, L):\n",
    "    \"\"\"Returns True if feature is longer than L\"\"\"\n",
    "    return float(feature.score) >= L\n",
    "\n",
    "def filter_by_cutoffs(bed_files, cutoffs, initial_file_path, final_file_path):\n",
    "    \"\"\"Filters files by the list of cutoffs given, and renames the file according to the cutoff.\"\"\"\n",
    "    for file in bed_files:\n",
    "        pybed_object = BedTool(file)\n",
    "        for x in cutoffs:\n",
    "            filtered_file = pybed_object.filter(score_filter, x)\n",
    "            cutoff_name = '.cutoff.' + str(x) + '.bed'\n",
    "            out_filename = file.replace('.bed', cutoff_name)\n",
    "            out_filename = out_filename.replace(initial_file_path, final_file_path)\n",
    "            filtered_file.saveas(out_filename)"
   ]
  },
  {
   "cell_type": "code",
   "execution_count": null,
   "metadata": {},
   "outputs": [],
   "source": [
    "#Run the function to filter all files\n",
    "initial_fp = '/home/anjuni/analysis/bedtools_output/sequencing_comparison/'\n",
    "final_fp = '/home/anjuni/analysis/bedtools_output/cutoffs_from_intersects/'\n",
    "filter_by_cutoffs(bed_file_list, cutoff_list)"
   ]
  },
  {
   "cell_type": "markdown",
   "metadata": {},
   "source": [
    "### <span style='color:#8a14ff'> 3.B Making cutoff files from original methylation-calling files, and overlap them, so you have a similar cutoff for both files. This is because the cutoffs from the previous section were based on the cutoffs in the -a file in bedtools. <span/>"
   ]
  },
  {
   "cell_type": "code",
   "execution_count": 40,
   "metadata": {},
   "outputs": [],
   "source": [
    "# make file handles for the five input files\n",
    "sorted_bed_files = ['/home/anjuni/methylation_calling/pacbio/input/sorted_bed_files/5mC_hc_nanopolish_sorted.bed', \\\n",
    "                   '/home/anjuni/methylation_calling/pacbio/input/sorted_bed_files/5mC_hc_tombo_sorted.CpG.bed', \\\n",
    "                   '/home/anjuni/methylation_calling/pacbio/input/sorted_bed_files/5mC_hc_tombo_sorted.bed', \\\n",
    "                   '/home/anjuni/methylation_calling/pacbio/input/sorted_bed_files/6mA_prob_smrtlink_sorted.bed', \\\n",
    "                   '/home/anjuni/methylation_calling/pacbio/input/sorted_bed_files/6mA_hc_tombo_sorted.bed']"
   ]
  },
  {
   "cell_type": "code",
   "execution_count": 45,
   "metadata": {},
   "outputs": [],
   "source": [
    "#Run the function to filter all the sorted bed files\n",
    "initial_fp1 = '/home/anjuni/methylation_calling/pacbio/input/sorted_bed_files/'\n",
    "final_fp1 = '/home/anjuni/methylation_calling/pacbio/input/sorted_bed_files/cutoffs/'\n",
    "filter_by_cutoffs(sorted_bed_files, cutoff_list, initial_fp1, final_fp1)"
   ]
  },
  {
   "cell_type": "code",
   "execution_count": null,
   "metadata": {},
   "outputs": [],
   "source": [
    "%%bash\n",
    "\n",
    "#Move the 6mA files and 5mC files to separate folders\n",
    "cd /home/anjuni/methylation_calling/pacbio/input/sorted_bed_files/\n",
    "\n",
    "mv cutoffs/6mA* cutoffs_6mA\n",
    "mv cutoffs/5mC* cutoffs_5mC\n",
    "\n",
    "rmdir cutoffs"
   ]
  },
  {
   "cell_type": "code",
   "execution_count": null,
   "metadata": {},
   "outputs": [],
   "source": [
    "mkdir cutoffs_6mA\n",
    "mkdir cutoffs_5mC\n"
   ]
  },
  {
   "cell_type": "code",
   "execution_count": 48,
   "metadata": {},
   "outputs": [],
   "source": [
    "# make directories for 6mA and 5mC cutoff files\n",
    "DIRS['BED_CUTOFFS'] = os.path.join(DIRS['BASE1'], 'input', 'sorted_bed_files', 'cutoffs')\n",
    "DIRS['6MA_CUTOFFS'] = os.path.join(DIRS['BASE1'], 'input', 'sorted_bed_files', 'cutoffs_6mA')\n",
    "DIRS['5MC_CUTOFFS'] = os.path.join(DIRS['BASE1'], 'input', 'sorted_bed_files', 'cutoffs_5mC')"
   ]
  },
  {
   "cell_type": "code",
   "execution_count": 49,
   "metadata": {},
   "outputs": [
    {
     "name": "stdout",
     "output_type": "stream",
     "text": [
      "/home/anjuni/methylation_calling/pacbio/input/sorted_bed_files/cutoffs\n",
      "/home/anjuni/methylation_calling/pacbio/input/sorted_bed_files/cutoffs_6mA\n",
      "/home/anjuni/methylation_calling/pacbio/input/sorted_bed_files/cutoffs_5mC\n"
     ]
    }
   ],
   "source": [
    "print(DIRS['BED_CUTOFFS'])\n",
    "print(DIRS['6MA_CUTOFFS'])\n",
    "print(DIRS['5MC_CUTOFFS'])"
   ]
  },
  {
   "cell_type": "code",
   "execution_count": 28,
   "metadata": {},
   "outputs": [
    {
     "name": "stdout",
     "output_type": "stream",
     "text": [
      "\n",
      "\n"
     ]
    }
   ],
   "source": [
    "# make a list of 6mA cutoff files from Nanopore and PacBio\n",
    "ont_6mA = [fn for fn in glob.iglob('%s/6mA_tombo*.bed' % DIRS['6MA_CUTOFFS'], recursive=True)]\n",
    "pb_6mA = [fn for fn in glob.iglob('%s/6mA_prob_smrtlink*.bed' % DIRS['6MA_CUTOFFS'], recursive=True)]\n",
    "\n",
    "#test out these lists by printing\n",
    "print(*ont_6mA, sep='\\n')\n",
    "print(*pb_6mA, sep='\\n')"
   ]
  },
  {
   "cell_type": "code",
   "execution_count": null,
   "metadata": {},
   "outputs": [],
   "source": [
    "# make a list of 5mC cutoff files from Nanopolish and Tombo\n",
    "np_5mC = [fn for fn in glob.iglob('%s/5mC_hc_nanopolish*.bed' % DIRS['5MC_CUTOFFS'], recursive=True)]\n",
    "tombo_CpG_5mC = [fn for fn in glob.iglob('%s/5mC_hc_tombo_sorted.CpG*.bed' % DIRS['5MC_CUTOFFS'], recursive=True)]\n",
    "tombo_5mC = [fn for fn in glob.iglob('%s/5mC_hc_tombo_sorted.c*.bed' % DIRS['5MC_CUTOFFS'], recursive=True)]\n",
    "\n",
    "#test out these lists by printing\n",
    "print(*np_5mC, sep='\\n')\n",
    "print(*tombo_CpG_5mC, sep='\\n')\n",
    "print(*tombo_5mC, sep='\\n')"
   ]
  },
  {
   "cell_type": "markdown",
   "metadata": {},
   "source": [
    "#### <span style='color:#8a14ff'> Renaming cutoff files to make it easier to name intersection files. <span/>"
   ]
  },
  {
   "cell_type": "code",
   "execution_count": 51,
   "metadata": {},
   "outputs": [
    {
     "name": "stderr",
     "output_type": "stream",
     "text": [
      "mkdir: cannot create directory ‘../nine’: File exists\n",
      "mkdir: cannot create directory ‘../one’: File exists\n"
     ]
    }
   ],
   "source": [
    "%%bash\n",
    "\n",
    "# If needed, rename the files so they have a the same number of characters counting back to the word \"cutoff\"\n",
    "cd /home/anjuni/methylation_calling/pacbio/input/sorted_bed_files/cutoffs\n",
    "\n",
    "mkdir ../nine\n",
    "mv *99* ../nine\n",
    "mv *95* ../nine\n",
    "\n",
    "mkdir ../one\n",
    "mv *cutoff.1.* ../one"
   ]
  },
  {
   "cell_type": "code",
   "execution_count": 55,
   "metadata": {
    "collapsed": true
   },
   "outputs": [
    {
     "name": "stdout",
     "output_type": "stream",
     "text": [
      "/home/anjuni/methylation_calling/pacbio/input/sorted_bed_files/cutoffs/5mC_hc_nanopolish_sorted.cutoff.0.7.bed\n",
      "/home/anjuni/methylation_calling/pacbio/input/sorted_bed_files/cutoffs/5mC_hc_tombo_sorted.CpG.cutoff.0.6.bed\n",
      "/home/anjuni/methylation_calling/pacbio/input/sorted_bed_files/cutoffs/5mC_hc_tombo_sorted.CpG.cutoff.0.7.bed\n",
      "/home/anjuni/methylation_calling/pacbio/input/sorted_bed_files/cutoffs/5mC_hc_tombo_sorted.CpG.cutoff.0.9.bed\n",
      "/home/anjuni/methylation_calling/pacbio/input/sorted_bed_files/cutoffs/6mA_hc_tombo_sorted.cutoff.0.8.bed\n",
      "/home/anjuni/methylation_calling/pacbio/input/sorted_bed_files/cutoffs/6mA_hc_tombo_sorted.cutoff.0.1.bed\n",
      "/home/anjuni/methylation_calling/pacbio/input/sorted_bed_files/cutoffs/5mC_hc_tombo_sorted.cutoff.0.8.bed\n",
      "/home/anjuni/methylation_calling/pacbio/input/sorted_bed_files/cutoffs/6mA_prob_smrtlink_sorted.cutoff.0.6.bed\n",
      "/home/anjuni/methylation_calling/pacbio/input/sorted_bed_files/cutoffs/5mC_hc_nanopolish_sorted.cutoff.0.6.bed\n",
      "/home/anjuni/methylation_calling/pacbio/input/sorted_bed_files/cutoffs/5mC_hc_tombo_sorted.cutoff.0.5.bed\n",
      "/home/anjuni/methylation_calling/pacbio/input/sorted_bed_files/cutoffs/5mC_hc_tombo_sorted.cutoff.0.1.bed\n",
      "/home/anjuni/methylation_calling/pacbio/input/sorted_bed_files/cutoffs/6mA_hc_tombo_sorted.cutoff.0.7.bed\n",
      "/home/anjuni/methylation_calling/pacbio/input/sorted_bed_files/cutoffs/5mC_hc_nanopolish_sorted.cutoff.0.4.bed\n",
      "/home/anjuni/methylation_calling/pacbio/input/sorted_bed_files/cutoffs/6mA_prob_smrtlink_sorted.cutoff.0.8.bed\n",
      "/home/anjuni/methylation_calling/pacbio/input/sorted_bed_files/cutoffs/5mC_hc_tombo_sorted.cutoff.0.3.bed\n",
      "/home/anjuni/methylation_calling/pacbio/input/sorted_bed_files/cutoffs/6mA_hc_tombo_sorted.cutoff.0.3.bed\n",
      "/home/anjuni/methylation_calling/pacbio/input/sorted_bed_files/cutoffs/6mA_prob_smrtlink_sorted.cutoff.0.9.bed\n",
      "/home/anjuni/methylation_calling/pacbio/input/sorted_bed_files/cutoffs/6mA_prob_smrtlink_sorted.cutoff.0.2.bed\n",
      "/home/anjuni/methylation_calling/pacbio/input/sorted_bed_files/cutoffs/5mC_hc_tombo_sorted.cutoff.0.6.bed\n",
      "/home/anjuni/methylation_calling/pacbio/input/sorted_bed_files/cutoffs/5mC_hc_tombo_sorted.CpG.cutoff.0.4.bed\n",
      "/home/anjuni/methylation_calling/pacbio/input/sorted_bed_files/cutoffs/6mA_prob_smrtlink_sorted.cutoff.0.1.bed\n",
      "/home/anjuni/methylation_calling/pacbio/input/sorted_bed_files/cutoffs/5mC_hc_nanopolish_sorted.cutoff.0.1.bed\n",
      "/home/anjuni/methylation_calling/pacbio/input/sorted_bed_files/cutoffs/5mC_hc_tombo_sorted.cutoff.0.4.bed\n",
      "/home/anjuni/methylation_calling/pacbio/input/sorted_bed_files/cutoffs/6mA_hc_tombo_sorted.cutoff.0.2.bed\n",
      "/home/anjuni/methylation_calling/pacbio/input/sorted_bed_files/cutoffs/6mA_hc_tombo_sorted.cutoff.0.5.bed\n",
      "/home/anjuni/methylation_calling/pacbio/input/sorted_bed_files/cutoffs/6mA_hc_tombo_sorted.cutoff.0.9.bed\n",
      "/home/anjuni/methylation_calling/pacbio/input/sorted_bed_files/cutoffs/5mC_hc_nanopolish_sorted.cutoff.0.3.bed\n",
      "/home/anjuni/methylation_calling/pacbio/input/sorted_bed_files/cutoffs/5mC_hc_nanopolish_sorted.cutoff.0.5.bed\n",
      "/home/anjuni/methylation_calling/pacbio/input/sorted_bed_files/cutoffs/5mC_hc_tombo_sorted.CpG.cutoff.0.1.bed\n",
      "/home/anjuni/methylation_calling/pacbio/input/sorted_bed_files/cutoffs/5mC_hc_tombo_sorted.CpG.cutoff.0.2.bed\n",
      "/home/anjuni/methylation_calling/pacbio/input/sorted_bed_files/cutoffs/6mA_prob_smrtlink_sorted.cutoff.0.4.bed\n",
      "/home/anjuni/methylation_calling/pacbio/input/sorted_bed_files/cutoffs/5mC_hc_tombo_sorted.CpG.cutoff.0.3.bed\n",
      "/home/anjuni/methylation_calling/pacbio/input/sorted_bed_files/cutoffs/6mA_prob_smrtlink_sorted.cutoff.0.7.bed\n",
      "/home/anjuni/methylation_calling/pacbio/input/sorted_bed_files/cutoffs/5mC_hc_nanopolish_sorted.cutoff.0.8.bed\n",
      "/home/anjuni/methylation_calling/pacbio/input/sorted_bed_files/cutoffs/5mC_hc_tombo_sorted.cutoff.0.2.bed\n",
      "/home/anjuni/methylation_calling/pacbio/input/sorted_bed_files/cutoffs/6mA_hc_tombo_sorted.cutoff.0.6.bed\n",
      "/home/anjuni/methylation_calling/pacbio/input/sorted_bed_files/cutoffs/5mC_hc_tombo_sorted.CpG.cutoff.0.5.bed\n",
      "/home/anjuni/methylation_calling/pacbio/input/sorted_bed_files/cutoffs/5mC_hc_tombo_sorted.CpG.cutoff.0.8.bed\n",
      "/home/anjuni/methylation_calling/pacbio/input/sorted_bed_files/cutoffs/6mA_prob_smrtlink_sorted.cutoff.0.5.bed\n",
      "/home/anjuni/methylation_calling/pacbio/input/sorted_bed_files/cutoffs/5mC_hc_tombo_sorted.cutoff.0.9.bed\n",
      "/home/anjuni/methylation_calling/pacbio/input/sorted_bed_files/cutoffs/6mA_prob_smrtlink_sorted.cutoff.0.3.bed\n",
      "/home/anjuni/methylation_calling/pacbio/input/sorted_bed_files/cutoffs/6mA_hc_tombo_sorted.cutoff.0.4.bed\n",
      "/home/anjuni/methylation_calling/pacbio/input/sorted_bed_files/cutoffs/5mC_hc_nanopolish_sorted.cutoff.0.2.bed\n",
      "/home/anjuni/methylation_calling/pacbio/input/sorted_bed_files/cutoffs/5mC_hc_tombo_sorted.cutoff.0.7.bed\n",
      "/home/anjuni/methylation_calling/pacbio/input/sorted_bed_files/cutoffs/5mC_hc_nanopolish_sorted.cutoff.0.9.bed\n",
      "/home/anjuni/methylation_calling/pacbio/input/sorted_bed_files/one/6mA_hc_tombo_sorted.cutoff.1.bed\n",
      "/home/anjuni/methylation_calling/pacbio/input/sorted_bed_files/one/5mC_hc_tombo_sorted.CpG.cutoff.1.bed\n",
      "/home/anjuni/methylation_calling/pacbio/input/sorted_bed_files/one/5mC_hc_tombo_sorted.cutoff.1.bed\n",
      "/home/anjuni/methylation_calling/pacbio/input/sorted_bed_files/one/5mC_hc_nanopolish_sorted.cutoff.1.bed\n",
      "/home/anjuni/methylation_calling/pacbio/input/sorted_bed_files/one/6mA_prob_smrtlink_sorted.cutoff.1.bed\n"
     ]
    }
   ],
   "source": [
    "DIRS['BED_1'] = os.path.join(DIRS['BASE1'], 'input', 'sorted_bed_files', 'one')\n",
    "bed_fn = [fn for fn in glob.iglob('%s/*.bed' % DIRS['BED_CUTOFFS'], recursive=True)]\n",
    "bed_1 = [fn for fn in glob.iglob('%s/*.bed' % DIRS['BED_1'], recursive=True)]\n",
    "print(*bed_fn, sep='\\n')\n",
    "print(*bed_1, sep='\\n')"
   ]
  },
  {
   "cell_type": "markdown",
   "metadata": {},
   "source": [
    "#### <span style='color:#8a14ff'> Cannot figure this out right now: <span/>\n",
    "    \n",
    "How to rename the end of the file?? Everything is set up, just have to change the replace() function line in the function."
   ]
  },
  {
   "cell_type": "code",
   "execution_count": 59,
   "metadata": {},
   "outputs": [],
   "source": [
    "# Make a function to clean up the cutoff bed file names\n",
    "def cutoff_names(file_list, initial_name, final_name):\n",
    "    \"\"\"Change file name suffix for consistency.\"\"\"\n",
    "    for file in file_list:\n",
    "        file = file.replace(initial_name, final_name)"
   ]
  },
  {
   "cell_type": "code",
   "execution_count": 60,
   "metadata": {},
   "outputs": [],
   "source": [
    "cutoff_names(bed_fn, '.bed', '0.bed')\n",
    "cutoff_names(bed_1, '.bed', '.00.bed')"
   ]
  },
  {
   "cell_type": "code",
   "execution_count": null,
   "metadata": {},
   "outputs": [],
   "source": [
    "# Do the file path maths to make a nice outfile name \n"
   ]
  },
  {
   "cell_type": "code",
   "execution_count": null,
   "metadata": {},
   "outputs": [],
   "source": [
    "# make a for loop to take a list of cutoffs, and a list of -a files and a list of -b files to intersect\n",
    "def intersect_cutoffs(list_a, list_b, n_elements):\n",
    "    \"\"\"Take a list of files and intersect them with another list of files, where files are matched by methylation cutoff.\"\"\"\n",
    "    for i in (0, n_elements):\n",
    "        a_bed = BedTool(list_a[i])\n",
    "        b_bed = BedTool(list_b[i])\n",
    "        outname = \n",
    "        intersected_cutoff = a_bed.intersect(b_bed).saveas(out_name)"
   ]
  },
  {
   "cell_type": "code",
   "execution_count": null,
   "metadata": {},
   "outputs": [],
   "source": [
    "# Make lists of cutoffs from each of the 5 initial BED files\n",
    "smrtlink"
   ]
  },
  {
   "cell_type": "markdown",
   "metadata": {},
   "source": [
    "## <span style='color:#144fff'> 4. Making windows. <span/>"
   ]
  },
  {
   "cell_type": "markdown",
   "metadata": {},
   "source": [
    "## <span style='color:#148aff'> 5. Intersecting methylation with gene annotation files. <span/>"
   ]
  },
  {
   "cell_type": "markdown",
   "metadata": {},
   "source": [
    "## <span style='color:#14c4ff'> 6. Analysing gene expression files. <span/>"
   ]
  },
  {
   "cell_type": "code",
   "execution_count": null,
   "metadata": {},
   "outputs": [],
   "source": []
  },
  {
   "cell_type": "markdown",
   "metadata": {},
   "source": [
    "## <span style='color:#15c66e'> 7. Intersecting with transposons expression files. <span/>"
   ]
  },
  {
   "cell_type": "markdown",
   "metadata": {},
   "source": [
    "## <span style='color:#9ac615'> 8. Comparing methylated transposons and genes. <span/>"
   ]
  },
  {
   "cell_type": "markdown",
   "metadata": {},
   "source": [
    "## <span style='color:#ffa347'> 9. Identifying effector genes. <span/>"
   ]
  },
  {
   "cell_type": "markdown",
   "metadata": {},
   "source": [
    "## <span style='color:#ff4f14'> 10. Expression of methylation machinery throughout Pst life cycle. <span/>"
   ]
  }
 ],
 "metadata": {
  "kernelspec": {
   "display_name": "Python 3",
   "language": "python",
   "name": "python3"
  },
  "language_info": {
   "codemirror_mode": {
    "name": "ipython",
    "version": 3
   },
   "file_extension": ".py",
   "mimetype": "text/x-python",
   "name": "python",
   "nbconvert_exporter": "python",
   "pygments_lexer": "ipython3",
   "version": "3.6.4"
  }
 },
 "nbformat": 4,
 "nbformat_minor": 2
}
