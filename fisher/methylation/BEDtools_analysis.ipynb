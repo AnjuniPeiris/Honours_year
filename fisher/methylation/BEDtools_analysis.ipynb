{
 "cells": [
  {
   "cell_type": "markdown",
   "metadata": {},
   "source": [
    "# <span style=\"color:plum\"> BEDtools analysis. </span>\n",
    "\n",
    "This is a script to answer research questions outlined elsewhere. In summary, this script:\n",
    "\n",
    "1. compares methylation results between different methylation-callers, and between different methylation sequencing methods.\n",
    "\n",
    "2. compares methylation between genes and non-gene regions\n",
    "\n",
    "3. compares methylation between transposons and non-repetitive regions\n",
    "\n",
    "4. compares transposons and genes"
   ]
  },
  {
   "cell_type": "code",
   "execution_count": 1,
   "metadata": {},
   "outputs": [],
   "source": [
    "import pybedtools\n",
    "from pybedtools import BedTool\n",
    "import os\n",
    "import glob\n",
    "import pprint\n",
    "import numpy # need for p-value stats\n",
    "import scipy"
   ]
  },
  {
   "cell_type": "code",
   "execution_count": 5,
   "metadata": {},
   "outputs": [],
   "source": [
    "#First we need to define the base dirs\n",
    "DIRS ={}\n",
    "DIRS['BASE1'] = '/home/anjuni/methylation_calling/pacbio'\n",
    "DIRS['BASE2'] = '/home/anjuni/analysis'\n",
    "DIRS['BED_INPUT'] = os.path.join(DIRS['BASE1'], 'input', 'sorted_bed_files', 'filtered_bed')\n",
    "DIRS['GFF_INPUT'] = os.path.join(DIRS['BASE2'], 'gff_output')\n",
    "DIRS['WINDOW_OUTPUT'] = os.path.join(DIRS['BASE2'], 'windows')"
   ]
  },
  {
   "cell_type": "code",
   "execution_count": 6,
   "metadata": {},
   "outputs": [],
   "source": [
    "#Quick chech if directories exist\n",
    "for value in DIRS.values():\n",
    "    if not os.path.exists(value):\n",
    "        print('%s does not exist' % value)"
   ]
  },
  {
   "cell_type": "code",
   "execution_count": 8,
   "metadata": {},
   "outputs": [],
   "source": [
    "#Make filepaths\n",
    "bed_file_list = [fn for fn in glob.iglob('%s/*.bed' % DIRS['BED_INPUT'], recursive=True)]\n",
    "gff_file_list = [fn for fn in glob.iglob('%s/*anno.gff3' % DIRS['GFF_INPUT'], recursive=True)]\n",
    "te_file_list = [fn for fn in glob.iglob('%s/*.gff' % DIRS['GFF_INPUT'], recursive=True)]"
   ]
  },
  {
   "cell_type": "code",
   "execution_count": 9,
   "metadata": {
    "collapsed": true
   },
   "outputs": [
    {
     "name": "stdout",
     "output_type": "stream",
     "text": [
      "/home/anjuni/methylation_calling/pacbio/input/sorted_bed_files/filtered_bed/6mA_tombo_sorted.cutoff.0.5.bed\n",
      "/home/anjuni/methylation_calling/pacbio/input/sorted_bed_files/filtered_bed/5mC_tombo_sorted.cutoff.0.4.bed\n",
      "/home/anjuni/methylation_calling/pacbio/input/sorted_bed_files/filtered_bed/6mA_tombo_sorted.cutoff.0.6.bed\n",
      "/home/anjuni/methylation_calling/pacbio/input/sorted_bed_files/filtered_bed/6mA_prob_smrtlink_sorted.cutoff.0.95.bed\n",
      "/home/anjuni/methylation_calling/pacbio/input/sorted_bed_files/filtered_bed/5mC_nanopolish_sorted.cutoff.1.bed\n",
      "/home/anjuni/methylation_calling/pacbio/input/sorted_bed_files/filtered_bed/5mC_tombo_sorted.cutoff.0.2.bed\n",
      "/home/anjuni/methylation_calling/pacbio/input/sorted_bed_files/filtered_bed/5mC_nanopolish_sorted.cutoff.0.9.bed\n",
      "/home/anjuni/methylation_calling/pacbio/input/sorted_bed_files/filtered_bed/5mC_tombo_sorted.cutoff.1.bed\n",
      "/home/anjuni/methylation_calling/pacbio/input/sorted_bed_files/filtered_bed/5mC_nanopolish_sorted.cutoff.0.4.bed\n",
      "/home/anjuni/methylation_calling/pacbio/input/sorted_bed_files/filtered_bed/6mA_prob_smrtlink_sorted.cutoff.0.6.bed\n",
      "/home/anjuni/methylation_calling/pacbio/input/sorted_bed_files/filtered_bed/6mA_tombo_sorted.cutoff.0.95.bed\n",
      "/home/anjuni/methylation_calling/pacbio/input/sorted_bed_files/filtered_bed/5mC_tombo_sorted.cutoff.0.5.bed\n",
      "/home/anjuni/methylation_calling/pacbio/input/sorted_bed_files/filtered_bed/5mC_nanopolish_sorted.cutoff.0.8.bed\n",
      "/home/anjuni/methylation_calling/pacbio/input/sorted_bed_files/filtered_bed/6mA_tombo_sorted.cutoff.0.9.bed\n",
      "/home/anjuni/methylation_calling/pacbio/input/sorted_bed_files/filtered_bed/6mA_prob_smrtlink_sorted.cutoff.0.8.bed\n",
      "/home/anjuni/methylation_calling/pacbio/input/sorted_bed_files/filtered_bed/5mC_nanopolish_sorted.cutoff.0.1.bed\n",
      "/home/anjuni/methylation_calling/pacbio/input/sorted_bed_files/filtered_bed/6mA_prob_smrtlink_sorted.cutoff.0.9.bed\n",
      "/home/anjuni/methylation_calling/pacbio/input/sorted_bed_files/filtered_bed/5mC_tombo_sorted.cutoff.0.95.bed\n",
      "/home/anjuni/methylation_calling/pacbio/input/sorted_bed_files/filtered_bed/6mA_prob_smrtlink_sorted.cutoff.0.2.bed\n",
      "/home/anjuni/methylation_calling/pacbio/input/sorted_bed_files/filtered_bed/5mC_nanopolish_sorted.cutoff.0.5.bed\n",
      "/home/anjuni/methylation_calling/pacbio/input/sorted_bed_files/filtered_bed/6mA_prob_smrtlink_sorted.cutoff.0.1.bed\n",
      "/home/anjuni/methylation_calling/pacbio/input/sorted_bed_files/filtered_bed/5mC_tombo_sorted.cutoff.0.8.bed\n",
      "/home/anjuni/methylation_calling/pacbio/input/sorted_bed_files/filtered_bed/5mC_tombo_sorted.cutoff.0.7.bed\n",
      "/home/anjuni/methylation_calling/pacbio/input/sorted_bed_files/filtered_bed/5mC_nanopolish_sorted.cutoff.0.7.bed\n",
      "/home/anjuni/methylation_calling/pacbio/input/sorted_bed_files/filtered_bed/5mC_nanopolish_sorted.cutoff.0.99.bed\n",
      "/home/anjuni/methylation_calling/pacbio/input/sorted_bed_files/filtered_bed/6mA_tombo_sorted.cutoff.0.7.bed\n",
      "/home/anjuni/methylation_calling/pacbio/input/sorted_bed_files/filtered_bed/6mA_tombo_sorted.cutoff.0.8.bed\n",
      "/home/anjuni/methylation_calling/pacbio/input/sorted_bed_files/filtered_bed/5mC_tombo_sorted.cutoff.0.99.bed\n",
      "/home/anjuni/methylation_calling/pacbio/input/sorted_bed_files/filtered_bed/6mA_tombo_sorted.cutoff.0.2.bed\n",
      "/home/anjuni/methylation_calling/pacbio/input/sorted_bed_files/filtered_bed/5mC_tombo_sorted.cutoff.0.6.bed\n",
      "/home/anjuni/methylation_calling/pacbio/input/sorted_bed_files/filtered_bed/5mC_nanopolish_sorted.cutoff.0.95.bed\n",
      "/home/anjuni/methylation_calling/pacbio/input/sorted_bed_files/filtered_bed/5mC_nanopolish_sorted.cutoff.0.2.bed\n",
      "/home/anjuni/methylation_calling/pacbio/input/sorted_bed_files/filtered_bed/5mC_tombo_sorted.cutoff.0.9.bed\n",
      "/home/anjuni/methylation_calling/pacbio/input/sorted_bed_files/filtered_bed/5mC_tombo_sorted.cutoff.0.3.bed\n",
      "/home/anjuni/methylation_calling/pacbio/input/sorted_bed_files/filtered_bed/6mA_prob_smrtlink_sorted.cutoff.0.4.bed\n",
      "/home/anjuni/methylation_calling/pacbio/input/sorted_bed_files/filtered_bed/6mA_tombo_sorted.cutoff.1.bed\n",
      "/home/anjuni/methylation_calling/pacbio/input/sorted_bed_files/filtered_bed/6mA_prob_smrtlink_sorted.cutoff.0.7.bed\n",
      "/home/anjuni/methylation_calling/pacbio/input/sorted_bed_files/filtered_bed/6mA_tombo_sorted.cutoff.0.99.bed\n",
      "/home/anjuni/methylation_calling/pacbio/input/sorted_bed_files/filtered_bed/5mC_tombo_sorted.cutoff.0.1.bed\n",
      "/home/anjuni/methylation_calling/pacbio/input/sorted_bed_files/filtered_bed/6mA_prob_smrtlink_sorted.cutoff.0.99.bed\n",
      "/home/anjuni/methylation_calling/pacbio/input/sorted_bed_files/filtered_bed/6mA_prob_smrtlink_sorted.cutoff.0.5.bed\n",
      "/home/anjuni/methylation_calling/pacbio/input/sorted_bed_files/filtered_bed/6mA_tombo_sorted.cutoff.0.4.bed\n",
      "/home/anjuni/methylation_calling/pacbio/input/sorted_bed_files/filtered_bed/6mA_tombo_sorted.cutoff.0.1.bed\n",
      "/home/anjuni/methylation_calling/pacbio/input/sorted_bed_files/filtered_bed/5mC_nanopolish_sorted.cutoff.0.6.bed\n",
      "/home/anjuni/methylation_calling/pacbio/input/sorted_bed_files/filtered_bed/5mC_nanopolish_sorted.cutoff.0.3.bed\n",
      "/home/anjuni/methylation_calling/pacbio/input/sorted_bed_files/filtered_bed/6mA_prob_smrtlink_sorted.cutoff.0.3.bed\n",
      "/home/anjuni/methylation_calling/pacbio/input/sorted_bed_files/filtered_bed/6mA_prob_smrtlink_sorted.cutoff.1.bed\n",
      "/home/anjuni/methylation_calling/pacbio/input/sorted_bed_files/filtered_bed/6mA_tombo_sorted.cutoff.0.3.bed\n",
      "/home/anjuni/analysis/gff_output/Pst_104E_v13_ph_ctg_combined_sorted_anno.gff3\n",
      "/home/anjuni/analysis/gff_output/Pst_104E_v13_p_ctg_combined_sorted_anno.gff3\n",
      "/home/anjuni/analysis/gff_output/Pst_104E_v13_h_ctg_combined_sorted_anno.gff3\n",
      "/home/anjuni/analysis/gff_output/Pst_104E_v13_h_ctg.REPET.sorted.filtered.superfamily.gff\n",
      "/home/anjuni/analysis/gff_output/Pst_104E_v13_p_ctg.REPET.sorted.filtered.superfamily.gff\n",
      "/home/anjuni/analysis/gff_output/Pst_104E_v13_ph_ctg.REPET.sorted.filtered.superfamily.gff\n"
     ]
    }
   ],
   "source": [
    "#Check that the list works\n",
    "print(*bed_file_list, sep='\\n')\n",
    "print(*gff_file_list, sep='\\n')\n",
    "print(*te_file_list, sep='\\n')"
   ]
  },
  {
   "cell_type": "code",
   "execution_count": 10,
   "metadata": {},
   "outputs": [],
   "source": [
    "# maybe don't use these coz the keys look bad haha\n",
    "BED = {}\n",
    "for file in bed_file_list:\n",
    "    name = (file[63:-4])\n",
    "    bed_file = BedTool(file)\n",
    "    BED[name] = bed_file"
   ]
  },
  {
   "cell_type": "code",
   "execution_count": 11,
   "metadata": {
    "collapsed": true
   },
   "outputs": [
    {
     "name": "stdout",
     "output_type": "stream",
     "text": [
      "{'filtered_bed/5mC_nanopolish_sorted.cutoff.0.1': <BedTool(/home/anjuni/methylation_calling/pacbio/input/sorted_bed_files/filtered_bed/5mC_nanopolish_sorted.cutoff.0.1.bed)>,\n",
      " 'filtered_bed/5mC_nanopolish_sorted.cutoff.0.2': <BedTool(/home/anjuni/methylation_calling/pacbio/input/sorted_bed_files/filtered_bed/5mC_nanopolish_sorted.cutoff.0.2.bed)>,\n",
      " 'filtered_bed/5mC_nanopolish_sorted.cutoff.0.3': <BedTool(/home/anjuni/methylation_calling/pacbio/input/sorted_bed_files/filtered_bed/5mC_nanopolish_sorted.cutoff.0.3.bed)>,\n",
      " 'filtered_bed/5mC_nanopolish_sorted.cutoff.0.4': <BedTool(/home/anjuni/methylation_calling/pacbio/input/sorted_bed_files/filtered_bed/5mC_nanopolish_sorted.cutoff.0.4.bed)>,\n",
      " 'filtered_bed/5mC_nanopolish_sorted.cutoff.0.5': <BedTool(/home/anjuni/methylation_calling/pacbio/input/sorted_bed_files/filtered_bed/5mC_nanopolish_sorted.cutoff.0.5.bed)>,\n",
      " 'filtered_bed/5mC_nanopolish_sorted.cutoff.0.6': <BedTool(/home/anjuni/methylation_calling/pacbio/input/sorted_bed_files/filtered_bed/5mC_nanopolish_sorted.cutoff.0.6.bed)>,\n",
      " 'filtered_bed/5mC_nanopolish_sorted.cutoff.0.7': <BedTool(/home/anjuni/methylation_calling/pacbio/input/sorted_bed_files/filtered_bed/5mC_nanopolish_sorted.cutoff.0.7.bed)>,\n",
      " 'filtered_bed/5mC_nanopolish_sorted.cutoff.0.8': <BedTool(/home/anjuni/methylation_calling/pacbio/input/sorted_bed_files/filtered_bed/5mC_nanopolish_sorted.cutoff.0.8.bed)>,\n",
      " 'filtered_bed/5mC_nanopolish_sorted.cutoff.0.9': <BedTool(/home/anjuni/methylation_calling/pacbio/input/sorted_bed_files/filtered_bed/5mC_nanopolish_sorted.cutoff.0.9.bed)>,\n",
      " 'filtered_bed/5mC_nanopolish_sorted.cutoff.0.95': <BedTool(/home/anjuni/methylation_calling/pacbio/input/sorted_bed_files/filtered_bed/5mC_nanopolish_sorted.cutoff.0.95.bed)>,\n",
      " 'filtered_bed/5mC_nanopolish_sorted.cutoff.0.99': <BedTool(/home/anjuni/methylation_calling/pacbio/input/sorted_bed_files/filtered_bed/5mC_nanopolish_sorted.cutoff.0.99.bed)>,\n",
      " 'filtered_bed/5mC_nanopolish_sorted.cutoff.1': <BedTool(/home/anjuni/methylation_calling/pacbio/input/sorted_bed_files/filtered_bed/5mC_nanopolish_sorted.cutoff.1.bed)>,\n",
      " 'filtered_bed/5mC_tombo_sorted.cutoff.0.1': <BedTool(/home/anjuni/methylation_calling/pacbio/input/sorted_bed_files/filtered_bed/5mC_tombo_sorted.cutoff.0.1.bed)>,\n",
      " 'filtered_bed/5mC_tombo_sorted.cutoff.0.2': <BedTool(/home/anjuni/methylation_calling/pacbio/input/sorted_bed_files/filtered_bed/5mC_tombo_sorted.cutoff.0.2.bed)>,\n",
      " 'filtered_bed/5mC_tombo_sorted.cutoff.0.3': <BedTool(/home/anjuni/methylation_calling/pacbio/input/sorted_bed_files/filtered_bed/5mC_tombo_sorted.cutoff.0.3.bed)>,\n",
      " 'filtered_bed/5mC_tombo_sorted.cutoff.0.4': <BedTool(/home/anjuni/methylation_calling/pacbio/input/sorted_bed_files/filtered_bed/5mC_tombo_sorted.cutoff.0.4.bed)>,\n",
      " 'filtered_bed/5mC_tombo_sorted.cutoff.0.5': <BedTool(/home/anjuni/methylation_calling/pacbio/input/sorted_bed_files/filtered_bed/5mC_tombo_sorted.cutoff.0.5.bed)>,\n",
      " 'filtered_bed/5mC_tombo_sorted.cutoff.0.6': <BedTool(/home/anjuni/methylation_calling/pacbio/input/sorted_bed_files/filtered_bed/5mC_tombo_sorted.cutoff.0.6.bed)>,\n",
      " 'filtered_bed/5mC_tombo_sorted.cutoff.0.7': <BedTool(/home/anjuni/methylation_calling/pacbio/input/sorted_bed_files/filtered_bed/5mC_tombo_sorted.cutoff.0.7.bed)>,\n",
      " 'filtered_bed/5mC_tombo_sorted.cutoff.0.8': <BedTool(/home/anjuni/methylation_calling/pacbio/input/sorted_bed_files/filtered_bed/5mC_tombo_sorted.cutoff.0.8.bed)>,\n",
      " 'filtered_bed/5mC_tombo_sorted.cutoff.0.9': <BedTool(/home/anjuni/methylation_calling/pacbio/input/sorted_bed_files/filtered_bed/5mC_tombo_sorted.cutoff.0.9.bed)>,\n",
      " 'filtered_bed/5mC_tombo_sorted.cutoff.0.95': <BedTool(/home/anjuni/methylation_calling/pacbio/input/sorted_bed_files/filtered_bed/5mC_tombo_sorted.cutoff.0.95.bed)>,\n",
      " 'filtered_bed/5mC_tombo_sorted.cutoff.0.99': <BedTool(/home/anjuni/methylation_calling/pacbio/input/sorted_bed_files/filtered_bed/5mC_tombo_sorted.cutoff.0.99.bed)>,\n",
      " 'filtered_bed/5mC_tombo_sorted.cutoff.1': <BedTool(/home/anjuni/methylation_calling/pacbio/input/sorted_bed_files/filtered_bed/5mC_tombo_sorted.cutoff.1.bed)>,\n",
      " 'filtered_bed/6mA_prob_smrtlink_sorted.cutoff.0.1': <BedTool(/home/anjuni/methylation_calling/pacbio/input/sorted_bed_files/filtered_bed/6mA_prob_smrtlink_sorted.cutoff.0.1.bed)>,\n",
      " 'filtered_bed/6mA_prob_smrtlink_sorted.cutoff.0.2': <BedTool(/home/anjuni/methylation_calling/pacbio/input/sorted_bed_files/filtered_bed/6mA_prob_smrtlink_sorted.cutoff.0.2.bed)>,\n",
      " 'filtered_bed/6mA_prob_smrtlink_sorted.cutoff.0.3': <BedTool(/home/anjuni/methylation_calling/pacbio/input/sorted_bed_files/filtered_bed/6mA_prob_smrtlink_sorted.cutoff.0.3.bed)>,\n",
      " 'filtered_bed/6mA_prob_smrtlink_sorted.cutoff.0.4': <BedTool(/home/anjuni/methylation_calling/pacbio/input/sorted_bed_files/filtered_bed/6mA_prob_smrtlink_sorted.cutoff.0.4.bed)>,\n",
      " 'filtered_bed/6mA_prob_smrtlink_sorted.cutoff.0.5': <BedTool(/home/anjuni/methylation_calling/pacbio/input/sorted_bed_files/filtered_bed/6mA_prob_smrtlink_sorted.cutoff.0.5.bed)>,\n",
      " 'filtered_bed/6mA_prob_smrtlink_sorted.cutoff.0.6': <BedTool(/home/anjuni/methylation_calling/pacbio/input/sorted_bed_files/filtered_bed/6mA_prob_smrtlink_sorted.cutoff.0.6.bed)>,\n",
      " 'filtered_bed/6mA_prob_smrtlink_sorted.cutoff.0.7': <BedTool(/home/anjuni/methylation_calling/pacbio/input/sorted_bed_files/filtered_bed/6mA_prob_smrtlink_sorted.cutoff.0.7.bed)>,\n",
      " 'filtered_bed/6mA_prob_smrtlink_sorted.cutoff.0.8': <BedTool(/home/anjuni/methylation_calling/pacbio/input/sorted_bed_files/filtered_bed/6mA_prob_smrtlink_sorted.cutoff.0.8.bed)>,\n",
      " 'filtered_bed/6mA_prob_smrtlink_sorted.cutoff.0.9': <BedTool(/home/anjuni/methylation_calling/pacbio/input/sorted_bed_files/filtered_bed/6mA_prob_smrtlink_sorted.cutoff.0.9.bed)>,\n",
      " 'filtered_bed/6mA_prob_smrtlink_sorted.cutoff.0.95': <BedTool(/home/anjuni/methylation_calling/pacbio/input/sorted_bed_files/filtered_bed/6mA_prob_smrtlink_sorted.cutoff.0.95.bed)>,\n",
      " 'filtered_bed/6mA_prob_smrtlink_sorted.cutoff.0.99': <BedTool(/home/anjuni/methylation_calling/pacbio/input/sorted_bed_files/filtered_bed/6mA_prob_smrtlink_sorted.cutoff.0.99.bed)>,\n",
      " 'filtered_bed/6mA_prob_smrtlink_sorted.cutoff.1': <BedTool(/home/anjuni/methylation_calling/pacbio/input/sorted_bed_files/filtered_bed/6mA_prob_smrtlink_sorted.cutoff.1.bed)>,\n",
      " 'filtered_bed/6mA_tombo_sorted.cutoff.0.1': <BedTool(/home/anjuni/methylation_calling/pacbio/input/sorted_bed_files/filtered_bed/6mA_tombo_sorted.cutoff.0.1.bed)>,\n",
      " 'filtered_bed/6mA_tombo_sorted.cutoff.0.2': <BedTool(/home/anjuni/methylation_calling/pacbio/input/sorted_bed_files/filtered_bed/6mA_tombo_sorted.cutoff.0.2.bed)>,\n",
      " 'filtered_bed/6mA_tombo_sorted.cutoff.0.3': <BedTool(/home/anjuni/methylation_calling/pacbio/input/sorted_bed_files/filtered_bed/6mA_tombo_sorted.cutoff.0.3.bed)>,\n",
      " 'filtered_bed/6mA_tombo_sorted.cutoff.0.4': <BedTool(/home/anjuni/methylation_calling/pacbio/input/sorted_bed_files/filtered_bed/6mA_tombo_sorted.cutoff.0.4.bed)>,\n",
      " 'filtered_bed/6mA_tombo_sorted.cutoff.0.5': <BedTool(/home/anjuni/methylation_calling/pacbio/input/sorted_bed_files/filtered_bed/6mA_tombo_sorted.cutoff.0.5.bed)>,\n",
      " 'filtered_bed/6mA_tombo_sorted.cutoff.0.6': <BedTool(/home/anjuni/methylation_calling/pacbio/input/sorted_bed_files/filtered_bed/6mA_tombo_sorted.cutoff.0.6.bed)>,\n",
      " 'filtered_bed/6mA_tombo_sorted.cutoff.0.7': <BedTool(/home/anjuni/methylation_calling/pacbio/input/sorted_bed_files/filtered_bed/6mA_tombo_sorted.cutoff.0.7.bed)>,\n",
      " 'filtered_bed/6mA_tombo_sorted.cutoff.0.8': <BedTool(/home/anjuni/methylation_calling/pacbio/input/sorted_bed_files/filtered_bed/6mA_tombo_sorted.cutoff.0.8.bed)>,\n",
      " 'filtered_bed/6mA_tombo_sorted.cutoff.0.9': <BedTool(/home/anjuni/methylation_calling/pacbio/input/sorted_bed_files/filtered_bed/6mA_tombo_sorted.cutoff.0.9.bed)>,\n",
      " 'filtered_bed/6mA_tombo_sorted.cutoff.0.95': <BedTool(/home/anjuni/methylation_calling/pacbio/input/sorted_bed_files/filtered_bed/6mA_tombo_sorted.cutoff.0.95.bed)>,\n",
      " 'filtered_bed/6mA_tombo_sorted.cutoff.0.99': <BedTool(/home/anjuni/methylation_calling/pacbio/input/sorted_bed_files/filtered_bed/6mA_tombo_sorted.cutoff.0.99.bed)>,\n",
      " 'filtered_bed/6mA_tombo_sorted.cutoff.1': <BedTool(/home/anjuni/methylation_calling/pacbio/input/sorted_bed_files/filtered_bed/6mA_tombo_sorted.cutoff.1.bed)>}\n"
     ]
    }
   ],
   "source": [
    "pprint.pprint(BED) # see if it works"
   ]
  },
  {
   "cell_type": "code",
   "execution_count": 18,
   "metadata": {},
   "outputs": [],
   "source": [
    "GFF = {}\n",
    "for file in gff_file_list:\n",
    "    name = (file[46:-5])\n",
    "    gff_file = BedTool(file)\n",
    "    GFF[name] = gff_file"
   ]
  },
  {
   "cell_type": "code",
   "execution_count": 19,
   "metadata": {},
   "outputs": [
    {
     "name": "stdout",
     "output_type": "stream",
     "text": [
      "{'h_ctg_combined_sorted_anno': <BedTool(/home/anjuni/analysis/gff_output/Pst_104E_v13_h_ctg_combined_sorted_anno.gff3)>,\n",
      " 'p_ctg_combined_sorted_anno': <BedTool(/home/anjuni/analysis/gff_output/Pst_104E_v13_p_ctg_combined_sorted_anno.gff3)>,\n",
      " 'ph_ctg_combined_sorted_anno': <BedTool(/home/anjuni/analysis/gff_output/Pst_104E_v13_ph_ctg_combined_sorted_anno.gff3)>}\n"
     ]
    }
   ],
   "source": [
    "pprint.pprint(GFF) # see if it works"
   ]
  },
  {
   "cell_type": "code",
   "execution_count": 20,
   "metadata": {},
   "outputs": [],
   "source": [
    "TE = {}\n",
    "for file in te_file_list:\n",
    "    name = (file[46:-4])\n",
    "    te_file = BedTool(file)\n",
    "    TE[name] = te_file"
   ]
  },
  {
   "cell_type": "code",
   "execution_count": 21,
   "metadata": {},
   "outputs": [
    {
     "name": "stdout",
     "output_type": "stream",
     "text": [
      "{'h_ctg.REPET.sorted.filtered.superfamily': <BedTool(/home/anjuni/analysis/gff_output/Pst_104E_v13_h_ctg.REPET.sorted.filtered.superfamily.gff)>,\n",
      " 'p_ctg.REPET.sorted.filtered.superfamily': <BedTool(/home/anjuni/analysis/gff_output/Pst_104E_v13_p_ctg.REPET.sorted.filtered.superfamily.gff)>,\n",
      " 'ph_ctg.REPET.sorted.filtered.superfamily': <BedTool(/home/anjuni/analysis/gff_output/Pst_104E_v13_ph_ctg.REPET.sorted.filtered.superfamily.gff)>}\n"
     ]
    }
   ],
   "source": [
    "# might have to sort these TE files by position. ask Ben if they are\n",
    "pprint.pprint(TE) # see if it works "
   ]
  },
  {
   "cell_type": "markdown",
   "metadata": {},
   "source": [
    "## <span style='color:deeppink'> 1. Comparing methylation sequencing methods <span/>"
   ]
  },
  {
   "cell_type": "code",
   "execution_count": 36,
   "metadata": {},
   "outputs": [
    {
     "name": "stdout",
     "output_type": "stream",
     "text": [
      "/home/anjuni/methylation_calling/pacbio/input/sorted_bed_files/filtered_bed/6mA_prob_smrtlink_sorted.cutoff.0.99.bed\n",
      "/home/anjuni/methylation_calling/pacbio/input/sorted_bed_files/filtered_bed/6mA_tombo_sorted.cutoff.0.99.bed\n"
     ]
    }
   ],
   "source": [
    "%%bash\n",
    "\n",
    "# find overlap between 6mA from PacBio and Nanopore\n",
    "\n",
    "pb=/home/anjuni/methylation_calling/pacbio/input/sorted_bed_files/filtered_bed/6mA_prob_smrtlink_sorted.cutoff.0.99.bed\n",
    "ont=/home/anjuni/methylation_calling/pacbio/input/sorted_bed_files/filtered_bed/6mA_tombo_sorted.cutoff.0.99.bed\n",
    "out1=/home/anjuni/analysis/bedtools_output/sequencing_comparison/6mA_pb_ont_cutoff_0.99.bed\n",
    "out2=/home/anjuni/analysis/bedtools_output/sequencing_comparison/6mA_ont_pb_cutoff_0.99.bed\n",
    "echo $pb\n",
    "echo $ont\n",
    "\n",
    "bedtools intersect -a $pb -b $ont > $out1\n",
    "bedtools intersect -a $ont -b $pb > $out2"
   ]
  },
  {
   "cell_type": "code",
   "execution_count": 37,
   "metadata": {},
   "outputs": [
    {
     "name": "stdout",
     "output_type": "stream",
     "text": [
      "    507    3042   25373\n",
      "    507    3042   18730\n"
     ]
    }
   ],
   "source": [
    "%%bash\n",
    "\n",
    "#check how many overlapping sites there were\n",
    "\n",
    "cd /home/anjuni/analysis/bedtools_output/sequencing_comparison/\n",
    "less 6mA_pb_ont_cutoff_0.99.bed | wc\n",
    "less 6mA_ont_pb_cutoff_0.99.bed | wc"
   ]
  },
  {
   "cell_type": "code",
   "execution_count": 38,
   "metadata": {},
   "outputs": [
    {
     "name": "stdout",
     "output_type": "stream",
     "text": [
      "/home/anjuni/methylation_calling/pacbio/input/sorted_bed_files/filtered_bed/6mA_prob_smrtlink_sorted.cutoff.0.99.bed\n",
      "/home/anjuni/methylation_calling/pacbio/input/sorted_bed_files/filtered_bed/6mA_tombo_sorted.cutoff.0.1.bed\n"
     ]
    }
   ],
   "source": [
    "%%bash\n",
    "\n",
    "# try again with all the tombo sites\n",
    "\n",
    "pb=/home/anjuni/methylation_calling/pacbio/input/sorted_bed_files/filtered_bed/6mA_prob_smrtlink_sorted.cutoff.0.99.bed\n",
    "ont=/home/anjuni/methylation_calling/pacbio/input/sorted_bed_files/filtered_bed/6mA_tombo_sorted.cutoff.0.1.bed\n",
    "out1=/home/anjuni/analysis/bedtools_output/sequencing_comparison/6mA_pb_ont_cutoff_0.1.bed\n",
    "out2=/home/anjuni/analysis/bedtools_output/sequencing_comparison/6mA_ont_pb_cutoff_0.1.bed\n",
    "echo $pb\n",
    "echo $ont\n",
    "\n",
    "bedtools intersect -a $pb -b $ont > $out1\n",
    "bedtools intersect -a $ont -b $pb > $out2"
   ]
  },
  {
   "cell_type": "code",
   "execution_count": 42,
   "metadata": {},
   "outputs": [
    {
     "data": {
      "text/plain": [
       "0.002325019607843137"
      ]
     },
     "execution_count": 42,
     "metadata": {},
     "output_type": "execute_result"
    }
   ],
   "source": [
    "88932/(153000000 / 4)"
   ]
  },
  {
   "cell_type": "markdown",
   "metadata": {},
   "source": [
    "random set overlapping the A's in genome. chi squared test"
   ]
  },
  {
   "cell_type": "code",
   "execution_count": 39,
   "metadata": {},
   "outputs": [
    {
     "name": "stdout",
     "output_type": "stream",
     "text": [
      "  77694  466164 3937561\n",
      "  77694  466164 3100531\n"
     ]
    }
   ],
   "source": [
    "%%bash\n",
    "\n",
    "#check how many overlapping sites there were\n",
    "\n",
    "cd /home/anjuni/analysis/bedtools_output/sequencing_comparison/\n",
    "less 6mA_pb_ont_cutoff_0.1.bed | wc\n",
    "less 6mA_ont_pb_cutoff_0.1.bed | wc"
   ]
  },
  {
   "cell_type": "markdown",
   "metadata": {},
   "source": [
    "There are more sites when using the low confidence sites from tombo, compared to only using only high confidence sites from both"
   ]
  },
  {
   "cell_type": "markdown",
   "metadata": {},
   "source": [
    "## <span style='color:limegreen'> 2. Comparing methylation detection methods <span/>"
   ]
  },
  {
   "cell_type": "code",
   "execution_count": null,
   "metadata": {},
   "outputs": [],
   "source": []
  }
 ],
 "metadata": {
  "kernelspec": {
   "display_name": "Python 3",
   "language": "python",
   "name": "python3"
  },
  "language_info": {
   "codemirror_mode": {
    "name": "ipython",
    "version": 3
   },
   "file_extension": ".py",
   "mimetype": "text/x-python",
   "name": "python",
   "nbconvert_exporter": "python",
   "pygments_lexer": "ipython3",
   "version": "3.6.4"
  }
 },
 "nbformat": 4,
 "nbformat_minor": 2
}
