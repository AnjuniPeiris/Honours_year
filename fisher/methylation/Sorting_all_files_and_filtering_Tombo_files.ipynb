{
 "cells": [
  {
   "cell_type": "markdown",
   "metadata": {},
   "source": [
    "# <span style='color:#ff4747'> Sorting_all_files_and_filtering_Tombo_files <span/>\n",
    "\n",
    "### This is a script of file conversions to go between the 'Methylation_data_prep' notebook and the 'BEDTools_data_prep' notebook.\n",
    "\n",
    "The steps in this script are:\n",
    "\n",
    "1. Sort all bed files\n",
    "2. Filter tombo files to make high-confidence files with no zero-probability sites."
   ]
  },
  {
   "cell_type": "markdown",
   "metadata": {},
   "source": [
    "### <span style='color:#ff7547'> 1. Sort all bed files <span/>"
   ]
  },
  {
   "cell_type": "code",
   "execution_count": null,
   "metadata": {},
   "outputs": [],
   "source": [
    "%%bash\n",
    "\n",
    "#sort all bed files produced by 'Methylation_data_prep' notebook\n",
    "\n",
    "#go to the folder containing all bed files.\n",
    "cd ~/methylation_calling/pacbio/input/bed_files\n",
    "#contains: 5mC_nanopolish.bed , 5mC_hc_nanopolish.bed , 6mA_tombo.bed , 5mC_tombo.bed , 6mA_prob_smrtlink.bed\n",
    "\n",
    "for bed in *.bed;do echo ${bed};len=${#bed};sortBed -i ${bed} >  ${bed:0:len-4}_sorted.bed; done\n",
    "\n",
    "mv *sorted.bed ~/methylation_calling/pacbio/input/sorted_bed_files"
   ]
  },
  {
   "cell_type": "markdown",
   "metadata": {},
   "source": [
    "### <span style='color:#ffa347'> 2. Filter tombo files to make high-confidence files with no zero-probability sites. <span/>"
   ]
  },
  {
   "cell_type": "code",
   "execution_count": null,
   "metadata": {},
   "outputs": [],
   "source": [
    "import pybedtools\n",
    "from pybedtools import BedTool\n",
    "import os\n",
    "import glob\n",
    "import pprint\n",
    "import numpy # needed for last few bedtools functions\n",
    "import scipy"
   ]
  },
  {
   "cell_type": "code",
   "execution_count": null,
   "metadata": {},
   "outputs": [],
   "source": [
    "#First we need to define the base dirs\n",
    "DIRS ={}\n",
    "DIRS['BASE'] = '/home/anjuni/methylation_calling/pacbio'\n",
    "DIRS['BED_INPUT'] = os.path.join(DIRS['BASE'], 'input', 'sorted_bed_files')"
   ]
  },
  {
   "cell_type": "code",
   "execution_count": null,
   "metadata": {},
   "outputs": [],
   "source": [
    "#output files for trying to filter the tombo files\n",
    "hc_tombo_m5c = DIRS['BED_OUT'] = os.path.join(DIRS['BASE'], 'output', 'intersected_bed_files', '5mC_hc_tombo_sorted.bed')\n",
    "hc_tombo_m6a = DIRS['BED_OUT'] = os.path.join(DIRS['BASE'], 'output', 'intersected_bed_files', '6mA_hc_tombo_sorted.bed')"
   ]
  },
  {
   "cell_type": "code",
   "execution_count": null,
   "metadata": {},
   "outputs": [],
   "source": [
    "#Quick chech if directories exist\n",
    "for value in DIRS.values():\n",
    "    if not os.path.exists(value):\n",
    "        print('%s does not exist' % value)\n",
    "    else:\n",
    "        print(value)"
   ]
  },
  {
   "cell_type": "code",
   "execution_count": null,
   "metadata": {},
   "outputs": [],
   "source": [
    "#Make filepaths\n",
    "bed_file_list = [fn for fn in glob.iglob('%s/*.bed' % DIRS['BED_INPUT'], recursive=True)]"
   ]
  },
  {
   "cell_type": "code",
   "execution_count": null,
   "metadata": {},
   "outputs": [],
   "source": [
    "#Check that the list works\n",
    "print(*bed_file_list, sep='\\n')"
   ]
  },
  {
   "cell_type": "code",
   "execution_count": null,
   "metadata": {},
   "outputs": [],
   "source": [
    "# Using a dictionary to make a list of bed files\n",
    "BED = {}\n",
    "for file in bed_file_list:\n",
    "    name = (file[63:-4])\n",
    "    bed_file = BedTool(file)\n",
    "    BED[name] = bed_file"
   ]
  },
  {
   "cell_type": "code",
   "execution_count": null,
   "metadata": {},
   "outputs": [],
   "source": [
    "# see if dictionary works\n",
    "pprint.pprint(BED)"
   ]
  },
  {
   "cell_type": "code",
   "execution_count": null,
   "metadata": {},
   "outputs": [],
   "source": [
    "# define function to filter\n",
    "def score_filter(feature, L):\n",
    "    \"Returns True if feature is longer than L\"\n",
    "    return float(feature.score) > L"
   ]
  },
  {
   "cell_type": "code",
   "execution_count": null,
   "metadata": {},
   "outputs": [],
   "source": [
    "# filter out scores that are zero\n",
    "filtered_tombo_m5c = BED['5mC_tombo_sorted'].filter(score_filter, 0)\n",
    "filtered_tombo_m6a = BED['6mA_tombo_sorted'].filter(score_filter, 0)"
   ]
  },
  {
   "cell_type": "code",
   "execution_count": null,
   "metadata": {},
   "outputs": [],
   "source": [
    "# save to a file\n",
    "filtered_tombo_m5c.saveas(hc_tombo_m5c)\n",
    "filtered_tombo_m6a.saveas(hc_tombo_m6a)"
   ]
  }
 ],
 "metadata": {
  "kernelspec": {
   "display_name": "Python 3",
   "language": "python",
   "name": "python3"
  },
  "language_info": {
   "codemirror_mode": {
    "name": "ipython",
    "version": 3
   },
   "file_extension": ".py",
   "mimetype": "text/x-python",
   "name": "python",
   "nbconvert_exporter": "python",
   "pygments_lexer": "ipython3",
   "version": "3.6.4"
  }
 },
 "nbformat": 4,
 "nbformat_minor": 2
}
