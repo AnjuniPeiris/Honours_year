{
 "cells": [
  {
   "cell_type": "markdown",
   "metadata": {},
   "source": [
    "# <span style=\"color:#ff1414\"> BEDtools analysis. </span>\n",
    "\n",
    "This is a script to answer research questions outlined elsewhere. In summary, this script:\n",
    "\n",
    "1. compares methylation results between different methylation-callers, and between different methylation sequencing methods.\n",
    "\n",
    "2. compares methylation between genes and non-gene regions\n",
    "\n",
    "3. compares methylation between transposons and non-repetitive regions\n",
    "\n",
    "4. compares transposons and genes\n",
    "\n",
    "\n",
    "Note:\n",
    "- PB/pb = PacBio\n",
    "- ONT/ont = Oxford Nanopore Technology\n",
    "- NP = Nanopolish"
   ]
  },
  {
   "cell_type": "code",
   "execution_count": 2,
   "metadata": {},
   "outputs": [],
   "source": [
    "import pybedtools\n",
    "import scipy\n",
    "\n",
    "import matplotlib.patches as mpatches\n",
    "import pandas as pd\n",
    "import numpy as np # need for  stats\n",
    "\n",
    "from scipy.stats import wilcoxon\n",
    "import matplotlib.pyplot as plt\n",
    "from matplotlib_venn import venn2"
   ]
  },
  {
   "cell_type": "code",
   "execution_count": 3,
   "metadata": {},
   "outputs": [],
   "source": [
    "# load modules\n",
    "import os\n",
    "import glob\n",
    "import pprint\n",
    "from pybedtools import BedTool\n",
    "from scipy.stats import spearmanr"
   ]
  },
  {
   "cell_type": "code",
   "execution_count": 168,
   "metadata": {},
   "outputs": [],
   "source": [
    "\n",
    "DIRS['TE_SF'] = os.path.join(DIRS['COVERAGE'], 'superfamily_files')\n",
    "DIRS['RNA'] = os.path.join(DIRS['BASE2'], 'rna_counts')\n",
    "DIRS['edgeR'] = os.path.join(DIRS['RNA'], 'edgeR_output')\n",
    "DIRS['TRIALS'] = os.path.join(DIRS['RNA'], 'trials_tsv')\n",
    "DIRS['MEAN_STD'] = os.path.join(DIRS['RNA'], 'average_and_stdev')\n",
    "DIRS['GENE'] = os.path.join(DIRS['COVERAGE'], 'gene_level')\n",
    "DIRS['GENE_BODY'] = os.path.join(DIRS['GENE'], 'gene_body')\n",
    "DIRS['BOTH_U_D'] = os.path.join(DIRS['GENE'], 'both_upstream_downstream')\n",
    "DIRS['DOWN_STR'] = os.path.join(DIRS['GENE'], 'downstream')\n",
    "DIRS['UP_STR'] = os.path.join(DIRS['GENE'], 'upstream')\n",
    "DIRS['TSS'] = os.path.join(DIRS['GENE'], 'tss_6mA_only')"
   ]
  },
  {
   "cell_type": "code",
   "execution_count": 7,
   "metadata": {},
   "outputs": [],
   "source": [
    "DIRS['BASE1'] = '/home/anjuni/methylation_calling/pacbio'\n",
    "\n",
    "DIRS['BED_INPUT'] = os.path.join(DIRS['BASE2'], 'bedtools_output', 'sequencing_comparison')\n",
    "DIRS['GFF_INPUT'] = os.path.join(DIRS['BASE2'], 'gff_output')\n",
    "DIRS['FIGURES'] = os.path.join(DIRS['BASE2'], 'figures')\n",
    "\n",
    "DIRS['I_FROM_C'] = os.path.join(DIRS['BASE2'], 'bedtools_output', 'intersects_from_cutoffs')\n",
    "DIRS['BED_CUTOFFS'] = os.path.join(DIRS['BASE1'], 'input', 'sorted_bed_files', 'cutoffs')\n",
    "DIRS['6MA_CUTOFFS'] = os.path.join(DIRS['BASE1'], 'input', 'sorted_bed_files', 'cutoffs_6mA')\n",
    "DIRS['5MC_CUTOFFS'] = os.path.join(DIRS['BASE1'], 'input', 'sorted_bed_files', 'cutoffs_5mC')"
   ]
  },
  {
   "cell_type": "code",
   "execution_count": 6,
   "metadata": {},
   "outputs": [],
   "source": [
    "#First we need to define the base dirs\n",
    "DIRS = {}\n",
    "DIRS['BASE2'] = '/home/anjuni/analysis'\n",
    "DIRS['FEATURES'] = os.path.join(DIRS['BASE2'], 'coverage', 'feature_files')\n",
    "DIRS['RAND'] = os.path.join(DIRS['BASE2'], 'coverage', 'randomisation')\n",
    "DIRS['WINDOW_OUTPUT'] = os.path.join(DIRS['BASE2'], 'windows')\n",
    "DIRS['WINDOW_INPUT'] = os.path.join(DIRS['BASE2'], 'input_for_windows')\n",
    "DIRS['REF'] = '/home/anjuni/Pst_104_v13_assembly/'\n",
    "DIRS['COVERAGE'] = os.path.join(DIRS['BASE2'], 'coverage')"
   ]
  },
  {
   "cell_type": "code",
   "execution_count": 9,
   "metadata": {},
   "outputs": [
    {
     "name": "stdout",
     "output_type": "stream",
     "text": [
      "/home/anjuni/methylation_calling/pacbio/input/sorted_bed_files/cutoffs does not exist\n"
     ]
    }
   ],
   "source": [
    "#Quick chech if directories exist\n",
    "for value in DIRS.values():\n",
    "    if not os.path.exists(value):\n",
    "        print('%s does not exist' % value)"
   ]
  },
  {
   "cell_type": "code",
   "execution_count": 79,
   "metadata": {},
   "outputs": [],
   "source": [
    "#Make filepaths\n",
    "bed_file_list = [fn for fn in glob.iglob('%s/*.bed' % DIRS['BED_INPUT'], recursive=True)]\n",
    "gff_file_list = [fn for fn in glob.iglob('%s/*anno.gff3' % DIRS['GFF_INPUT'], recursive=True)]\n",
    "te_file_list = [fn for fn in glob.iglob('%s/*.gff' % DIRS['GFF_INPUT'], recursive=True)]"
   ]
  },
  {
   "cell_type": "code",
   "execution_count": 80,
   "metadata": {
    "collapsed": true
   },
   "outputs": [
    {
     "name": "stdout",
     "output_type": "stream",
     "text": [
      "/home/anjuni/analysis/bedtools_output/sequencing_comparison/5mC_plus_tombo_sorted.bed\n",
      "/home/anjuni/analysis/bedtools_output/sequencing_comparison/5mC_CpG_tombo_np.bed\n",
      "/home/anjuni/analysis/bedtools_output/sequencing_comparison/5mC_tombo_np.bed\n",
      "/home/anjuni/analysis/bedtools_output/sequencing_comparison/5mC_plus_CpG_np_tombo.bed\n",
      "/home/anjuni/analysis/bedtools_output/sequencing_comparison/5mC_hc_tombo_sorted.CpG.plus.bed\n",
      "/home/anjuni/analysis/bedtools_output/sequencing_comparison/5mC_s_nanopolish.bed\n",
      "/home/anjuni/analysis/bedtools_output/sequencing_comparison/nanopolish_rerun_subtract.bed\n",
      "/home/anjuni/analysis/bedtools_output/sequencing_comparison/5mC_hc_nanopolish_sorted.bed\n",
      "/home/anjuni/analysis/bedtools_output/sequencing_comparison/5mC_plus_CpG_tombo_np.bed\n",
      "/home/anjuni/analysis/bedtools_output/sequencing_comparison/nano_plus_tombo_overlap.bed\n",
      "/home/anjuni/analysis/bedtools_output/sequencing_comparison/5mC_tombo_sorted.bed\n",
      "/home/anjuni/analysis/bedtools_output/sequencing_comparison/5mC_minus_tombo_sorted.bed\n",
      "/home/anjuni/analysis/bedtools_output/sequencing_comparison/5mC_nanopolish_sorted.bed\n",
      "/home/anjuni/analysis/bedtools_output/sequencing_comparison/5mC_rerun_s_nanopolish.bed\n",
      "/home/anjuni/analysis/bedtools_output/sequencing_comparison/5mC_hc_tombo_sorted.bed\n",
      "/home/anjuni/analysis/bedtools_output/sequencing_comparison/6mA_tombo_sorted.bed\n",
      "/home/anjuni/analysis/bedtools_output/sequencing_comparison/5mC_hc_tombo_sorted.CpG.bed\n",
      "/home/anjuni/analysis/bedtools_output/sequencing_comparison/5mC_CpG_np_tombo.bed\n",
      "/home/anjuni/analysis/bedtools_output/sequencing_comparison/6mA_hc_tombo_sorted.bed\n",
      "/home/anjuni/analysis/bedtools_output/sequencing_comparison/nano_minus_tombo_overlap.bed\n",
      "/home/anjuni/analysis/bedtools_output/sequencing_comparison/6mA_ont_pb.bed\n",
      "/home/anjuni/analysis/bedtools_output/sequencing_comparison/5mC_np_tombo.bed\n",
      "/home/anjuni/analysis/bedtools_output/sequencing_comparison/6mA_prob_smrtlink_sorted.bed\n",
      "/home/anjuni/analysis/gff_output/Pst_104E_v13_ph_ctg_combined_sorted_anno.gff3\n",
      "/home/anjuni/analysis/gff_output/Pst_104E_v13_p_ctg_combined_sorted_anno.gff3\n",
      "/home/anjuni/analysis/gff_output/Pst_104E_v13_h_ctg_combined_sorted_anno.gff3\n",
      "/home/anjuni/analysis/gff_output/Pst_104E_v13_h_ctg.REPET.sorted.filtered.superfamily.gff\n",
      "/home/anjuni/analysis/gff_output/Pst_104E_v13_p_ctg.REPET.sorted.filtered.superfamily.gff\n",
      "/home/anjuni/analysis/gff_output/Pst_104E_v13_ph_ctg.REPET.sorted.filtered.superfamily.gff\n"
     ]
    }
   ],
   "source": [
    "#Check that the list works\n",
    "print(*bed_file_list, sep='\\n')\n",
    "print(*gff_file_list, sep='\\n')\n",
    "print(*te_file_list, sep='\\n')"
   ]
  },
  {
   "cell_type": "markdown",
   "metadata": {},
   "source": [
    "## <span style='color:#ffa347'> 10. Expression of methylation machinery throughout Pst life cycle. <span/>"
   ]
  },
  {
   "cell_type": "markdown",
   "metadata": {},
   "source": [
    "DNMT1/MASC2\n",
    "query: XP_001833175.2, len = 1253\n",
    "\n",
    "h_subject: Pst104E_20230, len = 1248\n",
    "\n",
    "Score = 206 bits (523), Expect = 5e-54, Method: Compositional matrix adjust. Identities = 241/925 (26%), Positives = 372/925 (40%), Gaps = 178/925 (19%)\n",
    "\n",
    "p_subject: Pst104E_04293, len = 1248\n",
    "\n",
    "Score = 206 bits (523), Expect = 5e-54, Method: Compositional matrix adjust. Identities = 241/925 (26%), Positives = 372/925 (40%), Gaps = 178/925 (19%)\n",
    "\n",
    "RAD8\n",
    "query: XP_001831325.2, len = 2184\n",
    "\n",
    "h_subject: Pst104E_28179, len = 2204\n",
    "\n",
    "Score = 1158 bits (2996), Expect = 0.0, Method: Compositional matrix adjust. Identities = 643/1386 (46%), Positives = 837/1386 (60%), Gaps = 76/1386 (5%)\n",
    "\n",
    "p_subject: Pst104E_12497, len = 1248"
   ]
  },
  {
   "cell_type": "markdown",
   "metadata": {},
   "source": [
    "DNMT1/MASC2\n",
    "- h_subject: Pst104E_20230   //   gene_model_hcontig_0009_24.226\n",
    "- p_subject: Pst104E_04293   //   gene_model_pcontig_009.363\n",
    "    \n",
    "RAD8\n",
    "- h_subject: Pst104E_28179   //   gene_model_hcontig_0052_06.60\n",
    "- p_subject: Pst104E_12497   //   gene_model_pcontig_052.64\n"
   ]
  },
  {
   "cell_type": "code",
   "execution_count": null,
   "metadata": {},
   "outputs": [],
   "source": [
    "# write this function later!!\n",
    "def grep_gene_name()"
   ]
  },
  {
   "cell_type": "code",
   "execution_count": 168,
   "metadata": {},
   "outputs": [],
   "source": [
    "# make dicts of BLAST results\n",
    "blast_h = { 'DNMT1/MASC2' : 'gene_model_hcontig_0009_24.226', 'RAD8' : 'gene_model_hcontig_0052_06.60' }\n",
    "blast_p = { 'DNMT1/MASC2' : 'gene_model_pcontig_009.363', 'RAD8' : 'gene_model_pcontig_052.64' }"
   ]
  },
  {
   "cell_type": "code",
   "execution_count": 169,
   "metadata": {},
   "outputs": [],
   "source": [
    "# make rnaseq dict\n",
    "rnaseq_df_dict = {}\n",
    "for fn in glob.iglob('%s/*_gene_rpkm_average.tsv' % DIRS['MEAN_STD'], recursive=True):\n",
    "    if len(fn) == 87:\n",
    "        df = pd.read_csv(fn, header=0, sep='\\t')\n",
    "        rnaseq_df_dict[fn.split('/')[-1]] = df"
   ]
  },
  {
   "cell_type": "code",
   "execution_count": 180,
   "metadata": {},
   "outputs": [],
   "source": [
    "rnaseq_fn_dict = {}\n",
    "for fn in glob.iglob('%s/*_gene_rpkm_average.tsv' % DIRS['MEAN_STD'], recursive=True):\n",
    "    if len(fn) == 87:\n",
    "        rnaseq_fn_dict[fn.split('/')[-1]] = fn"
   ]
  },
  {
   "cell_type": "code",
   "execution_count": 181,
   "metadata": {},
   "outputs": [
    {
     "data": {
      "text/plain": [
       "{'Pst_104E_v13_h_gene_rpkm_average.tsv': '/home/anjuni/analysis/rna_counts/average_and_stdev/Pst_104E_v13_h_gene_rpkm_average.tsv',\n",
       " 'Pst_104E_v13_p_gene_rpkm_average.tsv': '/home/anjuni/analysis/rna_counts/average_and_stdev/Pst_104E_v13_p_gene_rpkm_average.tsv'}"
      ]
     },
     "execution_count": 181,
     "metadata": {},
     "output_type": "execute_result"
    }
   ],
   "source": [
    "rnaseq_fn_dict"
   ]
  },
  {
   "cell_type": "code",
   "execution_count": 166,
   "metadata": {},
   "outputs": [
    {
     "data": {
      "text/plain": [
       "'/home/anjuni/analysis/rna_counts/average_and_stdev'"
      ]
     },
     "execution_count": 166,
     "metadata": {},
     "output_type": "execute_result"
    }
   ],
   "source": [
    "DIRS['MEAN_STD']"
   ]
  },
  {
   "cell_type": "code",
   "execution_count": 171,
   "metadata": {
    "scrolled": true
   },
   "outputs": [
    {
     "data": {
      "text/html": [
       "<div>\n",
       "<style scoped>\n",
       "    .dataframe tbody tr th:only-of-type {\n",
       "        vertical-align: middle;\n",
       "    }\n",
       "\n",
       "    .dataframe tbody tr th {\n",
       "        vertical-align: top;\n",
       "    }\n",
       "\n",
       "    .dataframe thead th {\n",
       "        text-align: right;\n",
       "    }\n",
       "</style>\n",
       "<table border=\"1\" class=\"dataframe\">\n",
       "  <thead>\n",
       "    <tr style=\"text-align: right;\">\n",
       "      <th></th>\n",
       "      <th>gene_ID</th>\n",
       "      <th>GS</th>\n",
       "      <th>HE</th>\n",
       "      <th>IT0</th>\n",
       "      <th>IT6</th>\n",
       "      <th>IT9</th>\n",
       "      <th>UG</th>\n",
       "    </tr>\n",
       "  </thead>\n",
       "  <tbody>\n",
       "    <tr>\n",
       "      <th>0</th>\n",
       "      <td>gene_model_hcontig_0000_03.1</td>\n",
       "      <td>0.487427</td>\n",
       "      <td>0.000000</td>\n",
       "      <td>0.000000</td>\n",
       "      <td>0.000000</td>\n",
       "      <td>2.377196</td>\n",
       "      <td>0.384531</td>\n",
       "    </tr>\n",
       "    <tr>\n",
       "      <th>1</th>\n",
       "      <td>gene_model_hcontig_0000_03.2</td>\n",
       "      <td>0.577405</td>\n",
       "      <td>144.208849</td>\n",
       "      <td>0.000000</td>\n",
       "      <td>1016.181477</td>\n",
       "      <td>456.791691</td>\n",
       "      <td>0.446980</td>\n",
       "    </tr>\n",
       "    <tr>\n",
       "      <th>2</th>\n",
       "      <td>gene_model_hcontig_0000_03.3</td>\n",
       "      <td>564.783136</td>\n",
       "      <td>52.086774</td>\n",
       "      <td>24.713948</td>\n",
       "      <td>235.779282</td>\n",
       "      <td>239.133947</td>\n",
       "      <td>316.475087</td>\n",
       "    </tr>\n",
       "    <tr>\n",
       "      <th>3</th>\n",
       "      <td>gene_model_hcontig_0000_03.4</td>\n",
       "      <td>0.000000</td>\n",
       "      <td>0.167865</td>\n",
       "      <td>0.000000</td>\n",
       "      <td>0.115347</td>\n",
       "      <td>0.179739</td>\n",
       "      <td>0.000000</td>\n",
       "    </tr>\n",
       "    <tr>\n",
       "      <th>4</th>\n",
       "      <td>EVM prediction%2hcontig_0000_003.5</td>\n",
       "      <td>0.000000</td>\n",
       "      <td>0.000000</td>\n",
       "      <td>0.000000</td>\n",
       "      <td>0.000000</td>\n",
       "      <td>0.000000</td>\n",
       "      <td>0.000000</td>\n",
       "    </tr>\n",
       "  </tbody>\n",
       "</table>\n",
       "</div>"
      ],
      "text/plain": [
       "                              gene_ID          GS          HE        IT0  \\\n",
       "0        gene_model_hcontig_0000_03.1    0.487427    0.000000   0.000000   \n",
       "1        gene_model_hcontig_0000_03.2    0.577405  144.208849   0.000000   \n",
       "2        gene_model_hcontig_0000_03.3  564.783136   52.086774  24.713948   \n",
       "3        gene_model_hcontig_0000_03.4    0.000000    0.167865   0.000000   \n",
       "4  EVM prediction%2hcontig_0000_003.5    0.000000    0.000000   0.000000   \n",
       "\n",
       "           IT6         IT9          UG  \n",
       "0     0.000000    2.377196    0.384531  \n",
       "1  1016.181477  456.791691    0.446980  \n",
       "2   235.779282  239.133947  316.475087  \n",
       "3     0.115347    0.179739    0.000000  \n",
       "4     0.000000    0.000000    0.000000  "
      ]
     },
     "execution_count": 171,
     "metadata": {},
     "output_type": "execute_result"
    }
   ],
   "source": [
    "rnaseq_df_dict['Pst_104E_v13_h_gene_rpkm_average.tsv'].head()"
   ]
  },
  {
   "cell_type": "code",
   "execution_count": 172,
   "metadata": {},
   "outputs": [
    {
     "data": {
      "text/plain": [
       "pandas.core.frame.DataFrame"
      ]
     },
     "execution_count": 172,
     "metadata": {},
     "output_type": "execute_result"
    }
   ],
   "source": [
    "for rkey, rvalue in rnaseq_fn.items():\n",
    "    df = pd.read_csv(rvalue, sep='\\t', header = 0)\n",
    "\n",
    "df.head()\n",
    "type(df)"
   ]
  },
  {
   "cell_type": "code",
   "execution_count": 173,
   "metadata": {
    "collapsed": true
   },
   "outputs": [
    {
     "ename": "SyntaxError",
     "evalue": "invalid syntax (<ipython-input-173-bc07e9909af0>, line 3)",
     "output_type": "error",
     "traceback": [
      "\u001b[0;36m  File \u001b[0;32m\"<ipython-input-173-bc07e9909af0>\"\u001b[0;36m, line \u001b[0;32m3\u001b[0m\n\u001b[0;31m    for rkey, rvalue in rnaseq_\u001b[0m\n\u001b[0m                               ^\u001b[0m\n\u001b[0;31mSyntaxError\u001b[0m\u001b[0;31m:\u001b[0m invalid syntax\n"
     ]
    }
   ],
   "source": [
    "def blast_exp_df(blast_dict, rnaseq_df):\n",
    "    for bkey, bvalue in blast_dict.items():\n",
    "        for rkey, rvalue in rnaseq_"
   ]
  },
  {
   "cell_type": "code",
   "execution_count": 189,
   "metadata": {},
   "outputs": [
    {
     "name": "stdout",
     "output_type": "stream",
     "text": [
      "gene_ID    gene_model_hcontig_0009_24.226\n",
      "GS                                14.0442\n",
      "HE                                 10.199\n",
      "IT0                                     0\n",
      "IT6                               8.27879\n",
      "IT9                               13.4791\n",
      "UG                                8.75372\n",
      "Name: 5163, dtype: object\n",
      "gene_ID    gene_model_hcontig_0052_06.60\n",
      "GS                               25.5531\n",
      "HE                               5.27593\n",
      "IT0                              4.24689\n",
      "IT6                              23.0232\n",
      "IT9                              43.3039\n",
      "UG                               23.2504\n",
      "Name: 14740, dtype: object\n"
     ]
    }
   ],
   "source": [
    "for bkey, bvalue in blast_dict.items():\n",
    "        for rkey, rvalue in rnaseq_fn.items():\n",
    "            df = pd.read_csv(rvalue, sep='\\t', header = 0)\n",
    "            for index, row in df.iterrows():\n",
    "                if bvalue == row['gene_ID']:\n",
    "                    pprint.pprint(row)"
   ]
  },
  {
   "cell_type": "code",
   "execution_count": 2554,
   "metadata": {},
   "outputs": [
    {
     "name": "stdout",
     "output_type": "stream",
     "text": [
      "gene_ID    gene_model_pcontig_009.363\n",
      "GS                             12.535\n",
      "HE                            9.15761\n",
      "IT0                                 0\n",
      "IT6                           7.68013\n",
      "IT9                           12.3386\n",
      "UG                            7.73364\n",
      "Name: 5174, dtype: object\n",
      "gene_ID    gene_model_pcontig_052.64\n",
      "GS                           22.8899\n",
      "HE                           4.73403\n",
      "IT0                          3.78453\n",
      "IT6                          21.4138\n",
      "IT9                          39.8084\n",
      "UG                           20.6473\n",
      "Name: 15076, dtype: object\n"
     ]
    }
   ],
   "source": [
    "for bkey, bvalue in blast_dict.items():\n",
    "        for rkey, rvalue in rnaseq_fn.items():\n",
    "            df = pd.read_csv(rvalue, sep='\\t', header = 0)\n",
    "            for index, row in df.iterrows():\n",
    "                if bvalue == row['gene_ID']:\n",
    "                    pprint.pprint(row)"
   ]
  },
  {
   "cell_type": "code",
   "execution_count": 199,
   "metadata": {},
   "outputs": [],
   "source": [
    "blast_dict = blast_h\n",
    "rnaseq_fn = {}\n",
    "rnaseq_fn['Pst_104E_v13_h_gene_rpkm_average.tsv'] = rnaseq_fn_dict['Pst_104E_v13_h_gene_rpkm_average.tsv']"
   ]
  },
  {
   "cell_type": "code",
   "execution_count": null,
   "metadata": {},
   "outputs": [],
   "source": [
    "# getting stdev"
   ]
  },
  {
   "cell_type": "code",
   "execution_count": 194,
   "metadata": {},
   "outputs": [],
   "source": [
    "rnaseq_fn_dict = {}\n",
    "for fn in glob.iglob('%s/*_gene_rpkm_stdev.tsv' % DIRS['MEAN_STD'], recursive=True):\n",
    "    if len(fn) == 85:\n",
    "        rnaseq_fn_dict[fn.split('/')[-1]] = fn"
   ]
  },
  {
   "cell_type": "code",
   "execution_count": 195,
   "metadata": {},
   "outputs": [
    {
     "data": {
      "text/plain": [
       "{'Pst_104E_v13_h_gene_rpkm_stdev.tsv': '/home/anjuni/analysis/rna_counts/average_and_stdev/Pst_104E_v13_h_gene_rpkm_stdev.tsv',\n",
       " 'Pst_104E_v13_p_gene_rpkm_stdev.tsv': '/home/anjuni/analysis/rna_counts/average_and_stdev/Pst_104E_v13_p_gene_rpkm_stdev.tsv'}"
      ]
     },
     "execution_count": 195,
     "metadata": {},
     "output_type": "execute_result"
    }
   ],
   "source": [
    "rnaseq_fn_dict"
   ]
  },
  {
   "cell_type": "code",
   "execution_count": 200,
   "metadata": {},
   "outputs": [
    {
     "name": "stdout",
     "output_type": "stream",
     "text": [
      "gene_ID    gene_model_hcontig_0009_24.226\n",
      "GS                               0.710032\n",
      "HE                               0.244654\n",
      "IT0                                     0\n",
      "IT6                               1.12791\n",
      "IT9                               1.75511\n",
      "UG                                1.15206\n",
      "Name: 5163, dtype: object\n",
      "gene_ID    gene_model_hcontig_0052_06.60\n",
      "GS                               2.11856\n",
      "HE                              0.382341\n",
      "IT0                              6.00601\n",
      "IT6                              2.55504\n",
      "IT9                              11.9945\n",
      "UG                              0.954619\n",
      "Name: 14740, dtype: object\n"
     ]
    }
   ],
   "source": [
    "for bkey, bvalue in blast_dict.items():\n",
    "        for rkey, rvalue in rnaseq_fn.items():\n",
    "            df = pd.read_csv(rvalue, sep='\\t', header = 0)\n",
    "            for index, row in df.iterrows():\n",
    "                if bvalue == row['gene_ID']:\n",
    "                    pprint.pprint(row)"
   ]
  },
  {
   "cell_type": "code",
   "execution_count": 201,
   "metadata": {},
   "outputs": [],
   "source": [
    "blast_dict = blast_p\n",
    "rnaseq_fn = {}\n",
    "rnaseq_fn['Pst_104E_v13_p_gene_rpkm_average.tsv'] = rnaseq_fn_dict['Pst_104E_v13_p_gene_rpkm_average.tsv']"
   ]
  },
  {
   "cell_type": "code",
   "execution_count": 184,
   "metadata": {
    "collapsed": true
   },
   "outputs": [
    {
     "data": {
      "text/plain": [
       "{'Pst_104E_v13_h_gene_rpkm_average.tsv':                                    gene_ID          GS          HE        IT0  \\\n",
       " 0             gene_model_hcontig_0000_03.1    0.487427    0.000000   0.000000   \n",
       " 1             gene_model_hcontig_0000_03.2    0.577405  144.208849   0.000000   \n",
       " 2             gene_model_hcontig_0000_03.3  564.783136   52.086774  24.713948   \n",
       " 3             gene_model_hcontig_0000_03.4    0.000000    0.167865   0.000000   \n",
       " 4       EVM prediction%2hcontig_0000_003.5    0.000000    0.000000   0.000000   \n",
       " 5       EVM prediction%2hcontig_0000_003.6    0.000000    0.000000   0.000000   \n",
       " 6             gene_model_hcontig_0000_03.7   10.457924    0.176728   0.000000   \n",
       " 7             gene_model_hcontig_0000_03.8    0.000000   31.659461   0.000000   \n",
       " 8             gene_model_hcontig_0000_03.9    0.005005    0.000000   0.000000   \n",
       " 9            gene_model_hcontig_0000_03.10    0.000000    0.000000   0.000000   \n",
       " 10           gene_model_hcontig_0000_03.11    0.035380    0.179622   0.000000   \n",
       " 11           gene_model_hcontig_0000_03.12   13.770215    3.301836   0.000000   \n",
       " 12           gene_model_hcontig_0000_03.13   21.021169   45.222179   0.000000   \n",
       " 13           gene_model_hcontig_0000_03.14    2.050254   25.219664   0.000000   \n",
       " 14           gene_model_hcontig_0000_03.15    0.110116   32.706249   0.000000   \n",
       " 15           gene_model_hcontig_0000_03.16    0.000000    0.000000   0.000000   \n",
       " 16           gene_model_hcontig_0000_03.17   33.566947   14.088033  57.326366   \n",
       " 17           gene_model_hcontig_0000_03.18   35.344241   32.267829   0.000000   \n",
       " 18           gene_model_hcontig_0000_03.19   38.722015   27.233848  11.696595   \n",
       " 19           gene_model_hcontig_0000_03.20   23.033791   15.329237   0.000000   \n",
       " 20     EVM prediction%2hcontig_0000_003.21    0.000000    0.000000   0.000000   \n",
       " 21     EVM prediction%2hcontig_0000_003.22    0.000000    0.000000   0.000000   \n",
       " 22           gene_model_hcontig_0000_03.23    0.032001    9.584925   0.000000   \n",
       " 23           gene_model_hcontig_0000_03.24    0.028180    0.000000   0.000000   \n",
       " 24     EVM prediction%2hcontig_0000_003.25    0.003408    0.082395   0.000000   \n",
       " 25           gene_model_hcontig_0000_03.26   16.459957   12.460087   0.000000   \n",
       " 26           gene_model_hcontig_0000_03.27    0.020739    0.850206   0.000000   \n",
       " 27           gene_model_hcontig_0000_03.28    0.043187  129.727107   0.000000   \n",
       " 28           gene_model_hcontig_0000_03.29    3.361388   49.773752   0.000000   \n",
       " 29           gene_model_hcontig_0000_03.30   25.493052   18.779745   0.000000   \n",
       " ...                                    ...         ...         ...        ...   \n",
       " 17169         gene_model_hcontig_0166_01.1   16.232294    0.591894   0.000000   \n",
       " 17170         gene_model_hcontig_0166_01.2    2.042071    0.620563   0.000000   \n",
       " 17171   EVM prediction%2hcontig_0166_001.3    0.010791    0.025960   0.000000   \n",
       " 17172         gene_model_hcontig_0166_01.4    2.347413    9.530131   8.081017   \n",
       " 17173         gene_model_hcontig_0166_01.5   10.319084    7.005679   0.000000   \n",
       " 17174         gene_model_hcontig_0166_01.6   52.625038   41.553718   0.000000   \n",
       " 17175         gene_model_hcontig_0166_01.7   44.860933   19.675347   0.000000   \n",
       " 17176         gene_model_hcontig_0166_01.8   88.619776  161.382403   0.000000   \n",
       " 17177   EVM prediction%2hcontig_0184_001.1    0.000000    0.015460   0.000000   \n",
       " 17178   EVM prediction%2hcontig_0184_001.2    8.306695    3.752924   0.000000   \n",
       " 17179         gene_model_hcontig_0184_01.3    0.507533    0.367775   0.000000   \n",
       " 17180   EVM prediction%2hcontig_0184_001.4    0.000000    0.000000   0.000000   \n",
       " 17181   EVM prediction%2hcontig_0184_001.5    0.000000    0.000000   0.000000   \n",
       " 17182         gene_model_hcontig_0189_01.1    0.056819   16.272259   0.000000   \n",
       " 17183         gene_model_hcontig_0189_01.2    0.137161    0.000000   0.000000   \n",
       " 17184         gene_model_hcontig_0189_01.3   36.383070   12.171772  12.678837   \n",
       " 17185         gene_model_hcontig_0189_01.4   16.966984   25.596827   0.000000   \n",
       " 17186         gene_model_hcontig_0189_01.5   36.119095   21.171104   0.000000   \n",
       " 17187         gene_model_hcontig_0189_01.6    3.464331    0.077092   0.000000   \n",
       " 17188         gene_model_hcontig_0189_01.7   16.102424   15.412320   0.000000   \n",
       " 17189         gene_model_hcontig_0193_02.1    0.000000    0.000000   0.000000   \n",
       " 17190         gene_model_hcontig_0225_01.1    0.000000    3.065493   0.000000   \n",
       " 17191         gene_model_hcontig_0225_01.2    0.047770  777.130850   0.000000   \n",
       " 17192         gene_model_hcontig_0225_01.3    0.000000    0.188830   0.000000   \n",
       " 17193         gene_model_hcontig_0225_01.4    0.009532   89.782945   0.000000   \n",
       " 17194         gene_model_hcontig_0225_01.5    0.000000    0.000000   0.000000   \n",
       " 17195         gene_model_hcontig_0225_01.6    0.014491    0.201966   0.000000   \n",
       " 17196         gene_model_hcontig_0225_01.7    0.005778    0.123335   0.000000   \n",
       " 17197         gene_model_hcontig_0225_01.8    0.036705    4.533298   0.000000   \n",
       " 17198         gene_model_hcontig_0225_01.9   11.037935    1.549979   0.000000   \n",
       " \n",
       "                IT6         IT9          UG  \n",
       " 0         0.000000    2.377196    0.384531  \n",
       " 1      1016.181477  456.791691    0.446980  \n",
       " 2       235.779282  239.133947  316.475087  \n",
       " 3         0.115347    0.179739    0.000000  \n",
       " 4         0.000000    0.000000    0.000000  \n",
       " 5         0.000000    0.000000    0.000000  \n",
       " 6         6.702920   25.139223   15.514397  \n",
       " 7         0.511258    1.628921    0.000000  \n",
       " 8         0.000000    0.000000    0.000000  \n",
       " 9         0.000000    0.000000    0.000000  \n",
       " 10        0.169025    1.570595    0.000000  \n",
       " 11       29.075863   25.218225   10.467231  \n",
       " 12       53.066090   51.005669   48.441891  \n",
       " 13        4.187793    4.029254    8.757987  \n",
       " 14        4.991344    3.552745    0.240944  \n",
       " 15        0.000000    0.000000    0.143115  \n",
       " 16       16.673574   35.310838   44.752650  \n",
       " 17       31.035428   40.736049   29.378411  \n",
       " 18       73.615779   86.700539   45.552144  \n",
       " 19        1.466196   55.934963   23.883455  \n",
       " 20        0.000000    0.000000    0.000000  \n",
       " 21        0.000000    0.006533    0.000000  \n",
       " 22        1.474356    1.318988    0.223088  \n",
       " 23        0.147215    0.000000    0.000000  \n",
       " 24        0.104013    0.014893    0.000000  \n",
       " 25        4.153248   88.320232   18.185222  \n",
       " 26        0.896260    1.166907    0.032297  \n",
       " 27        0.357460    5.586832    0.000000  \n",
       " 28      112.589546   79.033803    8.306043  \n",
       " 29       35.036810   33.307464   28.196795  \n",
       " ...            ...         ...         ...  \n",
       " 17169     4.163661    7.710198   12.242425  \n",
       " 17170     2.069182    2.472543    5.594227  \n",
       " 17171     0.000000    0.001584    0.000000  \n",
       " 17172     5.279819    5.347050    2.293294  \n",
       " 17173    15.965152   14.864487   17.766146  \n",
       " 17174   130.749889  128.471665   37.588244  \n",
       " 17175    95.017951   84.676017   32.757779  \n",
       " 17176   147.433069  154.062555   53.114353  \n",
       " 17177     0.000000    0.000000    0.000000  \n",
       " 17178    16.907093   20.744551    3.699841  \n",
       " 17179     0.427615    1.134705    0.290874  \n",
       " 17180     0.095474    0.008579    0.000000  \n",
       " 17181     0.000000    0.066377    0.000000  \n",
       " 17182     1.767736    1.474666    0.209457  \n",
       " 17183     0.000000    0.121007    0.000000  \n",
       " 17184    26.496699   38.148224   44.253880  \n",
       " 17185     8.152417   20.971645   24.089823  \n",
       " 17186    31.408154   44.906746   24.915832  \n",
       " 17187    16.614235   25.030269    7.472903  \n",
       " 17188     8.794198   15.473085   11.977539  \n",
       " 17189     0.000000    0.000000    0.000000  \n",
       " 17190     2.809989    1.237396    0.000000  \n",
       " 17191   103.243369   61.523155    0.000000  \n",
       " 17192     0.000000    0.036023    0.000000  \n",
       " 17193    12.509716    5.125412    0.000000  \n",
       " 17194     0.000000    0.000000    0.000000  \n",
       " 17195     0.000000    0.025004    0.000000  \n",
       " 17196     0.000000    0.050630    0.013005  \n",
       " 17197     0.275282    0.552472    0.000000  \n",
       " 17198     7.596208   14.769764    8.991197  \n",
       " \n",
       " [17199 rows x 7 columns]}"
      ]
     },
     "execution_count": 184,
     "metadata": {},
     "output_type": "execute_result"
    }
   ],
   "source": [
    "rnaseq_fn"
   ]
  },
  {
   "cell_type": "code",
   "execution_count": 202,
   "metadata": {},
   "outputs": [
    {
     "name": "stdout",
     "output_type": "stream",
     "text": [
      "gene_ID    gene_model_pcontig_009.363\n",
      "GS                           0.626692\n",
      "HE                           0.208539\n",
      "IT0                                 0\n",
      "IT6                           1.11119\n",
      "IT9                            1.5958\n",
      "UG                            1.02412\n",
      "Name: 5174, dtype: object\n",
      "gene_ID    gene_model_pcontig_052.64\n",
      "GS                           1.90044\n",
      "HE                           0.33067\n",
      "IT0                          5.35214\n",
      "IT6                          2.06825\n",
      "IT9                          11.0626\n",
      "UG                          0.833817\n",
      "Name: 15076, dtype: object\n"
     ]
    }
   ],
   "source": [
    "for bkey, bvalue in blast_dict.items():\n",
    "        for rkey, rvalue in rnaseq_fn.items():\n",
    "            df = pd.read_csv(rvalue, sep='\\t', header = 0)\n",
    "            for index, row in df.iterrows():\n",
    "                if bvalue == row['gene_ID']:\n",
    "                    pprint.pprint(row)"
   ]
  },
  {
   "cell_type": "code",
   "execution_count": 218,
   "metadata": {},
   "outputs": [],
   "source": [
    "# getting all values\n",
    "rnaseq_fn_dict = {}\n",
    "for fn in glob.iglob('%s/*_gene_repRpkmMatrix_featureCounts.tsv' % DIRS['TRIALS'], recursive=True):\n",
    "    if len(fn) == 95:\n",
    "        rnaseq_fn_dict[fn.split('/')[-1]] = fn"
   ]
  },
  {
   "cell_type": "code",
   "execution_count": 219,
   "metadata": {},
   "outputs": [
    {
     "data": {
      "text/plain": [
       "{'Pst_104E_v13_h_gene_repRpkmMatrix_featureCounts.tsv': '/home/anjuni/analysis/rna_counts/trials_tsv/Pst_104E_v13_h_gene_repRpkmMatrix_featureCounts.tsv',\n",
       " 'Pst_104E_v13_p_gene_repRpkmMatrix_featureCounts.tsv': '/home/anjuni/analysis/rna_counts/trials_tsv/Pst_104E_v13_p_gene_repRpkmMatrix_featureCounts.tsv'}"
      ]
     },
     "execution_count": 219,
     "metadata": {},
     "output_type": "execute_result"
    }
   ],
   "source": [
    "rnaseq_fn_dict"
   ]
  },
  {
   "cell_type": "code",
   "execution_count": 220,
   "metadata": {},
   "outputs": [],
   "source": [
    "blast_dict = blast_h\n",
    "rnaseq_fn = {}\n",
    "rnaseq_fn['Pst_104E_v13_h_gene_repRpkmMatrix_featureCounts.tsv'] = rnaseq_fn_dict['Pst_104E_v13_h_gene_repRpkmMatrix_featureCounts.tsv']"
   ]
  },
  {
   "cell_type": "code",
   "execution_count": 222,
   "metadata": {},
   "outputs": [],
   "source": [
    "blast_dict = blast_p\n",
    "rnaseq_fn = {}\n",
    "rnaseq_fn['Pst_104E_v13_p_gene_repRpkmMatrix_featureCounts.tsv'] = rnaseq_fn_dict['Pst_104E_v13_p_gene_repRpkmMatrix_featureCounts.tsv']"
   ]
  },
  {
   "cell_type": "code",
   "execution_count": 223,
   "metadata": {},
   "outputs": [
    {
     "name": "stdout",
     "output_type": "stream",
     "text": [
      "gene_ID    gene_model_pcontig_009.363\n",
      "GS_1                          13.4194\n",
      "GS_2                          12.0437\n",
      "GS_3                          12.1418\n",
      "HE_1                          9.45151\n",
      "HE_2                          9.03185\n",
      "HE_3                          8.98946\n",
      "IT0_1                               0\n",
      "IT0_2                               0\n",
      "IT0_3                               0\n",
      "IT6_1                         8.02585\n",
      "IT6_2                         8.83485\n",
      "IT6_3                          6.1797\n",
      "IT9_1                         10.5812\n",
      "IT9_2                          11.991\n",
      "IT9_3                         14.4435\n",
      "UG_1                          8.34558\n",
      "UG_2                          6.29084\n",
      "UG_3                          8.56451\n",
      "Name: 5174, dtype: object\n",
      "gene_ID    gene_model_pcontig_052.64\n",
      "GS_1                         24.0007\n",
      "GS_2                          20.215\n",
      "GS_3                         24.4539\n",
      "HE_1                         4.28587\n",
      "HE_2                         5.07378\n",
      "HE_3                         4.84243\n",
      "IT0_1                              0\n",
      "IT0_2                              0\n",
      "IT0_3                        11.3536\n",
      "IT6_1                        23.6912\n",
      "IT6_2                        18.6856\n",
      "IT6_3                        21.8645\n",
      "IT9_1                        43.8709\n",
      "IT9_2                        50.8612\n",
      "IT9_3                        24.6929\n",
      "UG_1                         21.3944\n",
      "UG_2                         19.4836\n",
      "UG_3                         21.0639\n",
      "Name: 15076, dtype: object\n"
     ]
    }
   ],
   "source": [
    "for bkey, bvalue in blast_dict.items():\n",
    "        for rkey, rvalue in rnaseq_fn.items():\n",
    "            df = pd.read_csv(rvalue, sep='\\t', header = 0)\n",
    "            for index, row in df.iterrows():\n",
    "                if bvalue == row['gene_ID']:\n",
    "                    pprint.pprint(row)"
   ]
  },
  {
   "cell_type": "code",
   "execution_count": null,
   "metadata": {},
   "outputs": [],
   "source": [
    "# pull out the gene names for these locus tags from the annotation files\n",
    "\n",
    "# test for significant difference between alleles on both contigs"
   ]
  },
  {
   "cell_type": "markdown",
   "metadata": {},
   "source": [
    "## <span style='color:#ff4f14'>  12. Data processing for tables and graphs. <span/>"
   ]
  },
  {
   "cell_type": "code",
   "execution_count": null,
   "metadata": {},
   "outputs": [],
   "source": [
    "# Make cutoff files for Nanopolish and SMRTLink, for the table\n",
    "\n",
    "# Saving out a csv file of cutoff vs. num_sites_file1, num_sites_file2, num_overlap_sites, %_overlap for each initial file\n",
    "# Already done for tombo 6mA and all overlaps, need to do for NP, Tombo CpG and PB cutoff files\n",
    "# The csv will be formatted in excel :)\n",
    "\n",
    "# Ask Ben how to format headings properly\n",
    "\n",
    "header_6mA = ['Cutoff', 'Nanopore', 'PacBio', 'Overlapping sites', 'Percentage Overlap']\n",
    "\n",
    "header_5mC = ['Cutoff', 'Tombo', 'Nanopolish', 'Overlapping sites', 'Percentage Overlap']\n",
    "\n",
    "for akey, avalue in dict_a.items():\n",
    "    for bkey, bvalue in dict_b.items():\n",
    "        linakey= []\n",
    "        if akey == bkey:\n",
    "            cutoff = akey[x:x]\n",
    "            line.append(cutoff, avalue, bvalue)\n",
    "            "
   ]
  }
 ],
 "metadata": {
  "kernelspec": {
   "display_name": "Python 3",
   "language": "python",
   "name": "python3"
  },
  "language_info": {
   "codemirror_mode": {
    "name": "ipython",
    "version": 3
   },
   "file_extension": ".py",
   "mimetype": "text/x-python",
   "name": "python",
   "nbconvert_exporter": "python",
   "pygments_lexer": "ipython3",
   "version": "3.6.3"
  }
 },
 "nbformat": 4,
 "nbformat_minor": 2
}
