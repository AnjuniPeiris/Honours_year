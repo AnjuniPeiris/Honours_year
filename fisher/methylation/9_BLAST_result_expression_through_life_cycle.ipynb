{
 "cells": [
  {
   "cell_type": "markdown",
   "metadata": {},
   "source": [
    "# <span style=\"color:#ff1414\"> BEDtools analysis. </span>\n",
    "\n",
    "This is a script to answer research questions outlined elsewhere. In summary, this script:\n",
    "\n",
    "1. compares methylation results between different methylation-callers, and between different methylation sequencing methods.\n",
    "\n",
    "2. compares methylation between genes and non-gene regions\n",
    "\n",
    "3. compares methylation between transposons and non-repetitive regions\n",
    "\n",
    "4. compares transposons and genes\n",
    "\n",
    "\n",
    "Note:\n",
    "- PB/pb = PacBio\n",
    "- ONT/ont = Oxford Nanopore Technology\n",
    "- NP = Nanopolish"
   ]
  },
  {
   "cell_type": "code",
   "execution_count": 4,
   "metadata": {},
   "outputs": [],
   "source": [
    "# load modules\n",
    "import os\n",
    "import glob\n",
    "import pprint\n",
    "import pandas as pd"
   ]
  },
  {
   "cell_type": "code",
   "execution_count": 52,
   "metadata": {},
   "outputs": [],
   "source": [
    "#First we need to define the base dirs\n",
    "DIRS = {}\n",
    "DIRS['BASE2'] = '/home/anjuni/analysis'\n",
    "DIRS['RNA'] = os.path.join(DIRS['BASE2'], 'rna_counts')\n",
    "DIRS['MEAN_STD'] = os.path.join(DIRS['RNA'], 'average_and_stdev')\n",
    "DIRS['TRIALS'] = os.path.join(DIRS['RNA'], 'trials_tsv')\n",
    "DIRS['FIGURES'] = os.path.join(DIRS['BASE2'], 'figures')\n",
    "DIRS['BLAST_FIG'] = os.path.join(DIRS['FIGURES'], 'blast_expression')"
   ]
  },
  {
   "cell_type": "code",
   "execution_count": 6,
   "metadata": {},
   "outputs": [],
   "source": [
    "#Quick chech if directories exist\n",
    "for value in DIRS.values():\n",
    "    if not os.path.exists(value):\n",
    "        print('%s does not exist' % value)"
   ]
  },
  {
   "cell_type": "markdown",
   "metadata": {},
   "source": [
    "## <span style='color:#ffa347'> 10. Expression of methylation machinery throughout Pst life cycle. <span/>"
   ]
  },
  {
   "cell_type": "markdown",
   "metadata": {},
   "source": [
    "##### candidate protein details copied from BLAST.ipnyb\n",
    "\n",
    "\n",
    "#### DNMT1/MASC2\n",
    "\n",
    "<span style='color:darkred'> query: XP_001833175.2, len = 1253 <span/>\n",
    "\n",
    "<span style='color:purple'> h_subject: Pst104E_20230, len = 1248 <span/>\n",
    "\n",
    "Score = 206 bits (523),  Expect = 5e-54, Method: Compositional matrix adjust.\n",
    "Identities = 241/925 (26%), Positives = 372/925 (40%), Gaps = 178/925 (19%)\n",
    "\n",
    "\n",
    "<span style='color:darkblue'> p_subject: Pst104E_04293, len = 1248 <span/>\n",
    "\n",
    "Score = 206 bits (523),  Expect = 5e-54, Method: Compositional matrix adjust.\n",
    "Identities = 241/925 (26%), Positives = 372/925 (40%), Gaps = 178/925 (19%)\n",
    "\n",
    "#### RAD8\n",
    "\n",
    "<span style='color:darkred'> query: XP_001831325.2, len = 2184 <span/>\n",
    "\n",
    "<span style='color:purple'> h_subject: Pst104E_28179, len = 2204 <span/>\n",
    "\n",
    "Score = 1158 bits (2996),  Expect = 0.0, Method: Compositional matrix adjust.\n",
    "Identities = 643/1386 (46%), Positives = 837/1386 (60%), Gaps = 76/1386 (5%)\n",
    "\n",
    "\n",
    "\n",
    "<span style='color:darkblue'> p_subject: Pst104E_12497, len = 2204 <span/>\n",
    "\n",
    "Score = 1159 bits (2997),  Expect = 0.0, Method: Compositional matrix adjust.\n",
    "Identities = 643/1386 (46%), Positives = 838/1386 (60%), Gaps = 76/1386 (5%)"
   ]
  },
  {
   "cell_type": "markdown",
   "metadata": {},
   "source": [
    "DNMT1/MASC2\n",
    "- h_subject: Pst104E_20230   //   gene_model_hcontig_0009_24.226\n",
    "- p_subject: Pst104E_04293   //   gene_model_pcontig_009.363\n",
    "    \n",
    "RAD8\n",
    "- h_subject: Pst104E_28179   //   gene_model_hcontig_0052_06.60\n",
    "- p_subject: Pst104E_12497   //   gene_model_pcontig_052.64\n"
   ]
  },
  {
   "cell_type": "code",
   "execution_count": 7,
   "metadata": {},
   "outputs": [],
   "source": [
    "# make dicts of BLAST results\n",
    "blast_h = { 'DNMT1/MASC2' : 'gene_model_hcontig_0009_24.226', 'RAD8' : 'gene_model_hcontig_0052_06.60' }\n",
    "blast_p = { 'DNMT1/MASC2' : 'gene_model_pcontig_009.363', 'RAD8' : 'gene_model_pcontig_052.64' }"
   ]
  },
  {
   "cell_type": "code",
   "execution_count": 18,
   "metadata": {},
   "outputs": [],
   "source": [
    "# make dict of all BLAST results\n",
    "blast_dict = { 'DNMT1/MASC2_h' : 'gene_model_hcontig_0009_24.226', 'RAD8_h' : 'gene_model_hcontig_0052_06.60', \\\n",
    "              'DNMT1/MASC2_p' : 'gene_model_pcontig_009.363', 'RAD8_p' : 'gene_model_pcontig_052.64' }"
   ]
  },
  {
   "cell_type": "code",
   "execution_count": 19,
   "metadata": {
    "scrolled": true
   },
   "outputs": [
    {
     "data": {
      "text/plain": [
       "{'DNMT1/MASC2_h': 'gene_model_hcontig_0009_24.226',\n",
       " 'DNMT1/MASC2_p': 'gene_model_pcontig_009.363',\n",
       " 'RAD8_h': 'gene_model_hcontig_0052_06.60',\n",
       " 'RAD8_p': 'gene_model_pcontig_052.64'}"
      ]
     },
     "execution_count": 19,
     "metadata": {},
     "output_type": "execute_result"
    }
   ],
   "source": [
    "blast_dict"
   ]
  },
  {
   "cell_type": "code",
   "execution_count": null,
   "metadata": {},
   "outputs": [],
   "source": [
    "# make fn dict\n",
    "rnaseq_fn_dict = {}\n",
    "for fn in glob.iglob('%s/*_gene_rpkm_average.tsv' % DIRS['MEAN_STD'], recursive=True):\n",
    "    if len(fn) == 87:\n",
    "        rnaseq_fn_dict[fn.split('/')[-1]] = fn\n",
    "\n",
    "rnaseq_fn_dict        "
   ]
  },
  {
   "cell_type": "code",
   "execution_count": 8,
   "metadata": {},
   "outputs": [],
   "source": [
    "# make rnaseq df dict\n",
    "rnaseq_df_dict = {}\n",
    "for fn in glob.iglob('%s/*_gene_rpkm_average.tsv' % DIRS['MEAN_STD'], recursive=True):\n",
    "    if len(fn) == 87:\n",
    "        df = pd.read_csv(fn, header=0, sep='\\t')\n",
    "        rnaseq_df_dict[fn.split('/')[-1]] = df\n",
    "\n",
    "print(*rnaseq_df_dict, sep='\\t')"
   ]
  },
  {
   "cell_type": "code",
   "execution_count": 12,
   "metadata": {
    "scrolled": true
   },
   "outputs": [
    {
     "data": {
      "text/html": [
       "<div>\n",
       "<style scoped>\n",
       "    .dataframe tbody tr th:only-of-type {\n",
       "        vertical-align: middle;\n",
       "    }\n",
       "\n",
       "    .dataframe tbody tr th {\n",
       "        vertical-align: top;\n",
       "    }\n",
       "\n",
       "    .dataframe thead th {\n",
       "        text-align: right;\n",
       "    }\n",
       "</style>\n",
       "<table border=\"1\" class=\"dataframe\">\n",
       "  <thead>\n",
       "    <tr style=\"text-align: right;\">\n",
       "      <th></th>\n",
       "      <th>gene_ID</th>\n",
       "      <th>GS</th>\n",
       "      <th>HE</th>\n",
       "      <th>IT0</th>\n",
       "      <th>IT6</th>\n",
       "      <th>IT9</th>\n",
       "      <th>UG</th>\n",
       "    </tr>\n",
       "  </thead>\n",
       "  <tbody>\n",
       "    <tr>\n",
       "      <th>0</th>\n",
       "      <td>gene_model_hcontig_0000_03.1</td>\n",
       "      <td>0.487427</td>\n",
       "      <td>0.000000</td>\n",
       "      <td>0.000000</td>\n",
       "      <td>0.000000</td>\n",
       "      <td>2.377196</td>\n",
       "      <td>0.384531</td>\n",
       "    </tr>\n",
       "    <tr>\n",
       "      <th>1</th>\n",
       "      <td>gene_model_hcontig_0000_03.2</td>\n",
       "      <td>0.577405</td>\n",
       "      <td>144.208849</td>\n",
       "      <td>0.000000</td>\n",
       "      <td>1016.181477</td>\n",
       "      <td>456.791691</td>\n",
       "      <td>0.446980</td>\n",
       "    </tr>\n",
       "    <tr>\n",
       "      <th>2</th>\n",
       "      <td>gene_model_hcontig_0000_03.3</td>\n",
       "      <td>564.783136</td>\n",
       "      <td>52.086774</td>\n",
       "      <td>24.713948</td>\n",
       "      <td>235.779282</td>\n",
       "      <td>239.133947</td>\n",
       "      <td>316.475087</td>\n",
       "    </tr>\n",
       "    <tr>\n",
       "      <th>3</th>\n",
       "      <td>gene_model_hcontig_0000_03.4</td>\n",
       "      <td>0.000000</td>\n",
       "      <td>0.167865</td>\n",
       "      <td>0.000000</td>\n",
       "      <td>0.115347</td>\n",
       "      <td>0.179739</td>\n",
       "      <td>0.000000</td>\n",
       "    </tr>\n",
       "    <tr>\n",
       "      <th>4</th>\n",
       "      <td>EVM prediction%2hcontig_0000_003.5</td>\n",
       "      <td>0.000000</td>\n",
       "      <td>0.000000</td>\n",
       "      <td>0.000000</td>\n",
       "      <td>0.000000</td>\n",
       "      <td>0.000000</td>\n",
       "      <td>0.000000</td>\n",
       "    </tr>\n",
       "  </tbody>\n",
       "</table>\n",
       "</div>"
      ],
      "text/plain": [
       "                              gene_ID          GS          HE        IT0  \\\n",
       "0        gene_model_hcontig_0000_03.1    0.487427    0.000000   0.000000   \n",
       "1        gene_model_hcontig_0000_03.2    0.577405  144.208849   0.000000   \n",
       "2        gene_model_hcontig_0000_03.3  564.783136   52.086774  24.713948   \n",
       "3        gene_model_hcontig_0000_03.4    0.000000    0.167865   0.000000   \n",
       "4  EVM prediction%2hcontig_0000_003.5    0.000000    0.000000   0.000000   \n",
       "\n",
       "           IT6         IT9          UG  \n",
       "0     0.000000    2.377196    0.384531  \n",
       "1  1016.181477  456.791691    0.446980  \n",
       "2   235.779282  239.133947  316.475087  \n",
       "3     0.115347    0.179739    0.000000  \n",
       "4     0.000000    0.000000    0.000000  "
      ]
     },
     "execution_count": 12,
     "metadata": {},
     "output_type": "execute_result"
    }
   ],
   "source": [
    "# check df format\n",
    "rnaseq_df_dict['Pst_104E_v13_h_gene_rpkm_average.tsv'].head()"
   ]
  },
  {
   "cell_type": "code",
   "execution_count": 51,
   "metadata": {},
   "outputs": [],
   "source": [
    "# write function to pull line for each gene\n",
    "def get_gene_expression(rnaseq_df, gene_name_dict):\n",
    "    \"\"\"This function makes a list of dataframes with expression data for the provided dictionary of genes.\"\"\"\n",
    "    df_list = []\n",
    "    for key, value in gene_name_dict.items():\n",
    "        df = rnaseq_df.loc[rnaseq_df['gene_ID'] == value]\n",
    "        df_list.append(df)\n",
    "    return df_list"
   ]
  },
  {
   "cell_type": "code",
   "execution_count": 35,
   "metadata": {},
   "outputs": [],
   "source": [
    "# make final df for p and h contig\n",
    "h_exp_df = pd.concat(get_gene_expression(rnaseq_df_dict['Pst_104E_v13_h_gene_rpkm_average.tsv'], blast_h))\n",
    "p_exp_df = pd.concat(get_gene_expression(rnaseq_df_dict['Pst_104E_v13_p_gene_rpkm_average.tsv'], blast_p))"
   ]
  },
  {
   "cell_type": "code",
   "execution_count": 36,
   "metadata": {},
   "outputs": [
    {
     "data": {
      "text/html": [
       "<div>\n",
       "<style scoped>\n",
       "    .dataframe tbody tr th:only-of-type {\n",
       "        vertical-align: middle;\n",
       "    }\n",
       "\n",
       "    .dataframe tbody tr th {\n",
       "        vertical-align: top;\n",
       "    }\n",
       "\n",
       "    .dataframe thead th {\n",
       "        text-align: right;\n",
       "    }\n",
       "</style>\n",
       "<table border=\"1\" class=\"dataframe\">\n",
       "  <thead>\n",
       "    <tr style=\"text-align: right;\">\n",
       "      <th></th>\n",
       "      <th>gene_ID</th>\n",
       "      <th>GS</th>\n",
       "      <th>HE</th>\n",
       "      <th>IT0</th>\n",
       "      <th>IT6</th>\n",
       "      <th>IT9</th>\n",
       "      <th>UG</th>\n",
       "    </tr>\n",
       "  </thead>\n",
       "  <tbody>\n",
       "    <tr>\n",
       "      <th>5163</th>\n",
       "      <td>gene_model_hcontig_0009_24.226</td>\n",
       "      <td>14.044223</td>\n",
       "      <td>10.199002</td>\n",
       "      <td>0.00000</td>\n",
       "      <td>8.278785</td>\n",
       "      <td>13.479055</td>\n",
       "      <td>8.753725</td>\n",
       "    </tr>\n",
       "    <tr>\n",
       "      <th>14740</th>\n",
       "      <td>gene_model_hcontig_0052_06.60</td>\n",
       "      <td>25.553134</td>\n",
       "      <td>5.275929</td>\n",
       "      <td>4.24689</td>\n",
       "      <td>23.023202</td>\n",
       "      <td>43.303914</td>\n",
       "      <td>23.250372</td>\n",
       "    </tr>\n",
       "  </tbody>\n",
       "</table>\n",
       "</div>"
      ],
      "text/plain": [
       "                              gene_ID         GS         HE      IT0  \\\n",
       "5163   gene_model_hcontig_0009_24.226  14.044223  10.199002  0.00000   \n",
       "14740   gene_model_hcontig_0052_06.60  25.553134   5.275929  4.24689   \n",
       "\n",
       "             IT6        IT9         UG  \n",
       "5163    8.278785  13.479055   8.753725  \n",
       "14740  23.023202  43.303914  23.250372  "
      ]
     },
     "execution_count": 36,
     "metadata": {},
     "output_type": "execute_result"
    }
   ],
   "source": [
    "# check df format\n",
    "h_exp_df"
   ]
  },
  {
   "cell_type": "code",
   "execution_count": 37,
   "metadata": {},
   "outputs": [
    {
     "data": {
      "text/html": [
       "<div>\n",
       "<style scoped>\n",
       "    .dataframe tbody tr th:only-of-type {\n",
       "        vertical-align: middle;\n",
       "    }\n",
       "\n",
       "    .dataframe tbody tr th {\n",
       "        vertical-align: top;\n",
       "    }\n",
       "\n",
       "    .dataframe thead th {\n",
       "        text-align: right;\n",
       "    }\n",
       "</style>\n",
       "<table border=\"1\" class=\"dataframe\">\n",
       "  <thead>\n",
       "    <tr style=\"text-align: right;\">\n",
       "      <th></th>\n",
       "      <th>gene_ID</th>\n",
       "      <th>GS</th>\n",
       "      <th>HE</th>\n",
       "      <th>IT0</th>\n",
       "      <th>IT6</th>\n",
       "      <th>IT9</th>\n",
       "      <th>UG</th>\n",
       "    </tr>\n",
       "  </thead>\n",
       "  <tbody>\n",
       "    <tr>\n",
       "      <th>5174</th>\n",
       "      <td>gene_model_pcontig_009.363</td>\n",
       "      <td>12.534978</td>\n",
       "      <td>9.157605</td>\n",
       "      <td>0.000000</td>\n",
       "      <td>7.680131</td>\n",
       "      <td>12.338550</td>\n",
       "      <td>7.733644</td>\n",
       "    </tr>\n",
       "    <tr>\n",
       "      <th>15076</th>\n",
       "      <td>gene_model_pcontig_052.64</td>\n",
       "      <td>22.889871</td>\n",
       "      <td>4.734031</td>\n",
       "      <td>3.784534</td>\n",
       "      <td>21.413790</td>\n",
       "      <td>39.808364</td>\n",
       "      <td>20.647280</td>\n",
       "    </tr>\n",
       "  </tbody>\n",
       "</table>\n",
       "</div>"
      ],
      "text/plain": [
       "                          gene_ID         GS        HE       IT0        IT6  \\\n",
       "5174   gene_model_pcontig_009.363  12.534978  9.157605  0.000000   7.680131   \n",
       "15076   gene_model_pcontig_052.64  22.889871  4.734031  3.784534  21.413790   \n",
       "\n",
       "             IT9         UG  \n",
       "5174   12.338550   7.733644  \n",
       "15076  39.808364  20.647280  "
      ]
     },
     "execution_count": 37,
     "metadata": {},
     "output_type": "execute_result"
    }
   ],
   "source": [
    "# check df format\n",
    "p_exp_df"
   ]
  },
  {
   "cell_type": "code",
   "execution_count": 56,
   "metadata": {},
   "outputs": [],
   "source": [
    "# save out the files\n",
    "def save_tsv(df, file_name):\n",
    "    out_fn = os.path.join(DIRS['BLAST_FIG'], file_name)\n",
    "    df.to_csv(out_fn, sep='\\t', header=True, index=None)\n",
    "    \n",
    "save_tsv(h_exp_df, 'average_exp_h.tsv')\n",
    "save_tsv(p_exp_df, 'average_exp_p.tsv')"
   ]
  },
  {
   "cell_type": "code",
   "execution_count": 41,
   "metadata": {},
   "outputs": [],
   "source": [
    "# getting all values, not just averages as before\n",
    "\n",
    "# make a dict of file paths\n",
    "trials_fn_dict = {}\n",
    "for fn in glob.iglob('%s/*_gene_repRpkmMatrix_featureCounts.tsv' % DIRS['TRIALS'], recursive=True):\n",
    "    if len(fn) == 95:\n",
    "        trials_fn_dict[fn.split('/')[-1]] = fn"
   ]
  },
  {
   "cell_type": "code",
   "execution_count": 42,
   "metadata": {
    "scrolled": true
   },
   "outputs": [
    {
     "data": {
      "text/plain": [
       "{'Pst_104E_v13_h_gene_repRpkmMatrix_featureCounts.tsv': '/home/anjuni/analysis/rna_counts/trials_tsv/Pst_104E_v13_h_gene_repRpkmMatrix_featureCounts.tsv',\n",
       " 'Pst_104E_v13_p_gene_repRpkmMatrix_featureCounts.tsv': '/home/anjuni/analysis/rna_counts/trials_tsv/Pst_104E_v13_p_gene_repRpkmMatrix_featureCounts.tsv'}"
      ]
     },
     "execution_count": 42,
     "metadata": {},
     "output_type": "execute_result"
    }
   ],
   "source": [
    "trials_fn_dict"
   ]
  },
  {
   "cell_type": "code",
   "execution_count": 45,
   "metadata": {},
   "outputs": [],
   "source": [
    "# make trials df dict\n",
    "trials_df_dict = {}\n",
    "for fn in glob.iglob('%s/*_gene_repRpkmMatrix_featureCounts.tsv' % DIRS['TRIALS'], recursive=True):\n",
    "    if len(fn) == 95:\n",
    "        df = pd.read_csv(fn, header=0, sep='\\t')\n",
    "        trials_df_dict[fn.split('/')[-1]] = df"
   ]
  },
  {
   "cell_type": "code",
   "execution_count": 46,
   "metadata": {},
   "outputs": [
    {
     "name": "stdout",
     "output_type": "stream",
     "text": [
      "Pst_104E_v13_p_gene_repRpkmMatrix_featureCounts.tsv Pst_104E_v13_h_gene_repRpkmMatrix_featureCounts.tsv\n"
     ]
    }
   ],
   "source": [
    "print(*trials_df_dict)"
   ]
  },
  {
   "cell_type": "code",
   "execution_count": 48,
   "metadata": {},
   "outputs": [],
   "source": [
    "# make final df for p and h contig\n",
    "h_trials_df = pd.concat(get_gene_expression(trials_df_dict['Pst_104E_v13_h_gene_repRpkmMatrix_featureCounts.tsv'], blast_h))\n",
    "p_trials_df = pd.concat(get_gene_expression(trials_df_dict['Pst_104E_v13_p_gene_repRpkmMatrix_featureCounts.tsv'], blast_p))"
   ]
  },
  {
   "cell_type": "code",
   "execution_count": 49,
   "metadata": {},
   "outputs": [
    {
     "data": {
      "text/html": [
       "<div>\n",
       "<style scoped>\n",
       "    .dataframe tbody tr th:only-of-type {\n",
       "        vertical-align: middle;\n",
       "    }\n",
       "\n",
       "    .dataframe tbody tr th {\n",
       "        vertical-align: top;\n",
       "    }\n",
       "\n",
       "    .dataframe thead th {\n",
       "        text-align: right;\n",
       "    }\n",
       "</style>\n",
       "<table border=\"1\" class=\"dataframe\">\n",
       "  <thead>\n",
       "    <tr style=\"text-align: right;\">\n",
       "      <th></th>\n",
       "      <th>gene_ID</th>\n",
       "      <th>GS_1</th>\n",
       "      <th>GS_2</th>\n",
       "      <th>GS_3</th>\n",
       "      <th>HE_1</th>\n",
       "      <th>HE_2</th>\n",
       "      <th>HE_3</th>\n",
       "      <th>IT0_1</th>\n",
       "      <th>IT0_2</th>\n",
       "      <th>IT0_3</th>\n",
       "      <th>IT6_1</th>\n",
       "      <th>IT6_2</th>\n",
       "      <th>IT6_3</th>\n",
       "      <th>IT9_1</th>\n",
       "      <th>IT9_2</th>\n",
       "      <th>IT9_3</th>\n",
       "      <th>UG_1</th>\n",
       "      <th>UG_2</th>\n",
       "      <th>UG_3</th>\n",
       "    </tr>\n",
       "  </thead>\n",
       "  <tbody>\n",
       "    <tr>\n",
       "      <th>5163</th>\n",
       "      <td>gene_model_hcontig_0009_24.226</td>\n",
       "      <td>15.047157</td>\n",
       "      <td>13.500206</td>\n",
       "      <td>13.585307</td>\n",
       "      <td>10.544356</td>\n",
       "      <td>10.044541</td>\n",
       "      <td>10.008109</td>\n",
       "      <td>0.0</td>\n",
       "      <td>0.0</td>\n",
       "      <td>0.000000</td>\n",
       "      <td>8.746266</td>\n",
       "      <td>9.365785</td>\n",
       "      <td>6.724305</td>\n",
       "      <td>11.581538</td>\n",
       "      <td>13.042110</td>\n",
       "      <td>15.813519</td>\n",
       "      <td>9.449517</td>\n",
       "      <td>7.129993</td>\n",
       "      <td>9.681665</td>\n",
       "    </tr>\n",
       "    <tr>\n",
       "      <th>14740</th>\n",
       "      <td>gene_model_hcontig_0052_06.60</td>\n",
       "      <td>26.808662</td>\n",
       "      <td>22.569493</td>\n",
       "      <td>27.281248</td>\n",
       "      <td>4.773597</td>\n",
       "      <td>5.700367</td>\n",
       "      <td>5.353824</td>\n",
       "      <td>0.0</td>\n",
       "      <td>0.0</td>\n",
       "      <td>12.740669</td>\n",
       "      <td>25.804973</td>\n",
       "      <td>19.635157</td>\n",
       "      <td>23.629477</td>\n",
       "      <td>47.950864</td>\n",
       "      <td>55.108638</td>\n",
       "      <td>26.852241</td>\n",
       "      <td>24.057654</td>\n",
       "      <td>21.909625</td>\n",
       "      <td>23.783836</td>\n",
       "    </tr>\n",
       "  </tbody>\n",
       "</table>\n",
       "</div>"
      ],
      "text/plain": [
       "                              gene_ID       GS_1       GS_2       GS_3  \\\n",
       "5163   gene_model_hcontig_0009_24.226  15.047157  13.500206  13.585307   \n",
       "14740   gene_model_hcontig_0052_06.60  26.808662  22.569493  27.281248   \n",
       "\n",
       "            HE_1       HE_2       HE_3  IT0_1  IT0_2      IT0_3      IT6_1  \\\n",
       "5163   10.544356  10.044541  10.008109    0.0    0.0   0.000000   8.746266   \n",
       "14740   4.773597   5.700367   5.353824    0.0    0.0  12.740669  25.804973   \n",
       "\n",
       "           IT6_2      IT6_3      IT9_1      IT9_2      IT9_3       UG_1  \\\n",
       "5163    9.365785   6.724305  11.581538  13.042110  15.813519   9.449517   \n",
       "14740  19.635157  23.629477  47.950864  55.108638  26.852241  24.057654   \n",
       "\n",
       "            UG_2       UG_3  \n",
       "5163    7.129993   9.681665  \n",
       "14740  21.909625  23.783836  "
      ]
     },
     "execution_count": 49,
     "metadata": {},
     "output_type": "execute_result"
    }
   ],
   "source": [
    "# check df format\n",
    "h_trials_df"
   ]
  },
  {
   "cell_type": "code",
   "execution_count": 50,
   "metadata": {},
   "outputs": [
    {
     "data": {
      "text/html": [
       "<div>\n",
       "<style scoped>\n",
       "    .dataframe tbody tr th:only-of-type {\n",
       "        vertical-align: middle;\n",
       "    }\n",
       "\n",
       "    .dataframe tbody tr th {\n",
       "        vertical-align: top;\n",
       "    }\n",
       "\n",
       "    .dataframe thead th {\n",
       "        text-align: right;\n",
       "    }\n",
       "</style>\n",
       "<table border=\"1\" class=\"dataframe\">\n",
       "  <thead>\n",
       "    <tr style=\"text-align: right;\">\n",
       "      <th></th>\n",
       "      <th>gene_ID</th>\n",
       "      <th>GS_1</th>\n",
       "      <th>GS_2</th>\n",
       "      <th>GS_3</th>\n",
       "      <th>HE_1</th>\n",
       "      <th>HE_2</th>\n",
       "      <th>HE_3</th>\n",
       "      <th>IT0_1</th>\n",
       "      <th>IT0_2</th>\n",
       "      <th>IT0_3</th>\n",
       "      <th>IT6_1</th>\n",
       "      <th>IT6_2</th>\n",
       "      <th>IT6_3</th>\n",
       "      <th>IT9_1</th>\n",
       "      <th>IT9_2</th>\n",
       "      <th>IT9_3</th>\n",
       "      <th>UG_1</th>\n",
       "      <th>UG_2</th>\n",
       "      <th>UG_3</th>\n",
       "    </tr>\n",
       "  </thead>\n",
       "  <tbody>\n",
       "    <tr>\n",
       "      <th>5174</th>\n",
       "      <td>gene_model_pcontig_009.363</td>\n",
       "      <td>13.419446</td>\n",
       "      <td>12.043734</td>\n",
       "      <td>12.141756</td>\n",
       "      <td>9.451506</td>\n",
       "      <td>9.031854</td>\n",
       "      <td>8.989456</td>\n",
       "      <td>0.0</td>\n",
       "      <td>0.0</td>\n",
       "      <td>0.000000</td>\n",
       "      <td>8.025845</td>\n",
       "      <td>8.834853</td>\n",
       "      <td>6.179695</td>\n",
       "      <td>10.581197</td>\n",
       "      <td>11.990989</td>\n",
       "      <td>14.443465</td>\n",
       "      <td>8.345580</td>\n",
       "      <td>6.290840</td>\n",
       "      <td>8.564513</td>\n",
       "    </tr>\n",
       "    <tr>\n",
       "      <th>15076</th>\n",
       "      <td>gene_model_pcontig_052.64</td>\n",
       "      <td>24.000664</td>\n",
       "      <td>20.215019</td>\n",
       "      <td>24.453928</td>\n",
       "      <td>4.285874</td>\n",
       "      <td>5.073785</td>\n",
       "      <td>4.842435</td>\n",
       "      <td>0.0</td>\n",
       "      <td>0.0</td>\n",
       "      <td>11.353601</td>\n",
       "      <td>23.691241</td>\n",
       "      <td>18.685592</td>\n",
       "      <td>21.864536</td>\n",
       "      <td>43.870896</td>\n",
       "      <td>50.861249</td>\n",
       "      <td>24.692945</td>\n",
       "      <td>21.394362</td>\n",
       "      <td>19.483626</td>\n",
       "      <td>21.063851</td>\n",
       "    </tr>\n",
       "  </tbody>\n",
       "</table>\n",
       "</div>"
      ],
      "text/plain": [
       "                          gene_ID       GS_1       GS_2       GS_3      HE_1  \\\n",
       "5174   gene_model_pcontig_009.363  13.419446  12.043734  12.141756  9.451506   \n",
       "15076   gene_model_pcontig_052.64  24.000664  20.215019  24.453928  4.285874   \n",
       "\n",
       "           HE_2      HE_3  IT0_1  IT0_2      IT0_3      IT6_1      IT6_2  \\\n",
       "5174   9.031854  8.989456    0.0    0.0   0.000000   8.025845   8.834853   \n",
       "15076  5.073785  4.842435    0.0    0.0  11.353601  23.691241  18.685592   \n",
       "\n",
       "           IT6_3      IT9_1      IT9_2      IT9_3       UG_1       UG_2  \\\n",
       "5174    6.179695  10.581197  11.990989  14.443465   8.345580   6.290840   \n",
       "15076  21.864536  43.870896  50.861249  24.692945  21.394362  19.483626   \n",
       "\n",
       "            UG_3  \n",
       "5174    8.564513  \n",
       "15076  21.063851  "
      ]
     },
     "execution_count": 50,
     "metadata": {},
     "output_type": "execute_result"
    }
   ],
   "source": [
    "# check df format\n",
    "p_trials_df"
   ]
  },
  {
   "cell_type": "code",
   "execution_count": 57,
   "metadata": {},
   "outputs": [],
   "source": [
    "# save out the dataframes\n",
    "save_tsv(h_trials_df, 'trials_exp_h.tsv')\n",
    "save_tsv(p_trials_df, 'trials_exp_p.tsv')"
   ]
  }
 ],
 "metadata": {
  "kernelspec": {
   "display_name": "Python 3",
   "language": "python",
   "name": "python3"
  },
  "language_info": {
   "codemirror_mode": {
    "name": "ipython",
    "version": 3
   },
   "file_extension": ".py",
   "mimetype": "text/x-python",
   "name": "python",
   "nbconvert_exporter": "python",
   "pygments_lexer": "ipython3",
   "version": "3.6.3"
  }
 },
 "nbformat": 4,
 "nbformat_minor": 2
}
