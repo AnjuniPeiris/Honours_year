{
 "cells": [
  {
   "cell_type": "markdown",
   "metadata": {},
   "source": [
    "# <span style=\"color:#ff1414\"> BEDtools analysis. </span>\n",
    "\n",
    "This is a script to answer research questions outlined elsewhere. In summary, this script:\n",
    "\n",
    "1. compares methylation results between different methylation-callers, and between different methylation sequencing methods.\n",
    "\n",
    "2. compares methylation between genes and non-gene regions\n",
    "\n",
    "3. compares methylation between transposons and non-repetitive regions\n",
    "\n",
    "4. compares transposons and genes\n",
    "\n",
    "\n",
    "Note:\n",
    "- PB/pb = PacBio\n",
    "- ONT/ont = Oxford Nanopore Technology\n",
    "- NP = Nanopolish"
   ]
  },
  {
   "cell_type": "code",
   "execution_count": 208,
   "metadata": {},
   "outputs": [],
   "source": [
    "import pybedtools\n",
    "import scipy\n",
    "\n",
    "import matplotlib.patches as mpatches\n",
    "import pandas as pd\n",
    "import numpy as np # need for  stats\n",
    "\n",
    "from scipy.stats import wilcoxon\n",
    "import matplotlib.pyplot as plt\n",
    "from matplotlib_venn import venn2"
   ]
  },
  {
   "cell_type": "code",
   "execution_count": 209,
   "metadata": {},
   "outputs": [],
   "source": [
    "# load modules\n",
    "import os\n",
    "import glob\n",
    "import pprint\n",
    "from pybedtools import BedTool\n",
    "from scipy.stats import spearmanr"
   ]
  },
  {
   "cell_type": "code",
   "execution_count": 344,
   "metadata": {},
   "outputs": [],
   "source": [
    "#First we need to define the base dirs\n",
    "DIRS = {}\n",
    "DIRS['BASE2'] = '/home/anjuni/analysis'\n",
    "DIRS['FEATURES'] = os.path.join(DIRS['BASE2'], 'coverage', 'feature_files')\n",
    "DIRS['RAND'] = os.path.join(DIRS['BASE2'], 'coverage', 'randomisation')\n",
    "DIRS['COVERAGE'] = os.path.join(DIRS['BASE2'], 'coverage')\n",
    "DIRS['RNA'] = os.path.join(DIRS['BASE2'], 'rna_counts')\n",
    "DIRS['edgeR'] = os.path.join(DIRS['RNA'], 'edgeR_output')\n",
    "DIRS['TRIALS'] = os.path.join(DIRS['RNA'], 'trials_tsv')\n",
    "DIRS['MEAN_STD'] = os.path.join(DIRS['RNA'], 'average_and_stdev')\n",
    "DIRS['FIGURES'] = os.path.join(DIRS['BASE2'], 'figures')\n",
    "\n",
    "DIRS['GENE'] = os.path.join(DIRS['COVERAGE'], 'gene_level')\n",
    "DIRS['GENE_BODY'] = os.path.join(DIRS['GENE'], 'gene_body')\n",
    "DIRS['BOTH_U_D'] = os.path.join(DIRS['GENE'], 'both_upstream_downstream')\n",
    "DIRS['DOWN_STR'] = os.path.join(DIRS['GENE'], 'downstream')\n",
    "DIRS['UP_STR'] = os.path.join(DIRS['GENE'], 'upstream')\n",
    "DIRS['TSS'] = os.path.join(DIRS['GENE'], 'tss_6mA_only')\n",
    "DIRS['TE'] = os.path.join(DIRS['GENE'], 'te')\n",
    "DIRS['COMPARE'] = os.path.join(DIRS['BASE2'], 'gene_te_comparison')\n",
    "DIRS['GENE_TE'] = os.path.join(DIRS['COMPARE'], 'output', 'both')"
   ]
  },
  {
   "cell_type": "code",
   "execution_count": 211,
   "metadata": {},
   "outputs": [],
   "source": [
    "#Quick chech if directories exist\n",
    "for value in DIRS.values():\n",
    "    if not os.path.exists(value):\n",
    "        print('%s does not exist' % value)"
   ]
  },
  {
   "cell_type": "markdown",
   "metadata": {},
   "source": [
    "## <span style='color:#15c66e'> 7. Analysing gene expression files. <span/>"
   ]
  },
  {
   "cell_type": "markdown",
   "metadata": {},
   "source": [
    "### <span style='color:#15c66e'> 7.A Only genes. <span/>"
   ]
  },
  {
   "cell_type": "markdown",
   "metadata": {},
   "source": [
    "#### <span style='color:#a347ff'> 7.A.1 Making dataframe with methylation + expression data.<span/>"
   ]
  },
  {
   "cell_type": "code",
   "execution_count": 433,
   "metadata": {},
   "outputs": [],
   "source": [
    "# Prepare RNA-seq inputs\n",
    "rnaseq_list = [os.path.join(DIRS['MEAN_STD'], 'Pst_104E_v13_h_gene_rpkm_average.tsv'), \\\n",
    "               os.path.join(DIRS['MEAN_STD'], 'Pst_104E_v13_p_gene_rpkm_average.tsv')]"
   ]
  },
  {
   "cell_type": "code",
   "execution_count": 434,
   "metadata": {},
   "outputs": [
    {
     "data": {
      "text/plain": [
       "['/home/anjuni/analysis/rna_counts/average_and_stdev/Pst_104E_v13_h_gene_rpkm_average.tsv',\n",
       " '/home/anjuni/analysis/rna_counts/average_and_stdev/Pst_104E_v13_p_gene_rpkm_average.tsv']"
      ]
     },
     "execution_count": 434,
     "metadata": {},
     "output_type": "execute_result"
    }
   ],
   "source": [
    "rnaseq_list"
   ]
  },
  {
   "cell_type": "code",
   "execution_count": 435,
   "metadata": {},
   "outputs": [],
   "source": [
    "# make heading list for converting the methylation coverage bed file to dataframe :)\n",
    "headings = ['contig', 'start', 'stop', 'gene_ID', 'overlap_count', 'overlap_fraction']"
   ]
  },
  {
   "cell_type": "code",
   "execution_count": 436,
   "metadata": {},
   "outputs": [],
   "source": [
    "# Convert list to dict of dataframes\n",
    "def file_name_dict(file_list):\n",
    "    \"\"\"Outputs a dictionary of input file paths for a given list of input file paths.\"\"\"\n",
    "    file_dict = {}\n",
    "    for file in file_list:\n",
    "        file_dict[file.split('/')[-1]] = file\n",
    "    return file_dict"
   ]
  },
  {
   "cell_type": "code",
   "execution_count": 437,
   "metadata": {},
   "outputs": [],
   "source": [
    "def df_dict_from_fn_dict(file_dict, header_row, header_list):\n",
    "    \"\"\"Outputs a dictionary of dataframes from a dictionary of file names.\"\"\"\n",
    "    df_dict = {}\n",
    "    for key, value in file_dict.items():\n",
    "        df = pd.read_csv(value, sep='\\t', header=header_row, names=header_list)\n",
    "        df = df.loc[:,['gene_ID', 'overlap_fraction']].sort_values('gene_ID', ascending=True)\n",
    "        df_dict[key] = df\n",
    "    return df_dict"
   ]
  },
  {
   "cell_type": "code",
   "execution_count": 438,
   "metadata": {},
   "outputs": [],
   "source": [
    "def df_dict_from_fn_list(file_list, header_row, header_list):\n",
    "    \"\"\"Outputs a dictionary of dataframes from a dictionary of file names.\"\"\"\n",
    "    df_dict = {}\n",
    "    for file in file_list:\n",
    "        df = pd.read_csv(file, sep='\\t', header=header_row, names=header_list)\n",
    "        df = df.loc[:,['gene_ID', 'overlap_fraction']]#.sort_values('gene_ID', ascending=True)  # sorting alphabetically messes it up, so I won't do it here\n",
    "        df_dict[fn.split('/')[-1]] = df\n",
    "        df_dict[file.split('/')[-1]] = df\n",
    "    return df_dict"
   ]
  },
  {
   "cell_type": "code",
   "execution_count": 439,
   "metadata": {},
   "outputs": [],
   "source": [
    "#Make the dataframes from part 6.\n",
    "h_contig_df = pd.read_csv(os.path.join(DIRS['FIGURES'], 'coverage', 'coverage_df_h.tsv'), sep='\\t', )\n",
    "p_contig_df = pd.read_csv(os.path.join(DIRS['FIGURES'], 'coverage', 'coverage_df_p.tsv'), sep='\\t', )"
   ]
  },
  {
   "cell_type": "code",
   "execution_count": 440,
   "metadata": {},
   "outputs": [],
   "source": [
    "#Add the expression data to it\n",
    "h_contig_df = h_contig_df.join(rnaseq_df_dict['Pst_104E_v13_h_gene_rpkm_average.tsv'].set_index('name'), on='name').copy()\n",
    "p_contig_df = p_contig_df.join(rnaseq_df_dict['Pst_104E_v13_p_gene_rpkm_average.tsv'].set_index('name'), on='name').copy()"
   ]
  },
  {
   "cell_type": "code",
   "execution_count": 441,
   "metadata": {},
   "outputs": [],
   "source": [
    "#Save out the dataframe\n",
    "h_contig_df.to_csv(os.path.join(DIRS['FIGURES'], 'expression', 'rnaseq_methyl_df_h.tsv'), header=True, index=None, sep='\\t')\n",
    "p_contig_df.to_csv(os.path.join(DIRS['FIGURES'], 'expression', 'rnaseq_methyl_df_p.tsv'), header=True, index=None, sep='\\t')"
   ]
  },
  {
   "cell_type": "markdown",
   "metadata": {},
   "source": [
    "#### <span style='color:#a347ff'> 7.A.2 Run Spearman stats on these dataframes.<span/>"
   ]
  },
  {
   "cell_type": "code",
   "execution_count": 442,
   "metadata": {},
   "outputs": [],
   "source": [
    "# make a list of observed columns for Spearman\n",
    "column_list = [ '5mC_gene_body', '6mA_gene_body', '5mC_upstream', '6mA_upstream', '5mC_downstream', '6mA_downstream', '6mA_tss', '6mA_tss_pb', '5mC_both', '6mA_both']"
   ]
  },
  {
   "cell_type": "code",
   "execution_count": 412,
   "metadata": {
    "collapsed": true
   },
   "outputs": [
    {
     "data": {
      "text/plain": [
       "['5mC_gene_body',\n",
       " '6mA_gene_body',\n",
       " '5mC_upstream',\n",
       " '6mA_upstream',\n",
       " '5mC_downstream',\n",
       " '6mA_downstream',\n",
       " '6mA_tss',\n",
       " '6mA_tss_pb',\n",
       " '5mC_both',\n",
       " '6mA_both']"
      ]
     },
     "execution_count": 412,
     "metadata": {},
     "output_type": "execute_result"
    }
   ],
   "source": [
    "#print the headings list\n",
    "column_list"
   ]
  },
  {
   "cell_type": "code",
   "execution_count": 333,
   "metadata": {
    "collapsed": true
   },
   "outputs": [
    {
     "data": {
      "text/plain": [
       "['5mC_gene_body_rand',\n",
       " '6mA_gene_body_rand',\n",
       " '5mC_upstream_rand',\n",
       " '6mA_upstream_rand',\n",
       " '5mC_downstream_rand',\n",
       " '6mA_downstream_rand',\n",
       " '6mA_tss_rand',\n",
       " '6mA_tss_pb_rand',\n",
       " '5mC_both_rand',\n",
       " '6mA_both_rand']"
      ]
     },
     "execution_count": 333,
     "metadata": {},
     "output_type": "execute_result"
    }
   ],
   "source": [
    "#make a list of randomised columns to see correlation to methylation (put in supplementary)\n",
    "rand_col = []\n",
    "for col in column_list:\n",
    "    rand = col + '_rand'\n",
    "    rand_col.append(rand)\n",
    "rand_col"
   ]
  },
  {
   "cell_type": "code",
   "execution_count": 335,
   "metadata": {},
   "outputs": [],
   "source": [
    "def spearman_r(df, col_list):\n",
    "    \"\"\"This function returns a dictionary of spearman's R statistic and p-value for a test of observed and expected sites.\"\"\"\n",
    "    spearmanr_dict = {}\n",
    "    for col in col_list:\n",
    "        obs = df[col]\n",
    "        exp = df['UG']\n",
    "        stat, p = spearmanr(obs, exp)\n",
    "        spearmanr_dict[col] = stat, p\n",
    "    return spearmanr_dict"
   ]
  },
  {
   "cell_type": "code",
   "execution_count": 336,
   "metadata": {},
   "outputs": [],
   "source": [
    "h_spearman = spearman_r(h_contig_df, column_list)\n",
    "p_spearman = spearman_r(p_contig_df, column_list)"
   ]
  },
  {
   "cell_type": "code",
   "execution_count": 353,
   "metadata": {
    "collapsed": true
   },
   "outputs": [
    {
     "data": {
      "text/plain": [
       "{'5mC_both': (-0.3044031532017658, 0.0),\n",
       " '5mC_downstream': (-0.2768273977762557, 4.0868316534222915e-300),\n",
       " '5mC_gene_body': (-0.3126339037881005, 0.0),\n",
       " '5mC_upstream': (-0.2806826592142046, 7.995819268164825e-309),\n",
       " '6mA_both': (-0.16789856365981518, 5.983119686579735e-109),\n",
       " '6mA_downstream': (-0.16266590546033927, 2.700116232198628e-102),\n",
       " '6mA_gene_body': (-0.1803997565972118, 9.484426077668715e-126),\n",
       " '6mA_tss': (-0.1841182034577834, 5.403187356825117e-131),\n",
       " '6mA_tss_pb': (-0.20913412220047725, 2.86601824581424e-169),\n",
       " '6mA_upstream': (-0.13359602347906796, 2.5469653149336237e-69)}"
      ]
     },
     "execution_count": 353,
     "metadata": {},
     "output_type": "execute_result"
    }
   ],
   "source": [
    "h_spearman"
   ]
  },
  {
   "cell_type": "code",
   "execution_count": 337,
   "metadata": {
    "collapsed": true
   },
   "outputs": [
    {
     "data": {
      "text/plain": [
       "{'5mC_both': (-0.3451099389497695, 0.0),\n",
       " '5mC_downstream': (-0.31878090684897764, 0.0),\n",
       " '5mC_gene_body': (-0.3607519742299347, 0.0),\n",
       " '5mC_upstream': (-0.32422161953772544, 0.0),\n",
       " '6mA_both': (-0.17815821951606303, 1.0142759397668388e-137),\n",
       " '6mA_downstream': (-0.17429952606580357, 8.168828483487274e-132),\n",
       " '6mA_gene_body': (-0.20092134652151095, 2.2283255936526472e-175),\n",
       " '6mA_tss': (-0.1955196554493612, 5.295093228556039e-166),\n",
       " '6mA_tss_pb': (-0.2473212424030754, 1.6163848249639127e-267),\n",
       " '6mA_upstream': (-0.14925411430465801, 8.757339441259174e-97)}"
      ]
     },
     "execution_count": 337,
     "metadata": {},
     "output_type": "execute_result"
    }
   ],
   "source": [
    "p_spearman"
   ]
  },
  {
   "cell_type": "code",
   "execution_count": 338,
   "metadata": {},
   "outputs": [],
   "source": [
    "# test out spearman on the randomised methylation\n",
    "rand_h_spearman = spearman_r(h_contig_df, rand_col)\n",
    "rand_p_spearman = spearman_r(p_contig_df, rand_col)\n",
    "\n",
    "# these have correlations of 0 :///"
   ]
  },
  {
   "cell_type": "code",
   "execution_count": 415,
   "metadata": {
    "collapsed": true
   },
   "outputs": [
    {
     "data": {
      "text/plain": [
       "{'5mC_both_rand': (-0.028497784235788276, 0.00018561673613514348),\n",
       " '5mC_downstream_rand': (0.014313085443598909, 0.06051141928913956),\n",
       " '5mC_gene_body_rand': (0.009229122617243892, 0.2261673646798127),\n",
       " '5mC_upstream_rand': (-0.045002547182038374, 3.538907507847777e-09),\n",
       " '6mA_both_rand': (0.008036952423347062, 0.29190754875629343),\n",
       " '6mA_downstream_rand': (0.01746262954028329, 0.02201297189277224),\n",
       " '6mA_gene_body_rand': (0.005345763274584303, 0.4832880664626604),\n",
       " '6mA_tss_pb_rand': (-0.0036451583538479487, 0.6326423885137442),\n",
       " '6mA_tss_rand': (7.589997680255605e-05, 0.9920586458004681),\n",
       " '6mA_upstream_rand': (0.006958073255854432, 0.36152611898518705)}"
      ]
     },
     "execution_count": 415,
     "metadata": {},
     "output_type": "execute_result"
    }
   ],
   "source": [
    "rand_h_spearman"
   ]
  },
  {
   "cell_type": "code",
   "execution_count": 416,
   "metadata": {
    "collapsed": true
   },
   "outputs": [
    {
     "data": {
      "text/plain": [
       "{'5mC_both_rand': (-0.051939657233027896, 4.863209708715647e-13),\n",
       " '5mC_downstream_rand': (0.0020955340893188588, 0.7706963367166384),\n",
       " '5mC_gene_body_rand': (-0.018587645186478534, 0.009722556627502299),\n",
       " '5mC_upstream_rand': (-0.06948048614439731, 3.828289110186641e-22),\n",
       " '6mA_both_rand': (-0.02273697339898356, 0.0015623210828710967),\n",
       " '6mA_downstream_rand': (-0.024829439116171234, 0.0005523128011186317),\n",
       " '6mA_gene_body_rand': (-0.019874352015986224, 0.0056999812430114346),\n",
       " '6mA_tss_pb_rand': (0.00042579031147201805, 0.9527749931943764),\n",
       " '6mA_tss_rand': (-0.021349531987561864, 0.0029798948629995536),\n",
       " '6mA_upstream_rand': (-0.008270096848074211, 0.25002373193223987)}"
      ]
     },
     "execution_count": 416,
     "metadata": {},
     "output_type": "execute_result"
    }
   ],
   "source": [
    "rand_p_spearman"
   ]
  },
  {
   "cell_type": "code",
   "execution_count": 341,
   "metadata": {},
   "outputs": [],
   "source": [
    "def save_spearman_dict(wdict, genome):\n",
    "    df = pd.DataFrame.from_dict(wdict, orient='index')\n",
    "    df.rename(columns={0: \"Spearman's rho\", 1: 'p-value'}, inplace=True)\n",
    "    out_fn = os.path.join(DIRS['FIGURES'], 'expression', ('spearman_r_table_%s.tsv' % genome))\n",
    "    df.to_csv(out_fn, header=True, index=True, sep = '\\t')"
   ]
  },
  {
   "cell_type": "code",
   "execution_count": 342,
   "metadata": {},
   "outputs": [],
   "source": [
    "save_spearman_dict(h_spearman, 'h')\n",
    "save_spearman_dict(p_spearman, 'p')"
   ]
  },
  {
   "cell_type": "code",
   "execution_count": 414,
   "metadata": {},
   "outputs": [],
   "source": [
    "#save out the null one as well\n",
    "save_spearman_dict(rand_h_spearman, 'rand_h')\n",
    "save_spearman_dict(rand_p_spearman, 'rand_p')"
   ]
  },
  {
   "cell_type": "markdown",
   "metadata": {},
   "source": [
    "### <span style='color:#15c66e'> 7.B Methylated transposons with genes. <span/>"
   ]
  },
  {
   "cell_type": "markdown",
   "metadata": {},
   "source": [
    "#### <span style='color:#a347ff'> 7.B.1 Making dataframe with methylation + expression data + gene TE data.<span/>"
   ]
  },
  {
   "cell_type": "code",
   "execution_count": null,
   "metadata": {},
   "outputs": [],
   "source": [
    "# add columns for genes close to highly methylated transposons and unmethylated transposons"
   ]
  },
  {
   "cell_type": "code",
   "execution_count": 443,
   "metadata": {},
   "outputs": [],
   "source": [
    "# make lists of the genes close to transposons with a high level of each type of methylation\n",
    "\n",
    "# make a list of file names\n",
    "gt_fn_dict = file_name_dict([fn for fn in glob.iglob('%s/*bed' % os.path.join(DIRS['GENE_TE']), recursive=True)])"
   ]
  },
  {
   "cell_type": "code",
   "execution_count": 444,
   "metadata": {},
   "outputs": [
    {
     "data": {
      "text/plain": [
       "{'Pst_104E_v13_h_ctg.REPET.5mC_hc_tombo_sorted.cutoff.0.80.overlap.500.low.sorted.bed': '/home/anjuni/analysis/gene_te_comparison/output/both/Pst_104E_v13_h_ctg.REPET.5mC_hc_tombo_sorted.cutoff.0.80.overlap.500.low.sorted.bed',\n",
       " 'Pst_104E_v13_h_ctg.REPET.5mC_hc_tombo_sorted.cutoff.0.80.overlap.500.top.sorted.bed': '/home/anjuni/analysis/gene_te_comparison/output/both/Pst_104E_v13_h_ctg.REPET.5mC_hc_tombo_sorted.cutoff.0.80.overlap.500.top.sorted.bed',\n",
       " 'Pst_104E_v13_h_ctg.REPET.6mA_hc_tombo_sorted.cutoff.0.80.overlap.500.low.sorted.bed': '/home/anjuni/analysis/gene_te_comparison/output/both/Pst_104E_v13_h_ctg.REPET.6mA_hc_tombo_sorted.cutoff.0.80.overlap.500.low.sorted.bed',\n",
       " 'Pst_104E_v13_h_ctg.REPET.6mA_hc_tombo_sorted.cutoff.0.80.overlap.500.top.sorted.bed': '/home/anjuni/analysis/gene_te_comparison/output/both/Pst_104E_v13_h_ctg.REPET.6mA_hc_tombo_sorted.cutoff.0.80.overlap.500.top.sorted.bed',\n",
       " 'Pst_104E_v13_h_ctg.REPET.6mA_prob_smrtlink_sorted.cutoff.0.80.overlap.500.low.sorted.bed': '/home/anjuni/analysis/gene_te_comparison/output/both/Pst_104E_v13_h_ctg.REPET.6mA_prob_smrtlink_sorted.cutoff.0.80.overlap.500.low.sorted.bed',\n",
       " 'Pst_104E_v13_h_ctg.REPET.6mA_prob_smrtlink_sorted.cutoff.0.80.overlap.500.top.sorted.bed': '/home/anjuni/analysis/gene_te_comparison/output/both/Pst_104E_v13_h_ctg.REPET.6mA_prob_smrtlink_sorted.cutoff.0.80.overlap.500.top.sorted.bed',\n",
       " 'Pst_104E_v13_p_ctg.REPET.5mC_hc_tombo_sorted.cutoff.0.80.overlap.500.low.sorted.bed': '/home/anjuni/analysis/gene_te_comparison/output/both/Pst_104E_v13_p_ctg.REPET.5mC_hc_tombo_sorted.cutoff.0.80.overlap.500.low.sorted.bed',\n",
       " 'Pst_104E_v13_p_ctg.REPET.5mC_hc_tombo_sorted.cutoff.0.80.overlap.500.top.sorted.bed': '/home/anjuni/analysis/gene_te_comparison/output/both/Pst_104E_v13_p_ctg.REPET.5mC_hc_tombo_sorted.cutoff.0.80.overlap.500.top.sorted.bed',\n",
       " 'Pst_104E_v13_p_ctg.REPET.6mA_hc_tombo_sorted.cutoff.0.80.overlap.500.low.sorted.bed': '/home/anjuni/analysis/gene_te_comparison/output/both/Pst_104E_v13_p_ctg.REPET.6mA_hc_tombo_sorted.cutoff.0.80.overlap.500.low.sorted.bed',\n",
       " 'Pst_104E_v13_p_ctg.REPET.6mA_hc_tombo_sorted.cutoff.0.80.overlap.500.top.sorted.bed': '/home/anjuni/analysis/gene_te_comparison/output/both/Pst_104E_v13_p_ctg.REPET.6mA_hc_tombo_sorted.cutoff.0.80.overlap.500.top.sorted.bed',\n",
       " 'Pst_104E_v13_p_ctg.REPET.6mA_prob_smrtlink_sorted.cutoff.0.80.overlap.500.low.sorted.bed': '/home/anjuni/analysis/gene_te_comparison/output/both/Pst_104E_v13_p_ctg.REPET.6mA_prob_smrtlink_sorted.cutoff.0.80.overlap.500.low.sorted.bed',\n",
       " 'Pst_104E_v13_p_ctg.REPET.6mA_prob_smrtlink_sorted.cutoff.0.80.overlap.500.top.sorted.bed': '/home/anjuni/analysis/gene_te_comparison/output/both/Pst_104E_v13_p_ctg.REPET.6mA_prob_smrtlink_sorted.cutoff.0.80.overlap.500.top.sorted.bed'}"
      ]
     },
     "execution_count": 444,
     "metadata": {},
     "output_type": "execute_result"
    }
   ],
   "source": [
    "gt_fn_dict"
   ]
  },
  {
   "cell_type": "code",
   "execution_count": 445,
   "metadata": {},
   "outputs": [],
   "source": [
    "# make a header list for converting the bed files to dataframes\n",
    "header_list_gt = ['contig', 'start', 'stop', 'name', 'score', 'gene', 'distance']"
   ]
  },
  {
   "cell_type": "code",
   "execution_count": 446,
   "metadata": {},
   "outputs": [],
   "source": [
    "def gene_te_df_dict(file_dict, header_row, header_list):\n",
    "    \"\"\"Outputs a dictionary of dataframes from a dictionary of file names.\"\"\"\n",
    "    df_dict = {}\n",
    "    for key, value in file_dict.items():\n",
    "        df = pd.read_csv(value, sep='\\t', header=header_row, names=header_list_gt)\n",
    "        df = df.loc[:,['gene', 'distance']].sort_values('gene', ascending=True)\n",
    "        df_dict[key] = df\n",
    "    return df_dict"
   ]
  },
  {
   "cell_type": "code",
   "execution_count": 447,
   "metadata": {},
   "outputs": [],
   "source": [
    "gt_df_dict = gene_te_df_dict(gt_fn_dict, None, header_list_gt)"
   ]
  },
  {
   "cell_type": "code",
   "execution_count": 448,
   "metadata": {},
   "outputs": [
    {
     "name": "stdout",
     "output_type": "stream",
     "text": [
      "Pst_104E_v13_p_ctg.REPET.5mC_hc_tombo_sorted.cutoff.0.80.overlap.500.low.sorted.bed\n",
      "Pst_104E_v13_h_ctg.REPET.6mA_prob_smrtlink_sorted.cutoff.0.80.overlap.500.top.sorted.bed\n",
      "Pst_104E_v13_h_ctg.REPET.5mC_hc_tombo_sorted.cutoff.0.80.overlap.500.top.sorted.bed\n",
      "Pst_104E_v13_p_ctg.REPET.5mC_hc_tombo_sorted.cutoff.0.80.overlap.500.top.sorted.bed\n",
      "Pst_104E_v13_h_ctg.REPET.6mA_prob_smrtlink_sorted.cutoff.0.80.overlap.500.low.sorted.bed\n",
      "Pst_104E_v13_h_ctg.REPET.5mC_hc_tombo_sorted.cutoff.0.80.overlap.500.low.sorted.bed\n",
      "Pst_104E_v13_p_ctg.REPET.6mA_hc_tombo_sorted.cutoff.0.80.overlap.500.top.sorted.bed\n",
      "Pst_104E_v13_p_ctg.REPET.6mA_prob_smrtlink_sorted.cutoff.0.80.overlap.500.low.sorted.bed\n",
      "Pst_104E_v13_h_ctg.REPET.6mA_hc_tombo_sorted.cutoff.0.80.overlap.500.top.sorted.bed\n",
      "Pst_104E_v13_p_ctg.REPET.6mA_prob_smrtlink_sorted.cutoff.0.80.overlap.500.top.sorted.bed\n",
      "Pst_104E_v13_p_ctg.REPET.6mA_hc_tombo_sorted.cutoff.0.80.overlap.500.low.sorted.bed\n",
      "Pst_104E_v13_h_ctg.REPET.6mA_hc_tombo_sorted.cutoff.0.80.overlap.500.low.sorted.bed\n"
     ]
    }
   ],
   "source": [
    "print(*gt_df_dict, sep='\\n')"
   ]
  },
  {
   "cell_type": "code",
   "execution_count": 450,
   "metadata": {},
   "outputs": [],
   "source": [
    "def list_gene_names(df):\n",
    "    gene_list = []\n",
    "    if df['gene'] != '.':\n",
    "        gene_list.append(df['gene'])"
   ]
  },
  {
   "cell_type": "code",
   "execution_count": 451,
   "metadata": {},
   "outputs": [],
   "source": [
    "#make a list of genes in each type\n",
    "m5c_top_h = list(set(pd.read_csv(os.path.join(gt_fn_dict['Pst_104E_v13_h_ctg.REPET.5mC_hc_tombo_sorted.cutoff.0.80.overlap.500.top.sorted.bed']), sep='\\t', header=None)[5].tolist()))\n",
    "m6a_top_h = list(set(pd.read_csv(os.path.join(gt_fn_dict['Pst_104E_v13_h_ctg.REPET.6mA_hc_tombo_sorted.cutoff.0.80.overlap.500.top.sorted.bed']), sep='\\t', header=None)[5].tolist()))\n",
    "m6a_pb_top_h = list(set(pd.read_csv(os.path.join(gt_fn_dict['Pst_104E_v13_h_ctg.REPET.6mA_prob_smrtlink_sorted.cutoff.0.80.overlap.500.top.sorted.bed']), sep='\\t', header=None)[5].tolist()))\n",
    "m5c_low_h = list(set(pd.read_csv(os.path.join(gt_fn_dict['Pst_104E_v13_h_ctg.REPET.5mC_hc_tombo_sorted.cutoff.0.80.overlap.500.low.sorted.bed']), sep='\\t', header=None)[5].tolist()))\n",
    "m6a_low_h = list(set(pd.read_csv(os.path.join(gt_fn_dict['Pst_104E_v13_h_ctg.REPET.6mA_hc_tombo_sorted.cutoff.0.80.overlap.500.low.sorted.bed']), sep='\\t', header=None)[5].tolist()))\n",
    "m6a_pb_low_h = list(set(pd.read_csv(os.path.join(gt_fn_dict['Pst_104E_v13_h_ctg.REPET.6mA_prob_smrtlink_sorted.cutoff.0.80.overlap.500.low.sorted.bed']), sep='\\t', header=None)[5].tolist()))"
   ]
  },
  {
   "cell_type": "code",
   "execution_count": 452,
   "metadata": {},
   "outputs": [],
   "source": [
    "m5c_top_p = list(set(pd.read_csv(os.path.join(gt_fn_dict['Pst_104E_v13_p_ctg.REPET.5mC_hc_tombo_sorted.cutoff.0.80.overlap.500.top.sorted.bed']), sep='\\t', header=None)[5].tolist()))\n",
    "m6a_top_p = list(set(pd.read_csv(os.path.join(gt_fn_dict['Pst_104E_v13_p_ctg.REPET.6mA_hc_tombo_sorted.cutoff.0.80.overlap.500.top.sorted.bed']), sep='\\t', header=None)[5].tolist()))\n",
    "m6a_pb_top_p = list(set(pd.read_csv(os.path.join(gt_fn_dict['Pst_104E_v13_p_ctg.REPET.6mA_prob_smrtlink_sorted.cutoff.0.80.overlap.500.top.sorted.bed']), sep='\\t', header=None)[5].tolist()))\n",
    "m5c_low_p = list(set(pd.read_csv(os.path.join(gt_fn_dict['Pst_104E_v13_p_ctg.REPET.5mC_hc_tombo_sorted.cutoff.0.80.overlap.500.low.sorted.bed']), sep='\\t', header=None)[5].tolist()))\n",
    "m6a_low_p = list(set(pd.read_csv(os.path.join(gt_fn_dict['Pst_104E_v13_p_ctg.REPET.6mA_hc_tombo_sorted.cutoff.0.80.overlap.500.low.sorted.bed']), sep='\\t', header=None)[5].tolist()))\n",
    "m6a_pb_low_p = list(set(pd.read_csv(os.path.join(gt_fn_dict['Pst_104E_v13_p_ctg.REPET.6mA_prob_smrtlink_sorted.cutoff.0.80.overlap.500.low.sorted.bed']), sep='\\t', header=None)[5].tolist()))"
   ]
  },
  {
   "cell_type": "code",
   "execution_count": 454,
   "metadata": {},
   "outputs": [],
   "source": [
    "h_contig_df['Top_5mC_Gene_TE'] = 'Other'\n",
    "h_contig_df.loc[h_contig_df.name.isin(m5c_top_h), 'Top_5mC_Gene_TE'] = 'Methylated\\nTE adjacent'\n",
    "\n",
    "h_contig_df['Top_6mA_Gene_TE'] = 'Other'\n",
    "h_contig_df.loc[h_contig_df.name.isin(m6a_top_h), 'Top_6mA_Gene_TE'] = 'Methylated\\nTE adjacent'\n",
    "\n",
    "h_contig_df['Top_6mA_pb_Gene_TE'] = 'Other'\n",
    "h_contig_df.loc[h_contig_df.name.isin(m6a_pb_top_h), 'Top_6mA_pb_Gene_TE'] = 'Methylated\\nTE adjacent'\n",
    "\n",
    "h_contig_df['Low_5mC_Gene_TE'] = 'Other'\n",
    "h_contig_df.loc[h_contig_df.name.isin(m5c_low_h), 'Low_5mC_Gene_TE'] = 'Methylated\\nTE adjacent'\n",
    "\n",
    "h_contig_df['Low_6mA_Gene_TE'] = 'Other'\n",
    "h_contig_df.loc[h_contig_df.name.isin(m6a_low_h), 'Low_6mA_Gene_TE'] = 'Methylated\\nTE adjacent'\n",
    "\n",
    "h_contig_df['Low_6mA_pb_Gene_TE'] = 'Other'\n",
    "h_contig_df.loc[h_contig_df.name.isin(m6a_pb_low_h), 'Low_6mA_pb_Gene_TE'] = 'Methylated\\nTE adjacent'"
   ]
  },
  {
   "cell_type": "code",
   "execution_count": 455,
   "metadata": {},
   "outputs": [],
   "source": [
    "p_contig_df['Top_5mC_Gene_TE'] = 'Other'\n",
    "p_contig_df.loc[p_contig_df.name.isin(m5c_top_p), 'Top_5mC_Gene_TE'] = 'Methylated\\nTE adjacent'\n",
    "\n",
    "p_contig_df['Top_6mA_Gene_TE'] = 'Other'\n",
    "p_contig_df.loc[p_contig_df.name.isin(m6a_top_p), 'Top_6mA_Gene_TE'] = 'Methylated\\nTE adjacent'\n",
    "\n",
    "p_contig_df['Top_6mA_pb_Gene_TE'] = 'Other'\n",
    "p_contig_df.loc[p_contig_df.name.isin(m6a_pb_top_p), 'Top_6mA_pb_Gene_TE'] = 'Methylated\\nTE adjacent'\n",
    "\n",
    "p_contig_df['Low_5mC_Gene_TE'] = 'Others'\n",
    "p_contig_df.loc[p_contig_df.name.isin(m5c_low_p), 'Low_5mC_Gene_TE'] = 'Methylated\\nTE adjacent'\n",
    "\n",
    "p_contig_df['Low_6mA_Gene_TE'] = 'Other'\n",
    "p_contig_df.loc[p_contig_df.name.isin(m6a_low_p), 'Low_6mA_Gene_TE'] = 'Methylated\\nTE adjacent'\n",
    "\n",
    "p_contig_df['Low_6mA_pb_Gene_TE'] = 'Other'\n",
    "p_contig_df.loc[p_contig_df.name.isin(m6a_pb_low_p), 'Low_6mA_pb_Gene_TE'] = 'Methylated\\nTE adjacent'"
   ]
  },
  {
   "cell_type": "code",
   "execution_count": 456,
   "metadata": {},
   "outputs": [],
   "source": [
    "#Save out the dataframe\n",
    "h_contig_df.to_csv(os.path.join(DIRS['FIGURES'], 'expression', 'rnaseq_methyl_df_h.tsv'), header=True, index=None, sep='\\t')\n",
    "p_contig_df.to_csv(os.path.join(DIRS['FIGURES'], 'expression', 'rnaseq_methyl_df_p.tsv'), header=True, index=None, sep='\\t')"
   ]
  }
 ],
 "metadata": {
  "kernelspec": {
   "display_name": "Python 3",
   "language": "python",
   "name": "python3"
  },
  "language_info": {
   "codemirror_mode": {
    "name": "ipython",
    "version": 3
   },
   "file_extension": ".py",
   "mimetype": "text/x-python",
   "name": "python",
   "nbconvert_exporter": "python",
   "pygments_lexer": "ipython3",
   "version": "3.6.3"
  }
 },
 "nbformat": 4,
 "nbformat_minor": 2
}
