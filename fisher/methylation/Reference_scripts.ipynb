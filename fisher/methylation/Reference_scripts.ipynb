{
 "cells": [
  {
   "cell_type": "markdown",
   "metadata": {},
   "source": [
    "# <span style='color:#ff4747'> Reference scripts <span/>\n",
    "\n",
    "These are useful scripts that didn't end up being used during the data analysis, but are good for future reference. "
   ]
  },
  {
   "cell_type": "markdown",
   "metadata": {},
   "source": [
    "### <span style='color:#ff4f14'> Making a dictionary of pybedtools objects. <span/>"
   ]
  },
  {
   "cell_type": "code",
   "execution_count": null,
   "metadata": {},
   "outputs": [],
   "source": [
    "import pybedtools\n",
    "from pybedtools import BedTool\n",
    "import os\n",
    "import glob\n",
    "import pprint\n",
    "import numpy # need for p-value stats\n",
    "import scipy\n",
    "\n",
    "#First we need to define the base dirs\n",
    "DIRS ={}\n",
    "DIRS['BASE1'] = '/home/anjuni/methylation_calling/pacbio'\n",
    "DIRS['BASE2'] = '/home/anjuni/analysis'\n",
    "DIRS['BED_INPUT'] = os.path.join(DIRS['BASE1'], 'input', 'sorted_bed_files', 'filtered_bed')\n",
    "DIRS['GFF_INPUT'] = os.path.join(DIRS['BASE2'], 'gff_output')\n",
    "DIRS['WINDOW_OUTPUT'] = os.path.join(DIRS['BASE2'], 'windows')\n",
    "\n",
    "#Quick chech if directories exist\n",
    "for value in DIRS.values():\n",
    "    if not os.path.exists(value):\n",
    "        print('%s does not exist' % value)\n",
    "        \n",
    "#Make filepaths\n",
    "bed_file_list = [fn for fn in glob.iglob('%s/*.bed' % DIRS['BED_INPUT'], recursive=True)]\n",
    "gff_file_list = [fn for fn in glob.iglob('%s/*anno.gff3' % DIRS['GFF_INPUT'], recursive=True)]\n",
    "te_file_list = [fn for fn in glob.iglob('%s/*.gff' % DIRS['GFF_INPUT'], recursive=True)]\n",
    "\n",
    "#Check that the list works\n",
    "print(*bed_file_list, sep='\\n')\n",
    "print(*gff_file_list, sep='\\n')\n",
    "print(*te_file_list, sep='\\n')\n",
    "\n",
    "BED = {}\n",
    "for file in bed_file_list:\n",
    "    name = (file[63:-4]) # get rid of the end and beginning of the file path, so you only have the filename\n",
    "    bed_file = BedTool(file)\n",
    "    BED[name] = bed_file\n",
    "    \n",
    "pprint.pprint(BED) # see if it works\n",
    "\n",
    "GFF = {}\n",
    "for file in gff_file_list:\n",
    "    name = (file[46:-5])\n",
    "    gff_file = BedTool(file)\n",
    "    GFF[name] = gff_file\n",
    "    \n",
    "pprint.pprint(GFF) # see if it works\n",
    "\n",
    "TE = {}\n",
    "for file in te_file_list:\n",
    "    name = (file[46:-4])\n",
    "    te_file = BedTool(file)\n",
    "    TE[name] = te_file\n",
    "\n",
    "pprint.pprint(TE) # see if it works "
   ]
  }
 ],
 "metadata": {
  "kernelspec": {
   "display_name": "Python 3",
   "language": "python",
   "name": "python3"
  },
  "language_info": {
   "codemirror_mode": {
    "name": "ipython",
    "version": 3
   },
   "file_extension": ".py",
   "mimetype": "text/x-python",
   "name": "python",
   "nbconvert_exporter": "python",
   "pygments_lexer": "ipython3",
   "version": "3.6.4"
  }
 },
 "nbformat": 4,
 "nbformat_minor": 2
}
