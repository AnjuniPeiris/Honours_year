{
 "cells": [
  {
   "cell_type": "markdown",
   "metadata": {},
   "source": [
    "# <span style=\"color:#ff1414\"> BEDtools analysis. </span>\n",
    "\n",
    "This is a script to answer research questions outlined elsewhere. In summary, this script:\n",
    "\n",
    "1. compares methylation results between different methylation-callers, and between different methylation sequencing methods.\n",
    "\n",
    "2. compares methylation between genes and non-gene regions\n",
    "\n",
    "3. compares methylation between transposons and non-repetitive regions\n",
    "\n",
    "4. compares transposons and genes\n",
    "\n",
    "\n",
    "Note:\n",
    "- PB/pb = PacBio\n",
    "- ONT/ont = Oxford Nanopore Technology\n",
    "- NP = Nanopolish"
   ]
  },
  {
   "cell_type": "code",
   "execution_count": 2,
   "metadata": {},
   "outputs": [],
   "source": [
    "\n",
    "\n",
    "import matplotlib.patches as mpatches\n",
    "\n",
    " # need for  stats\n",
    "\n",
    "from scipy.stats import wilcoxon\n",
    "import matplotlib.pyplot as plt\n",
    "from matplotlib_venn import venn2\n",
    "from scipy.stats import spearmanr\n"
   ]
  },
  {
   "cell_type": "code",
   "execution_count": 120,
   "metadata": {},
   "outputs": [],
   "source": [
    "# load modules\n",
    "import os\n",
    "import glob\n",
    "import pprint\n",
    "import pandas as pd\n",
    "import scipy\n",
    "import numpy as np\n",
    "import pybedtools\n",
    "from pybedtools import BedTool"
   ]
  },
  {
   "cell_type": "code",
   "execution_count": 64,
   "metadata": {},
   "outputs": [],
   "source": [
    "#First we need to define the base dirs\n",
    "DIRS = {}\n",
    "DIRS['BASE2'] = '/home/anjuni/analysis'\n",
    "DIRS['FEATURES'] = os.path.join(DIRS['BASE2'], 'coverage', 'feature_files')\n",
    "DIRS['RAND'] = os.path.join(DIRS['BASE2'], 'coverage', 'randomisation')\n",
    "DIRS['COVERAGE'] = os.path.join(DIRS['BASE2'], 'coverage')\n",
    "DIRS['GENE'] = os.path.join(DIRS['COVERAGE'], 'gene_level')\n",
    "DIRS['GENE_BODY'] = os.path.join(DIRS['GENE'], 'gene_body')\n",
    "DIRS['TE'] = os.path.join(DIRS['GENE'], 'te')\n",
    "DIRS['GFF_INPUT'] = os.path.join(DIRS['BASE2'], 'gff_output')\n",
    "DIRS['FIGURES'] = os.path.join(DIRS['BASE2'], 'figures')\n",
    "DIRS['COMPARE'] = os.path.join(DIRS['BASE2'], 'gene_te_comparison')"
   ]
  },
  {
   "cell_type": "code",
   "execution_count": 9,
   "metadata": {},
   "outputs": [
    {
     "name": "stdout",
     "output_type": "stream",
     "text": [
      "/home/anjuni/methylation_calling/pacbio/input/sorted_bed_files/cutoffs does not exist\n"
     ]
    }
   ],
   "source": [
    "#Quick chech if directories exist\n",
    "for value in DIRS.values():\n",
    "    if not os.path.exists(value):\n",
    "        print('%s does not exist' % value)"
   ]
  },
  {
   "cell_type": "code",
   "execution_count": 79,
   "metadata": {},
   "outputs": [],
   "source": [
    "#Make filepaths\n",
    "bed_file_list = [fn for fn in glob.iglob('%s/*.bed' % DIRS['BED_INPUT'], recursive=True)]\n",
    "gff_file_list = [fn for fn in glob.iglob('%s/*anno.gff3' % DIRS['GFF_INPUT'], recursive=True)]\n",
    "te_file_list = [fn for fn in glob.iglob('%s/*.gff' % DIRS['GFF_INPUT'], recursive=True)]"
   ]
  },
  {
   "cell_type": "code",
   "execution_count": 80,
   "metadata": {
    "collapsed": true
   },
   "outputs": [
    {
     "name": "stdout",
     "output_type": "stream",
     "text": [
      "/home/anjuni/analysis/bedtools_output/sequencing_comparison/5mC_plus_tombo_sorted.bed\n",
      "/home/anjuni/analysis/bedtools_output/sequencing_comparison/5mC_CpG_tombo_np.bed\n",
      "/home/anjuni/analysis/bedtools_output/sequencing_comparison/5mC_tombo_np.bed\n",
      "/home/anjuni/analysis/bedtools_output/sequencing_comparison/5mC_plus_CpG_np_tombo.bed\n",
      "/home/anjuni/analysis/bedtools_output/sequencing_comparison/5mC_hc_tombo_sorted.CpG.plus.bed\n",
      "/home/anjuni/analysis/bedtools_output/sequencing_comparison/5mC_s_nanopolish.bed\n",
      "/home/anjuni/analysis/bedtools_output/sequencing_comparison/nanopolish_rerun_subtract.bed\n",
      "/home/anjuni/analysis/bedtools_output/sequencing_comparison/5mC_hc_nanopolish_sorted.bed\n",
      "/home/anjuni/analysis/bedtools_output/sequencing_comparison/5mC_plus_CpG_tombo_np.bed\n",
      "/home/anjuni/analysis/bedtools_output/sequencing_comparison/nano_plus_tombo_overlap.bed\n",
      "/home/anjuni/analysis/bedtools_output/sequencing_comparison/5mC_tombo_sorted.bed\n",
      "/home/anjuni/analysis/bedtools_output/sequencing_comparison/5mC_minus_tombo_sorted.bed\n",
      "/home/anjuni/analysis/bedtools_output/sequencing_comparison/5mC_nanopolish_sorted.bed\n",
      "/home/anjuni/analysis/bedtools_output/sequencing_comparison/5mC_rerun_s_nanopolish.bed\n",
      "/home/anjuni/analysis/bedtools_output/sequencing_comparison/5mC_hc_tombo_sorted.bed\n",
      "/home/anjuni/analysis/bedtools_output/sequencing_comparison/6mA_tombo_sorted.bed\n",
      "/home/anjuni/analysis/bedtools_output/sequencing_comparison/5mC_hc_tombo_sorted.CpG.bed\n",
      "/home/anjuni/analysis/bedtools_output/sequencing_comparison/5mC_CpG_np_tombo.bed\n",
      "/home/anjuni/analysis/bedtools_output/sequencing_comparison/6mA_hc_tombo_sorted.bed\n",
      "/home/anjuni/analysis/bedtools_output/sequencing_comparison/nano_minus_tombo_overlap.bed\n",
      "/home/anjuni/analysis/bedtools_output/sequencing_comparison/6mA_ont_pb.bed\n",
      "/home/anjuni/analysis/bedtools_output/sequencing_comparison/5mC_np_tombo.bed\n",
      "/home/anjuni/analysis/bedtools_output/sequencing_comparison/6mA_prob_smrtlink_sorted.bed\n",
      "/home/anjuni/analysis/gff_output/Pst_104E_v13_ph_ctg_combined_sorted_anno.gff3\n",
      "/home/anjuni/analysis/gff_output/Pst_104E_v13_p_ctg_combined_sorted_anno.gff3\n",
      "/home/anjuni/analysis/gff_output/Pst_104E_v13_h_ctg_combined_sorted_anno.gff3\n",
      "/home/anjuni/analysis/gff_output/Pst_104E_v13_h_ctg.REPET.sorted.filtered.superfamily.gff\n",
      "/home/anjuni/analysis/gff_output/Pst_104E_v13_p_ctg.REPET.sorted.filtered.superfamily.gff\n",
      "/home/anjuni/analysis/gff_output/Pst_104E_v13_ph_ctg.REPET.sorted.filtered.superfamily.gff\n"
     ]
    }
   ],
   "source": [
    "#Check that the list works\n",
    "print(*bed_file_list, sep='\\n')\n",
    "print(*gff_file_list, sep='\\n')\n",
    "print(*te_file_list, sep='\\n')"
   ]
  },
  {
   "cell_type": "markdown",
   "metadata": {},
   "source": [
    "## <span style='color:#9ac615'> 8. Comparing methylated transposons and genes. <span/>"
   ]
  },
  {
   "cell_type": "code",
   "execution_count": null,
   "metadata": {},
   "outputs": [],
   "source": [
    "# make a bed file of the 500 most highly methylated and 500 least methylated genes\n",
    "# write a function so you can find top 100 as well\n",
    "# or use a cutoff for methylation fraction by ranking"
   ]
  },
  {
   "cell_type": "code",
   "execution_count": 58,
   "metadata": {},
   "outputs": [],
   "source": [
    "# TE coverage files in bed6 format were generated in notebook 6 for the next part and then copied over to the input folder\n",
    "# Gene annotation files in bed6 that were previously generated were copied over to the input folder\n",
    "\n",
    "!cp /home/anjuni/analysis/coverage/gene_level/gene_body/input/*anno.s* /home/anjuni/analysis/gene_te_comparison/input\n",
    "!cp /home/anjuni/analysis/coverage/gene_level/te/coverage/*6.b* /home/anjuni/analysis/gene_te_comparison/input"
   ]
  },
  {
   "cell_type": "code",
   "execution_count": 177,
   "metadata": {},
   "outputs": [],
   "source": [
    "!cp /home/anjuni/analysis/coverage/gene_level/te/coverage/*6.id.b* /home/anjuni/analysis/gene_te_comparison/input"
   ]
  },
  {
   "cell_type": "code",
   "execution_count": 141,
   "metadata": {},
   "outputs": [],
   "source": [
    "# make a dataframe of transposons and rank by methylation level\n",
    "te_fn_list = [fn for fn in glob.iglob('%s/*6.id.bed' % os.path.join(DIRS['COMPARE'], 'input'), recursive=True)]"
   ]
  },
  {
   "cell_type": "code",
   "execution_count": 178,
   "metadata": {},
   "outputs": [
    {
     "data": {
      "text/plain": [
       "['/home/anjuni/analysis/gene_te_comparison/input/Pst_104E_v13_h_ctg.REPET.6mA_hc_tombo_sorted.cutoff.0.50.overlap6.id.bed',\n",
       " '/home/anjuni/analysis/gene_te_comparison/input/Pst_104E_v13_h_ctg.REPET.6mA_hc_tombo_sorted.cutoff.0.95.overlap6.id.bed',\n",
       " '/home/anjuni/analysis/gene_te_comparison/input/Pst_104E_v13_p_ctg.REPET.5mC_hc_tombo_sorted.cutoff.0.50.overlap6.id.bed',\n",
       " '/home/anjuni/analysis/gene_te_comparison/input/Pst_104E_v13_h_ctg.REPET.5mC_hc_tombo_sorted.cutoff.0.95.overlap6.id.bed',\n",
       " '/home/anjuni/analysis/gene_te_comparison/input/Pst_104E_v13_p_ctg.REPET.6mA_hc_tombo_sorted.cutoff.0.50.overlap6.id.bed',\n",
       " '/home/anjuni/analysis/gene_te_comparison/input/Pst_104E_v13_p_ctg.REPET.6mA_hc_tombo_sorted.cutoff.0.95.overlap6.id.bed',\n",
       " '/home/anjuni/analysis/gene_te_comparison/input/Pst_104E_v13_p_ctg.REPET.5mC_hc_tombo_sorted.cutoff.0.95.overlap6.id.bed',\n",
       " '/home/anjuni/analysis/gene_te_comparison/input/Pst_104E_v13_h_ctg.REPET.5mC_hc_tombo_sorted.cutoff.0.50.overlap6.id.bed']"
      ]
     },
     "execution_count": 178,
     "metadata": {},
     "output_type": "execute_result"
    }
   ],
   "source": [
    "te_fn_list"
   ]
  },
  {
   "cell_type": "code",
   "execution_count": 210,
   "metadata": {},
   "outputs": [],
   "source": [
    "headings = ['contig', 'start', 'stop', 'name', 'overlap_fraction', 'strand']"
   ]
  },
  {
   "cell_type": "code",
   "execution_count": 179,
   "metadata": {},
   "outputs": [],
   "source": [
    "def fn_to_df_dict(fn_list):\n",
    "    \"Returns a dictionary of pandas dataframes for a list of file paths.\"\n",
    "    df_dict = {}\n",
    "    for fn in fn_list:\n",
    "        df = pd.read_csv(fn, sep='\\t', header=None, names = headings)\n",
    "        df_dict[fn.split('/')[-1]] = df\n",
    "    return df_dict"
   ]
  },
  {
   "cell_type": "code",
   "execution_count": 180,
   "metadata": {},
   "outputs": [],
   "source": [
    "te_df_dict = fn_to_df_dict(te_fn_list)"
   ]
  },
  {
   "cell_type": "code",
   "execution_count": 181,
   "metadata": {},
   "outputs": [
    {
     "name": "stdout",
     "output_type": "stream",
     "text": [
      "Pst_104E_v13_h_ctg.REPET.6mA_hc_tombo_sorted.cutoff.0.50.overlap6.id.bed\n",
      "Pst_104E_v13_h_ctg.REPET.6mA_hc_tombo_sorted.cutoff.0.95.overlap6.id.bed\n",
      "Pst_104E_v13_p_ctg.REPET.5mC_hc_tombo_sorted.cutoff.0.50.overlap6.id.bed\n",
      "Pst_104E_v13_h_ctg.REPET.5mC_hc_tombo_sorted.cutoff.0.95.overlap6.id.bed\n",
      "Pst_104E_v13_p_ctg.REPET.6mA_hc_tombo_sorted.cutoff.0.50.overlap6.id.bed\n",
      "Pst_104E_v13_p_ctg.REPET.6mA_hc_tombo_sorted.cutoff.0.95.overlap6.id.bed\n",
      "Pst_104E_v13_p_ctg.REPET.5mC_hc_tombo_sorted.cutoff.0.95.overlap6.id.bed\n",
      "Pst_104E_v13_h_ctg.REPET.5mC_hc_tombo_sorted.cutoff.0.50.overlap6.id.bed\n"
     ]
    }
   ],
   "source": [
    "print(*te_df_dict, sep='\\n')"
   ]
  },
  {
   "cell_type": "code",
   "execution_count": 182,
   "metadata": {},
   "outputs": [
    {
     "data": {
      "text/html": [
       "<div>\n",
       "<style scoped>\n",
       "    .dataframe tbody tr th:only-of-type {\n",
       "        vertical-align: middle;\n",
       "    }\n",
       "\n",
       "    .dataframe tbody tr th {\n",
       "        vertical-align: top;\n",
       "    }\n",
       "\n",
       "    .dataframe thead th {\n",
       "        text-align: right;\n",
       "    }\n",
       "</style>\n",
       "<table border=\"1\" class=\"dataframe\">\n",
       "  <thead>\n",
       "    <tr style=\"text-align: right;\">\n",
       "      <th></th>\n",
       "      <th>contig</th>\n",
       "      <th>start</th>\n",
       "      <th>stop</th>\n",
       "      <th>name</th>\n",
       "      <th>overlap_fraction</th>\n",
       "      <th>strand</th>\n",
       "    </tr>\n",
       "  </thead>\n",
       "  <tbody>\n",
       "    <tr>\n",
       "      <th>0</th>\n",
       "      <td>hcontig_000_003</td>\n",
       "      <td>148</td>\n",
       "      <td>221</td>\n",
       "      <td>ms32995_hcontig_000_003_DXX-MITE_MCL744_Pst79_...</td>\n",
       "      <td>0.287671</td>\n",
       "      <td>+</td>\n",
       "    </tr>\n",
       "    <tr>\n",
       "      <th>1</th>\n",
       "      <td>hcontig_000_003</td>\n",
       "      <td>243</td>\n",
       "      <td>270</td>\n",
       "      <td>ms206957_hcontig_000_003_TTTTCGAAATTGAA2</td>\n",
       "      <td>0.074074</td>\n",
       "      <td>+</td>\n",
       "    </tr>\n",
       "    <tr>\n",
       "      <th>2</th>\n",
       "      <td>hcontig_000_003</td>\n",
       "      <td>674</td>\n",
       "      <td>693</td>\n",
       "      <td>ms206958_hcontig_000_003_CCTCCGTGTT2</td>\n",
       "      <td>0.421053</td>\n",
       "      <td>+</td>\n",
       "    </tr>\n",
       "    <tr>\n",
       "      <th>3</th>\n",
       "      <td>hcontig_000_003</td>\n",
       "      <td>860</td>\n",
       "      <td>879</td>\n",
       "      <td>ms206959_hcontig_000_003_CAGGGAGTG2</td>\n",
       "      <td>0.157895</td>\n",
       "      <td>+</td>\n",
       "    </tr>\n",
       "    <tr>\n",
       "      <th>4</th>\n",
       "      <td>hcontig_000_003</td>\n",
       "      <td>1048</td>\n",
       "      <td>1059</td>\n",
       "      <td>ms206960_hcontig_000_003_TCTCC2</td>\n",
       "      <td>0.545455</td>\n",
       "      <td>+</td>\n",
       "    </tr>\n",
       "  </tbody>\n",
       "</table>\n",
       "</div>"
      ],
      "text/plain": [
       "            contig  start  stop  \\\n",
       "0  hcontig_000_003    148   221   \n",
       "1  hcontig_000_003    243   270   \n",
       "2  hcontig_000_003    674   693   \n",
       "3  hcontig_000_003    860   879   \n",
       "4  hcontig_000_003   1048  1059   \n",
       "\n",
       "                                                name  overlap_fraction strand  \n",
       "0  ms32995_hcontig_000_003_DXX-MITE_MCL744_Pst79_...          0.287671      +  \n",
       "1           ms206957_hcontig_000_003_TTTTCGAAATTGAA2          0.074074      +  \n",
       "2               ms206958_hcontig_000_003_CCTCCGTGTT2          0.421053      +  \n",
       "3                ms206959_hcontig_000_003_CAGGGAGTG2          0.157895      +  \n",
       "4                    ms206960_hcontig_000_003_TCTCC2          0.545455      +  "
      ]
     },
     "execution_count": 182,
     "metadata": {},
     "output_type": "execute_result"
    }
   ],
   "source": [
    "te_df_dict['Pst_104E_v13_h_ctg.REPET.5mC_hc_tombo_sorted.cutoff.0.50.overlap6.id.bed'].head()"
   ]
  },
  {
   "cell_type": "code",
   "execution_count": 218,
   "metadata": {},
   "outputs": [],
   "source": [
    "# rank by methylation level and subset to a new df\n",
    "def top_te(df_dict, asc, number):\n",
    "    \"\"\"Takes a dictionary of dataframes, sorts by overlap fraction, and returns a dictionary of dataframes sliced by the top number.\"\"\"\n",
    "    top_dict = {}\n",
    "    for key, value in df_dict.items():\n",
    "        df = value.sort_values(by='overlap_fraction', ascending=asc).loc[:500]\n",
    "        top_dict[key] = df\n",
    "        out_fn = os.path.join(DIRS['COMPARE'], 'te_ranked_files', key)\n",
    "        out_fn = out_fn.replace('bed', '500.bed')\n",
    "        df.to_csv(out_fn, sep='\\t', header=None, index=None)\n",
    "    return top_dict"
   ]
  },
  {
   "cell_type": "code",
   "execution_count": 206,
   "metadata": {},
   "outputs": [
    {
     "data": {
      "text/html": [
       "<div>\n",
       "<style scoped>\n",
       "    .dataframe tbody tr th:only-of-type {\n",
       "        vertical-align: middle;\n",
       "    }\n",
       "\n",
       "    .dataframe tbody tr th {\n",
       "        vertical-align: top;\n",
       "    }\n",
       "\n",
       "    .dataframe thead th {\n",
       "        text-align: right;\n",
       "    }\n",
       "</style>\n",
       "<table border=\"1\" class=\"dataframe\">\n",
       "  <thead>\n",
       "    <tr style=\"text-align: right;\">\n",
       "      <th></th>\n",
       "      <th>contig</th>\n",
       "      <th>start</th>\n",
       "      <th>stop</th>\n",
       "      <th>name</th>\n",
       "      <th>overlap_fraction</th>\n",
       "      <th>strand</th>\n",
       "    </tr>\n",
       "  </thead>\n",
       "  <tbody>\n",
       "    <tr>\n",
       "      <th>21509</th>\n",
       "      <td>hcontig_002_011</td>\n",
       "      <td>290260</td>\n",
       "      <td>290275</td>\n",
       "      <td>ms360242_hcontig_002_011_C15</td>\n",
       "      <td>1.0</td>\n",
       "      <td>+</td>\n",
       "    </tr>\n",
       "    <tr>\n",
       "      <th>28850</th>\n",
       "      <td>hcontig_003_002</td>\n",
       "      <td>546975</td>\n",
       "      <td>546987</td>\n",
       "      <td>ms258802_hcontig_003_002_C12</td>\n",
       "      <td>1.0</td>\n",
       "      <td>+</td>\n",
       "    </tr>\n",
       "    <tr>\n",
       "      <th>158472</th>\n",
       "      <td>hcontig_036_008</td>\n",
       "      <td>110484</td>\n",
       "      <td>110494</td>\n",
       "      <td>ms198267_hcontig_036_008_C10</td>\n",
       "      <td>1.0</td>\n",
       "      <td>+</td>\n",
       "    </tr>\n",
       "    <tr>\n",
       "      <th>83601</th>\n",
       "      <td>hcontig_012_028</td>\n",
       "      <td>491436</td>\n",
       "      <td>491447</td>\n",
       "      <td>ms267817_hcontig_012_028_C11</td>\n",
       "      <td>1.0</td>\n",
       "      <td>+</td>\n",
       "    </tr>\n",
       "    <tr>\n",
       "      <th>102575</th>\n",
       "      <td>hcontig_018_016</td>\n",
       "      <td>154833</td>\n",
       "      <td>154849</td>\n",
       "      <td>ms128345_hcontig_018_016_C16</td>\n",
       "      <td>1.0</td>\n",
       "      <td>+</td>\n",
       "    </tr>\n",
       "  </tbody>\n",
       "</table>\n",
       "</div>"
      ],
      "text/plain": [
       "                 contig   start    stop                          name  \\\n",
       "21509   hcontig_002_011  290260  290275  ms360242_hcontig_002_011_C15   \n",
       "28850   hcontig_003_002  546975  546987  ms258802_hcontig_003_002_C12   \n",
       "158472  hcontig_036_008  110484  110494  ms198267_hcontig_036_008_C10   \n",
       "83601   hcontig_012_028  491436  491447  ms267817_hcontig_012_028_C11   \n",
       "102575  hcontig_018_016  154833  154849  ms128345_hcontig_018_016_C16   \n",
       "\n",
       "        overlap_fraction strand  \n",
       "21509                1.0      +  \n",
       "28850                1.0      +  \n",
       "158472               1.0      +  \n",
       "83601                1.0      +  \n",
       "102575               1.0      +  "
      ]
     },
     "execution_count": 206,
     "metadata": {},
     "output_type": "execute_result"
    }
   ],
   "source": [
    "top500_te_df_dict['Pst_104E_v13_h_ctg.REPET.5mC_hc_tombo_sorted.cutoff.0.50.overlap6.id.bed'].head()"
   ]
  },
  {
   "cell_type": "code",
   "execution_count": 219,
   "metadata": {},
   "outputs": [],
   "source": [
    "top500_te_df_dict = top_te(te_df_dict, False, 500)\n",
    "#low500_te_df_dict = top_te(te_df_dict, True, 500)\n",
    "#top100_te_df_dict = top_te(te_df_dict, False, 100)\n",
    "#low100_te_df_dict = top_te(te_df_dict, True, 100)"
   ]
  },
  {
   "cell_type": "code",
   "execution_count": 185,
   "metadata": {
    "collapsed": true
   },
   "outputs": [
    {
     "name": "stdout",
     "output_type": "stream",
     "text": [
      "Pst_104E_v13_h_ctg.REPET.6mA_hc_tombo_sorted.cutoff.0.50.overlap6.id.bed\n",
      "Pst_104E_v13_h_ctg.REPET.6mA_hc_tombo_sorted.cutoff.0.95.overlap6.id.bed\n",
      "Pst_104E_v13_p_ctg.REPET.5mC_hc_tombo_sorted.cutoff.0.50.overlap6.id.bed\n",
      "Pst_104E_v13_h_ctg.REPET.5mC_hc_tombo_sorted.cutoff.0.95.overlap6.id.bed\n",
      "Pst_104E_v13_p_ctg.REPET.6mA_hc_tombo_sorted.cutoff.0.50.overlap6.id.bed\n",
      "Pst_104E_v13_p_ctg.REPET.6mA_hc_tombo_sorted.cutoff.0.95.overlap6.id.bed\n",
      "Pst_104E_v13_p_ctg.REPET.5mC_hc_tombo_sorted.cutoff.0.95.overlap6.id.bed\n",
      "Pst_104E_v13_h_ctg.REPET.5mC_hc_tombo_sorted.cutoff.0.50.overlap6.id.bed\n",
      "Pst_104E_v13_h_ctg.REPET.6mA_hc_tombo_sorted.cutoff.0.50.overlap6.id.bed\n",
      "Pst_104E_v13_h_ctg.REPET.6mA_hc_tombo_sorted.cutoff.0.95.overlap6.id.bed\n",
      "Pst_104E_v13_p_ctg.REPET.5mC_hc_tombo_sorted.cutoff.0.50.overlap6.id.bed\n",
      "Pst_104E_v13_h_ctg.REPET.5mC_hc_tombo_sorted.cutoff.0.95.overlap6.id.bed\n",
      "Pst_104E_v13_p_ctg.REPET.6mA_hc_tombo_sorted.cutoff.0.50.overlap6.id.bed\n",
      "Pst_104E_v13_p_ctg.REPET.6mA_hc_tombo_sorted.cutoff.0.95.overlap6.id.bed\n",
      "Pst_104E_v13_p_ctg.REPET.5mC_hc_tombo_sorted.cutoff.0.95.overlap6.id.bed\n",
      "Pst_104E_v13_h_ctg.REPET.5mC_hc_tombo_sorted.cutoff.0.50.overlap6.id.bed\n"
     ]
    }
   ],
   "source": [
    "print(*top500_te_df_dict, sep='\\n')\n",
    "print(*low500_te_df_dict, sep='\\n')"
   ]
  },
  {
   "cell_type": "code",
   "execution_count": 215,
   "metadata": {},
   "outputs": [],
   "source": [
    "top500_fn_list = [fn for fn in glob.iglob('%s/*id*' % os.path.join(DIRS['COMPARE'], 'te_ranked_files'), recursive=True)]\n",
    "top500_dict = {}\n",
    "for fn in top500_fn_list:\n",
    "    top500_dict[fn.split('/')[-1]] = fn"
   ]
  },
  {
   "cell_type": "code",
   "execution_count": 216,
   "metadata": {},
   "outputs": [
    {
     "data": {
      "text/plain": [
       "{'Pst_104E_v13_h_ctg.REPET.5mC_hc_tombo_sorted.cutoff.0.50.overlap6.id.500.bed': '/home/anjuni/analysis/gene_te_comparison/te_ranked_files/Pst_104E_v13_h_ctg.REPET.5mC_hc_tombo_sorted.cutoff.0.50.overlap6.id.500.bed',\n",
       " 'Pst_104E_v13_h_ctg.REPET.5mC_hc_tombo_sorted.cutoff.0.95.overlap6.id.500.bed': '/home/anjuni/analysis/gene_te_comparison/te_ranked_files/Pst_104E_v13_h_ctg.REPET.5mC_hc_tombo_sorted.cutoff.0.95.overlap6.id.500.bed',\n",
       " 'Pst_104E_v13_h_ctg.REPET.6mA_hc_tombo_sorted.cutoff.0.50.overlap6.id.500.bed': '/home/anjuni/analysis/gene_te_comparison/te_ranked_files/Pst_104E_v13_h_ctg.REPET.6mA_hc_tombo_sorted.cutoff.0.50.overlap6.id.500.bed',\n",
       " 'Pst_104E_v13_h_ctg.REPET.6mA_hc_tombo_sorted.cutoff.0.95.overlap6.id.500.bed': '/home/anjuni/analysis/gene_te_comparison/te_ranked_files/Pst_104E_v13_h_ctg.REPET.6mA_hc_tombo_sorted.cutoff.0.95.overlap6.id.500.bed',\n",
       " 'Pst_104E_v13_p_ctg.REPET.5mC_hc_tombo_sorted.cutoff.0.50.overlap6.id.500.bed': '/home/anjuni/analysis/gene_te_comparison/te_ranked_files/Pst_104E_v13_p_ctg.REPET.5mC_hc_tombo_sorted.cutoff.0.50.overlap6.id.500.bed',\n",
       " 'Pst_104E_v13_p_ctg.REPET.5mC_hc_tombo_sorted.cutoff.0.95.overlap6.id.500.bed': '/home/anjuni/analysis/gene_te_comparison/te_ranked_files/Pst_104E_v13_p_ctg.REPET.5mC_hc_tombo_sorted.cutoff.0.95.overlap6.id.500.bed',\n",
       " 'Pst_104E_v13_p_ctg.REPET.6mA_hc_tombo_sorted.cutoff.0.50.overlap6.id.500.bed': '/home/anjuni/analysis/gene_te_comparison/te_ranked_files/Pst_104E_v13_p_ctg.REPET.6mA_hc_tombo_sorted.cutoff.0.50.overlap6.id.500.bed',\n",
       " 'Pst_104E_v13_p_ctg.REPET.6mA_hc_tombo_sorted.cutoff.0.95.overlap6.id.500.bed': '/home/anjuni/analysis/gene_te_comparison/te_ranked_files/Pst_104E_v13_p_ctg.REPET.6mA_hc_tombo_sorted.cutoff.0.95.overlap6.id.500.bed'}"
      ]
     },
     "execution_count": 216,
     "metadata": {},
     "output_type": "execute_result"
    }
   ],
   "source": [
    "top500_dict"
   ]
  },
  {
   "cell_type": "code",
   "execution_count": 167,
   "metadata": {},
   "outputs": [
    {
     "data": {
      "text/plain": [
       "'/home/anjuni/analysis/gene_te_comparison'"
      ]
     },
     "execution_count": 167,
     "metadata": {},
     "output_type": "execute_result"
    }
   ],
   "source": [
    "DIRS['COMPARE']"
   ]
  },
  {
   "cell_type": "code",
   "execution_count": 176,
   "metadata": {},
   "outputs": [
    {
     "data": {
      "text/plain": [
       "['/home/anjuni/analysis/gene_te_comparison/te_ranked_files/Pst_104E_v13_h_ctg.REPET.5mC_hc_tombo_sorted.cutoff.0.50.overlap6.id.500.bed',\n",
       " '/home/anjuni/analysis/gene_te_comparison/te_ranked_files/Pst_104E_v13_h_ctg.REPET.6mA_hc_tombo_sorted.cutoff.0.95.overlap6.id.500.bed',\n",
       " '/home/anjuni/analysis/gene_te_comparison/te_ranked_files/Pst_104E_v13_p_ctg.REPET.5mC_hc_tombo_sorted.cutoff.0.50.overlap6.id.500.bed',\n",
       " '/home/anjuni/analysis/gene_te_comparison/te_ranked_files/Pst_104E_v13_p_ctg.REPET.6mA_hc_tombo_sorted.cutoff.0.95.overlap6.id.500.bed',\n",
       " '/home/anjuni/analysis/gene_te_comparison/te_ranked_files/Pst_104E_v13_p_ctg.REPET.6mA_hc_tombo_sorted.cutoff.0.50.overlap6.id.500.bed',\n",
       " '/home/anjuni/analysis/gene_te_comparison/te_ranked_files/Pst_104E_v13_h_ctg.REPET.5mC_hc_tombo_sorted.cutoff.0.95.overlap6.id.500.bed',\n",
       " '/home/anjuni/analysis/gene_te_comparison/te_ranked_files/Pst_104E_v13_p_ctg.REPET.5mC_hc_tombo_sorted.cutoff.0.95.overlap6.id.500.bed',\n",
       " '/home/anjuni/analysis/gene_te_comparison/te_ranked_files/Pst_104E_v13_h_ctg.REPET.6mA_hc_tombo_sorted.cutoff.0.50.overlap6.id.500.bed']"
      ]
     },
     "execution_count": 176,
     "metadata": {},
     "output_type": "execute_result"
    }
   ],
   "source": [
    "top500_fn_list"
   ]
  },
  {
   "cell_type": "code",
   "execution_count": null,
   "metadata": {},
   "outputs": [],
   "source": [
    "bed6_he"
   ]
  },
  {
   "cell_type": "code",
   "execution_count": 217,
   "metadata": {},
   "outputs": [
    {
     "name": "stderr",
     "output_type": "stream",
     "text": [
      "IOPub data rate exceeded.\n",
      "The notebook server will temporarily stop sending output\n",
      "to the client in order to avoid crashing it.\n",
      "To change this limit, set the config variable\n",
      "`--NotebookApp.iopub_data_rate_limit`.\n",
      "\n",
      "Current values:\n",
      "NotebookApp.iopub_data_rate_limit=1000000.0 (bytes/sec)\n",
      "NotebookApp.rate_limit_window=3.0 (secs)\n",
      "\n"
     ]
    }
   ],
   "source": [
    "%%bash\n",
    "\n",
    "#Run this on NCI\n",
    "\n",
    "scp -r anjni@cbbu.anu.edu.au:/home/anjuni/analysis/gene_te_comparison/te_ranked_files/* .\n",
    "\n",
    "# Use gffsort.pl to sort the catenated files\n",
    "cd /home/anjuni/analysis/gene_te_comparison/te_ranked_files\n",
    "for x in *id*\n",
    "do\n",
    "len=${#x}\n",
    "sortBed -i ${x} > ${x::len-4}.sorted.bed\n",
    "done"
   ]
  },
  {
   "cell_type": "code",
   "execution_count": 114,
   "metadata": {},
   "outputs": [],
   "source": [
    "gene_list = [fn for fn in glob.iglob('%s/*d.bed' % os.path.join(DIRS['COMPARE'], 'input'), recursive=True)]\n",
    "gene_dict = {}\n",
    "for fn in gene_list:\n",
    "    gene_dict[fn.split('/')[-1]] = fn"
   ]
  },
  {
   "cell_type": "code",
   "execution_count": 115,
   "metadata": {},
   "outputs": [
    {
     "data": {
      "text/plain": [
       "{'Pst_104E_v13_h_ctg.anno.sorted.bed': '/home/anjuni/analysis/gene_te_comparison/input/Pst_104E_v13_h_ctg.anno.sorted.bed',\n",
       " 'Pst_104E_v13_p_ctg.anno.sorted.bed': '/home/anjuni/analysis/gene_te_comparison/input/Pst_104E_v13_p_ctg.anno.sorted.bed'}"
      ]
     },
     "execution_count": 115,
     "metadata": {},
     "output_type": "execute_result"
    }
   ],
   "source": [
    "gene_dict"
   ]
  },
  {
   "cell_type": "code",
   "execution_count": 129,
   "metadata": {},
   "outputs": [],
   "source": [
    "def add_score(fn_dict):\n",
    "    \"\"\"This function adds an integer score to replace the '.' in the score column in the annotation bed file, so it can be parsed as bed6.\"\"\"\n",
    "    out_fn_dict = {}\n",
    "    for key, value in fn_dict.items():\n",
    "        in_fn = fn_dict[key]\n",
    "        df = pd.read_csv(in_fn, sep='\\t', header = None)\n",
    "        for index, row in df.iterrows():\n",
    "            df.iat[index,4] = 0 # change the gene end site to 500bp downstream of TSS\n",
    "        out_fn = in_fn.replace('.bed', '.score.bed') # make the outfile name\n",
    "        df.to_csv(out_fn, header=None, index=None, sep='\\t') # save the new tss df to a bed file\n",
    "        outkey = out_fn.split('/')[-1]\n",
    "        out_fn_dict[outkey] = out_fn # save the outfile names to a dictionary\n",
    "    return out_fn_dict"
   ]
  },
  {
   "cell_type": "code",
   "execution_count": 130,
   "metadata": {},
   "outputs": [],
   "source": [
    "gene_score_dict = add_score(gene_dict)"
   ]
  },
  {
   "cell_type": "code",
   "execution_count": 131,
   "metadata": {},
   "outputs": [
    {
     "data": {
      "text/plain": [
       "{'Pst_104E_v13_h_ctg.anno.sorted.score.bed': '/home/anjuni/analysis/gene_te_comparison/input/Pst_104E_v13_h_ctg.anno.sorted.score.bed',\n",
       " 'Pst_104E_v13_p_ctg.anno.sorted.score.bed': '/home/anjuni/analysis/gene_te_comparison/input/Pst_104E_v13_p_ctg.anno.sorted.score.bed'}"
      ]
     },
     "execution_count": 131,
     "metadata": {},
     "output_type": "execute_result"
    }
   ],
   "source": [
    "gene_score_dict"
   ]
  },
  {
   "cell_type": "code",
   "execution_count": 150,
   "metadata": {},
   "outputs": [],
   "source": [
    "#Quick chech if directories exist\n",
    "for value in gene_score_dict.values():\n",
    "    if not os.path.exists(value):\n",
    "        print('%s does not exist' % value)"
   ]
  },
  {
   "cell_type": "code",
   "execution_count": null,
   "metadata": {},
   "outputs": [],
   "source": [
    "#overall closest gene\n",
    "\n",
    "#closest upstream gene\n",
    "\n",
    "#closest downstream gene"
   ]
  },
  {
   "cell_type": "code",
   "execution_count": null,
   "metadata": {},
   "outputs": [],
   "source": [
    "#non-overlapping overall closest gene\n",
    "\n",
    "#non-overlapping closest upstream gene\n",
    "\n",
    "#non-overlapping closest downstream gene"
   ]
  },
  {
   "cell_type": "code",
   "execution_count": null,
   "metadata": {},
   "outputs": [],
   "source": [
    "def genes_near_te(te_bed_fn, gene_bed_fn, io, iu, di):\n",
    "    \"\"\"Takes two bed6 filenames and returns dataframe with 5' and 3' distances.\"\"\"\n",
    "    from pybedtools import BedTool\n",
    "    te = BedTool(te_bed_fn)\n",
    "    gene = BedTool(gene_bed_fn)\n",
    "    df = te.closest(gene ,io=io, iu=iu id=di, N=True, d=True).to_dataframe()\n",
    "    df.rename(columns={12:'3_distance', 3:'gene', 9:'3_target', 0:'contig'}, inplace=True)\n",
    "    out_fn = te_bed_fn.replace('input', 'output')\n",
    "    df.to_csv(out_fn, sep='\\t', index=None, header=None)\n",
    "    return df"
   ]
  },
  {
   "cell_type": "code",
   "execution_count": null,
   "metadata": {},
   "outputs": [],
   "source": []
  },
  {
   "cell_type": "code",
   "execution_count": 207,
   "metadata": {},
   "outputs": [],
   "source": [
    "te_bed_fn = top500_dict['Pst_104E_v13_p_ctg.REPET.5mC_hc_tombo_sorted.cutoff.0.50.overlap6.id.500.bed']\n",
    "gene_bed_fn = gene_score_dict['Pst_104E_v13_p_ctg.anno.sorted.score.bed']\n",
    "io = False\n",
    "iu = False\n",
    "di = False"
   ]
  },
  {
   "cell_type": "code",
   "execution_count": 189,
   "metadata": {},
   "outputs": [],
   "source": [
    "te = BedTool(te_bed_fn)\n",
    "gene = BedTool(gene_bed_fn)"
   ]
  },
  {
   "cell_type": "code",
   "execution_count": 155,
   "metadata": {
    "collapsed": true
   },
   "outputs": [
    {
     "data": {
      "text/plain": [
       "<BedTool(                 contig   start    stop  \\\n",
       "160586  hcontig_037_011     545     555   \n",
       "210767  hcontig_106_001   74335   74353   \n",
       "199925  hcontig_069_004    7125    7136   \n",
       "209165  hcontig_096_004      13      23   \n",
       "135653  hcontig_028_003  112714  112724   \n",
       "88179   hcontig_013_023  282075  282087   \n",
       "57354   hcontig_007_007    1515    1527   \n",
       "210083  hcontig_096_004  144813  144827   \n",
       "210285  hcontig_104_001   21713   21738   \n",
       "18017   hcontig_001_021  875808  875829   \n",
       "203194  hcontig_072_009    1456    1474   \n",
       "18004   hcontig_001_021  873743  873758   \n",
       "80588   hcontig_012_014  157244  157254   \n",
       "78055   hcontig_011_019   15346   15383   \n",
       "42472   hcontig_005_021  390265  390293   \n",
       "135027  hcontig_028_003   31909   31924   \n",
       "174261  hcontig_044_023    1220    1239   \n",
       "47010   hcontig_006_013    1944    1986   \n",
       "150390  hcontig_033_014    3796    3806   \n",
       "174266  hcontig_044_023    1997    2007   \n",
       "53583   hcontig_007_006   34738   34750   \n",
       "131768  hcontig_026_018  409643  409665   \n",
       "19019   hcontig_001_043   26964   27065   \n",
       "22936   hcontig_002_019    7320    7598   \n",
       "174268  hcontig_044_023    2156    2169   \n",
       "79813   hcontig_012_014   79212   79225   \n",
       "50584   hcontig_006_014    3144    3168   \n",
       "150378  hcontig_033_014    2192    2203   \n",
       "7438    hcontig_000_024   31366   31408   \n",
       "165412  hcontig_039_012   16342   16369   \n",
       "...                 ...     ...     ...   \n",
       "446     hcontig_000_003   75393   75422   \n",
       "445     hcontig_000_003   75316   75536   \n",
       "444     hcontig_000_003   75217   75227   \n",
       "431     hcontig_000_003   73082   73097   \n",
       "422     hcontig_000_003   71221   71365   \n",
       "423     hcontig_000_003   71399   71420   \n",
       "424     hcontig_000_003   71498   71527   \n",
       "425     hcontig_000_003   71716   72289   \n",
       "426     hcontig_000_003   71732   71747   \n",
       "427     hcontig_000_003   72154   72180   \n",
       "428     hcontig_000_003   72290   72572   \n",
       "429     hcontig_000_003   72509   72545   \n",
       "430     hcontig_000_003   72718   72737   \n",
       "432     hcontig_000_003   73356   73379   \n",
       "443     hcontig_000_003   75160   75179   \n",
       "433     hcontig_000_003   73523   73539   \n",
       "435     hcontig_000_003   74624   74634   \n",
       "436     hcontig_000_003   74653   74666   \n",
       "437     hcontig_000_003   74671   74696   \n",
       "438     hcontig_000_003   74725   74756   \n",
       "439     hcontig_000_003   74838   75019   \n",
       "440     hcontig_000_003   74841   75046   \n",
       "441     hcontig_000_003   75046   75194   \n",
       "442     hcontig_000_003   75103   75115   \n",
       "468     hcontig_000_003   78132   78151   \n",
       "469     hcontig_000_003   78311   78420   \n",
       "470     hcontig_000_003   78421   78737   \n",
       "508     hcontig_000_003   84416   84442   \n",
       "499     hcontig_000_003   83406   83424   \n",
       "500     hcontig_000_003   83586   83616   \n",
       "\n",
       "                                                     name  overlap_fraction  \\\n",
       "160586                       ms193068_hcontig_037_011_A10          0.900000   \n",
       "210767                       ms355333_hcontig_106_001_A18          0.777778   \n",
       "199925                     ms416107_hcontig_069_004_GAAA3          0.727273   \n",
       "209165                     ms304268_hcontig_096_004_AAGA3          0.700000   \n",
       "135653                     ms328307_hcontig_028_003_AGAA3          0.700000   \n",
       "88179                     ms94695_hcontig_013_023_AAAAAT2          0.666667   \n",
       "57354                     ms80336_hcontig_007_007_TAAAAT2          0.666667   \n",
       "210083                     ms305026_hcontig_096_004_AAAG4          0.642857   \n",
       "210285                       ms399371_hcontig_104_001_A25          0.640000   \n",
       "18017                   ms290169_hcontig_001_021_GAACATA3          0.619048   \n",
       "203194                       ms345797_hcontig_072_009_A18          0.611111   \n",
       "18004                        ms290154_hcontig_001_021_A15          0.600000   \n",
       "80588                        ms295666_hcontig_012_014_A10          0.600000   \n",
       "78055   ms11331_hcontig_011_019_RLX-incomp-chim_MCL16_...          0.594595   \n",
       "42472               ms574888_hcontig_005_021_GTAAAAAACAG3          0.535714   \n",
       "135027                       ms327893_hcontig_028_003_A15          0.533333   \n",
       "174261                      ms221581_hcontig_044_023_AGA6          0.526316   \n",
       "47010                     ms19065_hcontig_006_013_ATCGAA7          0.500000   \n",
       "150390                       ms211804_hcontig_033_014_A10          0.500000   \n",
       "174266                     ms221586_hcontig_044_023_AATC3          0.500000   \n",
       "53583                     ms85240_hcontig_007_006_GAAAAA2          0.500000   \n",
       "131768  ms14117_hcontig_026_018_Gypsy-6_PGr-I:ClassI:L...          0.500000   \n",
       "19019   ms11307_hcontig_001_043_RXX-LARD_MCL353_Pst79_...          0.495049   \n",
       "22936   ms6633_hcontig_002_019_DTX-incomp_MCL393_Pst79...          0.474820   \n",
       "174268                     ms221588_hcontig_044_023_AAGA3          0.461539   \n",
       "79813                        ms295087_hcontig_012_014_A13          0.461539   \n",
       "50584   ms256_hcontig_006_014_Gypsy-54_MLP-I_1p:ClassI...          0.458333   \n",
       "150378                      ms211788_hcontig_033_014_AAT4          0.454545   \n",
       "7438    ms22384_hcontig_000_024_Gypsy-1_PTrit-I:ClassI...          0.452381   \n",
       "165412  ms24443_hcontig_039_012_RXX-LARD_MCL173_Pst79_...          0.444444   \n",
       "...                                                   ...               ...   \n",
       "446                   ms207351_hcontig_000_003_AGAAATATT3          0.000000   \n",
       "445     ms32970_hcontig_000_003_RXX-LARD_MCL2_Pst79_a_...          0.000000   \n",
       "444                          ms207350_hcontig_000_003_C10          0.000000   \n",
       "431                        ms207341_hcontig_000_003_CATG4          0.000000   \n",
       "422        ms51009_hcontig_000_003_DNA2-1_PSt:ClassII:?:?          0.000000   \n",
       "423                      ms207332_hcontig_000_003_ATGATC3          0.000000   \n",
       "424                ms207333_hcontig_000_003_AACATGAACAAA2          0.000000   \n",
       "425     ms32999_hcontig_000_003_noCat_MCL839_Pst79_a_R...          0.000000   \n",
       "426                         ms207334_hcontig_000_003_AAT5          0.000000   \n",
       "427                  ms207335_hcontig_000_003_AAGTAAACAA3          0.000000   \n",
       "428     ms32850_hcontig_000_003_DTX-incomp_MCL376_Pst7...          0.000000   \n",
       "429                        ms207336_hcontig_000_003_CAA11          0.000000   \n",
       "430                   ms207340_hcontig_000_003_TACAATTCA2          0.000000   \n",
       "432                     ms207342_hcontig_000_003_CCGGAAA3          0.000000   \n",
       "443                  ms207349_hcontig_000_003_ATATTGTAAC2          0.000000   \n",
       "433                          ms207343_hcontig_000_003_C16          0.000000   \n",
       "435                       ms207344_hcontig_000_003_GTTAC2          0.000000   \n",
       "436                       ms207345_hcontig_000_003_TAACA3          0.000000   \n",
       "437                      ms207346_hcontig_000_003_ACCGTT4          0.000000   \n",
       "438                          ms207347_hcontig_000_003_T31          0.000000   \n",
       "439     ms51199_hcontig_000_003_MarinerN-1_PTrit:Class...          0.000000   \n",
       "440     ms32927_hcontig_000_003_RLX-incomp-chim_MCL351...          0.000000   \n",
       "441     ms32891_hcontig_000_003_DXX_MCL848_Pst79_a_REP...          0.000000   \n",
       "442                      ms207348_hcontig_000_003_ATAACA2          0.000000   \n",
       "468                  ms207373_hcontig_000_003_AAAGACTCAC2          0.000000   \n",
       "469                          ms207374_hcontig_000_003_A49          0.000000   \n",
       "470     ms32863_hcontig_000_003_DXX-MITE_MCL148_Pst79_...          0.000000   \n",
       "508                  ms207402_hcontig_000_003_CATTGCAATT3          0.000000   \n",
       "499                   ms207392_hcontig_000_003_GCATCCTCC2          0.000000   \n",
       "500     ms9031_hcontig_000_003_hAT-3_MLP_1p:ClassII:TI...          0.000000   \n",
       "\n",
       "       strand  \n",
       "160586      +  \n",
       "210767      +  \n",
       "199925      +  \n",
       "209165      +  \n",
       "135653      +  \n",
       "88179       +  \n",
       "57354       +  \n",
       "210083      +  \n",
       "210285      +  \n",
       "18017       +  \n",
       "203194      +  \n",
       "18004       +  \n",
       "80588       +  \n",
       "78055       +  \n",
       "42472       +  \n",
       "135027      +  \n",
       "174261      +  \n",
       "47010       +  \n",
       "150390      +  \n",
       "174266      +  \n",
       "53583       +  \n",
       "131768      -  \n",
       "19019       -  \n",
       "22936       +  \n",
       "174268      +  \n",
       "79813       +  \n",
       "50584       +  \n",
       "150378      +  \n",
       "7438        -  \n",
       "165412      -  \n",
       "...       ...  \n",
       "446         +  \n",
       "445         +  \n",
       "444         +  \n",
       "431         +  \n",
       "422         +  \n",
       "423         +  \n",
       "424         +  \n",
       "425         +  \n",
       "426         +  \n",
       "427         +  \n",
       "428         -  \n",
       "429         +  \n",
       "430         +  \n",
       "432         +  \n",
       "443         +  \n",
       "433         +  \n",
       "435         +  \n",
       "436         +  \n",
       "437         +  \n",
       "438         +  \n",
       "439         -  \n",
       "440         -  \n",
       "441         +  \n",
       "442         +  \n",
       "468         +  \n",
       "469         +  \n",
       "470         +  \n",
       "508         +  \n",
       "499         +  \n",
       "500         +  \n",
       "\n",
       "[145214 rows x 6 columns])>"
      ]
     },
     "execution_count": 155,
     "metadata": {},
     "output_type": "execute_result"
    }
   ],
   "source": [
    "te"
   ]
  },
  {
   "cell_type": "markdown",
   "metadata": {},
   "source": [
    "Previous errors in the closest() function were due to '.' in the score column, which needs to be an integer between 0 and 1000 in bed6 file format.\n",
    "Errors in closest() function are likely due to white space in the name column for transposons.\n",
    "This is being remedied by running everything again for TE annotation files with only their ID in the name column.\n",
    "New bed6 annotation files were generated for TEs, and these only have ID, hopefully without white space that cause errors."
   ]
  },
  {
   "cell_type": "code",
   "execution_count": 208,
   "metadata": {},
   "outputs": [
    {
     "ename": "BEDToolsError",
     "evalue": "\nCommand was:\n\n\tbedtools closest -d -b /home/anjuni/analysis/gene_te_comparison/input/Pst_104E_v13_h_ctg.anno.sorted.score.bed -a /home/anjuni/analysis/gene_te_comparison/te_ranked_files/Pst_104E_v13_h_ctg.REPET.5mC_hc_tombo_sorted.cutoff.0.50.overlap6.id.500.bed\n\nError message was:\nERROR: chromomsome sort ordering for file /home/anjuni/analysis/gene_te_comparison/te_ranked_files/Pst_104E_v13_h_ctg.REPET.5mC_hc_tombo_sorted.cutoff.0.50.overlap6.id.500.bed is inconsistent with other files. Record was:\nhcontig_012_028\t491436\t491447\tms267817_hcontig_012_028_C11\t1.0\t+\n",
     "output_type": "error",
     "traceback": [
      "\u001b[0;31m---------------------------------------------------------------------------\u001b[0m",
      "\u001b[0;31mBEDToolsError\u001b[0m                             Traceback (most recent call last)",
      "\u001b[0;32m<ipython-input-208-78e274980671>\u001b[0m in \u001b[0;36m<module>\u001b[0;34m()\u001b[0m\n\u001b[0;32m----> 1\u001b[0;31m \u001b[0mdf\u001b[0m \u001b[0;34m=\u001b[0m \u001b[0mte\u001b[0m\u001b[0;34m.\u001b[0m\u001b[0mclosest\u001b[0m\u001b[0;34m(\u001b[0m\u001b[0mgene\u001b[0m\u001b[0;34m,\u001b[0m \u001b[0md\u001b[0m\u001b[0;34m=\u001b[0m\u001b[0;32mTrue\u001b[0m\u001b[0;34m)\u001b[0m\u001b[0;34m.\u001b[0m\u001b[0mto_dataframe\u001b[0m\u001b[0;34m(\u001b[0m\u001b[0;34m)\u001b[0m\u001b[0;34m\u001b[0m\u001b[0m\n\u001b[0m\u001b[1;32m      2\u001b[0m \u001b[0;31m#df.rename(columns={12:'n3_distance', 3:'gene', 9:'3_target', 0:'contig'}, inplace=True)\u001b[0m\u001b[0;34m\u001b[0m\u001b[0;34m\u001b[0m\u001b[0m\n\u001b[1;32m      3\u001b[0m \u001b[0;31m#out_fn = te_bed_fn.replace('input', 'output')\u001b[0m\u001b[0;34m\u001b[0m\u001b[0;34m\u001b[0m\u001b[0m\n\u001b[1;32m      4\u001b[0m \u001b[0;31m#df.to_csv(out_fn, sep='\\t', index=None, header=None)\u001b[0m\u001b[0;34m\u001b[0m\u001b[0;34m\u001b[0m\u001b[0m\n\u001b[1;32m      5\u001b[0m \u001b[0;31m#df.head()\u001b[0m\u001b[0;34m\u001b[0m\u001b[0;34m\u001b[0m\u001b[0m\n",
      "\u001b[0;32m~/anaconda3/lib/python3.6/site-packages/pybedtools/bedtool.py\u001b[0m in \u001b[0;36mdecorated\u001b[0;34m(self, *args, **kwargs)\u001b[0m\n\u001b[1;32m    804\u001b[0m             \u001b[0;31m# this calls the actual method in the first place; *result* is\u001b[0m\u001b[0;34m\u001b[0m\u001b[0;34m\u001b[0m\u001b[0m\n\u001b[1;32m    805\u001b[0m             \u001b[0;31m# whatever you get back\u001b[0m\u001b[0;34m\u001b[0m\u001b[0;34m\u001b[0m\u001b[0m\n\u001b[0;32m--> 806\u001b[0;31m             \u001b[0mresult\u001b[0m \u001b[0;34m=\u001b[0m \u001b[0mmethod\u001b[0m\u001b[0;34m(\u001b[0m\u001b[0mself\u001b[0m\u001b[0;34m,\u001b[0m \u001b[0;34m*\u001b[0m\u001b[0margs\u001b[0m\u001b[0;34m,\u001b[0m \u001b[0;34m**\u001b[0m\u001b[0mkwargs\u001b[0m\u001b[0;34m)\u001b[0m\u001b[0;34m\u001b[0m\u001b[0m\n\u001b[0m\u001b[1;32m    807\u001b[0m \u001b[0;34m\u001b[0m\u001b[0m\n\u001b[1;32m    808\u001b[0m             \u001b[0;31m# add appropriate tags\u001b[0m\u001b[0;34m\u001b[0m\u001b[0;34m\u001b[0m\u001b[0m\n",
      "\u001b[0;32m~/anaconda3/lib/python3.6/site-packages/pybedtools/bedtool.py\u001b[0m in \u001b[0;36mwrapped\u001b[0;34m(self, *args, **kwargs)\u001b[0m\n\u001b[1;32m    335\u001b[0m             stream = call_bedtools(cmds, tmp, stdin=stdin,\n\u001b[1;32m    336\u001b[0m                                    \u001b[0mcheck_stderr\u001b[0m\u001b[0;34m=\u001b[0m\u001b[0mcheck_stderr\u001b[0m\u001b[0;34m,\u001b[0m\u001b[0;34m\u001b[0m\u001b[0m\n\u001b[0;32m--> 337\u001b[0;31m                                    \u001b[0mdecode_output\u001b[0m\u001b[0;34m=\u001b[0m\u001b[0mdecode_output\u001b[0m\u001b[0;34m,\u001b[0m\u001b[0;34m\u001b[0m\u001b[0m\n\u001b[0m\u001b[1;32m    338\u001b[0m                                    )\n\u001b[1;32m    339\u001b[0m \u001b[0;34m\u001b[0m\u001b[0m\n",
      "\u001b[0;32m~/anaconda3/lib/python3.6/site-packages/pybedtools/helpers.py\u001b[0m in \u001b[0;36mcall_bedtools\u001b[0;34m(cmds, tmpfn, stdin, check_stderr, decode_output, encode_input)\u001b[0m\n\u001b[1;32m    354\u001b[0m                 \u001b[0msys\u001b[0m\u001b[0;34m.\u001b[0m\u001b[0mstderr\u001b[0m\u001b[0;34m.\u001b[0m\u001b[0mwrite\u001b[0m\u001b[0;34m(\u001b[0m\u001b[0mstderr\u001b[0m\u001b[0;34m)\u001b[0m\u001b[0;34m\u001b[0m\u001b[0m\n\u001b[1;32m    355\u001b[0m             \u001b[0;32melse\u001b[0m\u001b[0;34m:\u001b[0m\u001b[0;34m\u001b[0m\u001b[0m\n\u001b[0;32m--> 356\u001b[0;31m                 \u001b[0;32mraise\u001b[0m \u001b[0mBEDToolsError\u001b[0m\u001b[0;34m(\u001b[0m\u001b[0msubprocess\u001b[0m\u001b[0;34m.\u001b[0m\u001b[0mlist2cmdline\u001b[0m\u001b[0;34m(\u001b[0m\u001b[0mcmds\u001b[0m\u001b[0;34m)\u001b[0m\u001b[0;34m,\u001b[0m \u001b[0mstderr\u001b[0m\u001b[0;34m)\u001b[0m\u001b[0;34m\u001b[0m\u001b[0m\n\u001b[0m\u001b[1;32m    357\u001b[0m \u001b[0;34m\u001b[0m\u001b[0m\n\u001b[1;32m    358\u001b[0m \u001b[0;34m\u001b[0m\u001b[0m\n",
      "\u001b[0;31mBEDToolsError\u001b[0m: \nCommand was:\n\n\tbedtools closest -d -b /home/anjuni/analysis/gene_te_comparison/input/Pst_104E_v13_h_ctg.anno.sorted.score.bed -a /home/anjuni/analysis/gene_te_comparison/te_ranked_files/Pst_104E_v13_h_ctg.REPET.5mC_hc_tombo_sorted.cutoff.0.50.overlap6.id.500.bed\n\nError message was:\nERROR: chromomsome sort ordering for file /home/anjuni/analysis/gene_te_comparison/te_ranked_files/Pst_104E_v13_h_ctg.REPET.5mC_hc_tombo_sorted.cutoff.0.50.overlap6.id.500.bed is inconsistent with other files. Record was:\nhcontig_012_028\t491436\t491447\tms267817_hcontig_012_028_C11\t1.0\t+\n"
     ]
    }
   ],
   "source": [
    "df = te.closest(gene, d=True).to_dataframe()\n",
    "#df.rename(columns={12:'n3_distance', 3:'gene', 9:'3_target', 0:'contig'}, inplace=True)\n",
    "#out_fn = te_bed_fn.replace('input', 'output')\n",
    "#df.to_csv(out_fn, sep='\\t', index=None, header=None)\n",
    "#df.head()"
   ]
  },
  {
   "cell_type": "code",
   "execution_count": null,
   "metadata": {},
   "outputs": [],
   "source": []
  }
 ],
 "metadata": {
  "kernelspec": {
   "display_name": "Python 3",
   "language": "python",
   "name": "python3"
  },
  "language_info": {
   "codemirror_mode": {
    "name": "ipython",
    "version": 3
   },
   "file_extension": ".py",
   "mimetype": "text/x-python",
   "name": "python",
   "nbconvert_exporter": "python",
   "pygments_lexer": "ipython3",
   "version": "3.6.3"
  }
 },
 "nbformat": 4,
 "nbformat_minor": 2
}
