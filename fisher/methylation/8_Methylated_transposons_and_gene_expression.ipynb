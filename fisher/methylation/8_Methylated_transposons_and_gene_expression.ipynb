{
 "cells": [
  {
   "cell_type": "markdown",
   "metadata": {},
   "source": [
    "# <span style=\"color:#ff1414\"> BEDtools analysis. </span>\n",
    "\n",
    "This is a script to answer research questions outlined elsewhere. In summary, this script:\n",
    "\n",
    "1. compares methylation results between different methylation-callers, and between different methylation sequencing methods.\n",
    "\n",
    "2. compares methylation between genes and non-gene regions\n",
    "\n",
    "3. compares methylation between transposons and non-repetitive regions\n",
    "\n",
    "4. compares transposons and genes\n",
    "\n",
    "\n",
    "Note:\n",
    "- PB/pb = PacBio\n",
    "- ONT/ont = Oxford Nanopore Technology\n",
    "- NP = Nanopolish"
   ]
  },
  {
   "cell_type": "code",
   "execution_count": 2,
   "metadata": {},
   "outputs": [],
   "source": [
    "import pybedtools\n",
    "import scipy\n",
    "\n",
    "import matplotlib.patches as mpatches\n",
    "import pandas as pd\n",
    "import numpy as np # need for  stats\n",
    "\n",
    "from scipy.stats import wilcoxon\n",
    "import matplotlib.pyplot as plt\n",
    "from matplotlib_venn import venn2\n",
    "from scipy.stats import spearmanr"
   ]
  },
  {
   "cell_type": "code",
   "execution_count": 1,
   "metadata": {},
   "outputs": [],
   "source": [
    "# load modules\n",
    "import os\n",
    "import glob\n",
    "import pprint\n",
    "from pybedtools import BedTool\n"
   ]
  },
  {
   "cell_type": "code",
   "execution_count": 168,
   "metadata": {},
   "outputs": [],
   "source": [
    "\n",
    "DIRS['TE_SF'] = os.path.join(DIRS['COVERAGE'], 'superfamily_files')\n",
    "DIRS['RNA'] = os.path.join(DIRS['BASE2'], 'rna_counts')\n",
    "DIRS['edgeR'] = os.path.join(DIRS['RNA'], 'edgeR_output')\n",
    "DIRS['TRIALS'] = os.path.join(DIRS['RNA'], 'trials_tsv')\n",
    "DIRS['MEAN_STD'] = os.path.join(DIRS['RNA'], 'average_and_stdev')\n",
    "DIRS['GENE'] = os.path.join(DIRS['COVERAGE'], 'gene_level')\n",
    "DIRS['GENE_BODY'] = os.path.join(DIRS['GENE'], 'gene_body')\n",
    "DIRS['BOTH_U_D'] = os.path.join(DIRS['GENE'], 'both_upstream_downstream')\n",
    "DIRS['DOWN_STR'] = os.path.join(DIRS['GENE'], 'downstream')\n",
    "DIRS['UP_STR'] = os.path.join(DIRS['GENE'], 'upstream')\n",
    "DIRS['TSS'] = os.path.join(DIRS['GENE'], 'tss_6mA_only')"
   ]
  },
  {
   "cell_type": "code",
   "execution_count": 7,
   "metadata": {},
   "outputs": [],
   "source": [
    "DIRS['BASE1'] = '/home/anjuni/methylation_calling/pacbio'\n",
    "\n",
    "DIRS['BED_INPUT'] = os.path.join(DIRS['BASE2'], 'bedtools_output', 'sequencing_comparison')\n",
    "DIRS['GFF_INPUT'] = os.path.join(DIRS['BASE2'], 'gff_output')\n",
    "DIRS['FIGURES'] = os.path.join(DIRS['BASE2'], 'figures')\n",
    "\n",
    "DIRS['I_FROM_C'] = os.path.join(DIRS['BASE2'], 'bedtools_output', 'intersects_from_cutoffs')\n",
    "DIRS['BED_CUTOFFS'] = os.path.join(DIRS['BASE1'], 'input', 'sorted_bed_files', 'cutoffs')\n",
    "DIRS['6MA_CUTOFFS'] = os.path.join(DIRS['BASE1'], 'input', 'sorted_bed_files', 'cutoffs_6mA')\n",
    "DIRS['5MC_CUTOFFS'] = os.path.join(DIRS['BASE1'], 'input', 'sorted_bed_files', 'cutoffs_5mC')"
   ]
  },
  {
   "cell_type": "code",
   "execution_count": 6,
   "metadata": {},
   "outputs": [],
   "source": [
    "#First we need to define the base dirs\n",
    "DIRS = {}\n",
    "DIRS['BASE2'] = '/home/anjuni/analysis'\n",
    "DIRS['FEATURES'] = os.path.join(DIRS['BASE2'], 'coverage', 'feature_files')\n",
    "DIRS['RAND'] = os.path.join(DIRS['BASE2'], 'coverage', 'randomisation')\n",
    "DIRS['WINDOW_OUTPUT'] = os.path.join(DIRS['BASE2'], 'windows')\n",
    "DIRS['WINDOW_INPUT'] = os.path.join(DIRS['BASE2'], 'input_for_windows')\n",
    "DIRS['REF'] = '/home/anjuni/Pst_104_v13_assembly/'\n",
    "DIRS['COVERAGE'] = os.path.join(DIRS['BASE2'], 'coverage')"
   ]
  },
  {
   "cell_type": "code",
   "execution_count": 9,
   "metadata": {},
   "outputs": [
    {
     "name": "stdout",
     "output_type": "stream",
     "text": [
      "/home/anjuni/methylation_calling/pacbio/input/sorted_bed_files/cutoffs does not exist\n"
     ]
    }
   ],
   "source": [
    "#Quick chech if directories exist\n",
    "for value in DIRS.values():\n",
    "    if not os.path.exists(value):\n",
    "        print('%s does not exist' % value)"
   ]
  },
  {
   "cell_type": "code",
   "execution_count": 79,
   "metadata": {},
   "outputs": [],
   "source": [
    "#Make filepaths\n",
    "bed_file_list = [fn for fn in glob.iglob('%s/*.bed' % DIRS['BED_INPUT'], recursive=True)]\n",
    "gff_file_list = [fn for fn in glob.iglob('%s/*anno.gff3' % DIRS['GFF_INPUT'], recursive=True)]\n",
    "te_file_list = [fn for fn in glob.iglob('%s/*.gff' % DIRS['GFF_INPUT'], recursive=True)]"
   ]
  },
  {
   "cell_type": "code",
   "execution_count": 80,
   "metadata": {
    "collapsed": true
   },
   "outputs": [
    {
     "name": "stdout",
     "output_type": "stream",
     "text": [
      "/home/anjuni/analysis/bedtools_output/sequencing_comparison/5mC_plus_tombo_sorted.bed\n",
      "/home/anjuni/analysis/bedtools_output/sequencing_comparison/5mC_CpG_tombo_np.bed\n",
      "/home/anjuni/analysis/bedtools_output/sequencing_comparison/5mC_tombo_np.bed\n",
      "/home/anjuni/analysis/bedtools_output/sequencing_comparison/5mC_plus_CpG_np_tombo.bed\n",
      "/home/anjuni/analysis/bedtools_output/sequencing_comparison/5mC_hc_tombo_sorted.CpG.plus.bed\n",
      "/home/anjuni/analysis/bedtools_output/sequencing_comparison/5mC_s_nanopolish.bed\n",
      "/home/anjuni/analysis/bedtools_output/sequencing_comparison/nanopolish_rerun_subtract.bed\n",
      "/home/anjuni/analysis/bedtools_output/sequencing_comparison/5mC_hc_nanopolish_sorted.bed\n",
      "/home/anjuni/analysis/bedtools_output/sequencing_comparison/5mC_plus_CpG_tombo_np.bed\n",
      "/home/anjuni/analysis/bedtools_output/sequencing_comparison/nano_plus_tombo_overlap.bed\n",
      "/home/anjuni/analysis/bedtools_output/sequencing_comparison/5mC_tombo_sorted.bed\n",
      "/home/anjuni/analysis/bedtools_output/sequencing_comparison/5mC_minus_tombo_sorted.bed\n",
      "/home/anjuni/analysis/bedtools_output/sequencing_comparison/5mC_nanopolish_sorted.bed\n",
      "/home/anjuni/analysis/bedtools_output/sequencing_comparison/5mC_rerun_s_nanopolish.bed\n",
      "/home/anjuni/analysis/bedtools_output/sequencing_comparison/5mC_hc_tombo_sorted.bed\n",
      "/home/anjuni/analysis/bedtools_output/sequencing_comparison/6mA_tombo_sorted.bed\n",
      "/home/anjuni/analysis/bedtools_output/sequencing_comparison/5mC_hc_tombo_sorted.CpG.bed\n",
      "/home/anjuni/analysis/bedtools_output/sequencing_comparison/5mC_CpG_np_tombo.bed\n",
      "/home/anjuni/analysis/bedtools_output/sequencing_comparison/6mA_hc_tombo_sorted.bed\n",
      "/home/anjuni/analysis/bedtools_output/sequencing_comparison/nano_minus_tombo_overlap.bed\n",
      "/home/anjuni/analysis/bedtools_output/sequencing_comparison/6mA_ont_pb.bed\n",
      "/home/anjuni/analysis/bedtools_output/sequencing_comparison/5mC_np_tombo.bed\n",
      "/home/anjuni/analysis/bedtools_output/sequencing_comparison/6mA_prob_smrtlink_sorted.bed\n",
      "/home/anjuni/analysis/gff_output/Pst_104E_v13_ph_ctg_combined_sorted_anno.gff3\n",
      "/home/anjuni/analysis/gff_output/Pst_104E_v13_p_ctg_combined_sorted_anno.gff3\n",
      "/home/anjuni/analysis/gff_output/Pst_104E_v13_h_ctg_combined_sorted_anno.gff3\n",
      "/home/anjuni/analysis/gff_output/Pst_104E_v13_h_ctg.REPET.sorted.filtered.superfamily.gff\n",
      "/home/anjuni/analysis/gff_output/Pst_104E_v13_p_ctg.REPET.sorted.filtered.superfamily.gff\n",
      "/home/anjuni/analysis/gff_output/Pst_104E_v13_ph_ctg.REPET.sorted.filtered.superfamily.gff\n"
     ]
    }
   ],
   "source": [
    "#Check that the list works\n",
    "print(*bed_file_list, sep='\\n')\n",
    "print(*gff_file_list, sep='\\n')\n",
    "print(*te_file_list, sep='\\n')"
   ]
  },
  {
   "cell_type": "markdown",
   "metadata": {},
   "source": [
    "## <span style='color:#9ac615'> 8. Comparing methylated transposons and genes. <span/>"
   ]
  },
  {
   "cell_type": "code",
   "execution_count": null,
   "metadata": {},
   "outputs": [],
   "source": [
    "# make a bed file of the 500 most highly methylated and 500 least methylated genes\n",
    "# write a function so you can find top 100 as well\n",
    "# or use a cutoff for methylation fraction by ranking"
   ]
  },
  {
   "cell_type": "code",
   "execution_count": null,
   "metadata": {},
   "outputs": [],
   "source": [
    "def genes_near_te(te_bed_fn, gene_bed_fn, io, iu, di):\n",
    "    \"\"\"Takes two bed6 filenames and returns dataframe with 5' and 3' distances.\"\"\"\n",
    "    from pybedtools import BedTool\n",
    "    te = BedTool(te_bed_fn)\n",
    "    gene = BedTool(gene_bed_fn)\n",
    "    df = te.closest(gene ,io=io, iu=iu id=di, N=True, d=True).to_dataframe()\n",
    "    df.rename(columns={12:'3_distance', 3:'gene', 9:'3_target', 0:'contig'}, inplace=True)\n",
    "    out_fn = te_bed_fn.replace('input', 'output')\n",
    "    df.to_csv(out_fn, sep='\\t', index=None, header=None)\n",
    "    return df"
   ]
  },
  {
   "cell_type": "code",
   "execution_count": null,
   "metadata": {},
   "outputs": [],
   "source": [
    "from pybedtools import BedTool\n",
    "    te = BedTool(te_bed_fn)\n",
    "    gene = BedTool(gene_bed_fn)\n",
    "    df = te.closest(gene ,io=io, iu=iu id=di, N=True, d=True).to_dataframe()\n",
    "    df.rename(columns={12:'3_distance', 3:'gene', 9:'3_target', 0:'contig'}, inplace=True)\n",
    "    out_fn = te_bed_fn.replace('input', 'output')\n",
    "    df.to_csv(out_fn, sep='\\t', index=None, header=None)\n",
    "df.head()"
   ]
  }
 ],
 "metadata": {
  "kernelspec": {
   "display_name": "Python 3",
   "language": "python",
   "name": "python3"
  },
  "language_info": {
   "codemirror_mode": {
    "name": "ipython",
    "version": 3
   },
   "file_extension": ".py",
   "mimetype": "text/x-python",
   "name": "python",
   "nbconvert_exporter": "python",
   "pygments_lexer": "ipython3",
   "version": "3.6.3"
  }
 },
 "nbformat": 4,
 "nbformat_minor": 2
}
