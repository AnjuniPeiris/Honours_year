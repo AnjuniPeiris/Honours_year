{
 "cells": [
  {
   "cell_type": "markdown",
   "metadata": {},
   "source": [
    "### Preparation for running Nanopore methylation calling on NCI\n",
    "\n",
    "This script does the following:"
   ]
  },
  {
   "cell_type": "markdown",
   "metadata": {},
   "source": [
    "- pull out all aligned fastq for each contig using previously mapped Nanopores reads with Minimap2\n",
    "- pack them up \n",
    "- pull out all corresponding fast5 files and pack them up"
   ]
  },
  {
   "cell_type": "code",
   "execution_count": 1,
   "metadata": {},
   "outputs": [
    {
     "name": "stdout",
     "output_type": "stream",
     "text": [
      "Requirement already satisfied: pysam in /home/anjuni/anaconda3/lib/python3.6/site-packages\r\n"
     ]
    }
   ],
   "source": [
    "!pip install pysam"
   ]
  },
  {
   "cell_type": "code",
   "execution_count": 25,
   "metadata": {},
   "outputs": [],
   "source": [
    "import os\n",
    "import pysam\n",
    "import pandas as pd\n",
    "import glob\n",
    "import tarfile #compress fast5\n",
    "from Bio import SeqIO"
   ]
  },
  {
   "cell_type": "code",
   "execution_count": 33,
   "metadata": {},
   "outputs": [],
   "source": [
    "#first we need to define the base dirs\n",
    "DIRS ={}\n",
    "#DIRS['BASE'] = '/home/ap/mock_up/methylation_calling/nanopore' #home computer. hash out later\n",
    "DIRS['BASE'] = '/home/anjuni/methylation_calling/nanopore' #fisher\n",
    "DIRS['BAM_INPUT'] = os.path.join(DIRS['BASE'], 'input', 'minimap2_alignments' )\n",
    "DIRS['FAST5_INPUT'] = os.path.join(DIRS['BASE'], 'input', 'all_fast5') #fix for all runs and copy from nci to right directory\n",
    "DIRS['FASTQ_OUT'] = os.path.join(DIRS['BASE'], 'input', 'split_fastq')\n",
    "DIRS['FAST5_OUT'] = os.path.join(DIRS['BASE'], 'input', 'split_fast5')\n",
    "DIRS['REF_OUT'] = os.path.join(DIRS['BASE'], 'input', 'split_ref')\n",
    "#fix this here for reference\n",
    "DIRS['REF'] = '/home/anjuni/Pst_104_v13_assembly/' # Pst_104E_v13_ph_ctg.fa"
   ]
  },
  {
   "cell_type": "code",
   "execution_count": 6,
   "metadata": {},
   "outputs": [],
   "source": [
    "#define functions\n",
    "\n",
    "#compress the fast5 reads mapping contig 19 to a tar.gz file\n",
    "def make_tarfile(output_filename, file_list):\n",
    "    with tarfile.open(output_filename, \"w:gz\") as tar:\n",
    "        for file in file_list:\n",
    "            tar.add(file, arcname=os.path.basename(file))"
   ]
  },
  {
   "cell_type": "code",
   "execution_count": 30,
   "metadata": {},
   "outputs": [
    {
     "name": "stderr",
     "output_type": "stream",
     "text": [
      "/home/anjuni/anaconda3/lib/python3.6/site-packages/IPython/core/interactiveshell.py:2728: DtypeWarning: Columns (3,4,5,6,7,8,9,10,11,12,13,14,16,17,18) have mixed types. Specify dtype option on import or set low_memory=False.\n",
      "  interactivity=interactivity, compiler=compiler, result=result)\n"
     ]
    }
   ],
   "source": [
    "seq_sum_albacore_fh = os.path.join(DIRS['FAST5_INPUT'], 'albacore_fastq/Pst79_run1-4_1d_sequencing_summary.txt')\n",
    "#only read in the first two columns instead of everything (file name and read ID)\n",
    "seq_sum_df = pd.read_csv(seq_sum_albacore_fh, sep='\\t')"
   ]
  },
  {
   "cell_type": "code",
   "execution_count": 31,
   "metadata": {},
   "outputs": [
    {
     "data": {
      "text/plain": [
       "<bound method NDFrame.head of                                                   filename  \\\n",
       "0        rsb0001410_20170719_FAH05512_MN21513_mux_scan_...   \n",
       "1        rsb0001410_20170719_FAH05512_MN21513_mux_scan_...   \n",
       "2        rsb0001410_20170719_FAH05512_MN21513_mux_scan_...   \n",
       "3        rsb0001410_20170719_FAH05512_MN21513_mux_scan_...   \n",
       "4        rsb0001410_20170719_FAH05512_MN21513_mux_scan_...   \n",
       "5        rsb0001410_20170719_FAH05512_MN21513_mux_scan_...   \n",
       "6        rsb0001410_20170719_FAH05512_MN21513_mux_scan_...   \n",
       "7        rsb0001410_20170719_FAH05512_MN21513_mux_scan_...   \n",
       "8        rsb0001410_20170719_FAH05512_MN21513_mux_scan_...   \n",
       "9        rsb0001410_20170719_FAH05512_MN21513_mux_scan_...   \n",
       "10       rsb0001410_20170719_FAH05512_MN21513_mux_scan_...   \n",
       "11       rsb0001410_20170719_FAH05512_MN21513_mux_scan_...   \n",
       "12       rsb0001410_20170719_FAH05512_MN21513_mux_scan_...   \n",
       "13       rsb0001410_20170719_FAH05512_MN21513_mux_scan_...   \n",
       "14       rsb0001410_20170719_FAH05512_MN21513_mux_scan_...   \n",
       "15       rsb0001410_20170719_FAH05512_MN21513_mux_scan_...   \n",
       "16       rsb0001410_20170719_FAH05512_MN21513_mux_scan_...   \n",
       "17       rsb0001410_20170719_FAH05512_MN21513_mux_scan_...   \n",
       "18       rsb0001410_20170719_FAH05512_MN21513_mux_scan_...   \n",
       "19       rsb0001410_20170719_FAH05512_MN21513_mux_scan_...   \n",
       "20       rsb0001410_20170719_FAH05512_MN21513_mux_scan_...   \n",
       "21       rsb0001410_20170719_FAH05512_MN21513_mux_scan_...   \n",
       "22       rsb0001410_20170719_FAH05512_MN21513_mux_scan_...   \n",
       "23       rsb0001410_20170719_FAH05512_MN21513_mux_scan_...   \n",
       "24       rsb0001410_20170719_FAH05512_MN21513_mux_scan_...   \n",
       "25       rsb0001410_20170719_FAH05512_MN21513_mux_scan_...   \n",
       "26       rsb0001410_20170719_FAH05512_MN21513_mux_scan_...   \n",
       "27       rsb0001410_20170719_FAH05512_MN21513_mux_scan_...   \n",
       "28       rsb0001410_20170719_FAH05512_MN21513_mux_scan_...   \n",
       "29       rsb0001410_20170719_FAH05512_MN21513_mux_scan_...   \n",
       "...                                                    ...   \n",
       "1099256  rsb_u5580079_20170828_FAH05280_MN16968_sequenc...   \n",
       "1099257  rsb_u5580079_20170828_FAH05280_MN16968_sequenc...   \n",
       "1099258  rsb_u5580079_20170828_FAH05280_MN16968_sequenc...   \n",
       "1099259  rsb_u5580079_20170828_FAH05280_MN16968_sequenc...   \n",
       "1099260  rsb_u5580079_20170828_FAH05280_MN16968_sequenc...   \n",
       "1099261  rsb_u5580079_20170828_FAH05280_MN16968_sequenc...   \n",
       "1099262  rsb_u5580079_20170828_FAH05280_MN16968_sequenc...   \n",
       "1099263  rsb_u5580079_20170828_FAH05280_MN16968_sequenc...   \n",
       "1099264  rsb_u5580079_20170828_FAH05280_MN16968_sequenc...   \n",
       "1099265  rsb_u5580079_20170828_FAH05280_MN16968_sequenc...   \n",
       "1099266  rsb_u5580079_20170828_FAH05280_MN16968_sequenc...   \n",
       "1099267  rsb_u5580079_20170828_FAH05280_MN16968_sequenc...   \n",
       "1099268  rsb_u5580079_20170828_FAH05280_MN16968_sequenc...   \n",
       "1099269  rsb_u5580079_20170828_FAH05280_MN16968_sequenc...   \n",
       "1099270  rsb_u5580079_20170828_FAH05280_MN16968_sequenc...   \n",
       "1099271  rsb_u5580079_20170828_FAH05280_MN16968_sequenc...   \n",
       "1099272  rsb_u5580079_20170828_FAH05280_MN16968_sequenc...   \n",
       "1099273  rsb_u5580079_20170828_FAH05280_MN16968_sequenc...   \n",
       "1099274  rsb_u5580079_20170828_FAH05280_MN16968_sequenc...   \n",
       "1099275  rsb_u5580079_20170828_FAH05280_MN16968_sequenc...   \n",
       "1099276  rsb_u5580079_20170828_FAH05280_MN16968_sequenc...   \n",
       "1099277  rsb_u5580079_20170828_FAH05280_MN16968_sequenc...   \n",
       "1099278  rsb_u5580079_20170828_FAH05280_MN16968_sequenc...   \n",
       "1099279  rsb_u5580079_20170828_FAH05280_MN16968_sequenc...   \n",
       "1099280  rsb_u5580079_20170828_FAH05280_MN16968_sequenc...   \n",
       "1099281  rsb_u5580079_20170828_FAH05280_MN16968_sequenc...   \n",
       "1099282  rsb_u5580079_20170828_FAH05280_MN16968_sequenc...   \n",
       "1099283  rsb_u5580079_20170828_FAH05280_MN16968_sequenc...   \n",
       "1099284  rsb_u5580079_20170828_FAH05280_MN16968_sequenc...   \n",
       "1099285  rsb_u5580079_20170828_FAH05280_MN16968_sequenc...   \n",
       "\n",
       "                                      read_id  \\\n",
       "0        12756ced-c758-42f7-a359-ba477a20b3a1   \n",
       "1        15749e40-174c-4bd3-9341-8cb37fde491b   \n",
       "2        23703e5f-144e-405b-aba1-b50ce853ecd9   \n",
       "3        24dd4f66-0a77-4a45-8b5f-8beb2d1576b0   \n",
       "4        2f4921ba-e9a3-44da-90d0-53815af5fcd7   \n",
       "5        3023f96b-5c89-490d-9ede-d6070290af67   \n",
       "6        3256bde0-e9c6-4b54-8e8d-d2d8f30d70fc   \n",
       "7        36fbe523-c0be-4fea-a23b-3d449660d1b7   \n",
       "8        429ca6a0-c1dd-41a3-992a-2d10599acaf2   \n",
       "9        5464506a-69ab-41ba-902a-258e89d4935d   \n",
       "10       683d5ec0-fbf4-4bf9-a550-d8aa77b496a6   \n",
       "11       6a7f1abc-38f3-4b69-85f6-10a9d493cc7f   \n",
       "12       6ea7f262-f3ee-49f6-a6fd-c6f3ac467c19   \n",
       "13       72684164-a9e6-4e8c-b29a-6fdfdc860935   \n",
       "14       735d20bb-46a5-40c1-989b-ea01f7435706   \n",
       "15       8eb21cbf-0ebb-4997-aca2-f5df7e949166   \n",
       "16       90c4aaa4-e25c-45fd-8d20-5e1044003847   \n",
       "17       91f262f6-ca73-4a5c-a0b8-a750b8955e18   \n",
       "18       9f7c18bf-5ea9-49af-a485-c75c6decd71b   \n",
       "19       aba4fa88-a008-4ce7-8066-3672ac4da6a5   \n",
       "20       b619a665-dfa8-4742-87f5-3372c605a6db   \n",
       "21       be8ac597-deb0-4529-add2-f9a9327673eb   \n",
       "22       e6fbe5cc-51ab-432d-8697-cf31f62952d6   \n",
       "23       f10a127c-8b9a-41dc-a61a-9b1d0dcefd69   \n",
       "24       f1f3bc83-c15e-4948-b940-eee33979c58c   \n",
       "25       ff31720d-8aa3-4e84-8202-18843c0847d9   \n",
       "26       17fc4ecf-258f-4e7e-b97e-69fb50a33476   \n",
       "27       19a6d6db-79b6-4455-b025-264f04cb55d1   \n",
       "28       2974fb35-b3d6-489c-bae0-420c8fa3b514   \n",
       "29       36b77590-8c06-424b-847f-03eab1190443   \n",
       "...                                       ...   \n",
       "1099256  041f1bf9-818f-4790-9831-fb3f5cc10d6e   \n",
       "1099257  07c619c8-afe5-4cf0-8fa4-1c1c7912255c   \n",
       "1099258  182c70fe-52dc-4c9a-b23e-df3fbc0bd87b   \n",
       "1099259  267b10fb-9866-4b92-b1e0-1a602d91a8cd   \n",
       "1099260  2e0eb3c0-ada4-4a32-b7a3-cdf4dc3de1b2   \n",
       "1099261  31a306c3-5e76-4b7b-94d5-b74cbc665da6   \n",
       "1099262  35ae140d-4a08-4b6f-ba56-580ca14758f1   \n",
       "1099263  37362464-a49f-4d83-ab12-16fff03e6e3e   \n",
       "1099264  4a39bddf-3a96-4ffe-92ec-64ab8eace8f6   \n",
       "1099265  4cb6cc0e-11b3-406a-aef2-c14f3da222ce   \n",
       "1099266  62f1a86b-2b47-4262-a9ad-92c5b8773a87   \n",
       "1099267  835d61df-a70f-451e-aa28-5f9a54a27b23   \n",
       "1099268  8992532b-23be-41b6-8dc7-afa3a2673e9d   \n",
       "1099269  8f704535-4a1c-4cdb-88d1-a2c303814b7c   \n",
       "1099270  90e2b3e6-eacf-48d5-938a-432d670f27d2   \n",
       "1099271  94c73f1e-e83e-4798-b08d-1193ebbe949d   \n",
       "1099272  c4045d19-1f06-441d-b38e-e1818a0b4382   \n",
       "1099273  c6729945-2ee2-4fbd-89a3-dc41346498b0   \n",
       "1099274  d4c2c391-2f07-4cb7-a61e-16d445411bc7   \n",
       "1099275  d4e48e23-8ae0-4094-bc7b-9a770ddfc843   \n",
       "1099276  d6005f70-e4e4-4428-a238-6366dc4407c7   \n",
       "1099277  e58227d0-6d3c-4685-8f28-f8fbc8d34685   \n",
       "1099278  e9f665fc-d518-4ea1-9313-8b98195edc3b   \n",
       "1099279  ec930686-5b15-4175-8d9a-f1625234c6b0   \n",
       "1099280  ee045d77-ae6d-4ced-bc7b-91a9e71ffb69   \n",
       "1099281  ef7f829b-fc88-4548-b743-540f3cd6e6be   \n",
       "1099282  efa00033-d810-4652-a84d-707f3cc088bc   \n",
       "1099283  f5e0f243-baec-40f7-b291-e2bd9605c928   \n",
       "1099284  f6c0ae31-f8cf-4551-ba27-c6caf515c125   \n",
       "1099285  facb6386-749c-4b13-94b3-70cfd29ea179   \n",
       "\n",
       "                                           run_id channel start_time duration  \\\n",
       "0        858638988ec4fd9fc453892283c2de42fecad7a6     109     77.129  2.70933   \n",
       "1        858638988ec4fd9fc453892283c2de42fecad7a6     235     374.74  6.83566   \n",
       "2        858638988ec4fd9fc453892283c2de42fecad7a6      52    345.852  1.47128   \n",
       "3        858638988ec4fd9fc453892283c2de42fecad7a6     168    144.887  3.05113   \n",
       "4        858638988ec4fd9fc453892283c2de42fecad7a6     490    352.784  7.85143   \n",
       "5        858638988ec4fd9fc453892283c2de42fecad7a6     109    75.0055  2.12351   \n",
       "6        858638988ec4fd9fc453892283c2de42fecad7a6     141    369.133   26.045   \n",
       "7        858638988ec4fd9fc453892283c2de42fecad7a6     399    7.34545  6.73622   \n",
       "8        858638988ec4fd9fc453892283c2de42fecad7a6     414    16.8836   7.5996   \n",
       "9        858638988ec4fd9fc453892283c2de42fecad7a6     197    254.791  11.9027   \n",
       "10       858638988ec4fd9fc453892283c2de42fecad7a6     105    86.0629   13.123   \n",
       "11       858638988ec4fd9fc453892283c2de42fecad7a6     206    38.3634  22.5496   \n",
       "12       858638988ec4fd9fc453892283c2de42fecad7a6     332    179.769  9.79947   \n",
       "13       858638988ec4fd9fc453892283c2de42fecad7a6     109    85.9087  5.80594   \n",
       "14       858638988ec4fd9fc453892283c2de42fecad7a6      87    67.1394  1.30793   \n",
       "15       858638988ec4fd9fc453892283c2de42fecad7a6     168    107.039  12.1373   \n",
       "16       858638988ec4fd9fc453892283c2de42fecad7a6     109    95.9751  1.26046   \n",
       "17       858638988ec4fd9fc453892283c2de42fecad7a6     109    91.7175  2.94406   \n",
       "18       858638988ec4fd9fc453892283c2de42fecad7a6     490    344.448   8.3169   \n",
       "19       858638988ec4fd9fc453892283c2de42fecad7a6     235    309.137  4.88446   \n",
       "20       858638988ec4fd9fc453892283c2de42fecad7a6     202    59.4856  9.98888   \n",
       "21       858638988ec4fd9fc453892283c2de42fecad7a6     109    79.8539  6.03818   \n",
       "22       858638988ec4fd9fc453892283c2de42fecad7a6     332    178.085  1.45418   \n",
       "23       858638988ec4fd9fc453892283c2de42fecad7a6     109    97.2377  1.94821   \n",
       "24       858638988ec4fd9fc453892283c2de42fecad7a6     168    124.567  5.55246   \n",
       "25       858638988ec4fd9fc453892283c2de42fecad7a6     266    19.2621  10.2975   \n",
       "26       858638988ec4fd9fc453892283c2de42fecad7a6     512    73.9377  19.5747   \n",
       "27       858638988ec4fd9fc453892283c2de42fecad7a6      17     76.971  10.3964   \n",
       "28       858638988ec4fd9fc453892283c2de42fecad7a6     199    59.8061  39.3798   \n",
       "29       858638988ec4fd9fc453892283c2de42fecad7a6      15    324.388  70.7905   \n",
       "...                                           ...     ...        ...      ...   \n",
       "1099256  8a2460e4ed1dd9ef375d09ec20b3075fb863f8d3     284    1061.82  3.49502   \n",
       "1099257  8a2460e4ed1dd9ef375d09ec20b3075fb863f8d3     255    12314.8  9.43094   \n",
       "1099258  8a2460e4ed1dd9ef375d09ec20b3075fb863f8d3     246    1791.25  17.6125   \n",
       "1099259  8a2460e4ed1dd9ef375d09ec20b3075fb863f8d3     288    12126.5  3.53104   \n",
       "1099260  8a2460e4ed1dd9ef375d09ec20b3075fb863f8d3     279    2854.55  4.24668   \n",
       "1099261  8a2460e4ed1dd9ef375d09ec20b3075fb863f8d3     279    220.046  1.13214   \n",
       "1099262  8a2460e4ed1dd9ef375d09ec20b3075fb863f8d3     509    2291.68  7.88662   \n",
       "1099263  8a2460e4ed1dd9ef375d09ec20b3075fb863f8d3     255    12266.3  5.51013   \n",
       "1099264  8a2460e4ed1dd9ef375d09ec20b3075fb863f8d3     165    220.392  6.52374   \n",
       "1099265  8a2460e4ed1dd9ef375d09ec20b3075fb863f8d3     355    1700.04  35.8972   \n",
       "1099266  8a2460e4ed1dd9ef375d09ec20b3075fb863f8d3     288    12041.7  4.95252   \n",
       "1099267  8a2460e4ed1dd9ef375d09ec20b3075fb863f8d3     255    12173.1  14.4009   \n",
       "1099268  8a2460e4ed1dd9ef375d09ec20b3075fb863f8d3      26    1535.69  4.53552   \n",
       "1099269  8a2460e4ed1dd9ef375d09ec20b3075fb863f8d3     355    1762.94  17.4665   \n",
       "1099270  8a2460e4ed1dd9ef375d09ec20b3075fb863f8d3     246    1732.81   23.086   \n",
       "1099271  8a2460e4ed1dd9ef375d09ec20b3075fb863f8d3     246    1770.32  14.0584   \n",
       "1099272  8a2460e4ed1dd9ef375d09ec20b3075fb863f8d3     115    11787.6  5.89558   \n",
       "1099273  8a2460e4ed1dd9ef375d09ec20b3075fb863f8d3     509    2323.14  7.44007   \n",
       "1099274  8a2460e4ed1dd9ef375d09ec20b3075fb863f8d3     442    11459.9  3.58948   \n",
       "1099275  8a2460e4ed1dd9ef375d09ec20b3075fb863f8d3     509    2301.54  9.67048   \n",
       "1099276  8a2460e4ed1dd9ef375d09ec20b3075fb863f8d3     355    1747.85  13.1321   \n",
       "1099277  8a2460e4ed1dd9ef375d09ec20b3075fb863f8d3     255    12093.6  9.46215   \n",
       "1099278  8a2460e4ed1dd9ef375d09ec20b3075fb863f8d3     255    12273.8  18.4671   \n",
       "1099279  8a2460e4ed1dd9ef375d09ec20b3075fb863f8d3     276    12039.2   11.417   \n",
       "1099280  8a2460e4ed1dd9ef375d09ec20b3075fb863f8d3     115    11795.4  3.50614   \n",
       "1099281  8a2460e4ed1dd9ef375d09ec20b3075fb863f8d3     272    10467.3  10.4535   \n",
       "1099282  8a2460e4ed1dd9ef375d09ec20b3075fb863f8d3     255    12357.8  8.46448   \n",
       "1099283  8a2460e4ed1dd9ef375d09ec20b3075fb863f8d3     255    12056.8  9.87118   \n",
       "1099284  8a2460e4ed1dd9ef375d09ec20b3075fb863f8d3     272    10506.7  16.9329   \n",
       "1099285  8a2460e4ed1dd9ef375d09ec20b3075fb863f8d3     355    1799.39  22.4343   \n",
       "\n",
       "        num_events passes_filtering template_start num_events_template  \\\n",
       "0             2331             True              0                2331   \n",
       "1             5737            False        0.16899                5737   \n",
       "2             1254            False        0.01394                1254   \n",
       "3             2575             True        0.05793                2575   \n",
       "4             6666             True        0.10541                6666   \n",
       "5             1827             True              0                1827   \n",
       "6            22340            False        0.08549               22340   \n",
       "7             5654             True        0.16617                5654   \n",
       "8             6372             True        0.19472                6372   \n",
       "9            10243            False              0               10243   \n",
       "10           11187            False        0.12334               11187   \n",
       "11           19293             True        0.13081               19293   \n",
       "12            8433             True              0                8433   \n",
       "13            4996             True              0                4996   \n",
       "14            1125            False              0                1125   \n",
       "15           10445            False              0               10445   \n",
       "16            1084             True              0                1084   \n",
       "17            2533             True              0                2533   \n",
       "18            7145             True        0.01345                7145   \n",
       "19            4046            False        0.18277                4046   \n",
       "20            8596             True              0                8596   \n",
       "21            5196             True              0                5196   \n",
       "22            1251             True              0                1251   \n",
       "23            1676             True              0                1676   \n",
       "24            4672            False        0.12284                4672   \n",
       "25            8833            False        0.03287                8833   \n",
       "26           16832             True        0.01461               16832   \n",
       "27            8891            False        0.06391                8891   \n",
       "28           33692             True        0.22825               33692   \n",
       "29           60920            False              0               60920   \n",
       "...            ...              ...            ...                 ...   \n",
       "1099256       3007            False              0                3007   \n",
       "1099257       8116            False              0                8116   \n",
       "1099258      15156            False              0               15156   \n",
       "1099259       3017            False        0.02507                3017   \n",
       "1099260       3654            False              0                3654   \n",
       "1099261        974            False              0                 974   \n",
       "1099262       6787            False              0                6787   \n",
       "1099263       4481            False        0.30279                4481   \n",
       "1099264       5614            False              0                5614   \n",
       "1099265      30473            False        0.48639               30473   \n",
       "1099266       4262            False              0                4262   \n",
       "1099267      12393            False              0               12393   \n",
       "1099268       3577            False        0.37849                3577   \n",
       "1099269      14777            False        0.29515               14777   \n",
       "1099270      19867            False              0               19867   \n",
       "1099271      12098            False              0               12098   \n",
       "1099272       5073            False              0                5073   \n",
       "1099273       6402            False              0                6402   \n",
       "1099274       3089            False              0                3089   \n",
       "1099275       8014            False        0.35807                8014   \n",
       "1099276      11301            False              0               11301   \n",
       "1099277       8142            False              0                8142   \n",
       "1099278      15855            False         0.0425               15855   \n",
       "1099279       9715            False        0.12732                9715   \n",
       "1099280       3017            False              0                3017   \n",
       "1099281       8996            False              0                8996   \n",
       "1099282       7249            False        0.04034                7249   \n",
       "1099283       7801            False        0.80627                7801   \n",
       "1099284      14541            False        0.03503               14541   \n",
       "1099285      19306            False              0               19306   \n",
       "\n",
       "        template_duration num_called_template sequence_length_template  \\\n",
       "0                 2.70933                2331                     1327   \n",
       "1                 6.66667                5737                     3527   \n",
       "2                 1.45734                1254                      315   \n",
       "3                 2.99319                2575                     1542   \n",
       "4                 7.74602                6666                     4244   \n",
       "5                 2.12351                1827                     1014   \n",
       "6                 25.9595               22340                    13326   \n",
       "7                 6.57005                5654                     2853   \n",
       "8                 7.40488                6372                     3292   \n",
       "9                 11.9027               10243                     4176   \n",
       "10                12.9997               11187                      638   \n",
       "11                22.4188               19293                     9861   \n",
       "12                9.79947                8433                     5142   \n",
       "13                5.80594                4996                     2892   \n",
       "14                1.30793                1125                      461   \n",
       "15                12.1373               10445                     5813   \n",
       "16                1.26046                1084                      602   \n",
       "17                2.94406                2533                     1472   \n",
       "18                8.30345                7145                     4405   \n",
       "19                4.70169                4046                     2333   \n",
       "20                9.98888                8596                     4900   \n",
       "21                6.03818                5196                     2878   \n",
       "22                1.45418                1251                      756   \n",
       "23                1.94821                1676                      912   \n",
       "24                5.42961                4672                     2543   \n",
       "25                10.2646                8833                     4059   \n",
       "26                19.5601               16832                     9673   \n",
       "27                10.3325                8891                     4930   \n",
       "28                39.1516               33692                    19379   \n",
       "29                70.7905               60920                       65   \n",
       "...                   ...                 ...                      ...   \n",
       "1099256           3.49502                3007                       12   \n",
       "1099257           9.43094                8116                       43   \n",
       "1099258           17.6125               15156                      508   \n",
       "1099259           3.50598                3017                        5   \n",
       "1099260           4.24668                3654                       35   \n",
       "1099261           1.13214                 974                        5   \n",
       "1099262           7.88662                6787                      121   \n",
       "1099263           5.20734                4481                       27   \n",
       "1099264           6.52374                5614                       99   \n",
       "1099265           35.4109               30473                      330   \n",
       "1099266           4.95252                4262                        6   \n",
       "1099267           14.4009               12393                       18   \n",
       "1099268           4.15704                3577                        5   \n",
       "1099269           17.1713               14777                       74   \n",
       "1099270            23.086               19867                     1172   \n",
       "1099271           14.0584               12098                      621   \n",
       "1099272           5.89558                5073                       17   \n",
       "1099273           7.44007                6402                       57   \n",
       "1099274           3.58948                3089                       17   \n",
       "1099275           9.31242                8014                      107   \n",
       "1099276           13.1321               11301                        7   \n",
       "1099277           9.46215                8142                       57   \n",
       "1099278           18.4246               15855                       33   \n",
       "1099279           11.2897                9715                       14   \n",
       "1099280           3.50614                3017                       22   \n",
       "1099281           10.4535                8996                      399   \n",
       "1099282           8.42414                7249                       22   \n",
       "1099283           9.06491                7801                       17   \n",
       "1099284           16.8979               14541                       82   \n",
       "1099285           22.4343               19306                       23   \n",
       "\n",
       "        mean_qscore_template strand_score_template  \\\n",
       "0                      7.902               -0.0018   \n",
       "1                      6.768               -0.0017   \n",
       "2                      2.893               -0.0033   \n",
       "3                      9.186               -0.0027   \n",
       "4                      8.258               -0.0017   \n",
       "5                      8.086               -0.0013   \n",
       "6                      6.811               -0.0019   \n",
       "7                      8.157               -0.0014   \n",
       "8                      7.338               -0.0018   \n",
       "9                      4.585               -0.0023   \n",
       "10                     3.776                -0.002   \n",
       "11                     7.194               -0.0019   \n",
       "12                     8.635               -0.0019   \n",
       "13                      8.77               -0.0021   \n",
       "14                     3.012               -0.0038   \n",
       "15                     6.871                -0.002   \n",
       "16                     8.263               -0.0021   \n",
       "17                     9.363               -0.0014   \n",
       "18                     8.034               -0.0018   \n",
       "19                      6.57                -0.002   \n",
       "20                      8.58               -0.0016   \n",
       "21                     7.849               -0.0022   \n",
       "22                     7.978               -0.0039   \n",
       "23                     8.454               -0.0021   \n",
       "24                     6.063               -0.0016   \n",
       "25                      6.91               -0.0019   \n",
       "26                     7.759               -0.0018   \n",
       "27                     6.792               -0.0021   \n",
       "28                     8.881               -0.0016   \n",
       "29                      1.19               -0.0029   \n",
       "...                      ...                   ...   \n",
       "1099256                1.008               -0.0034   \n",
       "1099257                1.772               -0.0027   \n",
       "1099258                2.439               -0.0025   \n",
       "1099259                    1               -0.0036   \n",
       "1099260                1.983               -0.0021   \n",
       "1099261                 1.29               -0.0017   \n",
       "1099262                1.799               -0.0023   \n",
       "1099263                1.568               -0.0029   \n",
       "1099264                1.618               -0.0025   \n",
       "1099265                1.681               -0.0029   \n",
       "1099266                1.048               -0.0027   \n",
       "1099267                    1               -0.0027   \n",
       "1099268                    1                -0.003   \n",
       "1099269                1.304               -0.0031   \n",
       "1099270                2.524               -0.0023   \n",
       "1099271                2.399               -0.0026   \n",
       "1099272                 1.04               -0.0035   \n",
       "1099273                1.435               -0.0029   \n",
       "1099274                1.769               -0.0031   \n",
       "1099275                1.632               -0.0027   \n",
       "1099276                    1                -0.003   \n",
       "1099277                1.637               -0.0028   \n",
       "1099278                1.376               -0.0029   \n",
       "1099279                1.029               -0.0032   \n",
       "1099280                1.001               -0.0031   \n",
       "1099281                5.312               -0.0026   \n",
       "1099282                1.009               -0.0031   \n",
       "1099283                1.051                -0.003   \n",
       "1099284                3.079                -0.003   \n",
       "1099285                1.007                -0.003   \n",
       "\n",
       "        calibration_strand_genome_template  \\\n",
       "0                             filtered_out   \n",
       "1                                 no_match   \n",
       "2                             filtered_out   \n",
       "3                             filtered_out   \n",
       "4                             filtered_out   \n",
       "5                             filtered_out   \n",
       "6                             filtered_out   \n",
       "7                             filtered_out   \n",
       "8                                 no_match   \n",
       "9                             filtered_out   \n",
       "10                            filtered_out   \n",
       "11                            filtered_out   \n",
       "12                            filtered_out   \n",
       "13                            filtered_out   \n",
       "14                            filtered_out   \n",
       "15                            filtered_out   \n",
       "16                            filtered_out   \n",
       "17                            filtered_out   \n",
       "18                            filtered_out   \n",
       "19                            filtered_out   \n",
       "20                            filtered_out   \n",
       "21                            filtered_out   \n",
       "22                            filtered_out   \n",
       "23                            filtered_out   \n",
       "24                            filtered_out   \n",
       "25                            filtered_out   \n",
       "26                            filtered_out   \n",
       "27                            filtered_out   \n",
       "28                            filtered_out   \n",
       "29                            filtered_out   \n",
       "...                                    ...   \n",
       "1099256                       filtered_out   \n",
       "1099257                       filtered_out   \n",
       "1099258                       filtered_out   \n",
       "1099259                       filtered_out   \n",
       "1099260                       filtered_out   \n",
       "1099261                       filtered_out   \n",
       "1099262                       filtered_out   \n",
       "1099263                       filtered_out   \n",
       "1099264                       filtered_out   \n",
       "1099265                       filtered_out   \n",
       "1099266                       filtered_out   \n",
       "1099267                       filtered_out   \n",
       "1099268                       filtered_out   \n",
       "1099269                       filtered_out   \n",
       "1099270                       filtered_out   \n",
       "1099271                       filtered_out   \n",
       "1099272                       filtered_out   \n",
       "1099273                       filtered_out   \n",
       "1099274                       filtered_out   \n",
       "1099275                       filtered_out   \n",
       "1099276                       filtered_out   \n",
       "1099277                       filtered_out   \n",
       "1099278                       filtered_out   \n",
       "1099279                       filtered_out   \n",
       "1099280                       filtered_out   \n",
       "1099281                       filtered_out   \n",
       "1099282                       filtered_out   \n",
       "1099283                       filtered_out   \n",
       "1099284                       filtered_out   \n",
       "1099285                       filtered_out   \n",
       "\n",
       "        calibration_strand_identity_template  \\\n",
       "0                                         -1   \n",
       "1                                         -1   \n",
       "2                                         -1   \n",
       "3                                         -1   \n",
       "4                                         -1   \n",
       "5                                         -1   \n",
       "6                                         -1   \n",
       "7                                         -1   \n",
       "8                                         -1   \n",
       "9                                         -1   \n",
       "10                                        -1   \n",
       "11                                        -1   \n",
       "12                                        -1   \n",
       "13                                        -1   \n",
       "14                                        -1   \n",
       "15                                        -1   \n",
       "16                                        -1   \n",
       "17                                        -1   \n",
       "18                                        -1   \n",
       "19                                        -1   \n",
       "20                                        -1   \n",
       "21                                        -1   \n",
       "22                                        -1   \n",
       "23                                        -1   \n",
       "24                                        -1   \n",
       "25                                        -1   \n",
       "26                                        -1   \n",
       "27                                        -1   \n",
       "28                                        -1   \n",
       "29                                        -1   \n",
       "...                                      ...   \n",
       "1099256                                   -1   \n",
       "1099257                                   -1   \n",
       "1099258                                   -1   \n",
       "1099259                                   -1   \n",
       "1099260                                   -1   \n",
       "1099261                                   -1   \n",
       "1099262                                   -1   \n",
       "1099263                                   -1   \n",
       "1099264                                   -1   \n",
       "1099265                                   -1   \n",
       "1099266                                   -1   \n",
       "1099267                                   -1   \n",
       "1099268                                   -1   \n",
       "1099269                                   -1   \n",
       "1099270                                   -1   \n",
       "1099271                                   -1   \n",
       "1099272                                   -1   \n",
       "1099273                                   -1   \n",
       "1099274                                   -1   \n",
       "1099275                                   -1   \n",
       "1099276                                   -1   \n",
       "1099277                                   -1   \n",
       "1099278                                   -1   \n",
       "1099279                                   -1   \n",
       "1099280                                   -1   \n",
       "1099281                                   -1   \n",
       "1099282                                   -1   \n",
       "1099283                                   -1   \n",
       "1099284                                   -1   \n",
       "1099285                                   -1   \n",
       "\n",
       "        calibration_strand_accuracy_template aligned_speed_bps_template  \n",
       "0                                         -1                          0  \n",
       "1                                         -1                          0  \n",
       "2                                         -1                          0  \n",
       "3                                         -1                          0  \n",
       "4                                         -1                          0  \n",
       "5                                         -1                          0  \n",
       "6                                         -1                          0  \n",
       "7                                         -1                          0  \n",
       "8                                         -1                          0  \n",
       "9                                         -1                          0  \n",
       "10                                        -1                          0  \n",
       "11                                        -1                          0  \n",
       "12                                        -1                          0  \n",
       "13                                        -1                          0  \n",
       "14                                        -1                          0  \n",
       "15                                        -1                          0  \n",
       "16                                        -1                          0  \n",
       "17                                        -1                          0  \n",
       "18                                        -1                          0  \n",
       "19                                        -1                          0  \n",
       "20                                        -1                          0  \n",
       "21                                        -1                          0  \n",
       "22                                        -1                          0  \n",
       "23                                        -1                          0  \n",
       "24                                        -1                          0  \n",
       "25                                        -1                          0  \n",
       "26                                        -1                          0  \n",
       "27                                        -1                          0  \n",
       "28                                        -1                          0  \n",
       "29                                        -1                          0  \n",
       "...                                      ...                        ...  \n",
       "1099256                                   -1                          0  \n",
       "1099257                                   -1                          0  \n",
       "1099258                                   -1                          0  \n",
       "1099259                                   -1                          0  \n",
       "1099260                                   -1                          0  \n",
       "1099261                                   -1                          0  \n",
       "1099262                                   -1                          0  \n",
       "1099263                                   -1                          0  \n",
       "1099264                                   -1                          0  \n",
       "1099265                                   -1                          0  \n",
       "1099266                                   -1                          0  \n",
       "1099267                                   -1                          0  \n",
       "1099268                                   -1                          0  \n",
       "1099269                                   -1                          0  \n",
       "1099270                                   -1                          0  \n",
       "1099271                                   -1                          0  \n",
       "1099272                                   -1                          0  \n",
       "1099273                                   -1                          0  \n",
       "1099274                                   -1                          0  \n",
       "1099275                                   -1                          0  \n",
       "1099276                                   -1                          0  \n",
       "1099277                                   -1                          0  \n",
       "1099278                                   -1                          0  \n",
       "1099279                                   -1                          0  \n",
       "1099280                                   -1                          0  \n",
       "1099281                                   -1                          0  \n",
       "1099282                                   -1                          0  \n",
       "1099283                                   -1                          0  \n",
       "1099284                                   -1                          0  \n",
       "1099285                                   -1                          0  \n",
       "\n",
       "[1099286 rows x 19 columns]>"
      ]
     },
     "execution_count": 31,
     "metadata": {},
     "output_type": "execute_result"
    }
   ],
   "source": [
    "seq_sum_df.head # it shows the file name and read ID"
   ]
  },
  {
   "cell_type": "code",
   "execution_count": null,
   "metadata": {},
   "outputs": [],
   "source": []
  },
  {
   "cell_type": "code",
   "execution_count": 34,
   "metadata": {},
   "outputs": [],
   "source": [
    "#quick chech if directories exist\n",
    "for value in DIRS.values():\n",
    "    if not os.path.exists(value):\n",
    "        print('%s does not exist' % value)"
   ]
  },
  {
   "cell_type": "code",
   "execution_count": 10,
   "metadata": {},
   "outputs": [],
   "source": [
    "#we generated the bam file handle (file path)\n",
    "bam_fh = os.path.join(DIRS['BAM_INPUT'], 'Pst79_run1_1d_pass.minimap2.out.bam')"
   ]
  },
  {
   "cell_type": "code",
   "execution_count": 11,
   "metadata": {},
   "outputs": [
    {
     "ename": "FileNotFoundError",
     "evalue": "[Errno 2] No such file or directory: '~/methylation_calling/nanopore/input/minimap2_alignments'",
     "output_type": "error",
     "traceback": [
      "\u001b[0;31m---------------------------------------------------------------------------\u001b[0m",
      "\u001b[0;31mFileNotFoundError\u001b[0m                         Traceback (most recent call last)",
      "\u001b[0;32m<ipython-input-11-e9983b365b58>\u001b[0m in \u001b[0;36m<module>\u001b[0;34m()\u001b[0m\n\u001b[1;32m      1\u001b[0m \u001b[0;31m#just an example to loop over contend of a folder\u001b[0m\u001b[0;34m\u001b[0m\u001b[0;34m\u001b[0m\u001b[0m\n\u001b[0;32m----> 2\u001b[0;31m \u001b[0;32mfor\u001b[0m \u001b[0mx\u001b[0m \u001b[0;32min\u001b[0m \u001b[0mos\u001b[0m\u001b[0;34m.\u001b[0m\u001b[0mlistdir\u001b[0m\u001b[0;34m(\u001b[0m\u001b[0mDIRS\u001b[0m\u001b[0;34m[\u001b[0m\u001b[0;34m'BAM_INPUT'\u001b[0m\u001b[0;34m]\u001b[0m\u001b[0;34m)\u001b[0m\u001b[0;34m:\u001b[0m\u001b[0;34m\u001b[0m\u001b[0m\n\u001b[0m\u001b[1;32m      3\u001b[0m     \u001b[0;32mif\u001b[0m \u001b[0mx\u001b[0m\u001b[0;34m.\u001b[0m\u001b[0mendswith\u001b[0m\u001b[0;34m(\u001b[0m\u001b[0;34m'.bam'\u001b[0m\u001b[0;34m)\u001b[0m\u001b[0;34m:\u001b[0m\u001b[0;34m\u001b[0m\u001b[0m\n\u001b[1;32m      4\u001b[0m         \u001b[0mprint\u001b[0m\u001b[0;34m(\u001b[0m\u001b[0mx\u001b[0m\u001b[0;34m)\u001b[0m\u001b[0;34m\u001b[0m\u001b[0m\n",
      "\u001b[0;31mFileNotFoundError\u001b[0m: [Errno 2] No such file or directory: '~/methylation_calling/nanopore/input/minimap2_alignments'"
     ]
    }
   ],
   "source": [
    "#just an example to loop over contend of a folder\n",
    "for x in os.listdir(DIRS['BAM_INPUT']):\n",
    "    if x.endswith('.bam'):\n",
    "        print(x)"
   ]
  },
  {
   "cell_type": "code",
   "execution_count": null,
   "metadata": {},
   "outputs": [],
   "source": []
  },
  {
   "cell_type": "code",
   "execution_count": 12,
   "metadata": {},
   "outputs": [
    {
     "ename": "FileNotFoundError",
     "evalue": "[Errno 2] No such file or directory: '~/methylation_calling/nanopore/input/minimap2_alignments'",
     "output_type": "error",
     "traceback": [
      "\u001b[0;31m---------------------------------------------------------------------------\u001b[0m",
      "\u001b[0;31mFileNotFoundError\u001b[0m                         Traceback (most recent call last)",
      "\u001b[0;32m<ipython-input-12-e540a7daf0a4>\u001b[0m in \u001b[0;36m<module>\u001b[0;34m()\u001b[0m\n\u001b[0;32m----> 1\u001b[0;31m \u001b[0mbam_fh_list\u001b[0m \u001b[0;34m=\u001b[0m \u001b[0;34m[\u001b[0m\u001b[0mos\u001b[0m\u001b[0;34m.\u001b[0m\u001b[0mpath\u001b[0m\u001b[0;34m.\u001b[0m\u001b[0mjoin\u001b[0m\u001b[0;34m(\u001b[0m\u001b[0mDIRS\u001b[0m\u001b[0;34m[\u001b[0m\u001b[0;34m'BAM_INPUT'\u001b[0m\u001b[0;34m]\u001b[0m\u001b[0;34m,\u001b[0m \u001b[0mx\u001b[0m\u001b[0;34m)\u001b[0m \u001b[0;32mfor\u001b[0m \u001b[0mx\u001b[0m \u001b[0;32min\u001b[0m \u001b[0mos\u001b[0m\u001b[0;34m.\u001b[0m\u001b[0mlistdir\u001b[0m\u001b[0;34m(\u001b[0m\u001b[0mDIRS\u001b[0m\u001b[0;34m[\u001b[0m\u001b[0;34m'BAM_INPUT'\u001b[0m\u001b[0;34m]\u001b[0m\u001b[0;34m)\u001b[0m \u001b[0;32mif\u001b[0m \u001b[0mx\u001b[0m\u001b[0;34m.\u001b[0m\u001b[0mendswith\u001b[0m\u001b[0;34m(\u001b[0m\u001b[0;34m'.bam'\u001b[0m\u001b[0;34m)\u001b[0m\u001b[0;34m]\u001b[0m\u001b[0;34m\u001b[0m\u001b[0m\n\u001b[0m\u001b[1;32m      2\u001b[0m \u001b[0;34m\u001b[0m\u001b[0m\n\u001b[1;32m      3\u001b[0m \u001b[0;31m#fix this here for reference. use the same as for mapping the long reads\u001b[0m\u001b[0;34m\u001b[0m\u001b[0;34m\u001b[0m\u001b[0m\n\u001b[1;32m      4\u001b[0m \u001b[0mreference_fh\u001b[0m \u001b[0;34m=\u001b[0m \u001b[0mos\u001b[0m\u001b[0;34m.\u001b[0m\u001b[0mpath\u001b[0m\u001b[0;34m.\u001b[0m\u001b[0mjoin\u001b[0m\u001b[0;34m(\u001b[0m\u001b[0mDIRS\u001b[0m\u001b[0;34m[\u001b[0m\u001b[0;34m'REF'\u001b[0m\u001b[0;34m]\u001b[0m\u001b[0;34m,\u001b[0m \u001b[0;34m'Pst_104E_v13_ph_ctg.fa'\u001b[0m\u001b[0;34m)\u001b[0m\u001b[0;34m\u001b[0m\u001b[0m\n\u001b[1;32m      5\u001b[0m \u001b[0;34m\u001b[0m\u001b[0m\n",
      "\u001b[0;31mFileNotFoundError\u001b[0m: [Errno 2] No such file or directory: '~/methylation_calling/nanopore/input/minimap2_alignments'"
     ]
    }
   ],
   "source": [
    "bam_fh_list = [os.path.join(DIRS['BAM_INPUT'], x) for x in os.listdir(DIRS['BAM_INPUT']) if x.endswith('.bam')]\n",
    "\n",
    "#fix this here for reference. use the same as for mapping the long reads\n",
    "reference_fh = os.path.join(DIRS['REF'], 'Pst_104E_v13_ph_ctg.fa')\n",
    "\n",
    "split_reference_fh = os.path.join(DIRS['REF_OUT'], 'ref_pcontig_019.fasta')"
   ]
  },
  {
   "cell_type": "code",
   "execution_count": null,
   "metadata": {
    "collapsed": true
   },
   "outputs": [],
   "source": [
    "#now we 'read' in an bam file. Really we generated an AlignmentFile object \n",
    "bam_file = pysam.AlignmentFile(bam_fh, \"rb\")"
   ]
  },
  {
   "cell_type": "code",
   "execution_count": 9,
   "metadata": {},
   "outputs": [
    {
     "ename": "NameError",
     "evalue": "name 'SeqIO' is not defined",
     "output_type": "error",
     "traceback": [
      "\u001b[0;31m---------------------------------------------------------------------------\u001b[0m",
      "\u001b[0;31mNameError\u001b[0m                                 Traceback (most recent call last)",
      "\u001b[0;32m<ipython-input-9-350bf074ee6d>\u001b[0m in \u001b[0;36m<module>\u001b[0;34m()\u001b[0m\n\u001b[0;32m----> 1\u001b[0;31m \u001b[0;32mfor\u001b[0m \u001b[0mseq\u001b[0m \u001b[0;32min\u001b[0m  \u001b[0mSeqIO\u001b[0m\u001b[0;34m.\u001b[0m\u001b[0mparse\u001b[0m\u001b[0;34m(\u001b[0m\u001b[0mreference_fh\u001b[0m\u001b[0;34m,\u001b[0m \u001b[0;34m'fasta'\u001b[0m\u001b[0;34m)\u001b[0m\u001b[0;34m:\u001b[0m\u001b[0;34m\u001b[0m\u001b[0m\n\u001b[0m\u001b[1;32m      2\u001b[0m     \u001b[0;32mif\u001b[0m \u001b[0mseq\u001b[0m\u001b[0;34m.\u001b[0m\u001b[0mid\u001b[0m \u001b[0;34m==\u001b[0m \u001b[0;34m'pcontig_019'\u001b[0m\u001b[0;34m:\u001b[0m\u001b[0;34m\u001b[0m\u001b[0m\n\u001b[1;32m      3\u001b[0m         \u001b[0mSeqIO\u001b[0m\u001b[0;34m.\u001b[0m\u001b[0mwrite\u001b[0m\u001b[0;34m(\u001b[0m\u001b[0mseq\u001b[0m\u001b[0;34m,\u001b[0m \u001b[0msplit_reference_fh\u001b[0m\u001b[0;34m,\u001b[0m \u001b[0;34m'fasta'\u001b[0m\u001b[0;34m)\u001b[0m\u001b[0;34m\u001b[0m\u001b[0m\n",
      "\u001b[0;31mNameError\u001b[0m: name 'SeqIO' is not defined"
     ]
    }
   ],
   "source": [
    "for seq in  SeqIO.parse(reference_fh, 'fasta'):\n",
    "    if seq.id == 'pcontig_019':\n",
    "        SeqIO.write(seq, split_reference_fh, 'fasta')"
   ]
  },
  {
   "cell_type": "code",
   "execution_count": null,
   "metadata": {
    "collapsed": true
   },
   "outputs": [],
   "source": [
    "#get all the reads for contig_19\n",
    "contig_19_reads = [read for read in bam_file.fetch(contig='pcontig_019')]"
   ]
  },
  {
   "cell_type": "raw",
   "metadata": {},
   "source": [
    "#this provides the name for all references in the bam file\n",
    "bam_file.references"
   ]
  },
  {
   "cell_type": "code",
   "execution_count": null,
   "metadata": {
    "collapsed": true
   },
   "outputs": [],
   "source": [
    "#the outfile for the fastq files mapping to pcontig_019\n",
    "fastq_out_fh = os.path.join(DIRS['FASTQ_OUT'], 'pcontig_019_aln.fastq')"
   ]
  },
  {
   "cell_type": "code",
   "execution_count": null,
   "metadata": {
    "collapsed": true
   },
   "outputs": [],
   "source": [
    "#we generate an new file and write out all the aligned reads in fastq format\n",
    "#we added in an save guard to save out each read only once as it appears that pysam provides some reads in duplicate.\n",
    "saved_reads = []\n",
    "with open(fastq_out_fh, mode='w') as fastq_out:\n",
    "    for read in contig_19_reads:\n",
    "        if read.query_name not in saved_reads:\n",
    "            print('@%s' % read.query_name, file=fastq_out)\n",
    "            print('%s' % read.query, file=fastq_out)\n",
    "            print('+', file=fastq_out)\n",
    "            print('%s' % read.qqual, file=fastq_out)\n",
    "            saved_reads.append(read.query_name)"
   ]
  },
  {
   "cell_type": "code",
   "execution_count": null,
   "metadata": {},
   "outputs": [],
   "source": [
    "#we briefly check the longest aligned read\n",
    "max_lenght = 0\n",
    "with pysam.FastxFile(fastq_out_fh) as fh:\n",
    "    for entry in fh:\n",
    "        if len(entry.sequence) > max_lenght:\n",
    "            max_lenght = len(entry.sequence)\n",
    "print('Longest alinged read to contig_19 is %i long'  % max_lenght)"
   ]
  },
  {
   "cell_type": "code",
   "execution_count": null,
   "metadata": {
    "collapsed": true
   },
   "outputs": [],
   "source": [
    "#reduce the size of the dataframe to only contain the filename and read_id column thats all we need\n",
    "small_df = seq_sum_df.iloc[:, [0,1]].copy()"
   ]
  },
  {
   "cell_type": "code",
   "execution_count": null,
   "metadata": {},
   "outputs": [],
   "source": [
    "small_df.head()"
   ]
  },
  {
   "cell_type": "code",
   "execution_count": null,
   "metadata": {
    "collapsed": true
   },
   "outputs": [],
   "source": [
    "#get all the fast5 names for the reads that map to congtig 19\n",
    "fast5_names_contig_19 = list(small_df[small_df.read_id.isin(saved_reads)]['filename'])"
   ]
  },
  {
   "cell_type": "code",
   "execution_count": null,
   "metadata": {},
   "outputs": [],
   "source": [
    "fast5_names_contig_19[0]"
   ]
  },
  {
   "cell_type": "code",
   "execution_count": null,
   "metadata": {
    "collapsed": true
   },
   "outputs": [],
   "source": [
    "#this looks for fast5s recursively in all the Fast5_input folder\n",
    "all_fast5s = [fn for fn in glob.iglob('%s/**/*.fast5' % DIRS['FAST5_INPUT'], recursive=True)]"
   ]
  },
  {
   "cell_type": "code",
   "execution_count": null,
   "metadata": {
    "collapsed": true
   },
   "outputs": [],
   "source": [
    "#this gets the whole path of the fast5s that map to contig_19\n",
    "contig_19_fast5s_fh = [x for x in all_fast5s if x.split('/')[-1] in fast5_names_contig_19]"
   ]
  },
  {
   "cell_type": "code",
   "execution_count": null,
   "metadata": {},
   "outputs": [],
   "source": [
    "len(contig_19_fast5s_fh)"
   ]
  },
  {
   "cell_type": "code",
   "execution_count": null,
   "metadata": {
    "collapsed": true
   },
   "outputs": [],
   "source": [
    "fast5_names"
   ]
  },
  {
   "cell_type": "code",
   "execution_count": null,
   "metadata": {},
   "outputs": [],
   "source": [
    "len(fast5_names_contig_19)"
   ]
  },
  {
   "cell_type": "code",
   "execution_count": null,
   "metadata": {},
   "outputs": [],
   "source": [
    "len(fast5_names)"
   ]
  },
  {
   "cell_type": "code",
   "execution_count": null,
   "metadata": {},
   "outputs": [],
   "source": [
    "seq_sum_df.columns"
   ]
  },
  {
   "cell_type": "code",
   "execution_count": null,
   "metadata": {},
   "outputs": [],
   "source": [
    "seq_sum_df[seq_sum_df.read_id == read_1.query_name]['filename'].to_string().split(' ')[-1]"
   ]
  },
  {
   "cell_type": "code",
   "execution_count": null,
   "metadata": {
    "collapsed": true
   },
   "outputs": [],
   "source": []
  },
  {
   "cell_type": "code",
   "execution_count": null,
   "metadata": {
    "collapsed": true
   },
   "outputs": [],
   "source": [
    "fast5_mapped = os.path.join(DIRS[\"FAST5_OUT\"],'pcontig_019_aln_fast5.tar.gz')"
   ]
  },
  {
   "cell_type": "code",
   "execution_count": null,
   "metadata": {
    "collapsed": true
   },
   "outputs": [],
   "source": [
    "#make iteration with all mapped fast5"
   ]
  },
  {
   "cell_type": "code",
   "execution_count": null,
   "metadata": {
    "collapsed": true
   },
   "outputs": [],
   "source": [
    "\n"
   ]
  },
  {
   "cell_type": "code",
   "execution_count": null,
   "metadata": {},
   "outputs": [],
   "source": [
    "make_tarfile(fast5_mapped, contig_19_fast5s_fh)"
   ]
  },
  {
   "cell_type": "code",
   "execution_count": null,
   "metadata": {
    "collapsed": true
   },
   "outputs": [],
   "source": []
  },
  {
   "cell_type": "code",
   "execution_count": null,
   "metadata": {
    "collapsed": true
   },
   "outputs": [],
   "source": []
  },
  {
   "cell_type": "code",
   "execution_count": null,
   "metadata": {
    "collapsed": true
   },
   "outputs": [],
   "source": [
    "test_fastq = pysam.FastxFile(fastq_out_fh)"
   ]
  },
  {
   "cell_type": "code",
   "execution_count": null,
   "metadata": {
    "collapsed": true
   },
   "outputs": [],
   "source": [
    "for entry in test_fastq:\n",
    "    print(entry.name)"
   ]
  },
  {
   "cell_type": "code",
   "execution_count": null,
   "metadata": {
    "collapsed": true
   },
   "outputs": [],
   "source": [
    "test_fastq.close()"
   ]
  },
  {
   "cell_type": "code",
   "execution_count": null,
   "metadata": {
    "collapsed": true
   },
   "outputs": [],
   "source": []
  },
  {
   "cell_type": "code",
   "execution_count": null,
   "metadata": {
    "collapsed": true
   },
   "outputs": [],
   "source": []
  },
  {
   "cell_type": "code",
   "execution_count": null,
   "metadata": {
    "collapsed": true
   },
   "outputs": [],
   "source": [
    "read_1 = contig_19_reads[0]"
   ]
  },
  {
   "cell_type": "code",
   "execution_count": null,
   "metadata": {},
   "outputs": [],
   "source": [
    "len(read_1.seq) == len(read_1.qual)"
   ]
  },
  {
   "cell_type": "code",
   "execution_count": null,
   "metadata": {
    "collapsed": true
   },
   "outputs": [],
   "source": [
    "read_1.qual"
   ]
  },
  {
   "cell_type": "code",
   "execution_count": null,
   "metadata": {
    "collapsed": true
   },
   "outputs": [],
   "source": [
    "fastq_out_fh = os.path.join(DIRS['FASTQ_OUT'], 'pcontig_019_aln.fastq')"
   ]
  },
  {
   "cell_type": "code",
   "execution_count": null,
   "metadata": {
    "collapsed": true
   },
   "outputs": [],
   "source": []
  },
  {
   "cell_type": "code",
   "execution_count": null,
   "metadata": {
    "collapsed": true
   },
   "outputs": [],
   "source": [
    "fastq_out = open(fastq_out_fh, mode='w')"
   ]
  },
  {
   "cell_type": "code",
   "execution_count": null,
   "metadata": {
    "collapsed": true
   },
   "outputs": [],
   "source": [
    "fastq_out.write(read_1.header)"
   ]
  },
  {
   "cell_type": "code",
   "execution_count": null,
   "metadata": {
    "collapsed": true
   },
   "outputs": [],
   "source": [
    "read_1.seq"
   ]
  },
  {
   "cell_type": "code",
   "execution_count": null,
   "metadata": {
    "collapsed": true
   },
   "outputs": [],
   "source": [
    "read_1.qual"
   ]
  },
  {
   "cell_type": "code",
   "execution_count": null,
   "metadata": {},
   "outputs": [],
   "source": [
    "read_1.header"
   ]
  },
  {
   "cell_type": "code",
   "execution_count": null,
   "metadata": {},
   "outputs": [],
   "source": [
    "read_1.qname"
   ]
  },
  {
   "cell_type": "code",
   "execution_count": null,
   "metadata": {},
   "outputs": [],
   "source": [
    "read_1.query_name"
   ]
  },
  {
   "cell_type": "code",
   "execution_count": null,
   "metadata": {
    "collapsed": true
   },
   "outputs": [],
   "source": [
    "read_1.qqual"
   ]
  },
  {
   "cell_type": "code",
   "execution_count": null,
   "metadata": {
    "collapsed": true
   },
   "outputs": [],
   "source": [
    "read_1.query_sequence"
   ]
  },
  {
   "cell_type": "code",
   "execution_count": null,
   "metadata": {
    "collapsed": true
   },
   "outputs": [],
   "source": [
    "read_1.query"
   ]
  },
  {
   "cell_type": "code",
   "execution_count": null,
   "metadata": {
    "collapsed": true
   },
   "outputs": [],
   "source": [
    "for read in contig_19_reads:\n",
    "    print('@%s' % read.query_name, file=fastq_out)\n",
    "    print('%s' % read.query, file=fastq_out)\n",
    "    print('+', file=fastq_out)\n",
    "    print('%s' % read.qqual, file=fastq_out)"
   ]
  },
  {
   "cell_type": "code",
   "execution_count": null,
   "metadata": {
    "collapsed": true
   },
   "outputs": [],
   "source": [
    "fastq_out.close()"
   ]
  },
  {
   "cell_type": "code",
   "execution_count": null,
   "metadata": {},
   "outputs": [],
   "source": [
    "len(contig_19_reads)"
   ]
  },
  {
   "cell_type": "code",
   "execution_count": null,
   "metadata": {
    "collapsed": true
   },
   "outputs": [],
   "source": []
  }
 ],
 "metadata": {
  "kernelspec": {
   "display_name": "Python 3",
   "language": "python",
   "name": "python3"
  },
  "language_info": {
   "codemirror_mode": {
    "name": "ipython",
    "version": 3
   },
   "file_extension": ".py",
   "mimetype": "text/x-python",
   "name": "python",
   "nbconvert_exporter": "python",
   "pygments_lexer": "ipython3",
   "version": "3.6.4"
  }
 },
 "nbformat": 4,
 "nbformat_minor": 2
}
