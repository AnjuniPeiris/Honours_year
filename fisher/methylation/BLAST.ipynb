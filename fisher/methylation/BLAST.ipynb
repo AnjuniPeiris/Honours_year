{
 "cells": [
  {
   "cell_type": "markdown",
   "metadata": {},
   "source": [
    "# <span style=\"color:deeppink\"> BLAST <span/>"
   ]
  },
  {
   "cell_type": "markdown",
   "metadata": {},
   "source": [
    "This is a script to run a BLAST search on highly conserved methylation machinery in humans, plants and fungi against the Pst annotated proteins.\n",
    "\n",
    "The following proteins will be compared:\n",
    "\n",
    "- In fungi:\n",
    "    - RAD8\n",
    "    - DNMT1/MASC2\n",
    "    - DNMT2\n",
    "\n",
    "- In plants (At)\n",
    "    - MET1 AT5G49160\n",
    "    - CMT3 AT1G69770\n",
    "    - DRM2 AT5G14620\n",
    "\n",
    "- In humans\n",
    "    - DNMT1\n",
    "    \n",
    "The BLAST will be performed using the following steps:\n",
    "1. Copy the protein fasta files to the current folder.\n",
    "2. Copy the amino acid sequence fasta from the database to a .txt file in the current directory.\n",
    "3. Run blastdb to make databases from protein fasta files.\n",
    "4. Use blastp to align each protein sequence query against each genome file and generate output.\n",
    "5. Check whether any high scoring pairs (HSP) are in Pst for any genes.\n",
    "6. Run muscle for global alignment between HSP Pst proteins and query proteins.\n",
    "7. Check whether important domains annotated on the online database entry are present in the Pst candidate protein."
   ]
  },
  {
   "cell_type": "code",
   "execution_count": null,
   "metadata": {},
   "outputs": [],
   "source": []
  },
  {
   "cell_type": "code",
   "execution_count": null,
   "metadata": {},
   "outputs": [],
   "source": [
    "%%bash\n",
    "\n",
    "#make blast databases from protein files\n",
    "makeblastdb -in Pst_104E_v13_h_ctg.protein.fa -dbtype prot\n",
    "makeblastdb -in Pst_104E_v13_p_ctg.protein.fa -dbtype prot\n"
   ]
  },
  {
   "cell_type": "code",
   "execution_count": null,
   "metadata": {},
   "outputs": [],
   "source": [
    "%%bash\n",
    "\n",
    "#run blast on rad8 as a test and view output\n",
    "blastp -db Pst_104E_v13_h_ctg.protein.fa -query rad8.txt\n"
   ]
  },
  {
   "cell_type": "code",
   "execution_count": null,
   "metadata": {},
   "outputs": [],
   "source": [
    "%%bash\n",
    "\n",
    "#test out muscle to perform global alignment\n",
    "muscle -h"
   ]
  }
 ],
 "metadata": {
  "kernelspec": {
   "display_name": "Python 3",
   "language": "python",
   "name": "python3"
  },
  "language_info": {
   "codemirror_mode": {
    "name": "ipython",
    "version": 3
   },
   "file_extension": ".py",
   "mimetype": "text/x-python",
   "name": "python",
   "nbconvert_exporter": "python",
   "pygments_lexer": "ipython3",
   "version": "3.6.4"
  }
 },
 "nbformat": 4,
 "nbformat_minor": 2
}
