{
 "cells": [
  {
   "cell_type": "markdown",
   "metadata": {},
   "source": [
    "# <span style=\"color:#ff1414\"> BEDtools analysis. </span>\n",
    "\n",
    "This is a script to answer research questions outlined elsewhere. In summary, this script:\n",
    "\n",
    "1. compares methylation results between different methylation-callers, and between different methylation sequencing methods.\n",
    "\n",
    "2. make files for different cutoffs of methylation accuracy\n",
    "\n",
    "\n",
    "Note:\n",
    "- PB/pb = PacBio\n",
    "- ONT/ont = Oxford Nanopore Technology\n",
    "- NP = Nanopolish"
   ]
  },
  {
   "cell_type": "code",
   "execution_count": 4,
   "metadata": {},
   "outputs": [],
   "source": [
    "import pybedtools\n",
    "from pybedtools import BedTool\n",
    "\n",
    "\n",
    "#import numpy \n",
    "\n",
    "\n",
    "import matplotlib.patches as mpatches\n",
    "\n",
    " # need for  stats\n",
    "\n",
    "from scipy.stats import wilcoxon\n",
    "from scipy.stats import spearmanr"
   ]
  },
  {
   "cell_type": "code",
   "execution_count": 49,
   "metadata": {},
   "outputs": [],
   "source": [
    "# load modules\n",
    "import os\n",
    "import glob\n",
    "import matplotlib.pyplot as plt\n",
    "from matplotlib_venn import venn2\n",
    "import pprint\n",
    "import pandas as pd\n",
    "import numpy as np\n",
    "from pybedtools import BedTool\n",
    "import scipy\n",
    "from scipy.stats import fisher_exact"
   ]
  },
  {
   "cell_type": "code",
   "execution_count": 3,
   "metadata": {},
   "outputs": [],
   "source": [
    "DIRS['WINDOW_OUTPUT'] = os.path.join(DIRS['BASE2'], 'windows')\n",
    "DIRS['WINDOW_INPUT'] = os.path.join(DIRS['BASE2'], 'input_for_windows')\n",
    "DIRS['REF'] = '/home/anjuni/Pst_104_v13_assembly/'\n",
    "\n",
    "DIRS['COVERAGE'] = os.path.join(DIRS['BASE2'], 'coverage')\n",
    "DIRS['TE_SF'] = os.path.join(DIRS['COVERAGE'], 'superfamily_files')\n",
    "DIRS['RNA'] = os.path.join(DIRS['BASE2'], 'rna_counts')\n",
    "DIRS['edgeR'] = os.path.join(DIRS['RNA'], 'edgeR_output')\n",
    "DIRS['TRIALS'] = os.path.join(DIRS['RNA'], 'trials_tsv')\n",
    "DIRS['MEAN_STD'] = os.path.join(DIRS['RNA'], 'average_and_stdev')\n",
    "DIRS['GENE'] = os.path.join(DIRS['COVERAGE'], 'gene_level')\n",
    "DIRS['GENE_ANNO'] = os.path.join(DIRS['GENE'], 'gene_anno')\n",
    "DIRS['BOTH_U_D'] = os.path.join(DIRS['GENE'], 'both_upstream_downstream')\n",
    "DIRS['DOWN_STR'] = os.path.join(DIRS['GENE'], 'downstream')\n",
    "DIRS['UP_STR'] = os.path.join(DIRS['GENE'], 'upstream')\n",
    "DIRS['TSS'] = os.path.join(DIRS['GENE'], 'tss_6mA_only')"
   ]
  },
  {
   "cell_type": "code",
   "execution_count": 50,
   "metadata": {},
   "outputs": [],
   "source": [
    "#First we need to define the base dirs\n",
    "DIRS ={}\n",
    "DIRS['BASE1'] = '/home/anjuni/methylation_calling/pacbio'\n",
    "DIRS['BASE2'] = '/home/anjuni/analysis'\n",
    "DIRS['BED_INPUT'] = os.path.join(DIRS['BASE2'], 'bedtools_output', 'sequencing_comparison')\n",
    "DIRS['GFF_INPUT'] = os.path.join(DIRS['BASE2'], 'gff_output')\n",
    "DIRS['FIGURES'] = os.path.join(DIRS['BASE2'], 'figures')\n",
    "DIRS['FEATURES'] = os.path.join(DIRS['BASE2'], 'coverage', 'feature_files')\n",
    "DIRS['RAND'] = os.path.join(DIRS['BASE2'], 'coverage', 'randomisation')\n",
    "DIRS['I_FROM_C'] = os.path.join(DIRS['BASE2'], 'bedtools_output', 'intersects_from_cutoffs')\n",
    "DIRS['BED_CUTOFFS'] = os.path.join(DIRS['BASE1'], 'input', 'sorted_bed_files', 'cutoffs')\n",
    "DIRS['6MA_CUTOFFS'] = os.path.join(DIRS['BASE1'], 'input', 'sorted_bed_files', 'cutoffs_6mA')\n",
    "DIRS['5MC_CUTOFFS'] = os.path.join(DIRS['BASE1'], 'input', 'sorted_bed_files', 'cutoffs_5mC')"
   ]
  },
  {
   "cell_type": "code",
   "execution_count": 8,
   "metadata": {},
   "outputs": [
    {
     "name": "stdout",
     "output_type": "stream",
     "text": [
      "/home/anjuni/methylation_calling/pacbio/input/sorted_bed_files/cutoffs does not exist\n"
     ]
    }
   ],
   "source": [
    "#Quick chech if directories exist\n",
    "for value in DIRS.values():\n",
    "    if not os.path.exists(value):\n",
    "        print('%s does not exist' % value)"
   ]
  },
  {
   "cell_type": "code",
   "execution_count": 79,
   "metadata": {},
   "outputs": [],
   "source": [
    "#Make filepaths\n",
    "bed_file_list = [fn for fn in glob.iglob('%s/*.bed' % DIRS['BED_INPUT'], recursive=True)]\n",
    "gff_file_list = [fn for fn in glob.iglob('%s/*anno.gff3' % DIRS['GFF_INPUT'], recursive=True)]\n",
    "te_file_list = [fn for fn in glob.iglob('%s/*.gff' % DIRS['GFF_INPUT'], recursive=True)]"
   ]
  },
  {
   "cell_type": "code",
   "execution_count": 80,
   "metadata": {
    "collapsed": true
   },
   "outputs": [
    {
     "name": "stdout",
     "output_type": "stream",
     "text": [
      "/home/anjuni/analysis/bedtools_output/sequencing_comparison/5mC_plus_tombo_sorted.bed\n",
      "/home/anjuni/analysis/bedtools_output/sequencing_comparison/5mC_CpG_tombo_np.bed\n",
      "/home/anjuni/analysis/bedtools_output/sequencing_comparison/5mC_tombo_np.bed\n",
      "/home/anjuni/analysis/bedtools_output/sequencing_comparison/5mC_plus_CpG_np_tombo.bed\n",
      "/home/anjuni/analysis/bedtools_output/sequencing_comparison/5mC_hc_tombo_sorted.CpG.plus.bed\n",
      "/home/anjuni/analysis/bedtools_output/sequencing_comparison/5mC_s_nanopolish.bed\n",
      "/home/anjuni/analysis/bedtools_output/sequencing_comparison/nanopolish_rerun_subtract.bed\n",
      "/home/anjuni/analysis/bedtools_output/sequencing_comparison/5mC_hc_nanopolish_sorted.bed\n",
      "/home/anjuni/analysis/bedtools_output/sequencing_comparison/5mC_plus_CpG_tombo_np.bed\n",
      "/home/anjuni/analysis/bedtools_output/sequencing_comparison/nano_plus_tombo_overlap.bed\n",
      "/home/anjuni/analysis/bedtools_output/sequencing_comparison/5mC_tombo_sorted.bed\n",
      "/home/anjuni/analysis/bedtools_output/sequencing_comparison/5mC_minus_tombo_sorted.bed\n",
      "/home/anjuni/analysis/bedtools_output/sequencing_comparison/5mC_nanopolish_sorted.bed\n",
      "/home/anjuni/analysis/bedtools_output/sequencing_comparison/5mC_rerun_s_nanopolish.bed\n",
      "/home/anjuni/analysis/bedtools_output/sequencing_comparison/5mC_hc_tombo_sorted.bed\n",
      "/home/anjuni/analysis/bedtools_output/sequencing_comparison/6mA_tombo_sorted.bed\n",
      "/home/anjuni/analysis/bedtools_output/sequencing_comparison/5mC_hc_tombo_sorted.CpG.bed\n",
      "/home/anjuni/analysis/bedtools_output/sequencing_comparison/5mC_CpG_np_tombo.bed\n",
      "/home/anjuni/analysis/bedtools_output/sequencing_comparison/6mA_hc_tombo_sorted.bed\n",
      "/home/anjuni/analysis/bedtools_output/sequencing_comparison/nano_minus_tombo_overlap.bed\n",
      "/home/anjuni/analysis/bedtools_output/sequencing_comparison/6mA_ont_pb.bed\n",
      "/home/anjuni/analysis/bedtools_output/sequencing_comparison/5mC_np_tombo.bed\n",
      "/home/anjuni/analysis/bedtools_output/sequencing_comparison/6mA_prob_smrtlink_sorted.bed\n",
      "/home/anjuni/analysis/gff_output/Pst_104E_v13_ph_ctg_combined_sorted_anno.gff3\n",
      "/home/anjuni/analysis/gff_output/Pst_104E_v13_p_ctg_combined_sorted_anno.gff3\n",
      "/home/anjuni/analysis/gff_output/Pst_104E_v13_h_ctg_combined_sorted_anno.gff3\n",
      "/home/anjuni/analysis/gff_output/Pst_104E_v13_h_ctg.REPET.sorted.filtered.superfamily.gff\n",
      "/home/anjuni/analysis/gff_output/Pst_104E_v13_p_ctg.REPET.sorted.filtered.superfamily.gff\n",
      "/home/anjuni/analysis/gff_output/Pst_104E_v13_ph_ctg.REPET.sorted.filtered.superfamily.gff\n"
     ]
    }
   ],
   "source": [
    "#Check that the list works\n",
    "print(*bed_file_list, sep='\\n')\n",
    "print(*gff_file_list, sep='\\n')\n",
    "print(*te_file_list, sep='\\n')"
   ]
  },
  {
   "cell_type": "markdown",
   "metadata": {},
   "source": [
    "## <span style='color:deeppink'> 1. Comparing methylation sequencing methods <span/>"
   ]
  },
  {
   "cell_type": "code",
   "execution_count": 8,
   "metadata": {},
   "outputs": [
    {
     "name": "stdout",
     "output_type": "stream",
     "text": [
      "/home/anjuni/methylation_calling/pacbio/input/sorted_bed_files/6mA_prob_smrtlink_sorted.bed\n",
      "/home/anjuni/methylation_calling/pacbio/input/sorted_bed_files/6mA_hc_tombo_sorted.bed\n"
     ]
    }
   ],
   "source": [
    "%%bash\n",
    "\n",
    "# find overlap between 6mA from PacBio and Nanopore for 6mA data\n",
    "\n",
    "pb=/home/anjuni/methylation_calling/pacbio/input/sorted_bed_files/6mA_prob_smrtlink_sorted.bed # use basecall accuracy instead of Phred score\n",
    "ont=/home/anjuni/methylation_calling/pacbio/input/sorted_bed_files/6mA_hc_tombo_sorted.bed # use sites with non-zero methylation\n",
    "\n",
    "out1=/home/anjuni/analysis/bedtools_output/sequencing_comparison/6mA_pb_ont.bed\n",
    "out2=/home/anjuni/analysis/bedtools_output/sequencing_comparison/6mA_ont_pb.bed\n",
    "\n",
    "echo $pb\n",
    "echo $ont\n",
    "\n",
    "bedtools intersect -a $pb -b $ont > $out1\n",
    "bedtools intersect -a $ont -b $pb > $out2"
   ]
  },
  {
   "cell_type": "code",
   "execution_count": 9,
   "metadata": {},
   "outputs": [],
   "source": [
    "# Function to count the number of sites in each file\n",
    "def count_sites(file_list):\n",
    "    \"\"\"Outputs a dictionary of each cutoff file and the number of sites it has.\"\"\"\n",
    "    count_dict = {}\n",
    "    for file in file_list:\n",
    "        with open(file) as in_file:\n",
    "            count = 0\n",
    "            for line in in_file:\n",
    "                count += 1\n",
    "        count_dict[file.split('/')[-1]] = count\n",
    "    return count_dict"
   ]
  },
  {
   "cell_type": "code",
   "execution_count": 81,
   "metadata": {},
   "outputs": [],
   "source": [
    "#check how many overlapping sites there were\n",
    "tech_overlap_dict = count_sites(bed_file_list)"
   ]
  },
  {
   "cell_type": "code",
   "execution_count": 82,
   "metadata": {},
   "outputs": [
    {
     "data": {
      "text/plain": [
       "{'5mC_CpG_np_tombo.bed': 3708640,\n",
       " '5mC_CpG_tombo_np.bed': 3708640,\n",
       " '5mC_hc_nanopolish_sorted.bed': 3783438,\n",
       " '5mC_hc_tombo_sorted.CpG.bed': 5167951,\n",
       " '5mC_hc_tombo_sorted.CpG.plus.bed': 5167951,\n",
       " '5mC_hc_tombo_sorted.bed': 67308386,\n",
       " '5mC_minus_tombo_sorted.bed': 34272921,\n",
       " '5mC_nanopolish_sorted.bed': 5302131,\n",
       " '5mC_np_tombo.bed': 1681653,\n",
       " '5mC_plus_CpG_np_tombo.bed': 3708640,\n",
       " '5mC_plus_CpG_tombo_np.bed': 3708640,\n",
       " '5mC_plus_tombo_sorted.bed': 34263097,\n",
       " '5mC_rerun_s_nanopolish.bed': 5302131,\n",
       " '5mC_s_nanopolish.bed': 5302131,\n",
       " '5mC_tombo_np.bed': 1681653,\n",
       " '5mC_tombo_sorted.bed': 68536018,\n",
       " '6mA_hc_tombo_sorted.bed': 83451878,\n",
       " '6mA_ont_pb.bed': 84733,\n",
       " '6mA_prob_smrtlink_sorted.bed': 88932,\n",
       " '6mA_tombo_sorted.bed': 85779879,\n",
       " 'nano_minus_tombo_overlap.bed': 0,\n",
       " 'nano_plus_tombo_overlap.bed': 5221309,\n",
       " 'nanopolish_rerun_subtract.bed': 0}"
      ]
     },
     "execution_count": 82,
     "metadata": {},
     "output_type": "execute_result"
    }
   ],
   "source": [
    "tech_overlap_dict"
   ]
  },
  {
   "cell_type": "code",
   "execution_count": 27,
   "metadata": {},
   "outputs": [
    {
     "name": "stdout",
     "output_type": "stream",
     "text": [
      "Total adenine sites: \t 85779879\n",
      "Nanopore 6mA sites: \t 83451878\n",
      "PacBio 6mA sites: \t 88932\n",
      "Overlapping 6mA sites: \t 84733\n"
     ]
    }
   ],
   "source": [
    "#check how many overlapping sites there were\n",
    "print('Total adenine sites:', '\\t', tech_overlap_dict['6mA_tombo_sorted.bed'])\n",
    "print('Nanopore 6mA sites:', '\\t', tech_overlap_dict['6mA_hc_tombo_sorted.bed'])\n",
    "print('PacBio 6mA sites:', '\\t', tech_overlap_dict['6mA_prob_smrtlink_sorted.bed'])\n",
    "print('Overlapping 6mA sites:', '\\t', tech_overlap_dict['6mA_ont_pb.bed'])"
   ]
  },
  {
   "cell_type": "code",
   "execution_count": 45,
   "metadata": {},
   "outputs": [
    {
     "name": "stdout",
     "output_type": "stream",
     "text": [
      "Percentage overlap between PacBio and Nanopore as a proportion of PB sites: \t 95.278%\n",
      "Percentage overlap between PacBio and Nanopore as a proportation of ONT sites: \t 0.102%\n",
      "Percentage overlap between PacBio and Nanopore as a proportion of adenine: \t 0.099%\n",
      "PacBio sites as a proportion of adenine: \t 0.104%\n",
      "Nanopore sites as a proportion of adenine: \t 97.286%\n"
     ]
    }
   ],
   "source": [
    "# Descriptive Statistics\n",
    "print('Percentage overlap between PacBio and Nanopore as a proportion of PB sites:', '\\t', \"{0:.3f}%\".format(100*tech_overlap_dict['6mA_ont_pb.bed']/tech_overlap_dict['6mA_prob_smrtlink_sorted.bed']))\n",
    "print('Percentage overlap between PacBio and Nanopore as a proportation of ONT sites:', '\\t', \"{0:.3f}%\".format(100*tech_overlap_dict['6mA_ont_pb.bed']/tech_overlap_dict['6mA_hc_tombo_sorted.bed']))\n",
    "print('Percentage overlap between PacBio and Nanopore as a proportion of adenine:', '\\t', \"{0:.3f}%\".format(100*tech_overlap_dict['6mA_ont_pb.bed']/tech_overlap_dict['6mA_tombo_sorted.bed']))\n",
    "print('PacBio sites as a proportion of adenine:', '\\t', \"{0:.3f}%\".format(100*tech_overlap_dict['6mA_prob_smrtlink_sorted.bed']/tech_overlap_dict['6mA_tombo_sorted.bed']))\n",
    "print('Nanopore sites as a proportion of adenine:', '\\t', \"{0:.3f}%\".format(100*tech_overlap_dict['6mA_hc_tombo_sorted.bed']/tech_overlap_dict['6mA_tombo_sorted.bed']))"
   ]
  },
  {
   "cell_type": "markdown",
   "metadata": {},
   "source": [
    "#### <span style='color:deeppink'> Observations <span/>\n",
    "\n",
    "Very high similarity between Nanopore and PacBio, when compared to PacBio. But PacBio sites are only a small fraction of Tombo sites, and only include highly accurate sites.\n",
    "\n",
    "When overlapping PacBio and all Nanopore (Tombo) sites, which are all adenines in the genome, there was a higher overlap (88932) than when overlapping only non-zero PB and ONT sites (84733). This indicates PB detected sites that Nanopore did not, and these were high probability sites that were missed, as PB only had high probability (>99% basecall accuracy) sites.\n",
    "\n",
    "There are also more overlapped sites when using the zero-probability sites from tombo, compared to only using only high confidence sites from both. This also suggests that Tombo/Nanopore had missed some methylated sites. In addition, Tombo is likely to have a high rate of false positives, as it detected 97% of adenines as methylated."
   ]
  },
  {
   "cell_type": "markdown",
   "metadata": {},
   "source": [
    "## <span style='color:#ff14ff'> 2. Comparing methylation detection methods <span/>"
   ]
  },
  {
   "cell_type": "code",
   "execution_count": 3,
   "metadata": {},
   "outputs": [
    {
     "name": "stdout",
     "output_type": "stream",
     "text": [
      "/home/anjuni/methylation_calling/pacbio/input/sorted_bed_files/5mC_hc_nanopolish_sorted.bed\n",
      "/home/anjuni/methylation_calling/pacbio/input/sorted_bed_files/5mC_hc_tombo_sorted.bed\n"
     ]
    }
   ],
   "source": [
    "%%bash\n",
    "\n",
    "# compare overlap between Tombo and Nanopolish for 5mC data\n",
    "np=/home/anjuni/methylation_calling/pacbio/input/sorted_bed_files/5mC_hc_nanopolish_sorted.bed\n",
    "tombo=/home/anjuni/methylation_calling/pacbio/input/sorted_bed_files/5mC_hc_tombo_sorted.bed\n",
    "\n",
    "out1=/home/anjuni/analysis/bedtools_output/sequencing_comparison/5mC_np_tombo.bed\n",
    "out2=/home/anjuni/analysis/bedtools_output/sequencing_comparison/5mC_tombo_np.bed\n",
    "\n",
    "echo $np\n",
    "echo $tombo\n",
    "\n",
    "bedtools intersect -a $np -b $tombo > $out1\n",
    "bedtools intersect -a $tombo -b $np > $out2"
   ]
  },
  {
   "cell_type": "code",
   "execution_count": 52,
   "metadata": {},
   "outputs": [
    {
     "name": "stdout",
     "output_type": "stream",
     "text": [
      "Total cytosine sites: \t 68536018\n",
      "Total CpG sites: \t 5302131\n",
      "Tombo 5mC sites: \t 67308386\n",
      "Nanopolish 5mC sites: \t 3783438\n",
      "Overlapping 5mC sites: \t 1681653\n"
     ]
    }
   ],
   "source": [
    "#check how many overlapping sites there were\n",
    "print('Total cytosine sites:', '\\t', tech_overlap_dict['5mC_tombo_sorted.bed'])\n",
    "print('Total CpG sites:', '\\t', tech_overlap_dict['5mC_nanopolish_sorted.bed'])\n",
    "print('Tombo 5mC sites:', '\\t', tech_overlap_dict['5mC_hc_tombo_sorted.bed'])\n",
    "print('Nanopolish 5mC sites:', '\\t', tech_overlap_dict['5mC_hc_nanopolish_sorted.bed'])\n",
    "print('Overlapping 5mC sites:', '\\t', tech_overlap_dict['5mC_tombo_np.bed'])"
   ]
  },
  {
   "cell_type": "code",
   "execution_count": 58,
   "metadata": {},
   "outputs": [
    {
     "name": "stdout",
     "output_type": "stream",
     "text": [
      "Percentage overlap between Tombo and Nanopolish as a proportion of Nanopolish sites: \t 44.448%\n",
      "Percentage overlap between Tombo and Nanopolish as a proportation of Tombo sites: \t 2.498%\n",
      "Percentage of overlap between Tombo and Nanopolish as a proportion of CpG sites: \t 31.717%\n",
      "Percentage overlap between Tombo and Nanopolish as a proportion of cytosine: \t 2.454%\n",
      "Nanopolish sites as a proportion of CpG sites: \t 71.357%\n",
      "Tombo sites as a proportion of cytosine: \t 98.209%\n",
      "Nanopolish sites as a proportion of cytosine: \t 5.520%\n"
     ]
    }
   ],
   "source": [
    "# Descriptive Statistics\n",
    "print('Percentage overlap between Tombo and Nanopolish as a proportion of Nanopolish sites:', '\\t', \"{0:.3f}%\".format(100*tech_overlap_dict['5mC_tombo_np.bed']/tech_overlap_dict['5mC_hc_nanopolish_sorted.bed']))\n",
    "print('Percentage overlap between Tombo and Nanopolish as a proportation of Tombo sites:', '\\t', \"{0:.3f}%\".format(100*tech_overlap_dict['5mC_tombo_np.bed']/tech_overlap_dict['5mC_hc_tombo_sorted.bed']))\n",
    "print('Percentage of overlap between Tombo and Nanopolish as a proportion of CpG sites:', '\\t', \"{0:.3f}%\".format(100*tech_overlap_dict['5mC_tombo_np.bed']/tech_overlap_dict['5mC_nanopolish_sorted.bed']))\n",
    "print('Percentage overlap between Tombo and Nanopolish as a proportion of cytosine:', '\\t', \"{0:.3f}%\".format(100*tech_overlap_dict['5mC_tombo_np.bed']/tech_overlap_dict['5mC_tombo_sorted.bed']))\n",
    "print('Nanopolish sites as a proportion of CpG sites:', '\\t', \"{0:.3f}%\".format(100*tech_overlap_dict['5mC_hc_nanopolish_sorted.bed']/tech_overlap_dict['5mC_nanopolish_sorted.bed']))\n",
    "print('Tombo sites as a proportion of cytosine:', '\\t', \"{0:.3f}%\".format(100*tech_overlap_dict['5mC_hc_tombo_sorted.bed']/tech_overlap_dict['5mC_tombo_sorted.bed']))\n",
    "print('Nanopolish sites as a proportion of cytosine:', '\\t', \"{0:.3f}%\".format(100*tech_overlap_dict['5mC_hc_nanopolish_sorted.bed']/tech_overlap_dict['5mC_tombo_sorted.bed']))"
   ]
  },
  {
   "cell_type": "markdown",
   "metadata": {},
   "source": [
    "#### <span style='color:#ff14ff'> Observations <span/>\n",
    "While adenine methylation had high similarity between ONT and PB, cytosine methylation had only 44% similarity between NP and tombo. This is likely because NP only has CpG sites, and Tombo has all cytosine sites, so Tombo will detect far more potentially methylated sites, even those that are not CpG sites, so it will have far more sites than NP to begin with.\n",
    "Again, Tombo is likely to have a high amount of false positives, as 98% of cytosines are methylated. Nanopolish has 71% CpG methylation, which is similar to the CpG methylation rate in mammals, which is 70-80% (Jabbari & Bernardi, 2004). Therefore, Nanopolish is likely to be more accurate than Tombo.\n",
    "The overlap between Tombo and Nanopolish suggests only a 2.5% rate of cytosine methylation, which is half the 5% cytosine methylation rate detected by Brar et al. (2018).\n",
    "\n",
    "-source: https://www.sciencedirect.com/science/article/pii/S0378111904000836?via%3Dihub (Jabbari & Bernardi, 2004)"
   ]
  },
  {
   "cell_type": "markdown",
   "metadata": {},
   "source": [
    "### <span style='color:#ff14ff'> 2.A Comparing CpG site methylation. <span/>"
   ]
  },
  {
   "cell_type": "code",
   "execution_count": 60,
   "metadata": {},
   "outputs": [
    {
     "name": "stdout",
     "output_type": "stream",
     "text": [
      "CpG sites: \t 5302131\n",
      "Cytosine sites: 68536018\n"
     ]
    }
   ],
   "source": [
    "#check how many cytosine sites and CpG sites there are\n",
    "print('CpG sites:', '\\t', tech_overlap_dict['5mC_nanopolish_sorted.bed'])\n",
    "print('Cytosine sites:', tech_overlap_dict['5mC_tombo_sorted.bed'])"
   ]
  },
  {
   "cell_type": "code",
   "execution_count": 61,
   "metadata": {},
   "outputs": [
    {
     "name": "stdout",
     "output_type": "stream",
     "text": [
      "Percentage of CpG sites as a proportion of cytosine sites: 7.736%\n"
     ]
    }
   ],
   "source": [
    "# Descriptive Statistics\n",
    "print('Percentage of CpG sites as a proportion of cytosine sites:', \"{0:.3f}%\".format(100*tech_overlap_dict['5mC_nanopolish_sorted.bed']/tech_overlap_dict['5mC_tombo_sorted.bed']))"
   ]
  },
  {
   "cell_type": "markdown",
   "metadata": {},
   "source": [
    "#### <span style='color:#ff14ff'> Solution <span/>\n",
    "1. Make a file of methylated CpG sites detected by Tombo.\n",
    "2. Intersect this with methylated (CpG) sites detected by Nanopolish.\n",
    "\n",
    "I will be overlapping CpG sites from Tombo and NP, because NP only has CpG sites and Tombo has all cytosine sites.\n",
    "So from the start, the overlap wouldn't have been accurate, because tombo considers sites that NP does not."
   ]
  },
  {
   "cell_type": "code",
   "execution_count": null,
   "metadata": {},
   "outputs": [],
   "source": [
    "%%bash\n",
    "\n",
    "# make a file of CpG sites from tombo\n",
    "all_cpg=/home/anjuni/methylation_calling/pacbio/input/sorted_bed_files/5mC_nanopolish_sorted.bed\n",
    "all_tombo=/home/anjuni/methylation_calling/pacbio/input/sorted_bed_files/5mC_hc_tombo_sorted.bed\n",
    "tombo_cpg=/home/anjuni/methylation_calling/pacbio/input/sorted_bed_files/5mC_hc_tombo_sorted.CpG.bed\n",
    "\n",
    "bedtools intersect -a $all_tombo -b $all_cpg > $tombo_cpg"
   ]
  },
  {
   "cell_type": "code",
   "execution_count": null,
   "metadata": {},
   "outputs": [],
   "source": [
    "%%bash\n",
    "\n",
    "# intersect Tombo and NP CpG sites\n",
    "tombo_cpg=/home/anjuni/methylation_calling/pacbio/input/sorted_bed_files/5mC_hc_tombo_sorted.CpG.bed\n",
    "np_cpg=/home/anjuni/methylation_calling/pacbio/input/sorted_bed_files/5mC_hc_nanopolish_sorted.bed\n",
    "m_tombo_cpg=/home/anjuni/analysis/bedtools_output/sequencing_comparison/5mC_CpG_tombo_np.bed\n",
    "m_np_cpg=/home/anjuni/analysis/bedtools_output/sequencing_comparison/5mC_CpG_np_tombo.bed\n",
    "\n",
    "bedtools intersect -a $tombo_cpg -b $np_cpg > $m_tombo_cpg\n",
    "bedtools intersect -a $np_cpg -b $tombo_cpg > $m_np_cpg"
   ]
  },
  {
   "cell_type": "code",
   "execution_count": 77,
   "metadata": {},
   "outputs": [
    {
     "name": "stdout",
     "output_type": "stream",
     "text": [
      "Total CpG sites: \t 5302131\n",
      "Nanopolish methylated CpG sites: \t 3783438\n",
      "Tombo methylated CpG sites: \t 5167951\n",
      "Overlapping methylated CpG sites: \t 3708640\n"
     ]
    }
   ],
   "source": [
    "#check how many overlapping sites there were\n",
    "print('Total CpG sites:', '\\t', tech_overlap_dict['5mC_nanopolish_sorted.bed'])\n",
    "print('Nanopolish methylated CpG sites:', '\\t', tech_overlap_dict['5mC_hc_nanopolish_sorted.bed'])\n",
    "print('Tombo methylated CpG sites:', '\\t', tech_overlap_dict['5mC_hc_tombo_sorted.CpG.bed'])\n",
    "print('Overlapping methylated CpG sites:', '\\t', tech_overlap_dict['5mC_CpG_tombo_np.bed'])"
   ]
  },
  {
   "cell_type": "code",
   "execution_count": 74,
   "metadata": {},
   "outputs": [
    {
     "name": "stdout",
     "output_type": "stream",
     "text": [
      "Percentage overlap between Tombo and Nanopolish as a proportion of NP CpG sites: \t 98.023%\n",
      "Percentage overlap between Tombo and Nanopolish as a proportation of Tombo CpG sites: \t 71.762%\n",
      "Percentage of CpG sites methylated: \t 69.946%\n"
     ]
    }
   ],
   "source": [
    "# Descriptive Statistics\n",
    "print('Percentage overlap between Tombo and Nanopolish as a proportion of NP CpG sites:', '\\t', \"{0:.3f}%\".format(100*tech_overlap_dict['5mC_CpG_tombo_np.bed']/tech_overlap_dict['5mC_hc_nanopolish_sorted.bed']))\n",
    "print('Percentage overlap between Tombo and Nanopolish as a proportation of Tombo CpG sites:', '\\t', \"{0:.3f}%\".format(100*tech_overlap_dict['5mC_CpG_tombo_np.bed']/tech_overlap_dict['5mC_hc_tombo_sorted.CpG.bed']))\n",
    "print('Percentage of overlapping CpG sites methylated:', '\\t', \"{0:.3f}%\".format(100*tech_overlap_dict['5mC_CpG_tombo_np.bed']/tech_overlap_dict['5mC_nanopolish_sorted.bed']))"
   ]
  },
  {
   "cell_type": "markdown",
   "metadata": {},
   "source": [
    "#### <span style='color:#ff14ff'> Observations <span/>\n",
    "While the overlap between Tombo and NP changed to 98% after only comparing CpG sites, the nearly 50% overlap when comparing cytosine methylation may be because NP only considers one strand while Tombo considers both.\n",
    "The Tombo cpG site was generated by intersecting Tombo methylated sites with all Nanopolish sites, which are all CpG sites.\n",
    "\n",
    "This may be resolved by using only the plus file from Tombo and comparing its results to NP."
   ]
  },
  {
   "cell_type": "markdown",
   "metadata": {},
   "source": [
    "### <span style='color:#ff14ff'> 2.B Test out whether Nanopolish only detects (+) strand <span/>\n",
    "Intersect tombo 5mC (-) strand file with nanopolish file to see if there is overlap. Then intersect the tombo (+) strand with nanopolish.\n",
    "\n",
    "The 44% match may just be because I, for some reason, put all the nanopolish sites as (+) strand when making the original BED file :P"
   ]
  },
  {
   "cell_type": "code",
   "execution_count": 147,
   "metadata": {},
   "outputs": [],
   "source": [
    "%%bash\n",
    "\n",
    "#Sort the initial tombo bed files, because they were not sorted and slowed down the intersection\n",
    "\n",
    "tombo_minus=/home/anjuni/methylation_calling/pacbio/input/bed_files/initial_bed_files/5mC_minus_tombo.bed\n",
    "tombo_plus=/home/anjuni/methylation_calling/pacbio/input/bed_files/initial_bed_files/5mC_plus_tombo.bed\n",
    "nanopolish=/home/anjuni/methylation_calling/pacbio/input/bed_files/5mC_s_nanopolish.bed\n",
    "\n",
    "sort_tombo_minus=/home/anjuni/methylation_calling/pacbio/input/bed_files/5mC_minus_tombo_sorted.bed\n",
    "sort_tombo_plus=/home/anjuni/methylation_calling/pacbio/input/bed_files/5mC_plus_tombo_sorted.bed\n",
    "\n",
    "sortBed -i $tombo_minus > $sort_tombo_minus\n",
    "sortBed -i $tombo_plus > $sort_tombo_plus"
   ]
  },
  {
   "cell_type": "code",
   "execution_count": 148,
   "metadata": {},
   "outputs": [],
   "source": [
    "%%bash\n",
    "\n",
    "#Intersect the (+) and (-) BED files with nanopolish file\n",
    "#to see whether Nanopolish has methylation-calls on both strands :)\n",
    "\n",
    "sort_tombo_minus=/home/anjuni/methylation_calling/pacbio/input/bed_files/5mC_minus_tombo_sorted.bed\n",
    "sort_tombo_plus=/home/anjuni/methylation_calling/pacbio/input/bed_files/5mC_plus_tombo_sorted.bed\n",
    "nanopolish=/home/anjuni/methylation_calling/pacbio/input/bed_files/5mC_s_nanopolish.bed\n",
    "\n",
    "intersectBed -a $nanopolish -b $sort_tombo_minus > /home/anjuni/methylation_calling/pacbio/input/bed_files/nano_minus_tombo_overlap.bed\n",
    "intersectBed -a $nanopolish -b $sort_tombo_plus > /home/anjuni/methylation_calling/pacbio/input/bed_files/nano_plus_tombo_overlap.bed"
   ]
  },
  {
   "cell_type": "code",
   "execution_count": 85,
   "metadata": {},
   "outputs": [
    {
     "name": "stdout",
     "output_type": "stream",
     "text": [
      "The number of CpG sites captured by Nanopolish: \t 5302131\n",
      "The number of overlapping (+) strand sites captured by Nanopolish and by Tombo: \t 5221309\n",
      "The number of overlapping (-) strand sites captured by Nanopolish and by Tombo: \t 0\n"
     ]
    }
   ],
   "source": [
    "#Compare the number of NP sites to Tombo sites on the forward and reverse strand\n",
    "\n",
    "print('The number of CpG sites captured by Nanopolish:', '\\t', tech_overlap_dict['5mC_nanopolish_sorted.bed'])\n",
    "print('The number of overlapping (+) strand sites captured by Nanopolish and by Tombo:', '\\t', tech_overlap_dict['nano_plus_tombo_overlap.bed'])\n",
    "print('The number of overlapping (-) strand sites captured by Nanopolish and by Tombo:', '\\t', tech_overlap_dict['nano_minus_tombo_overlap.bed'])"
   ]
  },
  {
   "cell_type": "code",
   "execution_count": 83,
   "metadata": {},
   "outputs": [
    {
     "name": "stdout",
     "output_type": "stream",
     "text": [
      "Percentage overlap between Nanopolish and Tombo (forward strand) as a proportion of NP sites: 98.476%\n"
     ]
    }
   ],
   "source": [
    "print('Percentage overlap between Nanopolish and Tombo (forward strand) as a proportion of NP sites:', \"{0:.3f}%\".format(100*tech_overlap_dict['nano_plus_tombo_overlap.bed']/tech_overlap_dict['5mC_nanopolish_sorted.bed']))"
   ]
  },
  {
   "cell_type": "markdown",
   "metadata": {},
   "source": [
    "There is a 98% similarity between Nanopolish sites and Tombo forward strand sites, but no similarity between Nanopolish sites and Tombo reverse strand sites, indicating that the 44% similarity between Nanopolish and Tombo from earlier was because Nanopolish only detected methylation on the forward strand.\n",
    "\n",
    "I am currently re-running Nanopolish methylation-calling in case there was a mistake in the code earlier, causing it to ignore the reverse strand. Re-running the test run for pcontig_109 showed no difference in output to the previous one. They had the same number of sites (46801) and had the same output for the first 10 lines and last 10 lines. Now I think there wasn't a mistake because I only copied the index files to a new folder to save them back to the output folder, while a copy of all index files remained in the original fastq folder. This allowed methylation-calling to continue.\n",
    "\n",
    "Based on these results, I will intersect the methylated forward strand CpG sites that Tombo detected with the the Nanopolish site, to ensure only related sites intersect :)"
   ]
  },
  {
   "cell_type": "code",
   "execution_count": 156,
   "metadata": {},
   "outputs": [],
   "source": [
    "%%bash\n",
    "\n",
    "#bedtools script to check nanopolish results\n",
    "#if the subtract file is empty, the initial nanopolish run was accurate\n",
    "\n",
    "nano1=/home/anjuni/methylation_calling/pacbio/input/bed_files/5mC_s_nanopolish.bed\n",
    "nano2=/home/anjuni/methylation_calling/pacbio/input/bed_files/5mC_rerun_s_nanopolish.bed\n",
    "nano1_2_sub=/home/anjuni/methylation_calling/pacbio/input/bed_files/nanopolish_rerun_subtract.bed\n",
    "\n",
    "bedtools subtract -a $nano1 -b $nano2 > $nano1_2_sub"
   ]
  },
  {
   "cell_type": "code",
   "execution_count": 86,
   "metadata": {},
   "outputs": [
    {
     "name": "stdout",
     "output_type": "stream",
     "text": [
      "Number of site differences between the original Nanopolish run and the re-run: \t 0\n"
     ]
    }
   ],
   "source": [
    "print('Number of site differences between the original Nanopolish run and the re-run:', '\\t', tech_overlap_dict['nanopolish_rerun_subtract.bed'])"
   ]
  },
  {
   "cell_type": "markdown",
   "metadata": {},
   "source": [
    "As there was no difference in sites between each Nanopolish run, the original run had no issues causing only the (+) strand to be detected and this issue is a result of the software."
   ]
  },
  {
   "cell_type": "markdown",
   "metadata": {},
   "source": [
    "### <span style='color:#ff14ff'> 2.C Finding overlap between forward strand CpG Sites. (Finally comparing methylation-callers.) <span/>"
   ]
  },
  {
   "cell_type": "code",
   "execution_count": 164,
   "metadata": {},
   "outputs": [],
   "source": [
    "%%bash\n",
    "\n",
    "#Make a tombo file with only forward strand CpG to match the Nanopolish data\n",
    "grep '+' /home/anjuni/methylation_calling/pacbio/input/sorted_bed_files/5mC_hc_tombo_sorted.CpG.bed > /home/anjuni/methylation_calling/pacbio/input/sorted_bed_files/5mC_hc_tombo_sorted.CpG.plus.bed\n",
    "\n",
    "#This file ended up being exactly the same as the original CpG file for Tombo, but this new file will be used for added detail"
   ]
  },
  {
   "cell_type": "code",
   "execution_count": 165,
   "metadata": {},
   "outputs": [
    {
     "name": "stdout",
     "output_type": "stream",
     "text": [
      "/home/anjuni/methylation_calling/pacbio/input/sorted_bed_files/5mC_hc_nanopolish_sorted.bed\n",
      "/home/anjuni/methylation_calling/pacbio/input/sorted_bed_files/5mC_hc_tombo_sorted.CpG.plus.bed\n"
     ]
    }
   ],
   "source": [
    "%%bash\n",
    "\n",
    "\n",
    "# compare overlap between Tombo and Nanopolish for forward strand CpG 5mC data\n",
    "np=/home/anjuni/methylation_calling/pacbio/input/sorted_bed_files/5mC_hc_nanopolish_sorted.bed\n",
    "tombo=/home/anjuni/methylation_calling/pacbio/input/sorted_bed_files/5mC_hc_tombo_sorted.CpG.plus.bed\n",
    "\n",
    "out1=/home/anjuni/analysis/bedtools_output/sequencing_comparison/5mC_plus_CpG_np_tombo.bed\n",
    "out2=/home/anjuni/analysis/bedtools_output/sequencing_comparison/5mC_plus_CpG_tombo_np.bed\n",
    "\n",
    "echo $np\n",
    "echo $tombo\n",
    "\n",
    "bedtools intersect -a $np -b $tombo > $out1\n",
    "bedtools intersect -a $tombo -b $np > $out2"
   ]
  },
  {
   "cell_type": "code",
   "execution_count": 87,
   "metadata": {},
   "outputs": [
    {
     "name": "stdout",
     "output_type": "stream",
     "text": [
      "The number of methylated CpG sites captured by Nanopolish: \t 3783438\n",
      "The number of methylated CpG sites captured by Tombo on the (+) strand: \t 5167951\n",
      "The number of overlapping methylated CpG sites captured by Nanopolish and Tombo on the (+) strand: \t 3708640\n"
     ]
    }
   ],
   "source": [
    "#Compare the number of (+) strand CpG NP sites to (+) strand CpG Tombo sites on the forward strand\n",
    "print('The number of methylated CpG sites captured by Nanopolish:', '\\t', tech_overlap_dict['5mC_hc_nanopolish_sorted.bed'])\n",
    "print('The number of methylated CpG sites captured by Tombo on the (+) strand:', '\\t', tech_overlap_dict['5mC_hc_tombo_sorted.CpG.plus.bed'])\n",
    "print('The number of overlapping methylated CpG sites captured by Nanopolish and Tombo on the (+) strand:', '\\t', tech_overlap_dict['5mC_plus_CpG_tombo_np.bed'])"
   ]
  },
  {
   "cell_type": "code",
   "execution_count": 88,
   "metadata": {},
   "outputs": [
    {
     "name": "stdout",
     "output_type": "stream",
     "text": [
      "Percentage overlap between Nanopolish and Tombo (+ strand) as a proportion of NP sites: 98.023%\n",
      "Percentage overlap between Nanopolish and Tombo (+ strand) as a proportion of tombo sites: 71.762%\n"
     ]
    }
   ],
   "source": [
    "print('Percentage overlap between Nanopolish and Tombo (+ strand) as a proportion of NP sites:', \"{0:.3f}%\".format(100*tech_overlap_dict['5mC_plus_CpG_tombo_np.bed']/tech_overlap_dict['5mC_hc_nanopolish_sorted.bed']))\n",
    "print('Percentage overlap between Nanopolish and Tombo (+ strand) as a proportion of tombo sites:', \"{0:.3f}%\".format(100*tech_overlap_dict['5mC_plus_CpG_tombo_np.bed']/tech_overlap_dict['5mC_hc_tombo_sorted.CpG.plus.bed']))"
   ]
  },
  {
   "cell_type": "markdown",
   "metadata": {},
   "source": [
    "There was a 98% overlap between Nanopolish and Tombo sites, as a proportion of Nanopolish sites, as this was the smaller dataset. Using the positive strand CpG sites increased the overlap from 44% to 98%."
   ]
  },
  {
   "cell_type": "code",
   "execution_count": 1527,
   "metadata": {},
   "outputs": [
    {
     "name": "stdout",
     "output_type": "stream",
     "text": [
      "1459311 74798 3708640\n"
     ]
    }
   ],
   "source": [
    "print(a,b,c)"
   ]
  },
  {
   "cell_type": "code",
   "execution_count": 90,
   "metadata": {},
   "outputs": [
    {
     "data": {
      "image/png": "[encoded data removed]",
      "text/plain": [
       "<matplotlib.figure.Figure at 0x7ff63d61af98>"
      ]
     },
     "metadata": {},
     "output_type": "display_data"
    }
   ],
   "source": [
    "# First way to call the 2 group Venn diagram:\n",
    "#The number of methylated CpG sites captured by Nanopolish:\n",
    "#3783438\n",
    "#The number of methylated CpG sites captured by Tombo on the forward strand:\n",
    "#5167951\n",
    "#The number of overlapping methylated CpG sites captured by Nanopolish and by Tombo on the forward strand of the reference genome:\n",
    "#3708640\n",
    "c = tech_overlap_dict['5mC_plus_CpG_tombo_np.bed']\n",
    "a = tech_overlap_dict['5mC_hc_tombo_sorted.CpG.plus.bed']-tech_overlap_dict['5mC_plus_CpG_tombo_np.bed']\n",
    "b = tech_overlap_dict['5mC_hc_nanopolish_sorted.bed']-tech_overlap_dict['5mC_plus_CpG_tombo_np.bed']\n",
    "v = venn2(subsets = (a, b, c), set_labels = (' ', ' '))\n",
    "v.get_patch_by_id('01').set_color('#ff47a3')\n",
    "v.get_patch_by_id('10').set_color('#47d1ff')\n",
    "v.get_patch_by_id('11').set_color('#ffa347')\n",
    "plt.annotate('Tombo', xy=v.get_label_by_id('10').get_position() - np.array([0, 0.05]), xytext=(-70,-70), \\\n",
    "             ha='center', textcoords='offset points', bbox=dict(boxstyle='round,pad=0.5', fc='gray', alpha=0.1), \\\n",
    "             arrowprops=dict(arrowstyle='->', connectionstyle='arc3,rad=0.5',color='gray'))\n",
    "plt.annotate('Nanopolish', xy=v.get_label_by_id('01').get_position() - np.array([0, 0.05]), xytext=(40,-70), \\\n",
    "             ha='center', textcoords='offset points', bbox=dict(boxstyle='round,pad=0.5', fc='gray', alpha=0.1), \\\n",
    "             arrowprops=dict(arrowstyle='->', connectionstyle='arc3,rad=0.5',color='gray'))\n",
    "\n",
    "plt.title('Overlap between Tombo and Nanopolish sites')\n",
    "plt.show()"
   ]
  },
  {
   "cell_type": "code",
   "execution_count": 1531,
   "metadata": {},
   "outputs": [
    {
     "data": {
      "image/png": "[encoded data removed]",
      "text/plain": [
       "<matplotlib.figure.Figure at 0x7f47aa399a90>"
      ]
     },
     "metadata": {},
     "output_type": "display_data"
    }
   ],
   "source": [
    "# First way to call the 2 group Venn diagram:\n",
    "#The number of methylated CpG sites captured by Nanopolish:\n",
    "#3783438\n",
    "#The number of methylated CpG sites captured by Tombo on the forward strand:\n",
    "#5167951\n",
    "#The number of overlapping methylated CpG sites captured by Nanopolish and by Tombo on the forward strand of the reference genome:\n",
    "#3708640\n",
    "c = tech_overlap_dict['5mC_plus_CpG_tombo_np.bed']\n",
    "a = tech_overlap_dict['5mC_hc_tombo_sorted.CpG.plus.bed']-tech_overlap_dict['5mC_plus_CpG_tombo_np.bed']\n",
    "b = tech_overlap_dict['5mC_hc_nanopolish_sorted.bed']-tech_overlap_dict['5mC_plus_CpG_tombo_np.bed']\n",
    "v = venn2(subsets = (a, b, c), set_labels = (' ', ' '))\n",
    "v.get_patch_by_id('01').set_color('#ff47a3')\n",
    "v.get_patch_by_id('10').set_color('#47d1ff')\n",
    "v.get_patch_by_id('11').set_color('#ffa347')\n",
    "plt.annotate('Tombo', xy=v.get_label_by_id('10').get_position() - np.array([0, 0.05]), xytext=(-70,-70), \\\n",
    "             ha='center', textcoords='offset points', bbox=dict(boxstyle='round,pad=0.5', fc='gray', alpha=0.1), \\\n",
    "             arrowprops=dict(arrowstyle='->', connectionstyle='arc3,rad=0.5',color='gray'))\n",
    "plt.annotate('Nanopolish', xy=v.get_label_by_id('01').get_position() - np.array([0, 0.05]), xytext=(40,-70), \\\n",
    "             ha='center', textcoords='offset points', bbox=dict(boxstyle='round,pad=0.5', fc='gray', alpha=0.1), \\\n",
    "             arrowprops=dict(arrowstyle='->', connectionstyle='arc3,rad=0.5',color='gray'))\n",
    "\n",
    "plt.title('Overlap between Tombo and Nanopolish sites')\n",
    "plt.show()"
   ]
  },
  {
   "cell_type": "code",
   "execution_count": null,
   "metadata": {},
   "outputs": [],
   "source": [
    "# Nanopore and PacBio Venn diagrams don't look good, since PacBio sites are 1% of Nanopore sites,\n",
    "# so use the tombo nanopolish Venn diagram,\n",
    "# and a table of percentages will be used"
   ]
  },
  {
   "cell_type": "markdown",
   "metadata": {},
   "source": [
    "For the rest of the analysis, I will use the overlapped files for 5mC and 6mA data, and the Tombo files. This is because the Tombo files consider all possible A and C sites in the genome, and provide some consistency between the 6mA and 5mC data. In contrast, Nanopolish only detects 5mC at CpG sites on the forward strand, and SMRTLink does not provide a methylation-call accuracy value that is comparable to the accuracy in Nanopolis and Tombo. While Nanopolish and Tombo use the fraction of reads for the site that are methylated, SMRTLink uses a Phred score to determine methylation-call accuracy."
   ]
  },
  {
   "cell_type": "markdown",
   "metadata": {},
   "source": [
    "## <span style='color:#8a14ff'> 3. Making cutoff files. <span/>"
   ]
  },
  {
   "cell_type": "markdown",
   "metadata": {},
   "source": [
    "### <span style='color:#8a14ff'> 3.A Making cutoff files from five original methylation-calling files, and intersect the two sequencing methods and the two methyaltion-callers. <span/>"
   ]
  },
  {
   "cell_type": "code",
   "execution_count": 44,
   "metadata": {},
   "outputs": [],
   "source": [
    "# Make the list of cutoffs\n",
    "cutoff_list = [1.00, 0.99, 0.95, 0.90, 0.80, 0.70, 0.60, 0.50, 0.40, 0.30, 0.20, 0.10, 0.00]"
   ]
  },
  {
   "cell_type": "code",
   "execution_count": 45,
   "metadata": {},
   "outputs": [],
   "source": [
    "cutoff_list = sorted(cutoff_list)"
   ]
  },
  {
   "cell_type": "code",
   "execution_count": 46,
   "metadata": {},
   "outputs": [
    {
     "data": {
      "text/plain": [
       "13"
      ]
     },
     "execution_count": 46,
     "metadata": {},
     "output_type": "execute_result"
    }
   ],
   "source": [
    "len(cutoff_list)"
   ]
  },
  {
   "cell_type": "code",
   "execution_count": 196,
   "metadata": {},
   "outputs": [],
   "source": [
    "# Define function to filter\n",
    "def score_filter(feature, L):\n",
    "    \"\"\"Returns True if feature is longer than L\"\"\"\n",
    "    return float(feature.score) >= L\n",
    "\n",
    "def filter_by_cutoffs(bed_files, cutoffs, initial_file_path, final_file_path):\n",
    "    \"\"\"Filters files by the list of cutoffs given, and renames the file according to the cutoff.\"\"\"\n",
    "    for file in bed_files:\n",
    "        pybed_object = BedTool(file)\n",
    "        for x in cutoffs:\n",
    "            filtered_file = pybed_object.filter(score_filter, x)\n",
    "            cutoff = \"{:.2f}\".format(x)\n",
    "            cutoff_name = '.cutoff.' + cutoff + '.bed'\n",
    "            out_filename = file.replace('.bed', cutoff_name)\n",
    "            out_filename = out_filename.replace(initial_file_path, final_file_path)\n",
    "            filtered_file.saveas(out_filename)"
   ]
  },
  {
   "cell_type": "code",
   "execution_count": null,
   "metadata": {},
   "outputs": [],
   "source": [
    "#Run the function to filter all files\n",
    "initial_fp = '/home/anjuni/analysis/bedtools_output/sequencing_comparison/'\n",
    "final_fp = '/home/anjuni/analysis/bedtools_output/cutoffs_from_intersects/'\n",
    "filter_by_cutoffs(bed_file_list, cutoff_list, initial_fp, final_fp)"
   ]
  },
  {
   "cell_type": "code",
   "execution_count": 392,
   "metadata": {},
   "outputs": [],
   "source": [
    "# make file handles for the four input files for intersecting, and the hc_tombo file for later analysis\n",
    "sorted_bed_files = ['/home/anjuni/methylation_calling/pacbio/input/sorted_bed_files/5mC_hc_nanopolish_sorted.bed', \\\n",
    "                    '/home/anjuni/methylation_calling/pacbio/input/sorted_bed_files/5mC_hc_tombo_sorted.CpG.plus.bed', \\\n",
    "                    '/home/anjuni/methylation_calling/pacbio/input/sorted_bed_files/5mC_hc_tombo_sorted.bed', \\\n",
    "                    '/home/anjuni/methylation_calling/pacbio/input/sorted_bed_files/6mA_prob_smrtlink_sorted.bed', \\\n",
    "                    '/home/anjuni/methylation_calling/pacbio/input/sorted_bed_files/6mA_hc_tombo_sorted.bed']"
   ]
  },
  {
   "cell_type": "code",
   "execution_count": null,
   "metadata": {},
   "outputs": [],
   "source": [
    "#Run the function to make cutoffs of all the sorted bed files\n",
    "initial_fp1 = '/home/anjuni/methylation_calling/pacbio/input/sorted_bed_files/'\n",
    "final_fp1 = '/home/anjuni/methylation_calling/pacbio/input/sorted_bed_files/cutoffs/'\n",
    "filter_by_cutoffs(sorted_bed_files, cutoff_list, initial_fp1, final_fp1)"
   ]
  },
  {
   "cell_type": "code",
   "execution_count": 200,
   "metadata": {},
   "outputs": [],
   "source": [
    "%%bash\n",
    "\n",
    "#Move the 6mA files and 5mC files to separate folders, to make running intersections easier\n",
    "cd /home/anjuni/methylation_calling/pacbio/input/sorted_bed_files/\n",
    "mkdir cutoffs_6mA\n",
    "mkdir cutoffs_5mC\n",
    "mv cutoffs/6mA* cutoffs_6mA\n",
    "mv cutoffs/5mC* cutoffs_5mC\n",
    "rmdir cutoffs"
   ]
  },
  {
   "cell_type": "code",
   "execution_count": 15,
   "metadata": {},
   "outputs": [],
   "source": [
    "# make directories for 6mA and 5mC cutoff files\n",
    "DIRS['BED_CUTOFFS'] = os.path.join(DIRS['BASE1'], 'input', 'sorted_bed_files', 'cutoffs')\n",
    "DIRS['6MA_CUTOFFS'] = os.path.join(DIRS['BASE1'], 'input', 'sorted_bed_files', 'cutoffs_6mA')\n",
    "DIRS['5MC_CUTOFFS'] = os.path.join(DIRS['BASE1'], 'input', 'sorted_bed_files', 'cutoffs_5mC')"
   ]
  },
  {
   "cell_type": "code",
   "execution_count": 16,
   "metadata": {},
   "outputs": [
    {
     "name": "stdout",
     "output_type": "stream",
     "text": [
      "/home/anjuni/methylation_calling/pacbio/input/sorted_bed_files/cutoffs\n",
      "/home/anjuni/methylation_calling/pacbio/input/sorted_bed_files/cutoffs_6mA\n",
      "/home/anjuni/methylation_calling/pacbio/input/sorted_bed_files/cutoffs_5mC\n"
     ]
    }
   ],
   "source": [
    "print(DIRS['BED_CUTOFFS'])\n",
    "print(DIRS['6MA_CUTOFFS'])\n",
    "print(DIRS['5MC_CUTOFFS'])"
   ]
  },
  {
   "cell_type": "code",
   "execution_count": 17,
   "metadata": {
    "collapsed": true
   },
   "outputs": [
    {
     "name": "stdout",
     "output_type": "stream",
     "text": [
      "/home/anjuni/methylation_calling/pacbio/input/sorted_bed_files/cutoffs_6mA/6mA_hc_tombo_sorted.cutoff.0.90.bed\n",
      "/home/anjuni/methylation_calling/pacbio/input/sorted_bed_files/cutoffs_6mA/6mA_hc_tombo_sorted.cutoff.0.60.bed\n",
      "/home/anjuni/methylation_calling/pacbio/input/sorted_bed_files/cutoffs_6mA/6mA_hc_tombo_sorted.cutoff.0.30.bed\n",
      "/home/anjuni/methylation_calling/pacbio/input/sorted_bed_files/cutoffs_6mA/6mA_hc_tombo_sorted.cutoff.0.80.bed\n",
      "/home/anjuni/methylation_calling/pacbio/input/sorted_bed_files/cutoffs_6mA/6mA_hc_tombo_sorted.cutoff.0.70.bed\n",
      "/home/anjuni/methylation_calling/pacbio/input/sorted_bed_files/cutoffs_6mA/6mA_hc_tombo_sorted.cutoff.0.20.bed\n",
      "/home/anjuni/methylation_calling/pacbio/input/sorted_bed_files/cutoffs_6mA/6mA_hc_tombo_sorted.cutoff.0.10.bed\n",
      "/home/anjuni/methylation_calling/pacbio/input/sorted_bed_files/cutoffs_6mA/6mA_hc_tombo_sorted.cutoff.0.40.bed\n",
      "/home/anjuni/methylation_calling/pacbio/input/sorted_bed_files/cutoffs_6mA/6mA_hc_tombo_sorted.cutoff.0.99.bed\n",
      "/home/anjuni/methylation_calling/pacbio/input/sorted_bed_files/cutoffs_6mA/6mA_hc_tombo_sorted.cutoff.1.00.bed\n",
      "/home/anjuni/methylation_calling/pacbio/input/sorted_bed_files/cutoffs_6mA/6mA_hc_tombo_sorted.cutoff.0.95.bed\n",
      "/home/anjuni/methylation_calling/pacbio/input/sorted_bed_files/cutoffs_6mA/6mA_hc_tombo_sorted.cutoff.0.00.bed\n",
      "/home/anjuni/methylation_calling/pacbio/input/sorted_bed_files/cutoffs_6mA/6mA_hc_tombo_sorted.cutoff.0.50.bed\n",
      "/home/anjuni/methylation_calling/pacbio/input/sorted_bed_files/cutoffs_6mA/6mA_prob_smrtlink_sorted.cutoff.0.95.bed\n",
      "/home/anjuni/methylation_calling/pacbio/input/sorted_bed_files/cutoffs_6mA/6mA_prob_smrtlink_sorted.cutoff.0.00.bed\n",
      "/home/anjuni/methylation_calling/pacbio/input/sorted_bed_files/cutoffs_6mA/6mA_prob_smrtlink_sorted.cutoff.0.50.bed\n",
      "/home/anjuni/methylation_calling/pacbio/input/sorted_bed_files/cutoffs_6mA/6mA_prob_smrtlink_sorted.cutoff.0.80.bed\n",
      "/home/anjuni/methylation_calling/pacbio/input/sorted_bed_files/cutoffs_6mA/6mA_prob_smrtlink_sorted.cutoff.0.30.bed\n",
      "/home/anjuni/methylation_calling/pacbio/input/sorted_bed_files/cutoffs_6mA/6mA_prob_smrtlink_sorted.cutoff.0.20.bed\n",
      "/home/anjuni/methylation_calling/pacbio/input/sorted_bed_files/cutoffs_6mA/6mA_prob_smrtlink_sorted.cutoff.0.99.bed\n",
      "/home/anjuni/methylation_calling/pacbio/input/sorted_bed_files/cutoffs_6mA/6mA_prob_smrtlink_sorted.cutoff.0.70.bed\n",
      "/home/anjuni/methylation_calling/pacbio/input/sorted_bed_files/cutoffs_6mA/6mA_prob_smrtlink_sorted.cutoff.0.90.bed\n",
      "/home/anjuni/methylation_calling/pacbio/input/sorted_bed_files/cutoffs_6mA/6mA_prob_smrtlink_sorted.cutoff.0.60.bed\n",
      "/home/anjuni/methylation_calling/pacbio/input/sorted_bed_files/cutoffs_6mA/6mA_prob_smrtlink_sorted.cutoff.1.00.bed\n",
      "/home/anjuni/methylation_calling/pacbio/input/sorted_bed_files/cutoffs_6mA/6mA_prob_smrtlink_sorted.cutoff.0.10.bed\n",
      "/home/anjuni/methylation_calling/pacbio/input/sorted_bed_files/cutoffs_6mA/6mA_prob_smrtlink_sorted.cutoff.0.40.bed\n"
     ]
    }
   ],
   "source": [
    "# make a list of 6mA cutoff files from Nanopore and PacBio\n",
    "ont_6mA = [fn for fn in glob.iglob('%s/6mA_hc_tombo*.bed' % DIRS['6MA_CUTOFFS'], recursive=True)]\n",
    "pb_6mA = [fn for fn in glob.iglob('%s/6mA_prob_smrtlink*.bed' % DIRS['6MA_CUTOFFS'], recursive=True)]\n",
    "\n",
    "#test out these lists by printing\n",
    "print(*ont_6mA, sep='\\n')\n",
    "print(*pb_6mA, sep='\\n')"
   ]
  },
  {
   "cell_type": "code",
   "execution_count": 18,
   "metadata": {
    "collapsed": true
   },
   "outputs": [
    {
     "name": "stdout",
     "output_type": "stream",
     "text": [
      "/home/anjuni/methylation_calling/pacbio/input/sorted_bed_files/cutoffs_5mC/5mC_hc_nanopolish_sorted.cutoff.0.90.bed\n",
      "/home/anjuni/methylation_calling/pacbio/input/sorted_bed_files/cutoffs_5mC/5mC_hc_nanopolish_sorted.cutoff.0.60.bed\n",
      "/home/anjuni/methylation_calling/pacbio/input/sorted_bed_files/cutoffs_5mC/5mC_hc_nanopolish_sorted.cutoff.0.00.bed\n",
      "/home/anjuni/methylation_calling/pacbio/input/sorted_bed_files/cutoffs_5mC/5mC_hc_nanopolish_sorted.cutoff.0.80.bed\n",
      "/home/anjuni/methylation_calling/pacbio/input/sorted_bed_files/cutoffs_5mC/5mC_hc_nanopolish_sorted.cutoff.0.40.bed\n",
      "/home/anjuni/methylation_calling/pacbio/input/sorted_bed_files/cutoffs_5mC/5mC_hc_nanopolish_sorted.cutoff.0.50.bed\n",
      "/home/anjuni/methylation_calling/pacbio/input/sorted_bed_files/cutoffs_5mC/5mC_hc_nanopolish_sorted.cutoff.0.10.bed\n",
      "/home/anjuni/methylation_calling/pacbio/input/sorted_bed_files/cutoffs_5mC/5mC_hc_nanopolish_sorted.cutoff.0.20.bed\n",
      "/home/anjuni/methylation_calling/pacbio/input/sorted_bed_files/cutoffs_5mC/5mC_hc_nanopolish_sorted.cutoff.0.70.bed\n",
      "/home/anjuni/methylation_calling/pacbio/input/sorted_bed_files/cutoffs_5mC/5mC_hc_nanopolish_sorted.cutoff.0.99.bed\n",
      "/home/anjuni/methylation_calling/pacbio/input/sorted_bed_files/cutoffs_5mC/5mC_hc_nanopolish_sorted.cutoff.0.30.bed\n",
      "/home/anjuni/methylation_calling/pacbio/input/sorted_bed_files/cutoffs_5mC/5mC_hc_nanopolish_sorted.cutoff.0.95.bed\n",
      "/home/anjuni/methylation_calling/pacbio/input/sorted_bed_files/cutoffs_5mC/5mC_hc_nanopolish_sorted.cutoff.1.00.bed\n",
      "/home/anjuni/methylation_calling/pacbio/input/sorted_bed_files/cutoffs_5mC/5mC_hc_tombo_sorted.CpG.plus.cutoff.0.70.bed\n",
      "/home/anjuni/methylation_calling/pacbio/input/sorted_bed_files/cutoffs_5mC/5mC_hc_tombo_sorted.CpG.plus.cutoff.0.80.bed\n",
      "/home/anjuni/methylation_calling/pacbio/input/sorted_bed_files/cutoffs_5mC/5mC_hc_tombo_sorted.CpG.plus.cutoff.0.95.bed\n",
      "/home/anjuni/methylation_calling/pacbio/input/sorted_bed_files/cutoffs_5mC/5mC_hc_tombo_sorted.CpG.plus.cutoff.0.10.bed\n",
      "/home/anjuni/methylation_calling/pacbio/input/sorted_bed_files/cutoffs_5mC/5mC_hc_tombo_sorted.CpG.plus.cutoff.0.50.bed\n",
      "/home/anjuni/methylation_calling/pacbio/input/sorted_bed_files/cutoffs_5mC/5mC_hc_tombo_sorted.CpG.plus.cutoff.0.99.bed\n",
      "/home/anjuni/methylation_calling/pacbio/input/sorted_bed_files/cutoffs_5mC/5mC_hc_tombo_sorted.CpG.plus.cutoff.1.00.bed\n",
      "/home/anjuni/methylation_calling/pacbio/input/sorted_bed_files/cutoffs_5mC/5mC_hc_tombo_sorted.CpG.plus.cutoff.0.20.bed\n",
      "/home/anjuni/methylation_calling/pacbio/input/sorted_bed_files/cutoffs_5mC/5mC_hc_tombo_sorted.CpG.plus.cutoff.0.60.bed\n",
      "/home/anjuni/methylation_calling/pacbio/input/sorted_bed_files/cutoffs_5mC/5mC_hc_tombo_sorted.CpG.plus.cutoff.0.00.bed\n",
      "/home/anjuni/methylation_calling/pacbio/input/sorted_bed_files/cutoffs_5mC/5mC_hc_tombo_sorted.CpG.plus.cutoff.0.90.bed\n",
      "/home/anjuni/methylation_calling/pacbio/input/sorted_bed_files/cutoffs_5mC/5mC_hc_tombo_sorted.CpG.plus.cutoff.0.30.bed\n",
      "/home/anjuni/methylation_calling/pacbio/input/sorted_bed_files/cutoffs_5mC/5mC_hc_tombo_sorted.CpG.plus.cutoff.0.40.bed\n",
      "/home/anjuni/methylation_calling/pacbio/input/sorted_bed_files/cutoffs_5mC/5mC_hc_tombo_sorted.cutoff.0.90.bed\n",
      "/home/anjuni/methylation_calling/pacbio/input/sorted_bed_files/cutoffs_5mC/5mC_hc_tombo_sorted.cutoff.0.40.bed\n",
      "/home/anjuni/methylation_calling/pacbio/input/sorted_bed_files/cutoffs_5mC/5mC_hc_tombo_sorted.cutoff.0.80.bed\n",
      "/home/anjuni/methylation_calling/pacbio/input/sorted_bed_files/cutoffs_5mC/5mC_hc_tombo_sorted.cutoff.0.50.bed\n",
      "/home/anjuni/methylation_calling/pacbio/input/sorted_bed_files/cutoffs_5mC/5mC_hc_tombo_sorted.cutoff.0.20.bed\n",
      "/home/anjuni/methylation_calling/pacbio/input/sorted_bed_files/cutoffs_5mC/5mC_hc_tombo_sorted.cutoff.0.70.bed\n",
      "/home/anjuni/methylation_calling/pacbio/input/sorted_bed_files/cutoffs_5mC/5mC_hc_tombo_sorted.cutoff.1.00.bed\n",
      "/home/anjuni/methylation_calling/pacbio/input/sorted_bed_files/cutoffs_5mC/5mC_hc_tombo_sorted.cutoff.0.60.bed\n",
      "/home/anjuni/methylation_calling/pacbio/input/sorted_bed_files/cutoffs_5mC/5mC_hc_tombo_sorted.cutoff.0.30.bed\n",
      "/home/anjuni/methylation_calling/pacbio/input/sorted_bed_files/cutoffs_5mC/5mC_hc_tombo_sorted.cutoff.0.10.bed\n",
      "/home/anjuni/methylation_calling/pacbio/input/sorted_bed_files/cutoffs_5mC/5mC_hc_tombo_sorted.cutoff.0.99.bed\n",
      "/home/anjuni/methylation_calling/pacbio/input/sorted_bed_files/cutoffs_5mC/5mC_hc_tombo_sorted.cutoff.0.00.bed\n",
      "/home/anjuni/methylation_calling/pacbio/input/sorted_bed_files/cutoffs_5mC/5mC_hc_tombo_sorted.cutoff.0.95.bed\n"
     ]
    }
   ],
   "source": [
    "# make a list of 5mC cutoff files from Nanopolish and Tombo\n",
    "np_5mC = [fn for fn in glob.iglob('%s/5mC_hc_nanopolish*.bed' % DIRS['5MC_CUTOFFS'], recursive=True)]\n",
    "tombo_CpG_5mC = [fn for fn in glob.iglob('%s/5mC_hc_tombo_sorted.CpG.plus*.bed' % DIRS['5MC_CUTOFFS'], recursive=True)]\n",
    "tombo_5mC = [fn for fn in glob.iglob('%s/5mC_hc_tombo_sorted.c*.bed' % DIRS['5MC_CUTOFFS'], recursive=True)]\n",
    "\n",
    "#test out these lists by printing\n",
    "print(*np_5mC, sep='\\n')\n",
    "print(*tombo_CpG_5mC, sep='\\n')\n",
    "print(*tombo_5mC, sep='\\n')"
   ]
  },
  {
   "cell_type": "code",
   "execution_count": 19,
   "metadata": {},
   "outputs": [],
   "source": [
    "# the lists are not sorted, so sort them before doing cutoffs\n",
    "ont_6mA = sorted(ont_6mA)\n",
    "pb_6mA = sorted(pb_6mA)\n",
    "np_5mC = sorted(np_5mC)\n",
    "tombo_CpG_5mC = sorted(tombo_CpG_5mC)\n",
    "tombo_5mC = sorted(tombo_5mC)"
   ]
  },
  {
   "cell_type": "code",
   "execution_count": 20,
   "metadata": {
    "collapsed": true
   },
   "outputs": [
    {
     "name": "stdout",
     "output_type": "stream",
     "text": [
      "/home/anjuni/methylation_calling/pacbio/input/sorted_bed_files/cutoffs_6mA/6mA_hc_tombo_sorted.cutoff.0.00.bed\n",
      "/home/anjuni/methylation_calling/pacbio/input/sorted_bed_files/cutoffs_6mA/6mA_hc_tombo_sorted.cutoff.0.10.bed\n",
      "/home/anjuni/methylation_calling/pacbio/input/sorted_bed_files/cutoffs_6mA/6mA_hc_tombo_sorted.cutoff.0.20.bed\n",
      "/home/anjuni/methylation_calling/pacbio/input/sorted_bed_files/cutoffs_6mA/6mA_hc_tombo_sorted.cutoff.0.30.bed\n",
      "/home/anjuni/methylation_calling/pacbio/input/sorted_bed_files/cutoffs_6mA/6mA_hc_tombo_sorted.cutoff.0.40.bed\n",
      "/home/anjuni/methylation_calling/pacbio/input/sorted_bed_files/cutoffs_6mA/6mA_hc_tombo_sorted.cutoff.0.50.bed\n",
      "/home/anjuni/methylation_calling/pacbio/input/sorted_bed_files/cutoffs_6mA/6mA_hc_tombo_sorted.cutoff.0.60.bed\n",
      "/home/anjuni/methylation_calling/pacbio/input/sorted_bed_files/cutoffs_6mA/6mA_hc_tombo_sorted.cutoff.0.70.bed\n",
      "/home/anjuni/methylation_calling/pacbio/input/sorted_bed_files/cutoffs_6mA/6mA_hc_tombo_sorted.cutoff.0.80.bed\n",
      "/home/anjuni/methylation_calling/pacbio/input/sorted_bed_files/cutoffs_6mA/6mA_hc_tombo_sorted.cutoff.0.90.bed\n",
      "/home/anjuni/methylation_calling/pacbio/input/sorted_bed_files/cutoffs_6mA/6mA_hc_tombo_sorted.cutoff.0.95.bed\n",
      "/home/anjuni/methylation_calling/pacbio/input/sorted_bed_files/cutoffs_6mA/6mA_hc_tombo_sorted.cutoff.0.99.bed\n",
      "/home/anjuni/methylation_calling/pacbio/input/sorted_bed_files/cutoffs_6mA/6mA_hc_tombo_sorted.cutoff.1.00.bed\n",
      "/home/anjuni/methylation_calling/pacbio/input/sorted_bed_files/cutoffs_6mA/6mA_prob_smrtlink_sorted.cutoff.0.00.bed\n",
      "/home/anjuni/methylation_calling/pacbio/input/sorted_bed_files/cutoffs_6mA/6mA_prob_smrtlink_sorted.cutoff.0.10.bed\n",
      "/home/anjuni/methylation_calling/pacbio/input/sorted_bed_files/cutoffs_6mA/6mA_prob_smrtlink_sorted.cutoff.0.20.bed\n",
      "/home/anjuni/methylation_calling/pacbio/input/sorted_bed_files/cutoffs_6mA/6mA_prob_smrtlink_sorted.cutoff.0.30.bed\n",
      "/home/anjuni/methylation_calling/pacbio/input/sorted_bed_files/cutoffs_6mA/6mA_prob_smrtlink_sorted.cutoff.0.40.bed\n",
      "/home/anjuni/methylation_calling/pacbio/input/sorted_bed_files/cutoffs_6mA/6mA_prob_smrtlink_sorted.cutoff.0.50.bed\n",
      "/home/anjuni/methylation_calling/pacbio/input/sorted_bed_files/cutoffs_6mA/6mA_prob_smrtlink_sorted.cutoff.0.60.bed\n",
      "/home/anjuni/methylation_calling/pacbio/input/sorted_bed_files/cutoffs_6mA/6mA_prob_smrtlink_sorted.cutoff.0.70.bed\n",
      "/home/anjuni/methylation_calling/pacbio/input/sorted_bed_files/cutoffs_6mA/6mA_prob_smrtlink_sorted.cutoff.0.80.bed\n",
      "/home/anjuni/methylation_calling/pacbio/input/sorted_bed_files/cutoffs_6mA/6mA_prob_smrtlink_sorted.cutoff.0.90.bed\n",
      "/home/anjuni/methylation_calling/pacbio/input/sorted_bed_files/cutoffs_6mA/6mA_prob_smrtlink_sorted.cutoff.0.95.bed\n",
      "/home/anjuni/methylation_calling/pacbio/input/sorted_bed_files/cutoffs_6mA/6mA_prob_smrtlink_sorted.cutoff.0.99.bed\n",
      "/home/anjuni/methylation_calling/pacbio/input/sorted_bed_files/cutoffs_6mA/6mA_prob_smrtlink_sorted.cutoff.1.00.bed\n",
      "/home/anjuni/methylation_calling/pacbio/input/sorted_bed_files/cutoffs_5mC/5mC_hc_nanopolish_sorted.cutoff.0.00.bed\n",
      "/home/anjuni/methylation_calling/pacbio/input/sorted_bed_files/cutoffs_5mC/5mC_hc_nanopolish_sorted.cutoff.0.10.bed\n",
      "/home/anjuni/methylation_calling/pacbio/input/sorted_bed_files/cutoffs_5mC/5mC_hc_nanopolish_sorted.cutoff.0.20.bed\n",
      "/home/anjuni/methylation_calling/pacbio/input/sorted_bed_files/cutoffs_5mC/5mC_hc_nanopolish_sorted.cutoff.0.30.bed\n",
      "/home/anjuni/methylation_calling/pacbio/input/sorted_bed_files/cutoffs_5mC/5mC_hc_nanopolish_sorted.cutoff.0.40.bed\n",
      "/home/anjuni/methylation_calling/pacbio/input/sorted_bed_files/cutoffs_5mC/5mC_hc_nanopolish_sorted.cutoff.0.50.bed\n",
      "/home/anjuni/methylation_calling/pacbio/input/sorted_bed_files/cutoffs_5mC/5mC_hc_nanopolish_sorted.cutoff.0.60.bed\n",
      "/home/anjuni/methylation_calling/pacbio/input/sorted_bed_files/cutoffs_5mC/5mC_hc_nanopolish_sorted.cutoff.0.70.bed\n",
      "/home/anjuni/methylation_calling/pacbio/input/sorted_bed_files/cutoffs_5mC/5mC_hc_nanopolish_sorted.cutoff.0.80.bed\n",
      "/home/anjuni/methylation_calling/pacbio/input/sorted_bed_files/cutoffs_5mC/5mC_hc_nanopolish_sorted.cutoff.0.90.bed\n",
      "/home/anjuni/methylation_calling/pacbio/input/sorted_bed_files/cutoffs_5mC/5mC_hc_nanopolish_sorted.cutoff.0.95.bed\n",
      "/home/anjuni/methylation_calling/pacbio/input/sorted_bed_files/cutoffs_5mC/5mC_hc_nanopolish_sorted.cutoff.0.99.bed\n",
      "/home/anjuni/methylation_calling/pacbio/input/sorted_bed_files/cutoffs_5mC/5mC_hc_nanopolish_sorted.cutoff.1.00.bed\n",
      "/home/anjuni/methylation_calling/pacbio/input/sorted_bed_files/cutoffs_5mC/5mC_hc_tombo_sorted.CpG.plus.cutoff.0.00.bed\n",
      "/home/anjuni/methylation_calling/pacbio/input/sorted_bed_files/cutoffs_5mC/5mC_hc_tombo_sorted.CpG.plus.cutoff.0.10.bed\n",
      "/home/anjuni/methylation_calling/pacbio/input/sorted_bed_files/cutoffs_5mC/5mC_hc_tombo_sorted.CpG.plus.cutoff.0.20.bed\n",
      "/home/anjuni/methylation_calling/pacbio/input/sorted_bed_files/cutoffs_5mC/5mC_hc_tombo_sorted.CpG.plus.cutoff.0.30.bed\n",
      "/home/anjuni/methylation_calling/pacbio/input/sorted_bed_files/cutoffs_5mC/5mC_hc_tombo_sorted.CpG.plus.cutoff.0.40.bed\n",
      "/home/anjuni/methylation_calling/pacbio/input/sorted_bed_files/cutoffs_5mC/5mC_hc_tombo_sorted.CpG.plus.cutoff.0.50.bed\n",
      "/home/anjuni/methylation_calling/pacbio/input/sorted_bed_files/cutoffs_5mC/5mC_hc_tombo_sorted.CpG.plus.cutoff.0.60.bed\n",
      "/home/anjuni/methylation_calling/pacbio/input/sorted_bed_files/cutoffs_5mC/5mC_hc_tombo_sorted.CpG.plus.cutoff.0.70.bed\n",
      "/home/anjuni/methylation_calling/pacbio/input/sorted_bed_files/cutoffs_5mC/5mC_hc_tombo_sorted.CpG.plus.cutoff.0.80.bed\n",
      "/home/anjuni/methylation_calling/pacbio/input/sorted_bed_files/cutoffs_5mC/5mC_hc_tombo_sorted.CpG.plus.cutoff.0.90.bed\n",
      "/home/anjuni/methylation_calling/pacbio/input/sorted_bed_files/cutoffs_5mC/5mC_hc_tombo_sorted.CpG.plus.cutoff.0.95.bed\n",
      "/home/anjuni/methylation_calling/pacbio/input/sorted_bed_files/cutoffs_5mC/5mC_hc_tombo_sorted.CpG.plus.cutoff.0.99.bed\n",
      "/home/anjuni/methylation_calling/pacbio/input/sorted_bed_files/cutoffs_5mC/5mC_hc_tombo_sorted.CpG.plus.cutoff.1.00.bed\n",
      "/home/anjuni/methylation_calling/pacbio/input/sorted_bed_files/cutoffs_5mC/5mC_hc_tombo_sorted.cutoff.0.00.bed\n",
      "/home/anjuni/methylation_calling/pacbio/input/sorted_bed_files/cutoffs_5mC/5mC_hc_tombo_sorted.cutoff.0.10.bed\n",
      "/home/anjuni/methylation_calling/pacbio/input/sorted_bed_files/cutoffs_5mC/5mC_hc_tombo_sorted.cutoff.0.20.bed\n",
      "/home/anjuni/methylation_calling/pacbio/input/sorted_bed_files/cutoffs_5mC/5mC_hc_tombo_sorted.cutoff.0.30.bed\n",
      "/home/anjuni/methylation_calling/pacbio/input/sorted_bed_files/cutoffs_5mC/5mC_hc_tombo_sorted.cutoff.0.40.bed\n",
      "/home/anjuni/methylation_calling/pacbio/input/sorted_bed_files/cutoffs_5mC/5mC_hc_tombo_sorted.cutoff.0.50.bed\n",
      "/home/anjuni/methylation_calling/pacbio/input/sorted_bed_files/cutoffs_5mC/5mC_hc_tombo_sorted.cutoff.0.60.bed\n",
      "/home/anjuni/methylation_calling/pacbio/input/sorted_bed_files/cutoffs_5mC/5mC_hc_tombo_sorted.cutoff.0.70.bed\n",
      "/home/anjuni/methylation_calling/pacbio/input/sorted_bed_files/cutoffs_5mC/5mC_hc_tombo_sorted.cutoff.0.80.bed\n",
      "/home/anjuni/methylation_calling/pacbio/input/sorted_bed_files/cutoffs_5mC/5mC_hc_tombo_sorted.cutoff.0.90.bed\n",
      "/home/anjuni/methylation_calling/pacbio/input/sorted_bed_files/cutoffs_5mC/5mC_hc_tombo_sorted.cutoff.0.95.bed\n",
      "/home/anjuni/methylation_calling/pacbio/input/sorted_bed_files/cutoffs_5mC/5mC_hc_tombo_sorted.cutoff.0.99.bed\n",
      "/home/anjuni/methylation_calling/pacbio/input/sorted_bed_files/cutoffs_5mC/5mC_hc_tombo_sorted.cutoff.1.00.bed\n"
     ]
    }
   ],
   "source": [
    "#Check if it worked. (It did!) :D\n",
    "print(*ont_6mA, sep='\\n')\n",
    "print(*pb_6mA, sep='\\n')\n",
    "print(*np_5mC, sep='\\n')\n",
    "print(*tombo_CpG_5mC, sep='\\n')\n",
    "print(*tombo_5mC, sep='\\n')"
   ]
  },
  {
   "cell_type": "code",
   "execution_count": 436,
   "metadata": {},
   "outputs": [],
   "source": [
    "# make the filepaths for intersects output\n",
    "DIRS['I_FROM_C'] = os.path.join(DIRS['BASE2'], 'bedtools_output', 'intersects_from_cutoffs')"
   ]
  },
  {
   "cell_type": "code",
   "execution_count": 47,
   "metadata": {},
   "outputs": [],
   "source": [
    "# make a for loop to take a list of cutoffs, and a list of -a files and a list of -b files to intersect\n",
    "def intersect_cutoffs(list_a, list_b, n_cutoffs, mod, a_name, b_name):\n",
    "    \"\"\"Take a list of files and intersect them with another list of files, where files are matched by methylation cutoff. Other required inputs are the number of cutoffs in the list, the modification, and the names to be used in the outfile to signify the BED file from list a and b.\"\"\"\n",
    "    for i in range(n_cutoffs): # go through each element in the sorted list, pairing them up\n",
    "        a_bed = BedTool(list_a[i])\n",
    "        b_bed = BedTool(list_b[i])\n",
    "        cutoff_suffix = list_a[i][-16:] # get cutoff value from one of the files\n",
    "        out_name = mod + '_' + a_name + '_' + b_name + cutoff_suffix # make a new file name with the two intersected files, basemod type and cutoff\n",
    "        out_file = os.path.join(DIRS['I_FROM_C'], out_name) # make the file path\n",
    "        intersected_cutoff = a_bed.intersect(b_bed).saveas(out_file) # save out the intersected file"
   ]
  },
  {
   "cell_type": "code",
   "execution_count": null,
   "metadata": {},
   "outputs": [],
   "source": [
    "# Run intersect cutoffs for 6mA and 5mC\n",
    "intersect_cutoffs(ont_6mA, pb_6mA, 13, '6mA', 'tombo', 'smrtlink')\n",
    "intersect_cutoffs(tombo_CpG_5mC, np_5mC, 13, '5mC', 'tombo', 'nanopolish')"
   ]
  },
  {
   "cell_type": "code",
   "execution_count": null,
   "metadata": {},
   "outputs": [],
   "source": [
    "%%bash\n",
    "\n",
    "# Make one directory that contains cutoffs of all 4 bed files for use in downstream analysis\n",
    "cd /home/anjuni/analysis/coverage\n",
    "mkdir feature_files\n",
    "cp ../bedtools_output/intersects_from_cutoffs/* feature_files\n",
    "cp ../../methylation_calling/pacbio/input/sorted_bed_files/cutoffs_5mC/5mC_hc_tombo_sorted.cutoff.* feature_files\n",
    "cp ../../methylation_calling/pacbio/input/sorted_bed_files/cutoffs_6mA/6mA_hc_tombo_sorted.cutoff.* feature_files"
   ]
  },
  {
   "cell_type": "code",
   "execution_count": 26,
   "metadata": {},
   "outputs": [],
   "source": [
    "%%bash\n",
    "\n",
    "#do the same for pb and np files\n",
    "cd /home/anjuni/analysis/coverage\n",
    "cp ../bedtools_output/intersects_from_cutoffs/* feature_files\n",
    "cp ../../methylation_calling/pacbio/input/sorted_bed_files/cutoffs_5mC/5mC_hc_nanopolish_sorted.cutoff.* feature_files\n",
    "cp ../../methylation_calling/pacbio/input/sorted_bed_files/cutoffs_6mA/6mA_prob_smrtlink_sorted.cutoff.* feature_files\n",
    "cp ../../methylation_calling/pacbio/input/sorted_bed_files/cutoffs_5mC/5mC_hc_tombo_sorted.CpG.plus.cutoff.* feature_files"
   ]
  },
  {
   "cell_type": "code",
   "execution_count": 9,
   "metadata": {},
   "outputs": [],
   "source": [
    "# Make lists of cutoffs from each of the BED files for use in analysis in the new folder\n",
    "# Remake the lists for the old ones under new names\n",
    "\n",
    "# set filepaths for feature inputs\n",
    "DIRS['FEATURES'] = os.path.join(DIRS['BASE2'], 'coverage', 'feature_files')\n",
    "\n",
    "intersected_5mC = [fn for fn in glob.iglob('%s/5mC_t*.bed' % DIRS['FEATURES'], recursive=True)]\n",
    "intersected_6mA = [fn for fn in glob.iglob('%s/6mA_t*.bed' % DIRS['FEATURES'], recursive=True)]\n",
    "hc_tombo_5mC = [fn for fn in glob.iglob('%s/5mC_h*.bed' % DIRS['FEATURES'], recursive=True)]\n",
    "hc_tombo_6mA = [fn for fn in glob.iglob('%s/6mA_h*.bed' % DIRS['FEATURES'], recursive=True)]"
   ]
  },
  {
   "cell_type": "code",
   "execution_count": 124,
   "metadata": {
    "collapsed": true
   },
   "outputs": [
    {
     "name": "stdout",
     "output_type": "stream",
     "text": [
      "['/home/anjuni/analysis/coverage/feature_files/5mC_tombo_nanopolish.cutoff.0.10.bed',\n",
      " '/home/anjuni/analysis/coverage/feature_files/5mC_tombo_nanopolish.cutoff.0.90.bed',\n",
      " '/home/anjuni/analysis/coverage/feature_files/5mC_tombo_nanopolish.cutoff.0.50.bed',\n",
      " '/home/anjuni/analysis/coverage/feature_files/5mC_tombo_nanopolish.cutoff.0.20.bed',\n",
      " '/home/anjuni/analysis/coverage/feature_files/5mC_tombo_nanopolish.cutoff.0.99.bed',\n",
      " '/home/anjuni/analysis/coverage/feature_files/5mC_tombo_nanopolish.cutoff.0.40.bed',\n",
      " '/home/anjuni/analysis/coverage/feature_files/5mC_tombo_nanopolish.cutoff.0.70.bed',\n",
      " '/home/anjuni/analysis/coverage/feature_files/5mC_tombo_nanopolish.cutoff.0.80.bed',\n",
      " '/home/anjuni/analysis/coverage/feature_files/5mC_tombo_nanopolish.cutoff.0.00.bed',\n",
      " '/home/anjuni/analysis/coverage/feature_files/5mC_tombo_nanopolish.cutoff.0.30.bed',\n",
      " '/home/anjuni/analysis/coverage/feature_files/5mC_tombo_nanopolish.cutoff.0.95.bed',\n",
      " '/home/anjuni/analysis/coverage/feature_files/5mC_tombo_nanopolish.cutoff.0.60.bed',\n",
      " '/home/anjuni/analysis/coverage/feature_files/5mC_tombo_nanopolish.cutoff.1.00.bed']\n",
      "['/home/anjuni/analysis/coverage/feature_files/6mA_tombo_smrtlink.cutoff.0.95.bed',\n",
      " '/home/anjuni/analysis/coverage/feature_files/6mA_tombo_smrtlink.cutoff.0.80.bed',\n",
      " '/home/anjuni/analysis/coverage/feature_files/6mA_tombo_smrtlink.cutoff.0.30.bed',\n",
      " '/home/anjuni/analysis/coverage/feature_files/6mA_tombo_smrtlink.cutoff.0.00.bed',\n",
      " '/home/anjuni/analysis/coverage/feature_files/6mA_tombo_smrtlink.cutoff.0.50.bed',\n",
      " '/home/anjuni/analysis/coverage/feature_files/6mA_tombo_smrtlink.cutoff.0.10.bed',\n",
      " '/home/anjuni/analysis/coverage/feature_files/6mA_tombo_smrtlink.cutoff.0.70.bed',\n",
      " '/home/anjuni/analysis/coverage/feature_files/6mA_tombo_smrtlink.cutoff.0.90.bed',\n",
      " '/home/anjuni/analysis/coverage/feature_files/6mA_tombo_smrtlink.cutoff.0.60.bed',\n",
      " '/home/anjuni/analysis/coverage/feature_files/6mA_tombo_smrtlink.cutoff.0.20.bed',\n",
      " '/home/anjuni/analysis/coverage/feature_files/6mA_tombo_smrtlink.cutoff.0.40.bed',\n",
      " '/home/anjuni/analysis/coverage/feature_files/6mA_tombo_smrtlink.cutoff.1.00.bed',\n",
      " '/home/anjuni/analysis/coverage/feature_files/6mA_tombo_smrtlink.cutoff.0.99.bed']\n",
      "['/home/anjuni/analysis/coverage/feature_files/5mC_hc_tombo_sorted.cutoff.0.90.bed',\n",
      " '/home/anjuni/analysis/coverage/feature_files/5mC_hc_tombo_sorted.cutoff.0.40.bed',\n",
      " '/home/anjuni/analysis/coverage/feature_files/5mC_hc_tombo_sorted.cutoff.0.80.bed',\n",
      " '/home/anjuni/analysis/coverage/feature_files/5mC_hc_tombo_sorted.cutoff.0.50.bed',\n",
      " '/home/anjuni/analysis/coverage/feature_files/5mC_hc_tombo_sorted.cutoff.0.20.bed',\n",
      " '/home/anjuni/analysis/coverage/feature_files/5mC_hc_tombo_sorted.cutoff.0.70.bed',\n",
      " '/home/anjuni/analysis/coverage/feature_files/5mC_hc_tombo_sorted.cutoff.1.00.bed',\n",
      " '/home/anjuni/analysis/coverage/feature_files/5mC_hc_tombo_sorted.cutoff.0.60.bed',\n",
      " '/home/anjuni/analysis/coverage/feature_files/5mC_hc_tombo_sorted.cutoff.0.30.bed',\n",
      " '/home/anjuni/analysis/coverage/feature_files/5mC_hc_tombo_sorted.cutoff.0.10.bed',\n",
      " '/home/anjuni/analysis/coverage/feature_files/5mC_hc_tombo_sorted.cutoff.0.99.bed',\n",
      " '/home/anjuni/analysis/coverage/feature_files/5mC_hc_tombo_sorted.cutoff.0.00.bed',\n",
      " '/home/anjuni/analysis/coverage/feature_files/5mC_hc_tombo_sorted.cutoff.0.95.bed']\n",
      "['/home/anjuni/analysis/coverage/feature_files/6mA_hc_tombo_sorted.cutoff.0.90.bed',\n",
      " '/home/anjuni/analysis/coverage/feature_files/6mA_hc_tombo_sorted.cutoff.0.60.bed',\n",
      " '/home/anjuni/analysis/coverage/feature_files/6mA_hc_tombo_sorted.cutoff.0.30.bed',\n",
      " '/home/anjuni/analysis/coverage/feature_files/6mA_hc_tombo_sorted.cutoff.0.80.bed',\n",
      " '/home/anjuni/analysis/coverage/feature_files/6mA_hc_tombo_sorted.cutoff.0.70.bed',\n",
      " '/home/anjuni/analysis/coverage/feature_files/6mA_hc_tombo_sorted.cutoff.0.20.bed',\n",
      " '/home/anjuni/analysis/coverage/feature_files/6mA_hc_tombo_sorted.cutoff.0.10.bed',\n",
      " '/home/anjuni/analysis/coverage/feature_files/6mA_hc_tombo_sorted.cutoff.0.40.bed',\n",
      " '/home/anjuni/analysis/coverage/feature_files/6mA_hc_tombo_sorted.cutoff.0.99.bed',\n",
      " '/home/anjuni/analysis/coverage/feature_files/6mA_hc_tombo_sorted.cutoff.1.00.bed',\n",
      " '/home/anjuni/analysis/coverage/feature_files/6mA_hc_tombo_sorted.cutoff.0.95.bed',\n",
      " '/home/anjuni/analysis/coverage/feature_files/6mA_hc_tombo_sorted.cutoff.0.00.bed',\n",
      " '/home/anjuni/analysis/coverage/feature_files/6mA_hc_tombo_sorted.cutoff.0.50.bed']\n"
     ]
    }
   ],
   "source": [
    "# Print lists to check they worked\n",
    "pprint.pprint(intersected_5mC)\n",
    "pprint.pprint(intersected_6mA)\n",
    "pprint.pprint(hc_tombo_5mC)\n",
    "pprint.pprint(hc_tombo_6mA)"
   ]
  },
  {
   "cell_type": "code",
   "execution_count": 74,
   "metadata": {},
   "outputs": [],
   "source": [
    "table_pb_6mA = [fn for fn in glob.iglob('%s/6mA_p*.bed' % DIRS['FEATURES'], recursive=True)]\n",
    "table_np_5mC = [fn for fn in glob.iglob('%s/5mC_hc_n*.bed' % DIRS['FEATURES'], recursive=True)]\n",
    "table_tombo_CpG_5mC = [fn for fn in glob.iglob('%s/5mC_hc_tombo_sorted.C*.bed' % DIRS['FEATURES'], recursive=True)]"
   ]
  },
  {
   "cell_type": "code",
   "execution_count": 75,
   "metadata": {
    "collapsed": true
   },
   "outputs": [
    {
     "name": "stdout",
     "output_type": "stream",
     "text": [
      "['/home/anjuni/analysis/coverage/feature_files/6mA_prob_smrtlink_sorted.cutoff.0.95.bed',\n",
      " '/home/anjuni/analysis/coverage/feature_files/6mA_prob_smrtlink_sorted.cutoff.0.00.bed',\n",
      " '/home/anjuni/analysis/coverage/feature_files/6mA_prob_smrtlink_sorted.cutoff.0.50.bed',\n",
      " '/home/anjuni/analysis/coverage/feature_files/6mA_prob_smrtlink_sorted.cutoff.0.80.bed',\n",
      " '/home/anjuni/analysis/coverage/feature_files/6mA_prob_smrtlink_sorted.cutoff.0.30.bed',\n",
      " '/home/anjuni/analysis/coverage/feature_files/6mA_prob_smrtlink_sorted.cutoff.0.20.bed',\n",
      " '/home/anjuni/analysis/coverage/feature_files/6mA_prob_smrtlink_sorted.cutoff.0.99.bed',\n",
      " '/home/anjuni/analysis/coverage/feature_files/6mA_prob_smrtlink_sorted.cutoff.0.70.bed',\n",
      " '/home/anjuni/analysis/coverage/feature_files/6mA_prob_smrtlink_sorted.cutoff.0.90.bed',\n",
      " '/home/anjuni/analysis/coverage/feature_files/6mA_prob_smrtlink_sorted.cutoff.0.60.bed',\n",
      " '/home/anjuni/analysis/coverage/feature_files/6mA_prob_smrtlink_sorted.cutoff.1.00.bed',\n",
      " '/home/anjuni/analysis/coverage/feature_files/6mA_prob_smrtlink_sorted.cutoff.0.10.bed',\n",
      " '/home/anjuni/analysis/coverage/feature_files/6mA_prob_smrtlink_sorted.cutoff.0.40.bed']\n",
      "['/home/anjuni/analysis/coverage/feature_files/5mC_hc_nanopolish_sorted.cutoff.0.90.bed',\n",
      " '/home/anjuni/analysis/coverage/feature_files/5mC_hc_nanopolish_sorted.cutoff.0.60.bed',\n",
      " '/home/anjuni/analysis/coverage/feature_files/5mC_hc_nanopolish_sorted.cutoff.0.00.bed',\n",
      " '/home/anjuni/analysis/coverage/feature_files/5mC_hc_nanopolish_sorted.cutoff.0.80.bed',\n",
      " '/home/anjuni/analysis/coverage/feature_files/5mC_hc_nanopolish_sorted.cutoff.0.40.bed',\n",
      " '/home/anjuni/analysis/coverage/feature_files/5mC_hc_nanopolish_sorted.cutoff.0.50.bed',\n",
      " '/home/anjuni/analysis/coverage/feature_files/5mC_hc_nanopolish_sorted.cutoff.0.10.bed',\n",
      " '/home/anjuni/analysis/coverage/feature_files/5mC_hc_nanopolish_sorted.cutoff.0.20.bed',\n",
      " '/home/anjuni/analysis/coverage/feature_files/5mC_hc_nanopolish_sorted.cutoff.0.70.bed',\n",
      " '/home/anjuni/analysis/coverage/feature_files/5mC_hc_nanopolish_sorted.cutoff.0.99.bed',\n",
      " '/home/anjuni/analysis/coverage/feature_files/5mC_hc_nanopolish_sorted.cutoff.0.30.bed',\n",
      " '/home/anjuni/analysis/coverage/feature_files/5mC_hc_nanopolish_sorted.cutoff.0.95.bed',\n",
      " '/home/anjuni/analysis/coverage/feature_files/5mC_hc_nanopolish_sorted.cutoff.1.00.bed']\n",
      "['/home/anjuni/analysis/coverage/feature_files/5mC_hc_tombo_sorted.CpG.plus.cutoff.0.70.bed',\n",
      " '/home/anjuni/analysis/coverage/feature_files/5mC_hc_tombo_sorted.CpG.plus.cutoff.0.80.bed',\n",
      " '/home/anjuni/analysis/coverage/feature_files/5mC_hc_tombo_sorted.CpG.plus.cutoff.0.95.bed',\n",
      " '/home/anjuni/analysis/coverage/feature_files/5mC_hc_tombo_sorted.CpG.plus.cutoff.0.10.bed',\n",
      " '/home/anjuni/analysis/coverage/feature_files/5mC_hc_tombo_sorted.CpG.plus.cutoff.0.50.bed',\n",
      " '/home/anjuni/analysis/coverage/feature_files/5mC_hc_tombo_sorted.CpG.plus.cutoff.0.99.bed',\n",
      " '/home/anjuni/analysis/coverage/feature_files/5mC_hc_tombo_sorted.CpG.plus.cutoff.1.00.bed',\n",
      " '/home/anjuni/analysis/coverage/feature_files/5mC_hc_tombo_sorted.CpG.plus.cutoff.0.20.bed',\n",
      " '/home/anjuni/analysis/coverage/feature_files/5mC_hc_tombo_sorted.CpG.plus.cutoff.0.60.bed',\n",
      " '/home/anjuni/analysis/coverage/feature_files/5mC_hc_tombo_sorted.CpG.plus.cutoff.0.00.bed',\n",
      " '/home/anjuni/analysis/coverage/feature_files/5mC_hc_tombo_sorted.CpG.plus.cutoff.0.90.bed',\n",
      " '/home/anjuni/analysis/coverage/feature_files/5mC_hc_tombo_sorted.CpG.plus.cutoff.0.30.bed',\n",
      " '/home/anjuni/analysis/coverage/feature_files/5mC_hc_tombo_sorted.CpG.plus.cutoff.0.40.bed']\n"
     ]
    }
   ],
   "source": [
    "pprint.pprint(table_pb_6mA)\n",
    "pprint.pprint(table_np_5mC)\n",
    "pprint.pprint(table_tombo_CpG_5mC)"
   ]
  },
  {
   "cell_type": "code",
   "execution_count": 125,
   "metadata": {},
   "outputs": [],
   "source": [
    "# These lists are not sorted, so sort them before doing windows\n",
    "intersected_5mC.sort()\n",
    "intersected_6mA.sort()\n",
    "hc_tombo_5mC.sort()\n",
    "hc_tombo_6mA.sort()"
   ]
  },
  {
   "cell_type": "code",
   "execution_count": 126,
   "metadata": {
    "collapsed": true
   },
   "outputs": [
    {
     "name": "stdout",
     "output_type": "stream",
     "text": [
      "['/home/anjuni/analysis/coverage/feature_files/5mC_tombo_nanopolish.cutoff.0.00.bed',\n",
      " '/home/anjuni/analysis/coverage/feature_files/5mC_tombo_nanopolish.cutoff.0.10.bed',\n",
      " '/home/anjuni/analysis/coverage/feature_files/5mC_tombo_nanopolish.cutoff.0.20.bed',\n",
      " '/home/anjuni/analysis/coverage/feature_files/5mC_tombo_nanopolish.cutoff.0.30.bed',\n",
      " '/home/anjuni/analysis/coverage/feature_files/5mC_tombo_nanopolish.cutoff.0.40.bed',\n",
      " '/home/anjuni/analysis/coverage/feature_files/5mC_tombo_nanopolish.cutoff.0.50.bed',\n",
      " '/home/anjuni/analysis/coverage/feature_files/5mC_tombo_nanopolish.cutoff.0.60.bed',\n",
      " '/home/anjuni/analysis/coverage/feature_files/5mC_tombo_nanopolish.cutoff.0.70.bed',\n",
      " '/home/anjuni/analysis/coverage/feature_files/5mC_tombo_nanopolish.cutoff.0.80.bed',\n",
      " '/home/anjuni/analysis/coverage/feature_files/5mC_tombo_nanopolish.cutoff.0.90.bed',\n",
      " '/home/anjuni/analysis/coverage/feature_files/5mC_tombo_nanopolish.cutoff.0.95.bed',\n",
      " '/home/anjuni/analysis/coverage/feature_files/5mC_tombo_nanopolish.cutoff.0.99.bed',\n",
      " '/home/anjuni/analysis/coverage/feature_files/5mC_tombo_nanopolish.cutoff.1.00.bed']\n",
      "['/home/anjuni/analysis/coverage/feature_files/6mA_tombo_smrtlink.cutoff.0.00.bed',\n",
      " '/home/anjuni/analysis/coverage/feature_files/6mA_tombo_smrtlink.cutoff.0.10.bed',\n",
      " '/home/anjuni/analysis/coverage/feature_files/6mA_tombo_smrtlink.cutoff.0.20.bed',\n",
      " '/home/anjuni/analysis/coverage/feature_files/6mA_tombo_smrtlink.cutoff.0.30.bed',\n",
      " '/home/anjuni/analysis/coverage/feature_files/6mA_tombo_smrtlink.cutoff.0.40.bed',\n",
      " '/home/anjuni/analysis/coverage/feature_files/6mA_tombo_smrtlink.cutoff.0.50.bed',\n",
      " '/home/anjuni/analysis/coverage/feature_files/6mA_tombo_smrtlink.cutoff.0.60.bed',\n",
      " '/home/anjuni/analysis/coverage/feature_files/6mA_tombo_smrtlink.cutoff.0.70.bed',\n",
      " '/home/anjuni/analysis/coverage/feature_files/6mA_tombo_smrtlink.cutoff.0.80.bed',\n",
      " '/home/anjuni/analysis/coverage/feature_files/6mA_tombo_smrtlink.cutoff.0.90.bed',\n",
      " '/home/anjuni/analysis/coverage/feature_files/6mA_tombo_smrtlink.cutoff.0.95.bed',\n",
      " '/home/anjuni/analysis/coverage/feature_files/6mA_tombo_smrtlink.cutoff.0.99.bed',\n",
      " '/home/anjuni/analysis/coverage/feature_files/6mA_tombo_smrtlink.cutoff.1.00.bed']\n",
      "['/home/anjuni/analysis/coverage/feature_files/5mC_hc_tombo_sorted.cutoff.0.00.bed',\n",
      " '/home/anjuni/analysis/coverage/feature_files/5mC_hc_tombo_sorted.cutoff.0.10.bed',\n",
      " '/home/anjuni/analysis/coverage/feature_files/5mC_hc_tombo_sorted.cutoff.0.20.bed',\n",
      " '/home/anjuni/analysis/coverage/feature_files/5mC_hc_tombo_sorted.cutoff.0.30.bed',\n",
      " '/home/anjuni/analysis/coverage/feature_files/5mC_hc_tombo_sorted.cutoff.0.40.bed',\n",
      " '/home/anjuni/analysis/coverage/feature_files/5mC_hc_tombo_sorted.cutoff.0.50.bed',\n",
      " '/home/anjuni/analysis/coverage/feature_files/5mC_hc_tombo_sorted.cutoff.0.60.bed',\n",
      " '/home/anjuni/analysis/coverage/feature_files/5mC_hc_tombo_sorted.cutoff.0.70.bed',\n",
      " '/home/anjuni/analysis/coverage/feature_files/5mC_hc_tombo_sorted.cutoff.0.80.bed',\n",
      " '/home/anjuni/analysis/coverage/feature_files/5mC_hc_tombo_sorted.cutoff.0.90.bed',\n",
      " '/home/anjuni/analysis/coverage/feature_files/5mC_hc_tombo_sorted.cutoff.0.95.bed',\n",
      " '/home/anjuni/analysis/coverage/feature_files/5mC_hc_tombo_sorted.cutoff.0.99.bed',\n",
      " '/home/anjuni/analysis/coverage/feature_files/5mC_hc_tombo_sorted.cutoff.1.00.bed']\n",
      "['/home/anjuni/analysis/coverage/feature_files/6mA_hc_tombo_sorted.cutoff.0.00.bed',\n",
      " '/home/anjuni/analysis/coverage/feature_files/6mA_hc_tombo_sorted.cutoff.0.10.bed',\n",
      " '/home/anjuni/analysis/coverage/feature_files/6mA_hc_tombo_sorted.cutoff.0.20.bed',\n",
      " '/home/anjuni/analysis/coverage/feature_files/6mA_hc_tombo_sorted.cutoff.0.30.bed',\n",
      " '/home/anjuni/analysis/coverage/feature_files/6mA_hc_tombo_sorted.cutoff.0.40.bed',\n",
      " '/home/anjuni/analysis/coverage/feature_files/6mA_hc_tombo_sorted.cutoff.0.50.bed',\n",
      " '/home/anjuni/analysis/coverage/feature_files/6mA_hc_tombo_sorted.cutoff.0.60.bed',\n",
      " '/home/anjuni/analysis/coverage/feature_files/6mA_hc_tombo_sorted.cutoff.0.70.bed',\n",
      " '/home/anjuni/analysis/coverage/feature_files/6mA_hc_tombo_sorted.cutoff.0.80.bed',\n",
      " '/home/anjuni/analysis/coverage/feature_files/6mA_hc_tombo_sorted.cutoff.0.90.bed',\n",
      " '/home/anjuni/analysis/coverage/feature_files/6mA_hc_tombo_sorted.cutoff.0.95.bed',\n",
      " '/home/anjuni/analysis/coverage/feature_files/6mA_hc_tombo_sorted.cutoff.0.99.bed',\n",
      " '/home/anjuni/analysis/coverage/feature_files/6mA_hc_tombo_sorted.cutoff.1.00.bed']\n"
     ]
    }
   ],
   "source": [
    "# Print sorted lists to check they worked (they did! time for windows)\n",
    "pprint.pprint(intersected_5mC)\n",
    "pprint.pprint(intersected_6mA)\n",
    "pprint.pprint(hc_tombo_5mC)\n",
    "pprint.pprint(hc_tombo_6mA)"
   ]
  },
  {
   "cell_type": "code",
   "execution_count": 76,
   "metadata": {},
   "outputs": [],
   "source": [
    "table_np_5mC.sort()\n",
    "table_pb_6mA.sort()\n",
    "table_tombo_CpG_5mC.sort()"
   ]
  },
  {
   "cell_type": "code",
   "execution_count": 77,
   "metadata": {
    "collapsed": true
   },
   "outputs": [
    {
     "name": "stdout",
     "output_type": "stream",
     "text": [
      "['/home/anjuni/analysis/coverage/feature_files/6mA_prob_smrtlink_sorted.cutoff.0.00.bed',\n",
      " '/home/anjuni/analysis/coverage/feature_files/6mA_prob_smrtlink_sorted.cutoff.0.10.bed',\n",
      " '/home/anjuni/analysis/coverage/feature_files/6mA_prob_smrtlink_sorted.cutoff.0.20.bed',\n",
      " '/home/anjuni/analysis/coverage/feature_files/6mA_prob_smrtlink_sorted.cutoff.0.30.bed',\n",
      " '/home/anjuni/analysis/coverage/feature_files/6mA_prob_smrtlink_sorted.cutoff.0.40.bed',\n",
      " '/home/anjuni/analysis/coverage/feature_files/6mA_prob_smrtlink_sorted.cutoff.0.50.bed',\n",
      " '/home/anjuni/analysis/coverage/feature_files/6mA_prob_smrtlink_sorted.cutoff.0.60.bed',\n",
      " '/home/anjuni/analysis/coverage/feature_files/6mA_prob_smrtlink_sorted.cutoff.0.70.bed',\n",
      " '/home/anjuni/analysis/coverage/feature_files/6mA_prob_smrtlink_sorted.cutoff.0.80.bed',\n",
      " '/home/anjuni/analysis/coverage/feature_files/6mA_prob_smrtlink_sorted.cutoff.0.90.bed',\n",
      " '/home/anjuni/analysis/coverage/feature_files/6mA_prob_smrtlink_sorted.cutoff.0.95.bed',\n",
      " '/home/anjuni/analysis/coverage/feature_files/6mA_prob_smrtlink_sorted.cutoff.0.99.bed',\n",
      " '/home/anjuni/analysis/coverage/feature_files/6mA_prob_smrtlink_sorted.cutoff.1.00.bed']\n",
      "['/home/anjuni/analysis/coverage/feature_files/5mC_hc_nanopolish_sorted.cutoff.0.00.bed',\n",
      " '/home/anjuni/analysis/coverage/feature_files/5mC_hc_nanopolish_sorted.cutoff.0.10.bed',\n",
      " '/home/anjuni/analysis/coverage/feature_files/5mC_hc_nanopolish_sorted.cutoff.0.20.bed',\n",
      " '/home/anjuni/analysis/coverage/feature_files/5mC_hc_nanopolish_sorted.cutoff.0.30.bed',\n",
      " '/home/anjuni/analysis/coverage/feature_files/5mC_hc_nanopolish_sorted.cutoff.0.40.bed',\n",
      " '/home/anjuni/analysis/coverage/feature_files/5mC_hc_nanopolish_sorted.cutoff.0.50.bed',\n",
      " '/home/anjuni/analysis/coverage/feature_files/5mC_hc_nanopolish_sorted.cutoff.0.60.bed',\n",
      " '/home/anjuni/analysis/coverage/feature_files/5mC_hc_nanopolish_sorted.cutoff.0.70.bed',\n",
      " '/home/anjuni/analysis/coverage/feature_files/5mC_hc_nanopolish_sorted.cutoff.0.80.bed',\n",
      " '/home/anjuni/analysis/coverage/feature_files/5mC_hc_nanopolish_sorted.cutoff.0.90.bed',\n",
      " '/home/anjuni/analysis/coverage/feature_files/5mC_hc_nanopolish_sorted.cutoff.0.95.bed',\n",
      " '/home/anjuni/analysis/coverage/feature_files/5mC_hc_nanopolish_sorted.cutoff.0.99.bed',\n",
      " '/home/anjuni/analysis/coverage/feature_files/5mC_hc_nanopolish_sorted.cutoff.1.00.bed']\n",
      "['/home/anjuni/analysis/coverage/feature_files/5mC_hc_tombo_sorted.CpG.plus.cutoff.0.00.bed',\n",
      " '/home/anjuni/analysis/coverage/feature_files/5mC_hc_tombo_sorted.CpG.plus.cutoff.0.10.bed',\n",
      " '/home/anjuni/analysis/coverage/feature_files/5mC_hc_tombo_sorted.CpG.plus.cutoff.0.20.bed',\n",
      " '/home/anjuni/analysis/coverage/feature_files/5mC_hc_tombo_sorted.CpG.plus.cutoff.0.30.bed',\n",
      " '/home/anjuni/analysis/coverage/feature_files/5mC_hc_tombo_sorted.CpG.plus.cutoff.0.40.bed',\n",
      " '/home/anjuni/analysis/coverage/feature_files/5mC_hc_tombo_sorted.CpG.plus.cutoff.0.50.bed',\n",
      " '/home/anjuni/analysis/coverage/feature_files/5mC_hc_tombo_sorted.CpG.plus.cutoff.0.60.bed',\n",
      " '/home/anjuni/analysis/coverage/feature_files/5mC_hc_tombo_sorted.CpG.plus.cutoff.0.70.bed',\n",
      " '/home/anjuni/analysis/coverage/feature_files/5mC_hc_tombo_sorted.CpG.plus.cutoff.0.80.bed',\n",
      " '/home/anjuni/analysis/coverage/feature_files/5mC_hc_tombo_sorted.CpG.plus.cutoff.0.90.bed',\n",
      " '/home/anjuni/analysis/coverage/feature_files/5mC_hc_tombo_sorted.CpG.plus.cutoff.0.95.bed',\n",
      " '/home/anjuni/analysis/coverage/feature_files/5mC_hc_tombo_sorted.CpG.plus.cutoff.0.99.bed',\n",
      " '/home/anjuni/analysis/coverage/feature_files/5mC_hc_tombo_sorted.CpG.plus.cutoff.1.00.bed']\n"
     ]
    }
   ],
   "source": [
    "pprint.pprint(table_pb_6mA)\n",
    "pprint.pprint(table_np_5mC)\n",
    "pprint.pprint(table_tombo_CpG_5mC)"
   ]
  },
  {
   "cell_type": "markdown",
   "metadata": {},
   "source": [
    "### <span style='color:#8a14ff'> 3.B Making a table for the cutoff files. <span/>"
   ]
  },
  {
   "cell_type": "code",
   "execution_count": 40,
   "metadata": {
    "collapsed": true
   },
   "outputs": [
    {
     "name": "stdout",
     "output_type": "stream",
     "text": [
      "['/home/anjuni/methylation_calling/pacbio/input/sorted_bed_files/cutoffs_5mC/5mC_hc_nanopolish_sorted.cutoff.0.00.bed',\n",
      " '/home/anjuni/methylation_calling/pacbio/input/sorted_bed_files/cutoffs_5mC/5mC_hc_nanopolish_sorted.cutoff.0.10.bed',\n",
      " '/home/anjuni/methylation_calling/pacbio/input/sorted_bed_files/cutoffs_5mC/5mC_hc_nanopolish_sorted.cutoff.0.20.bed',\n",
      " '/home/anjuni/methylation_calling/pacbio/input/sorted_bed_files/cutoffs_5mC/5mC_hc_nanopolish_sorted.cutoff.0.30.bed',\n",
      " '/home/anjuni/methylation_calling/pacbio/input/sorted_bed_files/cutoffs_5mC/5mC_hc_nanopolish_sorted.cutoff.0.40.bed',\n",
      " '/home/anjuni/methylation_calling/pacbio/input/sorted_bed_files/cutoffs_5mC/5mC_hc_nanopolish_sorted.cutoff.0.50.bed',\n",
      " '/home/anjuni/methylation_calling/pacbio/input/sorted_bed_files/cutoffs_5mC/5mC_hc_nanopolish_sorted.cutoff.0.60.bed',\n",
      " '/home/anjuni/methylation_calling/pacbio/input/sorted_bed_files/cutoffs_5mC/5mC_hc_nanopolish_sorted.cutoff.0.70.bed',\n",
      " '/home/anjuni/methylation_calling/pacbio/input/sorted_bed_files/cutoffs_5mC/5mC_hc_nanopolish_sorted.cutoff.0.80.bed',\n",
      " '/home/anjuni/methylation_calling/pacbio/input/sorted_bed_files/cutoffs_5mC/5mC_hc_nanopolish_sorted.cutoff.0.90.bed',\n",
      " '/home/anjuni/methylation_calling/pacbio/input/sorted_bed_files/cutoffs_5mC/5mC_hc_nanopolish_sorted.cutoff.0.95.bed',\n",
      " '/home/anjuni/methylation_calling/pacbio/input/sorted_bed_files/cutoffs_5mC/5mC_hc_nanopolish_sorted.cutoff.0.99.bed',\n",
      " '/home/anjuni/methylation_calling/pacbio/input/sorted_bed_files/cutoffs_5mC/5mC_hc_nanopolish_sorted.cutoff.1.00.bed']\n",
      "['/home/anjuni/methylation_calling/pacbio/input/sorted_bed_files/cutoffs_5mC/5mC_hc_tombo_sorted.CpG.plus.cutoff.0.00.bed',\n",
      " '/home/anjuni/methylation_calling/pacbio/input/sorted_bed_files/cutoffs_5mC/5mC_hc_tombo_sorted.CpG.plus.cutoff.0.10.bed',\n",
      " '/home/anjuni/methylation_calling/pacbio/input/sorted_bed_files/cutoffs_5mC/5mC_hc_tombo_sorted.CpG.plus.cutoff.0.20.bed',\n",
      " '/home/anjuni/methylation_calling/pacbio/input/sorted_bed_files/cutoffs_5mC/5mC_hc_tombo_sorted.CpG.plus.cutoff.0.30.bed',\n",
      " '/home/anjuni/methylation_calling/pacbio/input/sorted_bed_files/cutoffs_5mC/5mC_hc_tombo_sorted.CpG.plus.cutoff.0.40.bed',\n",
      " '/home/anjuni/methylation_calling/pacbio/input/sorted_bed_files/cutoffs_5mC/5mC_hc_tombo_sorted.CpG.plus.cutoff.0.50.bed',\n",
      " '/home/anjuni/methylation_calling/pacbio/input/sorted_bed_files/cutoffs_5mC/5mC_hc_tombo_sorted.CpG.plus.cutoff.0.60.bed',\n",
      " '/home/anjuni/methylation_calling/pacbio/input/sorted_bed_files/cutoffs_5mC/5mC_hc_tombo_sorted.CpG.plus.cutoff.0.70.bed',\n",
      " '/home/anjuni/methylation_calling/pacbio/input/sorted_bed_files/cutoffs_5mC/5mC_hc_tombo_sorted.CpG.plus.cutoff.0.80.bed',\n",
      " '/home/anjuni/methylation_calling/pacbio/input/sorted_bed_files/cutoffs_5mC/5mC_hc_tombo_sorted.CpG.plus.cutoff.0.90.bed',\n",
      " '/home/anjuni/methylation_calling/pacbio/input/sorted_bed_files/cutoffs_5mC/5mC_hc_tombo_sorted.CpG.plus.cutoff.0.95.bed',\n",
      " '/home/anjuni/methylation_calling/pacbio/input/sorted_bed_files/cutoffs_5mC/5mC_hc_tombo_sorted.CpG.plus.cutoff.0.99.bed',\n",
      " '/home/anjuni/methylation_calling/pacbio/input/sorted_bed_files/cutoffs_5mC/5mC_hc_tombo_sorted.CpG.plus.cutoff.1.00.bed']\n",
      "['/home/anjuni/methylation_calling/pacbio/input/sorted_bed_files/cutoffs_6mA/6mA_prob_smrtlink_sorted.cutoff.0.00.bed',\n",
      " '/home/anjuni/methylation_calling/pacbio/input/sorted_bed_files/cutoffs_6mA/6mA_prob_smrtlink_sorted.cutoff.0.10.bed',\n",
      " '/home/anjuni/methylation_calling/pacbio/input/sorted_bed_files/cutoffs_6mA/6mA_prob_smrtlink_sorted.cutoff.0.20.bed',\n",
      " '/home/anjuni/methylation_calling/pacbio/input/sorted_bed_files/cutoffs_6mA/6mA_prob_smrtlink_sorted.cutoff.0.30.bed',\n",
      " '/home/anjuni/methylation_calling/pacbio/input/sorted_bed_files/cutoffs_6mA/6mA_prob_smrtlink_sorted.cutoff.0.40.bed',\n",
      " '/home/anjuni/methylation_calling/pacbio/input/sorted_bed_files/cutoffs_6mA/6mA_prob_smrtlink_sorted.cutoff.0.50.bed',\n",
      " '/home/anjuni/methylation_calling/pacbio/input/sorted_bed_files/cutoffs_6mA/6mA_prob_smrtlink_sorted.cutoff.0.60.bed',\n",
      " '/home/anjuni/methylation_calling/pacbio/input/sorted_bed_files/cutoffs_6mA/6mA_prob_smrtlink_sorted.cutoff.0.70.bed',\n",
      " '/home/anjuni/methylation_calling/pacbio/input/sorted_bed_files/cutoffs_6mA/6mA_prob_smrtlink_sorted.cutoff.0.80.bed',\n",
      " '/home/anjuni/methylation_calling/pacbio/input/sorted_bed_files/cutoffs_6mA/6mA_prob_smrtlink_sorted.cutoff.0.90.bed',\n",
      " '/home/anjuni/methylation_calling/pacbio/input/sorted_bed_files/cutoffs_6mA/6mA_prob_smrtlink_sorted.cutoff.0.95.bed',\n",
      " '/home/anjuni/methylation_calling/pacbio/input/sorted_bed_files/cutoffs_6mA/6mA_prob_smrtlink_sorted.cutoff.0.99.bed',\n",
      " '/home/anjuni/methylation_calling/pacbio/input/sorted_bed_files/cutoffs_6mA/6mA_prob_smrtlink_sorted.cutoff.1.00.bed']\n",
      "['/home/anjuni/methylation_calling/pacbio/input/sorted_bed_files/cutoffs_6mA/6mA_hc_tombo_sorted.cutoff.0.00.bed',\n",
      " '/home/anjuni/methylation_calling/pacbio/input/sorted_bed_files/cutoffs_6mA/6mA_hc_tombo_sorted.cutoff.0.10.bed',\n",
      " '/home/anjuni/methylation_calling/pacbio/input/sorted_bed_files/cutoffs_6mA/6mA_hc_tombo_sorted.cutoff.0.20.bed',\n",
      " '/home/anjuni/methylation_calling/pacbio/input/sorted_bed_files/cutoffs_6mA/6mA_hc_tombo_sorted.cutoff.0.30.bed',\n",
      " '/home/anjuni/methylation_calling/pacbio/input/sorted_bed_files/cutoffs_6mA/6mA_hc_tombo_sorted.cutoff.0.40.bed',\n",
      " '/home/anjuni/methylation_calling/pacbio/input/sorted_bed_files/cutoffs_6mA/6mA_hc_tombo_sorted.cutoff.0.50.bed',\n",
      " '/home/anjuni/methylation_calling/pacbio/input/sorted_bed_files/cutoffs_6mA/6mA_hc_tombo_sorted.cutoff.0.60.bed',\n",
      " '/home/anjuni/methylation_calling/pacbio/input/sorted_bed_files/cutoffs_6mA/6mA_hc_tombo_sorted.cutoff.0.70.bed',\n",
      " '/home/anjuni/methylation_calling/pacbio/input/sorted_bed_files/cutoffs_6mA/6mA_hc_tombo_sorted.cutoff.0.80.bed',\n",
      " '/home/anjuni/methylation_calling/pacbio/input/sorted_bed_files/cutoffs_6mA/6mA_hc_tombo_sorted.cutoff.0.90.bed',\n",
      " '/home/anjuni/methylation_calling/pacbio/input/sorted_bed_files/cutoffs_6mA/6mA_hc_tombo_sorted.cutoff.0.95.bed',\n",
      " '/home/anjuni/methylation_calling/pacbio/input/sorted_bed_files/cutoffs_6mA/6mA_hc_tombo_sorted.cutoff.0.99.bed',\n",
      " '/home/anjuni/methylation_calling/pacbio/input/sorted_bed_files/cutoffs_6mA/6mA_hc_tombo_sorted.cutoff.1.00.bed']\n",
      "['/home/anjuni/analysis/coverage/feature_files/5mC_tombo_nanopolish.cutoff.0.10.bed',\n",
      " '/home/anjuni/analysis/coverage/feature_files/5mC_tombo_nanopolish.cutoff.0.90.bed',\n",
      " '/home/anjuni/analysis/coverage/feature_files/5mC_tombo_nanopolish.cutoff.0.50.bed',\n",
      " '/home/anjuni/analysis/coverage/feature_files/5mC_tombo_nanopolish.cutoff.0.20.bed',\n",
      " '/home/anjuni/analysis/coverage/feature_files/5mC_tombo_nanopolish.cutoff.0.99.bed',\n",
      " '/home/anjuni/analysis/coverage/feature_files/5mC_tombo_nanopolish.cutoff.0.40.bed',\n",
      " '/home/anjuni/analysis/coverage/feature_files/5mC_tombo_nanopolish.cutoff.0.70.bed',\n",
      " '/home/anjuni/analysis/coverage/feature_files/5mC_tombo_nanopolish.cutoff.0.80.bed',\n",
      " '/home/anjuni/analysis/coverage/feature_files/5mC_tombo_nanopolish.cutoff.0.00.bed',\n",
      " '/home/anjuni/analysis/coverage/feature_files/5mC_tombo_nanopolish.cutoff.0.30.bed',\n",
      " '/home/anjuni/analysis/coverage/feature_files/5mC_tombo_nanopolish.cutoff.0.95.bed',\n",
      " '/home/anjuni/analysis/coverage/feature_files/5mC_tombo_nanopolish.cutoff.0.60.bed',\n",
      " '/home/anjuni/analysis/coverage/feature_files/5mC_tombo_nanopolish.cutoff.1.00.bed']\n",
      "['/home/anjuni/analysis/coverage/feature_files/6mA_tombo_smrtlink.cutoff.0.95.bed',\n",
      " '/home/anjuni/analysis/coverage/feature_files/6mA_tombo_smrtlink.cutoff.0.80.bed',\n",
      " '/home/anjuni/analysis/coverage/feature_files/6mA_tombo_smrtlink.cutoff.0.30.bed',\n",
      " '/home/anjuni/analysis/coverage/feature_files/6mA_tombo_smrtlink.cutoff.0.00.bed',\n",
      " '/home/anjuni/analysis/coverage/feature_files/6mA_tombo_smrtlink.cutoff.0.50.bed',\n",
      " '/home/anjuni/analysis/coverage/feature_files/6mA_tombo_smrtlink.cutoff.0.10.bed',\n",
      " '/home/anjuni/analysis/coverage/feature_files/6mA_tombo_smrtlink.cutoff.0.70.bed',\n",
      " '/home/anjuni/analysis/coverage/feature_files/6mA_tombo_smrtlink.cutoff.0.90.bed',\n",
      " '/home/anjuni/analysis/coverage/feature_files/6mA_tombo_smrtlink.cutoff.0.60.bed',\n",
      " '/home/anjuni/analysis/coverage/feature_files/6mA_tombo_smrtlink.cutoff.0.20.bed',\n",
      " '/home/anjuni/analysis/coverage/feature_files/6mA_tombo_smrtlink.cutoff.0.40.bed',\n",
      " '/home/anjuni/analysis/coverage/feature_files/6mA_tombo_smrtlink.cutoff.1.00.bed',\n",
      " '/home/anjuni/analysis/coverage/feature_files/6mA_tombo_smrtlink.cutoff.0.99.bed']\n"
     ]
    }
   ],
   "source": [
    "# Gather the lists to be used as inputs\n",
    "pprint.pprint(np_5mC)\n",
    "pprint.pprint(tombo_CpG_5mC)\n",
    "pprint.pprint(pb_6mA)\n",
    "pprint.pprint(ont_6mA)\n",
    "pprint.pprint(intersected_5mC)\n",
    "pprint.pprint(intersected_6mA)"
   ]
  },
  {
   "cell_type": "code",
   "execution_count": 41,
   "metadata": {},
   "outputs": [],
   "source": [
    "# Write the function to count sites\n",
    "def make_site_count_list(fn_list):\n",
    "    \"\"\"This is a function that returns a list of the number of lines in a file, when a list of files is given as input.\"\"\"\n",
    "    site_count_list = []\n",
    "    for fn in fn_list:\n",
    "        count = 0\n",
    "        with open(fn, 'r') as infile:\n",
    "            for line in infile:\n",
    "                count += 1\n",
    "        site_count_list.append(count)\n",
    "    return site_count_list"
   ]
  },
  {
   "cell_type": "code",
   "execution_count": 133,
   "metadata": {},
   "outputs": [],
   "source": [
    "np_5mC_count_list = make_site_count_list(np_5mC)\n",
    "tombo_CpG_5mC_count_list = make_site_count_list(tombo_CpG_5mC)\n",
    "pb_6mA_count_list = make_site_count_list(pb_6mA)\n",
    "ont_6mA_count_list = make_site_count_list(ont_6mA)\n",
    "intersected_5mC_count_list = make_site_count_list(intersected_5mC)\n",
    "intersected_6mA_count_list = make_site_count_list(intersected_6mA)"
   ]
  },
  {
   "cell_type": "code",
   "execution_count": 134,
   "metadata": {},
   "outputs": [
    {
     "name": "stdout",
     "output_type": "stream",
     "text": [
      "[3783438, 2655129, 2408326, 2329892, 2287038, 2249995, 2195581, 2122684, 1995419, 1597784, 1068255, 609093, 608808]\n",
      "[5167951, 5123192, 4970628, 4660551, 4184707, 3511671, 2414941, 1380931, 681458, 249792, 140848, 120970, 120970]\n",
      "[88932, 88932, 88932, 88932, 88932, 88932, 88932, 88932, 88932, 88932, 88932, 88932, 68]\n",
      "[83451878, 80777279, 73301535, 61332775, 47837744, 34554267, 19402593, 8986431, 3668473, 1333195, 928352, 882625, 882625]\n",
      "[3708640, 2581835, 2313616, 2174002, 2025031, 1823390, 1439138, 953767, 502953, 151839, 53649, 30708, 30691]\n",
      "[84733, 77694, 66199, 53979, 42461, 31857, 19602, 10085, 4457, 1380, 622, 507, 0]\n"
     ]
    }
   ],
   "source": [
    "print(np_5mC_count_list)\n",
    "print(tombo_CpG_5mC_count_list)\n",
    "print(pb_6mA_count_list)\n",
    "print(ont_6mA_count_list)\n",
    "print(intersected_5mC_count_list)\n",
    "print(intersected_6mA_count_list)"
   ]
  },
  {
   "cell_type": "code",
   "execution_count": 128,
   "metadata": {},
   "outputs": [],
   "source": [
    "# Make a list of percentage overlap\n",
    "def make_percent_overlap_list(intersect_list, smaller_file_list):\n",
    "    \"\"\"Calculates percentage of intersection as a proportion of the smaller input file.\"\"\"\n",
    "    percent_list = []\n",
    "    for i in range(len(intersect_list)):\n",
    "        if intersect_list[i] == 0:\n",
    "            percent = float(0)\n",
    "            percent_list.append(percent)\n",
    "        else:\n",
    "            percent = intersect_list[i] / smaller_file_list[i]\n",
    "            percent = 100*percent\n",
    "            percent_list.append(percent)\n",
    "    return percent_list"
   ]
  },
  {
   "cell_type": "code",
   "execution_count": 135,
   "metadata": {},
   "outputs": [],
   "source": [
    "percent_overlap_5mC = make_percent_overlap_list(intersected_5mC_count_list, np_5mC_count_list)\n",
    "percent_overlap_6mA = make_percent_overlap_list(intersected_6mA_count_list, pb_6mA_count_list)"
   ]
  },
  {
   "cell_type": "code",
   "execution_count": 136,
   "metadata": {},
   "outputs": [],
   "source": [
    "cutoff_5mC = {}\n",
    "cutoff_5mC['Tombo Sites'] = tombo_CpG_5mC_count_list\n",
    "cutoff_5mC['Nanopolish Sites'] = np_5mC_count_list\n",
    "cutoff_5mC['Overlapping Sites'] = intersected_5mC_count_list\n",
    "cutoff_5mC['Methylated Fraction Cutoff'] = cutoff_list\n",
    "cutoff_5mC['Percentage Overlap (%)'] = percent_overlap_5mC"
   ]
  },
  {
   "cell_type": "code",
   "execution_count": 137,
   "metadata": {},
   "outputs": [],
   "source": [
    "cutoff_6mA = {}\n",
    "cutoff_6mA['PacBio Sites'] = pb_6mA_count_list\n",
    "cutoff_6mA['Nanopore Sites'] = ont_6mA_count_list\n",
    "cutoff_6mA['Overlapping Sites'] = intersected_6mA_count_list\n",
    "cutoff_6mA['Methylated Fraction Cutoff'] = cutoff_list\n",
    "cutoff_6mA['Percentage Overlap (%)'] = percent_overlap_6mA"
   ]
  },
  {
   "cell_type": "code",
   "execution_count": 138,
   "metadata": {},
   "outputs": [],
   "source": [
    "# Save the dataframes as csv files for 5mC and 6mA\n",
    "df = pd.DataFrame.from_dict(cutoff_5mC)\n",
    "df = df [['Methylated Fraction Cutoff', 'Tombo Sites', 'Nanopolish Sites', 'Overlapping Sites', 'Percentage Overlap (%)']]\n",
    "df.to_csv(os.path.join(DIRS['FIGURES'], '5mC_cutoff_table'), header=True, index=None, sep='\\t')\n",
    "\n",
    "df = pd.DataFrame.from_dict(cutoff_6mA)\n",
    "df = df [['Methylated Fraction Cutoff', 'Nanopore Sites', 'PacBio Sites', 'Overlapping Sites', 'Percentage Overlap (%)']]\n",
    "df.to_csv(os.path.join(DIRS['FIGURES'], '6mA_cutoff_table'), header=True, index=None, sep='\\t')"
   ]
  },
  {
   "cell_type": "code",
   "execution_count": 148,
   "metadata": {
    "scrolled": true
   },
   "outputs": [
    {
     "data": {
      "text/plain": [
       "[0.10153516257596983,\n",
       " 0.09618298729770286,\n",
       " 0.09031052351086508,\n",
       " 0.08801004030879085,\n",
       " 0.08876045659678267,\n",
       " 0.0921941131033108,\n",
       " 0.10102773376733719,\n",
       " 0.11222475307494154,\n",
       " 0.12149469275090753,\n",
       " 0.10351073923919607,\n",
       " 0.06700044810589087,\n",
       " 0.05744228862767314,\n",
       " 0.0]"
      ]
     },
     "execution_count": 148,
     "metadata": {},
     "output_type": "execute_result"
    }
   ],
   "source": [
    "percent_overlap_6mA_tombo"
   ]
  },
  {
   "cell_type": "code",
   "execution_count": 151,
   "metadata": {},
   "outputs": [],
   "source": [
    "percent_overlap_5mC_np = make_percent_overlap_list(intersected_5mC_count_list, np_5mC_count_list)\n",
    "percent_overlap_6mA_pb = make_percent_overlap_list(intersected_6mA_count_list, pb_6mA_count_list)\n",
    "percent_overlap_5mC_tombo = make_percent_overlap_list(intersected_5mC_count_list, tombo_CpG_5mC_count_list)\n",
    "percent_overlap_6mA_tombo = make_percent_overlap_list(intersected_6mA_count_list, ont_6mA_count_list)\n",
    "\n",
    "cutoff_5mC = {}\n",
    "cutoff_5mC['Tombo Sites'] = tombo_CpG_5mC_count_list\n",
    "cutoff_5mC['Nanopolish Sites'] = np_5mC_count_list\n",
    "cutoff_5mC['Overlapping Sites'] = intersected_5mC_count_list\n",
    "cutoff_5mC['Methylated Fraction Cutoff'] = cutoff_list\n",
    "cutoff_5mC['Percentage Overlap of Nanopolish (%)'] = percent_overlap_5mC_np\n",
    "cutoff_5mC['Percentage Overlap of Tombo (%)'] = percent_overlap_5mC_tombo\n",
    "\n",
    "cutoff_6mA = {}\n",
    "cutoff_6mA['PacBio Sites'] = pb_6mA_count_list\n",
    "cutoff_6mA['Nanopore Sites'] = ont_6mA_count_list\n",
    "cutoff_6mA['Overlapping Sites'] = intersected_6mA_count_list\n",
    "cutoff_6mA['Methylated Fraction Cutoff'] = cutoff_list\n",
    "cutoff_6mA['Percentage Overlap of PacBio (%)'] = percent_overlap_6mA_pb\n",
    "cutoff_6mA['Percentage Overlap of Tombo (%)'] = percent_overlap_6mA_tombo\n",
    "\n",
    "# Save the dataframes as csv files for 5mC and 6mA\n",
    "df = pd.DataFrame.from_dict(cutoff_5mC)\n",
    "df = df [['Methylated Fraction Cutoff', 'Tombo Sites', 'Nanopolish Sites', 'Overlapping Sites', 'Percentage Overlap of Nanopolish (%)', 'Percentage Overlap of Tombo (%)']]\n",
    "df.to_csv(os.path.join(DIRS['FIGURES'], '5mC_cutoff_table.tsv'), header=True, index=None, sep='\\t')\n",
    "\n",
    "df = pd.DataFrame.from_dict(cutoff_6mA)\n",
    "df = df [['Methylated Fraction Cutoff', 'Nanopore Sites', 'PacBio Sites', 'Overlapping Sites', 'Percentage Overlap of PacBio (%)', 'Percentage Overlap of Tombo (%)']]\n",
    "df.to_csv(os.path.join(DIRS['FIGURES'], '6mA_cutoff_table.tsv'), header=True, index=None, sep='\\t')"
   ]
  },
  {
   "cell_type": "code",
   "execution_count": 152,
   "metadata": {},
   "outputs": [],
   "source": [
    "df = pd.DataFrame.from_dict(cutoff_6mA)\n",
    "df = df [['Methylated Fraction Cutoff', 'Nanopore Sites', 'PacBio Sites', 'Overlapping Sites', 'Percentage Overlap of PacBio (%)', 'Percentage Overlap of Tombo (%)']]\n",
    "df.to_csv(os.path.join(DIRS['FIGURES'], '6mA_cutoff_table.tsv'), header=True, index=None, sep='\\t')"
   ]
  },
  {
   "cell_type": "markdown",
   "metadata": {},
   "source": [
    "### <span style='color:#8a14ff'> 3.C Making random distributions of the same size as all the cutoff files. <span/>"
   ]
  },
  {
   "cell_type": "code",
   "execution_count": 34,
   "metadata": {},
   "outputs": [],
   "source": [
    "# Inputs needed:\n",
    "\n",
    "# file of all C in genome\n",
    "all_c = os.path.join(DIRS['BASE1'], 'input', 'sorted_bed_files', '5mC_tombo_sorted.bed')\n",
    "# file of all A in genome\n",
    "all_a = os.path.join(DIRS['BASE1'], 'input', 'sorted_bed_files', '6mA_tombo_sorted.bed')\n",
    "# file of all (+) strand CpG\n",
    "all_cpg = os.path.join(DIRS['BASE1'], 'input', 'sorted_bed_files', '5mC_hc_tombo_sorted.CpG.plus.bed')"
   ]
  },
  {
   "cell_type": "code",
   "execution_count": null,
   "metadata": {},
   "outputs": [],
   "source": []
  },
  {
   "cell_type": "code",
   "execution_count": 14,
   "metadata": {},
   "outputs": [],
   "source": [
    "# Function to count the number of sites in each cutoff file\n",
    "def count_sites(file_list):\n",
    "    \"\"\"Outputs a dictionary of each cutoff file and the number of sites it has.\"\"\"\n",
    "    count_dict = {}\n",
    "    for file in file_list:\n",
    "        with open(file) as in_file:\n",
    "            count = 0\n",
    "            for line in in_file:\n",
    "                count += 1\n",
    "        count_dict[file.split('/')[-1]] = count\n",
    "    return count_dict"
   ]
  },
  {
   "cell_type": "code",
   "execution_count": 2,
   "metadata": {},
   "outputs": [],
   "source": [
    "# Function to make the list of output randomisation file for each input cutoff file\n",
    "def out_rand_files(file_list):\n",
    "    \"\"\"Outputs a dictionary of output randomisation file paths for a given list of input file paths.\"\"\"\n",
    "    rand_dict = {}\n",
    "    for file in file_list:\n",
    "        out_name = file.replace('.bed', '_rand.bed')\n",
    "        out_name = out_name.replace('feature_files', 'randomisation')\n",
    "        rand_dict[file.split('/')[-1]] = out_name\n",
    "    return rand_dict"
   ]
  },
  {
   "cell_type": "code",
   "execution_count": 602,
   "metadata": {},
   "outputs": [],
   "source": [
    "# Make count dictionaries separated by modification type\n",
    "intersect_5mC_count_dict = count_sites(intersected_5mC)\n",
    "intersect_6mA_count_dict = count_sites(intersected_6mA)\n",
    "tombo_5mC_count_dict = count_sites(hc_tombo_5mC)\n",
    "tombo_6mA_count_dict = count_sites(hc_tombo_6mA)"
   ]
  },
  {
   "cell_type": "code",
   "execution_count": 611,
   "metadata": {
    "collapsed": true
   },
   "outputs": [
    {
     "name": "stdout",
     "output_type": "stream",
     "text": [
      "{'5mC_tombo_nanopolish.cutoff.0.00.bed': 3708640,\n",
      " '5mC_tombo_nanopolish.cutoff.0.10.bed': 2581835,\n",
      " '5mC_tombo_nanopolish.cutoff.0.20.bed': 2313616,\n",
      " '5mC_tombo_nanopolish.cutoff.0.30.bed': 2174002,\n",
      " '5mC_tombo_nanopolish.cutoff.0.40.bed': 2025031,\n",
      " '5mC_tombo_nanopolish.cutoff.0.50.bed': 1823390,\n",
      " '5mC_tombo_nanopolish.cutoff.0.60.bed': 1439138,\n",
      " '5mC_tombo_nanopolish.cutoff.0.70.bed': 953767,\n",
      " '5mC_tombo_nanopolish.cutoff.0.80.bed': 502953,\n",
      " '5mC_tombo_nanopolish.cutoff.0.90.bed': 151839,\n",
      " '5mC_tombo_nanopolish.cutoff.0.95.bed': 53649,\n",
      " '5mC_tombo_nanopolish.cutoff.0.99.bed': 30708,\n",
      " '5mC_tombo_nanopolish.cutoff.1.00.bed': 30691}\n",
      "{'6mA_tombo_smrtlink.cutoff.0.00.bed': 84733,\n",
      " '6mA_tombo_smrtlink.cutoff.0.10.bed': 77694,\n",
      " '6mA_tombo_smrtlink.cutoff.0.20.bed': 66199,\n",
      " '6mA_tombo_smrtlink.cutoff.0.30.bed': 53979,\n",
      " '6mA_tombo_smrtlink.cutoff.0.40.bed': 42461,\n",
      " '6mA_tombo_smrtlink.cutoff.0.50.bed': 31857,\n",
      " '6mA_tombo_smrtlink.cutoff.0.60.bed': 19602,\n",
      " '6mA_tombo_smrtlink.cutoff.0.70.bed': 10085,\n",
      " '6mA_tombo_smrtlink.cutoff.0.80.bed': 4457,\n",
      " '6mA_tombo_smrtlink.cutoff.0.90.bed': 1380,\n",
      " '6mA_tombo_smrtlink.cutoff.0.95.bed': 622,\n",
      " '6mA_tombo_smrtlink.cutoff.0.99.bed': 507,\n",
      " '6mA_tombo_smrtlink.cutoff.1.00.bed': 0}\n",
      "{'5mC_hc_tombo_sorted.cutoff.0.00.bed': 67308386,\n",
      " '5mC_hc_tombo_sorted.cutoff.0.10.bed': 65945899,\n",
      " '5mC_hc_tombo_sorted.cutoff.0.20.bed': 61792835,\n",
      " '5mC_hc_tombo_sorted.cutoff.0.30.bed': 54472350,\n",
      " '5mC_hc_tombo_sorted.cutoff.0.40.bed': 44908966,\n",
      " '5mC_hc_tombo_sorted.cutoff.0.50.bed': 33730885,\n",
      " '5mC_hc_tombo_sorted.cutoff.0.60.bed': 19107606,\n",
      " '5mC_hc_tombo_sorted.cutoff.0.70.bed': 8564581,\n",
      " '5mC_hc_tombo_sorted.cutoff.0.80.bed': 3463251,\n",
      " '5mC_hc_tombo_sorted.cutoff.0.90.bed': 1327297,\n",
      " '5mC_hc_tombo_sorted.cutoff.0.95.bed': 953483,\n",
      " '5mC_hc_tombo_sorted.cutoff.0.99.bed': 902981,\n",
      " '5mC_hc_tombo_sorted.cutoff.1.00.bed': 902980}\n",
      "{'6mA_hc_tombo_sorted.cutoff.0.00.bed': 83451878,\n",
      " '6mA_hc_tombo_sorted.cutoff.0.10.bed': 80777279,\n",
      " '6mA_hc_tombo_sorted.cutoff.0.20.bed': 73301535,\n",
      " '6mA_hc_tombo_sorted.cutoff.0.30.bed': 61332775,\n",
      " '6mA_hc_tombo_sorted.cutoff.0.40.bed': 47837744,\n",
      " '6mA_hc_tombo_sorted.cutoff.0.50.bed': 34554267,\n",
      " '6mA_hc_tombo_sorted.cutoff.0.60.bed': 19402593,\n",
      " '6mA_hc_tombo_sorted.cutoff.0.70.bed': 8986431,\n",
      " '6mA_hc_tombo_sorted.cutoff.0.80.bed': 3668473,\n",
      " '6mA_hc_tombo_sorted.cutoff.0.90.bed': 1333195,\n",
      " '6mA_hc_tombo_sorted.cutoff.0.95.bed': 928352,\n",
      " '6mA_hc_tombo_sorted.cutoff.0.99.bed': 882625,\n",
      " '6mA_hc_tombo_sorted.cutoff.1.00.bed': 882625}\n"
     ]
    }
   ],
   "source": [
    "pprint.pprint(intersect_5mC_count_dict)\n",
    "pprint.pprint(intersect_6mA_count_dict)\n",
    "pprint.pprint(tombo_5mC_count_dict)\n",
    "pprint.pprint(tombo_6mA_count_dict)"
   ]
  },
  {
   "cell_type": "code",
   "execution_count": null,
   "metadata": {},
   "outputs": [],
   "source": [
    "# Make count distributions for the PacBio and Nanopolish files (for cutoff table)\n",
    "pacbio_6mA_count_dict = count_sites(pb_6mA)\n",
    "nanopolish_5mC_count_dict = count_sites(np_5mC)\n",
    "tombo_CpG_5mC_count_dict = count_sites(tombo_CpG_5mC)"
   ]
  },
  {
   "cell_type": "code",
   "execution_count": 78,
   "metadata": {},
   "outputs": [],
   "source": []
  },
  {
   "cell_type": "code",
   "execution_count": 79,
   "metadata": {
    "collapsed": true
   },
   "outputs": [
    {
     "name": "stdout",
     "output_type": "stream",
     "text": [
      "{'6mA_prob_smrtlink_sorted.cutoff.0.00.bed': 88932,\n",
      " '6mA_prob_smrtlink_sorted.cutoff.0.10.bed': 88932,\n",
      " '6mA_prob_smrtlink_sorted.cutoff.0.20.bed': 88932,\n",
      " '6mA_prob_smrtlink_sorted.cutoff.0.30.bed': 88932,\n",
      " '6mA_prob_smrtlink_sorted.cutoff.0.40.bed': 88932,\n",
      " '6mA_prob_smrtlink_sorted.cutoff.0.50.bed': 88932,\n",
      " '6mA_prob_smrtlink_sorted.cutoff.0.60.bed': 88932,\n",
      " '6mA_prob_smrtlink_sorted.cutoff.0.70.bed': 88932,\n",
      " '6mA_prob_smrtlink_sorted.cutoff.0.80.bed': 88932,\n",
      " '6mA_prob_smrtlink_sorted.cutoff.0.90.bed': 88932,\n",
      " '6mA_prob_smrtlink_sorted.cutoff.0.95.bed': 88932,\n",
      " '6mA_prob_smrtlink_sorted.cutoff.0.99.bed': 88932,\n",
      " '6mA_prob_smrtlink_sorted.cutoff.1.00.bed': 68}\n",
      "{'5mC_hc_nanopolish_sorted.cutoff.0.00.bed': 3783438,\n",
      " '5mC_hc_nanopolish_sorted.cutoff.0.10.bed': 2655129,\n",
      " '5mC_hc_nanopolish_sorted.cutoff.0.20.bed': 2408326,\n",
      " '5mC_hc_nanopolish_sorted.cutoff.0.30.bed': 2329892,\n",
      " '5mC_hc_nanopolish_sorted.cutoff.0.40.bed': 2287038,\n",
      " '5mC_hc_nanopolish_sorted.cutoff.0.50.bed': 2249995,\n",
      " '5mC_hc_nanopolish_sorted.cutoff.0.60.bed': 2195581,\n",
      " '5mC_hc_nanopolish_sorted.cutoff.0.70.bed': 2122684,\n",
      " '5mC_hc_nanopolish_sorted.cutoff.0.80.bed': 1995419,\n",
      " '5mC_hc_nanopolish_sorted.cutoff.0.90.bed': 1597784,\n",
      " '5mC_hc_nanopolish_sorted.cutoff.0.95.bed': 1068255,\n",
      " '5mC_hc_nanopolish_sorted.cutoff.0.99.bed': 609093,\n",
      " '5mC_hc_nanopolish_sorted.cutoff.1.00.bed': 608808}\n",
      "{'5mC_hc_tombo_sorted.CpG.plus.cutoff.0.00.bed': 5167951,\n",
      " '5mC_hc_tombo_sorted.CpG.plus.cutoff.0.10.bed': 5123192,\n",
      " '5mC_hc_tombo_sorted.CpG.plus.cutoff.0.20.bed': 4970628,\n",
      " '5mC_hc_tombo_sorted.CpG.plus.cutoff.0.30.bed': 4660551,\n",
      " '5mC_hc_tombo_sorted.CpG.plus.cutoff.0.40.bed': 4184707,\n",
      " '5mC_hc_tombo_sorted.CpG.plus.cutoff.0.50.bed': 3511671,\n",
      " '5mC_hc_tombo_sorted.CpG.plus.cutoff.0.60.bed': 2414941,\n",
      " '5mC_hc_tombo_sorted.CpG.plus.cutoff.0.70.bed': 1380931,\n",
      " '5mC_hc_tombo_sorted.CpG.plus.cutoff.0.80.bed': 681458,\n",
      " '5mC_hc_tombo_sorted.CpG.plus.cutoff.0.90.bed': 249792,\n",
      " '5mC_hc_tombo_sorted.CpG.plus.cutoff.0.95.bed': 140848,\n",
      " '5mC_hc_tombo_sorted.CpG.plus.cutoff.0.99.bed': 120970,\n",
      " '5mC_hc_tombo_sorted.CpG.plus.cutoff.1.00.bed': 120970}\n"
     ]
    }
   ],
   "source": [
    "pprint.pprint(pacbio_6mA_count_dict)\n",
    "pprint.pprint(nanopolish_5mC_count_dict)\n",
    "pprint.pprint(tombo_CpG_5mC_count_dict)"
   ]
  },
  {
   "cell_type": "code",
   "execution_count": 10,
   "metadata": {},
   "outputs": [],
   "source": [
    "# Make dictionaries of out files for everything\n",
    "intersect_5mC_rand_dict = out_rand_files(intersected_5mC)\n",
    "intersect_6mA_rand_dict = out_rand_files(intersected_6mA)\n",
    "tombo_5mC_rand_dict = out_rand_files(hc_tombo_5mC)\n",
    "tombo_6mA_rand_dict = out_rand_files(hc_tombo_6mA)"
   ]
  },
  {
   "cell_type": "code",
   "execution_count": 31,
   "metadata": {},
   "outputs": [],
   "source": [
    "pacbio_6mA_rand_dict = out_rand_files(table_pb_6mA)\n",
    "nanopolish_5mC_rand_dict = out_rand_files(table_np_5mC)\n",
    "tombo_CpG_5mC_rand_dict = out_rand_files(table_tombo_CpG_5mC)"
   ]
  },
  {
   "cell_type": "code",
   "execution_count": null,
   "metadata": {},
   "outputs": [],
   "source": [
    "methyl_rand_dict = {}\n",
    "methyl_rand_dict['5mC_hc_tombo_sorted.cutoff.0.00.bed'] = '/home/anjuni/analysis/coverage/randomisation/5mC_hc_tombo_sorted.cutoff.0.00_rand.bed'\n",
    "methyl_rand_dict['6mA_hc_tombo_sorted.cutoff.0.00.bed'] = '/home/anjuni/analysis/coverage/randomisation/6mA_hc_tombo_sorted.cutoff.0.00_rand.bed'\n",
    "methyl_rand_dict['5mC_hc_tombo_sorted.cutoff.0.90.bed'] = '/home/anjuni/analysis/coverage/randomisation/5mC_hc_tombo_sorted.cutoff.0.90_rand.bed'\n",
    "methyl_rand_dict['6mA_hc_tombo_sorted.cutoff.0.90.bed'] = '/home/anjuni/analysis/coverage/randomisation/6mA_hc_tombo_sorted.cutoff.0.90_rand.bed'\n",
    "methyl_rand_dict['5mC_hc_tombo_sorted.cutoff.0.99.bed'] = '/home/anjuni/analysis/coverage/randomisation/5mC_hc_tombo_sorted.cutoff.0.99_rand.bed'\n",
    "methyl_rand_dict['6mA_hc_tombo_sorted.cutoff.0.99.bed'] = '/home/anjuni/analysis/coverage/randomisation/6mA_hc_tombo_sorted.cutoff.0.99_rand.bed'\n",
    "methyl_rand_dict['5mC_hc_tombo_sorted.cutoff.0.50.bed'] = '/home/anjuni/analysis/coverage/randomisation/5mC_hc_tombo_sorted.cutoff.0.50_rand.bed'\n",
    "methyl_rand_dict['6mA_hc_tombo_sorted.cutoff.0.50.bed'] = '/home/anjuni/analysis/coverage/randomisation/6mA_hc_tombo_sorted.cutoff.0.50_rand.bed'"
   ]
  },
  {
   "cell_type": "code",
   "execution_count": 13,
   "metadata": {
    "collapsed": true
   },
   "outputs": [
    {
     "name": "stdout",
     "output_type": "stream",
     "text": [
      "{'5mC_tombo_nanopolish.cutoff.0.00.bed': '/home/anjuni/analysis/coverage/randomisation/5mC_tombo_nanopolish.cutoff.0.00_rand.bed',\n",
      " '5mC_tombo_nanopolish.cutoff.0.10.bed': '/home/anjuni/analysis/coverage/randomisation/5mC_tombo_nanopolish.cutoff.0.10_rand.bed',\n",
      " '5mC_tombo_nanopolish.cutoff.0.20.bed': '/home/anjuni/analysis/coverage/randomisation/5mC_tombo_nanopolish.cutoff.0.20_rand.bed',\n",
      " '5mC_tombo_nanopolish.cutoff.0.30.bed': '/home/anjuni/analysis/coverage/randomisation/5mC_tombo_nanopolish.cutoff.0.30_rand.bed',\n",
      " '5mC_tombo_nanopolish.cutoff.0.40.bed': '/home/anjuni/analysis/coverage/randomisation/5mC_tombo_nanopolish.cutoff.0.40_rand.bed',\n",
      " '5mC_tombo_nanopolish.cutoff.0.50.bed': '/home/anjuni/analysis/coverage/randomisation/5mC_tombo_nanopolish.cutoff.0.50_rand.bed',\n",
      " '5mC_tombo_nanopolish.cutoff.0.60.bed': '/home/anjuni/analysis/coverage/randomisation/5mC_tombo_nanopolish.cutoff.0.60_rand.bed',\n",
      " '5mC_tombo_nanopolish.cutoff.0.70.bed': '/home/anjuni/analysis/coverage/randomisation/5mC_tombo_nanopolish.cutoff.0.70_rand.bed',\n",
      " '5mC_tombo_nanopolish.cutoff.0.80.bed': '/home/anjuni/analysis/coverage/randomisation/5mC_tombo_nanopolish.cutoff.0.80_rand.bed',\n",
      " '5mC_tombo_nanopolish.cutoff.0.90.bed': '/home/anjuni/analysis/coverage/randomisation/5mC_tombo_nanopolish.cutoff.0.90_rand.bed',\n",
      " '5mC_tombo_nanopolish.cutoff.0.95.bed': '/home/anjuni/analysis/coverage/randomisation/5mC_tombo_nanopolish.cutoff.0.95_rand.bed',\n",
      " '5mC_tombo_nanopolish.cutoff.0.99.bed': '/home/anjuni/analysis/coverage/randomisation/5mC_tombo_nanopolish.cutoff.0.99_rand.bed',\n",
      " '5mC_tombo_nanopolish.cutoff.1.00.bed': '/home/anjuni/analysis/coverage/randomisation/5mC_tombo_nanopolish.cutoff.1.00_rand.bed'}\n",
      "{'6mA_tombo_smrtlink.cutoff.0.00.bed': '/home/anjuni/analysis/coverage/randomisation/6mA_tombo_smrtlink.cutoff.0.00_rand.bed',\n",
      " '6mA_tombo_smrtlink.cutoff.0.10.bed': '/home/anjuni/analysis/coverage/randomisation/6mA_tombo_smrtlink.cutoff.0.10_rand.bed',\n",
      " '6mA_tombo_smrtlink.cutoff.0.20.bed': '/home/anjuni/analysis/coverage/randomisation/6mA_tombo_smrtlink.cutoff.0.20_rand.bed',\n",
      " '6mA_tombo_smrtlink.cutoff.0.30.bed': '/home/anjuni/analysis/coverage/randomisation/6mA_tombo_smrtlink.cutoff.0.30_rand.bed',\n",
      " '6mA_tombo_smrtlink.cutoff.0.40.bed': '/home/anjuni/analysis/coverage/randomisation/6mA_tombo_smrtlink.cutoff.0.40_rand.bed',\n",
      " '6mA_tombo_smrtlink.cutoff.0.50.bed': '/home/anjuni/analysis/coverage/randomisation/6mA_tombo_smrtlink.cutoff.0.50_rand.bed',\n",
      " '6mA_tombo_smrtlink.cutoff.0.60.bed': '/home/anjuni/analysis/coverage/randomisation/6mA_tombo_smrtlink.cutoff.0.60_rand.bed',\n",
      " '6mA_tombo_smrtlink.cutoff.0.70.bed': '/home/anjuni/analysis/coverage/randomisation/6mA_tombo_smrtlink.cutoff.0.70_rand.bed',\n",
      " '6mA_tombo_smrtlink.cutoff.0.80.bed': '/home/anjuni/analysis/coverage/randomisation/6mA_tombo_smrtlink.cutoff.0.80_rand.bed',\n",
      " '6mA_tombo_smrtlink.cutoff.0.90.bed': '/home/anjuni/analysis/coverage/randomisation/6mA_tombo_smrtlink.cutoff.0.90_rand.bed',\n",
      " '6mA_tombo_smrtlink.cutoff.0.95.bed': '/home/anjuni/analysis/coverage/randomisation/6mA_tombo_smrtlink.cutoff.0.95_rand.bed',\n",
      " '6mA_tombo_smrtlink.cutoff.0.99.bed': '/home/anjuni/analysis/coverage/randomisation/6mA_tombo_smrtlink.cutoff.0.99_rand.bed',\n",
      " '6mA_tombo_smrtlink.cutoff.1.00.bed': '/home/anjuni/analysis/coverage/randomisation/6mA_tombo_smrtlink.cutoff.1.00_rand.bed'}\n",
      "{'5mC_hc_tombo_sorted.cutoff.0.00.bed': '/home/anjuni/analysis/coverage/randomisation/5mC_hc_tombo_sorted.cutoff.0.00_rand.bed',\n",
      " '5mC_hc_tombo_sorted.cutoff.0.10.bed': '/home/anjuni/analysis/coverage/randomisation/5mC_hc_tombo_sorted.cutoff.0.10_rand.bed',\n",
      " '5mC_hc_tombo_sorted.cutoff.0.20.bed': '/home/anjuni/analysis/coverage/randomisation/5mC_hc_tombo_sorted.cutoff.0.20_rand.bed',\n",
      " '5mC_hc_tombo_sorted.cutoff.0.30.bed': '/home/anjuni/analysis/coverage/randomisation/5mC_hc_tombo_sorted.cutoff.0.30_rand.bed',\n",
      " '5mC_hc_tombo_sorted.cutoff.0.40.bed': '/home/anjuni/analysis/coverage/randomisation/5mC_hc_tombo_sorted.cutoff.0.40_rand.bed',\n",
      " '5mC_hc_tombo_sorted.cutoff.0.50.bed': '/home/anjuni/analysis/coverage/randomisation/5mC_hc_tombo_sorted.cutoff.0.50_rand.bed',\n",
      " '5mC_hc_tombo_sorted.cutoff.0.60.bed': '/home/anjuni/analysis/coverage/randomisation/5mC_hc_tombo_sorted.cutoff.0.60_rand.bed',\n",
      " '5mC_hc_tombo_sorted.cutoff.0.70.bed': '/home/anjuni/analysis/coverage/randomisation/5mC_hc_tombo_sorted.cutoff.0.70_rand.bed',\n",
      " '5mC_hc_tombo_sorted.cutoff.0.80.bed': '/home/anjuni/analysis/coverage/randomisation/5mC_hc_tombo_sorted.cutoff.0.80_rand.bed',\n",
      " '5mC_hc_tombo_sorted.cutoff.0.90.bed': '/home/anjuni/analysis/coverage/randomisation/5mC_hc_tombo_sorted.cutoff.0.90_rand.bed',\n",
      " '5mC_hc_tombo_sorted.cutoff.0.95.bed': '/home/anjuni/analysis/coverage/randomisation/5mC_hc_tombo_sorted.cutoff.0.95_rand.bed',\n",
      " '5mC_hc_tombo_sorted.cutoff.0.99.bed': '/home/anjuni/analysis/coverage/randomisation/5mC_hc_tombo_sorted.cutoff.0.99_rand.bed',\n",
      " '5mC_hc_tombo_sorted.cutoff.1.00.bed': '/home/anjuni/analysis/coverage/randomisation/5mC_hc_tombo_sorted.cutoff.1.00_rand.bed'}\n",
      "{'6mA_hc_tombo_sorted.cutoff.0.00.bed': '/home/anjuni/analysis/coverage/randomisation/6mA_hc_tombo_sorted.cutoff.0.00_rand.bed',\n",
      " '6mA_hc_tombo_sorted.cutoff.0.10.bed': '/home/anjuni/analysis/coverage/randomisation/6mA_hc_tombo_sorted.cutoff.0.10_rand.bed',\n",
      " '6mA_hc_tombo_sorted.cutoff.0.20.bed': '/home/anjuni/analysis/coverage/randomisation/6mA_hc_tombo_sorted.cutoff.0.20_rand.bed',\n",
      " '6mA_hc_tombo_sorted.cutoff.0.30.bed': '/home/anjuni/analysis/coverage/randomisation/6mA_hc_tombo_sorted.cutoff.0.30_rand.bed',\n",
      " '6mA_hc_tombo_sorted.cutoff.0.40.bed': '/home/anjuni/analysis/coverage/randomisation/6mA_hc_tombo_sorted.cutoff.0.40_rand.bed',\n",
      " '6mA_hc_tombo_sorted.cutoff.0.50.bed': '/home/anjuni/analysis/coverage/randomisation/6mA_hc_tombo_sorted.cutoff.0.50_rand.bed',\n",
      " '6mA_hc_tombo_sorted.cutoff.0.60.bed': '/home/anjuni/analysis/coverage/randomisation/6mA_hc_tombo_sorted.cutoff.0.60_rand.bed',\n",
      " '6mA_hc_tombo_sorted.cutoff.0.70.bed': '/home/anjuni/analysis/coverage/randomisation/6mA_hc_tombo_sorted.cutoff.0.70_rand.bed',\n",
      " '6mA_hc_tombo_sorted.cutoff.0.80.bed': '/home/anjuni/analysis/coverage/randomisation/6mA_hc_tombo_sorted.cutoff.0.80_rand.bed',\n",
      " '6mA_hc_tombo_sorted.cutoff.0.90.bed': '/home/anjuni/analysis/coverage/randomisation/6mA_hc_tombo_sorted.cutoff.0.90_rand.bed',\n",
      " '6mA_hc_tombo_sorted.cutoff.0.95.bed': '/home/anjuni/analysis/coverage/randomisation/6mA_hc_tombo_sorted.cutoff.0.95_rand.bed',\n",
      " '6mA_hc_tombo_sorted.cutoff.0.99.bed': '/home/anjuni/analysis/coverage/randomisation/6mA_hc_tombo_sorted.cutoff.0.99_rand.bed',\n",
      " '6mA_hc_tombo_sorted.cutoff.1.00.bed': '/home/anjuni/analysis/coverage/randomisation/6mA_hc_tombo_sorted.cutoff.1.00_rand.bed'}\n"
     ]
    }
   ],
   "source": [
    "pprint.pprint(intersect_5mC_rand_dict)\n",
    "pprint.pprint(intersect_6mA_rand_dict)\n",
    "pprint.pprint(tombo_5mC_rand_dict)\n",
    "pprint.pprint(tombo_6mA_rand_dict)"
   ]
  },
  {
   "cell_type": "code",
   "execution_count": 81,
   "metadata": {
    "collapsed": true
   },
   "outputs": [
    {
     "name": "stdout",
     "output_type": "stream",
     "text": [
      "{'6mA_prob_smrtlink_sorted.cutoff.0.00.bed': '/home/anjuni/analysis/coverage/randomisation/6mA_prob_smrtlink_sorted.cutoff.0.00_rand.bed',\n",
      " '6mA_prob_smrtlink_sorted.cutoff.0.10.bed': '/home/anjuni/analysis/coverage/randomisation/6mA_prob_smrtlink_sorted.cutoff.0.10_rand.bed',\n",
      " '6mA_prob_smrtlink_sorted.cutoff.0.20.bed': '/home/anjuni/analysis/coverage/randomisation/6mA_prob_smrtlink_sorted.cutoff.0.20_rand.bed',\n",
      " '6mA_prob_smrtlink_sorted.cutoff.0.30.bed': '/home/anjuni/analysis/coverage/randomisation/6mA_prob_smrtlink_sorted.cutoff.0.30_rand.bed',\n",
      " '6mA_prob_smrtlink_sorted.cutoff.0.40.bed': '/home/anjuni/analysis/coverage/randomisation/6mA_prob_smrtlink_sorted.cutoff.0.40_rand.bed',\n",
      " '6mA_prob_smrtlink_sorted.cutoff.0.50.bed': '/home/anjuni/analysis/coverage/randomisation/6mA_prob_smrtlink_sorted.cutoff.0.50_rand.bed',\n",
      " '6mA_prob_smrtlink_sorted.cutoff.0.60.bed': '/home/anjuni/analysis/coverage/randomisation/6mA_prob_smrtlink_sorted.cutoff.0.60_rand.bed',\n",
      " '6mA_prob_smrtlink_sorted.cutoff.0.70.bed': '/home/anjuni/analysis/coverage/randomisation/6mA_prob_smrtlink_sorted.cutoff.0.70_rand.bed',\n",
      " '6mA_prob_smrtlink_sorted.cutoff.0.80.bed': '/home/anjuni/analysis/coverage/randomisation/6mA_prob_smrtlink_sorted.cutoff.0.80_rand.bed',\n",
      " '6mA_prob_smrtlink_sorted.cutoff.0.90.bed': '/home/anjuni/analysis/coverage/randomisation/6mA_prob_smrtlink_sorted.cutoff.0.90_rand.bed',\n",
      " '6mA_prob_smrtlink_sorted.cutoff.0.95.bed': '/home/anjuni/analysis/coverage/randomisation/6mA_prob_smrtlink_sorted.cutoff.0.95_rand.bed',\n",
      " '6mA_prob_smrtlink_sorted.cutoff.0.99.bed': '/home/anjuni/analysis/coverage/randomisation/6mA_prob_smrtlink_sorted.cutoff.0.99_rand.bed',\n",
      " '6mA_prob_smrtlink_sorted.cutoff.1.00.bed': '/home/anjuni/analysis/coverage/randomisation/6mA_prob_smrtlink_sorted.cutoff.1.00_rand.bed'}\n",
      "{'5mC_hc_nanopolish_sorted.cutoff.0.00.bed': '/home/anjuni/analysis/coverage/randomisation/5mC_hc_nanopolish_sorted.cutoff.0.00_rand.bed',\n",
      " '5mC_hc_nanopolish_sorted.cutoff.0.10.bed': '/home/anjuni/analysis/coverage/randomisation/5mC_hc_nanopolish_sorted.cutoff.0.10_rand.bed',\n",
      " '5mC_hc_nanopolish_sorted.cutoff.0.20.bed': '/home/anjuni/analysis/coverage/randomisation/5mC_hc_nanopolish_sorted.cutoff.0.20_rand.bed',\n",
      " '5mC_hc_nanopolish_sorted.cutoff.0.30.bed': '/home/anjuni/analysis/coverage/randomisation/5mC_hc_nanopolish_sorted.cutoff.0.30_rand.bed',\n",
      " '5mC_hc_nanopolish_sorted.cutoff.0.40.bed': '/home/anjuni/analysis/coverage/randomisation/5mC_hc_nanopolish_sorted.cutoff.0.40_rand.bed',\n",
      " '5mC_hc_nanopolish_sorted.cutoff.0.50.bed': '/home/anjuni/analysis/coverage/randomisation/5mC_hc_nanopolish_sorted.cutoff.0.50_rand.bed',\n",
      " '5mC_hc_nanopolish_sorted.cutoff.0.60.bed': '/home/anjuni/analysis/coverage/randomisation/5mC_hc_nanopolish_sorted.cutoff.0.60_rand.bed',\n",
      " '5mC_hc_nanopolish_sorted.cutoff.0.70.bed': '/home/anjuni/analysis/coverage/randomisation/5mC_hc_nanopolish_sorted.cutoff.0.70_rand.bed',\n",
      " '5mC_hc_nanopolish_sorted.cutoff.0.80.bed': '/home/anjuni/analysis/coverage/randomisation/5mC_hc_nanopolish_sorted.cutoff.0.80_rand.bed',\n",
      " '5mC_hc_nanopolish_sorted.cutoff.0.90.bed': '/home/anjuni/analysis/coverage/randomisation/5mC_hc_nanopolish_sorted.cutoff.0.90_rand.bed',\n",
      " '5mC_hc_nanopolish_sorted.cutoff.0.95.bed': '/home/anjuni/analysis/coverage/randomisation/5mC_hc_nanopolish_sorted.cutoff.0.95_rand.bed',\n",
      " '5mC_hc_nanopolish_sorted.cutoff.0.99.bed': '/home/anjuni/analysis/coverage/randomisation/5mC_hc_nanopolish_sorted.cutoff.0.99_rand.bed',\n",
      " '5mC_hc_nanopolish_sorted.cutoff.1.00.bed': '/home/anjuni/analysis/coverage/randomisation/5mC_hc_nanopolish_sorted.cutoff.1.00_rand.bed'}\n",
      "{'5mC_hc_tombo_sorted.CpG.plus.cutoff.0.00.bed': '/home/anjuni/analysis/coverage/randomisation/5mC_hc_tombo_sorted.CpG.plus.cutoff.0.00_rand.bed',\n",
      " '5mC_hc_tombo_sorted.CpG.plus.cutoff.0.10.bed': '/home/anjuni/analysis/coverage/randomisation/5mC_hc_tombo_sorted.CpG.plus.cutoff.0.10_rand.bed',\n",
      " '5mC_hc_tombo_sorted.CpG.plus.cutoff.0.20.bed': '/home/anjuni/analysis/coverage/randomisation/5mC_hc_tombo_sorted.CpG.plus.cutoff.0.20_rand.bed',\n",
      " '5mC_hc_tombo_sorted.CpG.plus.cutoff.0.30.bed': '/home/anjuni/analysis/coverage/randomisation/5mC_hc_tombo_sorted.CpG.plus.cutoff.0.30_rand.bed',\n",
      " '5mC_hc_tombo_sorted.CpG.plus.cutoff.0.40.bed': '/home/anjuni/analysis/coverage/randomisation/5mC_hc_tombo_sorted.CpG.plus.cutoff.0.40_rand.bed',\n",
      " '5mC_hc_tombo_sorted.CpG.plus.cutoff.0.50.bed': '/home/anjuni/analysis/coverage/randomisation/5mC_hc_tombo_sorted.CpG.plus.cutoff.0.50_rand.bed',\n",
      " '5mC_hc_tombo_sorted.CpG.plus.cutoff.0.60.bed': '/home/anjuni/analysis/coverage/randomisation/5mC_hc_tombo_sorted.CpG.plus.cutoff.0.60_rand.bed',\n",
      " '5mC_hc_tombo_sorted.CpG.plus.cutoff.0.70.bed': '/home/anjuni/analysis/coverage/randomisation/5mC_hc_tombo_sorted.CpG.plus.cutoff.0.70_rand.bed',\n",
      " '5mC_hc_tombo_sorted.CpG.plus.cutoff.0.80.bed': '/home/anjuni/analysis/coverage/randomisation/5mC_hc_tombo_sorted.CpG.plus.cutoff.0.80_rand.bed',\n",
      " '5mC_hc_tombo_sorted.CpG.plus.cutoff.0.90.bed': '/home/anjuni/analysis/coverage/randomisation/5mC_hc_tombo_sorted.CpG.plus.cutoff.0.90_rand.bed',\n",
      " '5mC_hc_tombo_sorted.CpG.plus.cutoff.0.95.bed': '/home/anjuni/analysis/coverage/randomisation/5mC_hc_tombo_sorted.CpG.plus.cutoff.0.95_rand.bed',\n",
      " '5mC_hc_tombo_sorted.CpG.plus.cutoff.0.99.bed': '/home/anjuni/analysis/coverage/randomisation/5mC_hc_tombo_sorted.CpG.plus.cutoff.0.99_rand.bed',\n",
      " '5mC_hc_tombo_sorted.CpG.plus.cutoff.1.00.bed': '/home/anjuni/analysis/coverage/randomisation/5mC_hc_tombo_sorted.CpG.plus.cutoff.1.00_rand.bed'}\n"
     ]
    }
   ],
   "source": [
    "pprint.pprint(pacbio_6mA_rand_dict)\n",
    "pprint.pprint(nanopolish_5mC_rand_dict)\n",
    "pprint.pprint(tombo_CpG_5mC_rand_dict)"
   ]
  },
  {
   "cell_type": "code",
   "execution_count": 33,
   "metadata": {},
   "outputs": [],
   "source": [
    "# Make a function that takes number of subset sites, abspath of all_site file, and output name\n",
    "# Then generate a random array of length subset from all sites\n",
    "# Then loops over all_site file while outfile is open to write out lines whose number is part of the randamized array\n",
    "def subset_sites(all_site_fn, number_of_subset_sites, out_fn):\n",
    "    \"\"\"This is a function that creates a BED file containing a subset of the total sites in the genome, with the size of the subset equal to an input cutoff file.\"\"\"\n",
    "    df = pd.read_csv(all_site_fn, sep='\\t', header = None) #use up memory making a dataframe of the csv file, to avoid running through it for each base in each loop\n",
    "    if type(number_of_subset_sites) == int and type(out_fn) == str:\n",
    "            random_array = np.random.choice(df.shape[0], number_of_subset_sites)\n",
    "            random_array.sort()\n",
    "            df.iloc[random_array, :].to_csv(out_fn, header=None, index=None, sep='\\t') #iloc[rows, columns]\n",
    "    elif type(number_of_subset_sites) == dict and type(out_fn) == dict:\n",
    "        for skey, svalue in number_of_subset_sites.items():\n",
    "            for fkey, fvalue in out_fn.items():\n",
    "                if skey == fkey:\n",
    "                    random_array = np.random.choice(df.shape[0], svalue)\n",
    "                    random_array.sort()\n",
    "                    df.iloc[random_array, :].to_csv(fvalue, header=None, index=None, sep='\\t') "
   ]
  },
  {
   "cell_type": "code",
   "execution_count": 609,
   "metadata": {},
   "outputs": [],
   "source": [
    "# Make randomisation files for everything :)\n",
    "subset_sites(all_cpg, intersect_5mC_count_dict, intersect_5mC_rand_dict)\n",
    "subset_sites(all_a, intersect_6mA_count_dict, intersect_6mA_rand_dict)\n",
    "subset_sites(all_c, tombo_5mC_count_dict, tombo_5mC_rand_dict)\n",
    "subset_sites(all_a, tombo_6mA_count_dict, tombo_6mA_rand_dict)"
   ]
  },
  {
   "cell_type": "code",
   "execution_count": 37,
   "metadata": {},
   "outputs": [],
   "source": [
    "subset_sites(all_cpg, nanopolish_5mC_count_dict, nanopolish_5mC_rand_dict)\n",
    "subset_sites(all_a, pacbio_6mA_count_dict, pacbio_6mA_rand_dict)\n",
    "subset_sites(all_cpg, tombo_CpG_5mC_count_dict, tombo_CpG_5mC_rand_dict)"
   ]
  },
  {
   "cell_type": "code",
   "execution_count": 255,
   "metadata": {},
   "outputs": [],
   "source": [
    "# make just the pacbio randomisation file I need\n",
    "pb_rand_dict = {}\n",
    "pb_count_dict = {}\n",
    "pb_rand_dict['6mA_prob_smrtlink_sorted.cutoff.0.80.bed'] = '/home/anjuni/analysis/coverage/randomisation/6mA_prob_smrtlink_sorted.cutoff.0.80_rand.bed'\n",
    "pb_count_dict['6mA_prob_smrtlink_sorted.cutoff.0.80.bed'] = 88932"
   ]
  },
  {
   "cell_type": "code",
   "execution_count": 257,
   "metadata": {},
   "outputs": [],
   "source": [
    "subset_sites(all_a, pb_count_dict, pb_rand_dict)"
   ]
  },
  {
   "cell_type": "code",
   "execution_count": 83,
   "metadata": {},
   "outputs": [],
   "source": [
    "# Make input lists for rand files\n",
    "rand_np_5mC = [fn for fn in glob.iglob('%s/5mC_hc_n*.bed' % DIRS['RAND'], recursive=True)]\n",
    "rand_tombo_5mC = [fn for fn in glob.iglob('%s/5mC_hc_t*.bed' % DIRS['RAND'], recursive=True)]\n",
    "rand_pb_6mA = [fn for fn in glob.iglob('%s/6mA_p*.bed' % DIRS['RAND'], recursive=True)]\n",
    "rand_tombo_6mA = [fn for fn in glob.iglob('%s/6mA_hc_t*.bed' % DIRS['RAND'], recursive=True)]\n",
    "rand_tombo_CpG_5mC = [fn for fn in glob.iglob('%s/5mC_hc_tombo_sorted.C*.bed' % DIRS['RAND'], recursive=True)]"
   ]
  },
  {
   "cell_type": "code",
   "execution_count": 84,
   "metadata": {},
   "outputs": [],
   "source": [
    "rand_np_5mC.sort()\n",
    "rand_tombo_5mC.sort()\n",
    "rand_pb_6mA.sort()\n",
    "rand_tombo_6mA.sort()\n",
    "rand_tombo_CpG_5mC.sort()"
   ]
  },
  {
   "cell_type": "code",
   "execution_count": 85,
   "metadata": {
    "collapsed": true
   },
   "outputs": [
    {
     "name": "stdout",
     "output_type": "stream",
     "text": [
      "['/home/anjuni/analysis/coverage/randomisation/5mC_hc_nanopolish_sorted.cutoff.0.00_rand.bed',\n",
      " '/home/anjuni/analysis/coverage/randomisation/5mC_hc_nanopolish_sorted.cutoff.0.10_rand.bed',\n",
      " '/home/anjuni/analysis/coverage/randomisation/5mC_hc_nanopolish_sorted.cutoff.0.20_rand.bed',\n",
      " '/home/anjuni/analysis/coverage/randomisation/5mC_hc_nanopolish_sorted.cutoff.0.30_rand.bed',\n",
      " '/home/anjuni/analysis/coverage/randomisation/5mC_hc_nanopolish_sorted.cutoff.0.40_rand.bed',\n",
      " '/home/anjuni/analysis/coverage/randomisation/5mC_hc_nanopolish_sorted.cutoff.0.50_rand.bed',\n",
      " '/home/anjuni/analysis/coverage/randomisation/5mC_hc_nanopolish_sorted.cutoff.0.60_rand.bed',\n",
      " '/home/anjuni/analysis/coverage/randomisation/5mC_hc_nanopolish_sorted.cutoff.0.70_rand.bed',\n",
      " '/home/anjuni/analysis/coverage/randomisation/5mC_hc_nanopolish_sorted.cutoff.0.80_rand.bed',\n",
      " '/home/anjuni/analysis/coverage/randomisation/5mC_hc_nanopolish_sorted.cutoff.0.90_rand.bed',\n",
      " '/home/anjuni/analysis/coverage/randomisation/5mC_hc_nanopolish_sorted.cutoff.0.95_rand.bed',\n",
      " '/home/anjuni/analysis/coverage/randomisation/5mC_hc_nanopolish_sorted.cutoff.0.99_rand.bed',\n",
      " '/home/anjuni/analysis/coverage/randomisation/5mC_hc_nanopolish_sorted.cutoff.1.00_rand.bed']\n",
      "['/home/anjuni/analysis/coverage/randomisation/6mA_prob_smrtlink_sorted.cutoff.0.00_rand.bed',\n",
      " '/home/anjuni/analysis/coverage/randomisation/6mA_prob_smrtlink_sorted.cutoff.0.10_rand.bed',\n",
      " '/home/anjuni/analysis/coverage/randomisation/6mA_prob_smrtlink_sorted.cutoff.0.20_rand.bed',\n",
      " '/home/anjuni/analysis/coverage/randomisation/6mA_prob_smrtlink_sorted.cutoff.0.30_rand.bed',\n",
      " '/home/anjuni/analysis/coverage/randomisation/6mA_prob_smrtlink_sorted.cutoff.0.40_rand.bed',\n",
      " '/home/anjuni/analysis/coverage/randomisation/6mA_prob_smrtlink_sorted.cutoff.0.50_rand.bed',\n",
      " '/home/anjuni/analysis/coverage/randomisation/6mA_prob_smrtlink_sorted.cutoff.0.60_rand.bed',\n",
      " '/home/anjuni/analysis/coverage/randomisation/6mA_prob_smrtlink_sorted.cutoff.0.70_rand.bed',\n",
      " '/home/anjuni/analysis/coverage/randomisation/6mA_prob_smrtlink_sorted.cutoff.0.80_rand.bed',\n",
      " '/home/anjuni/analysis/coverage/randomisation/6mA_prob_smrtlink_sorted.cutoff.0.90_rand.bed',\n",
      " '/home/anjuni/analysis/coverage/randomisation/6mA_prob_smrtlink_sorted.cutoff.0.95_rand.bed',\n",
      " '/home/anjuni/analysis/coverage/randomisation/6mA_prob_smrtlink_sorted.cutoff.0.99_rand.bed',\n",
      " '/home/anjuni/analysis/coverage/randomisation/6mA_prob_smrtlink_sorted.cutoff.1.00_rand.bed']\n",
      "['/home/anjuni/analysis/coverage/randomisation/5mC_hc_tombo_sorted.CpG.plus.cutoff.0.00_rand.bed',\n",
      " '/home/anjuni/analysis/coverage/randomisation/5mC_hc_tombo_sorted.CpG.plus.cutoff.0.10_rand.bed',\n",
      " '/home/anjuni/analysis/coverage/randomisation/5mC_hc_tombo_sorted.CpG.plus.cutoff.0.20_rand.bed',\n",
      " '/home/anjuni/analysis/coverage/randomisation/5mC_hc_tombo_sorted.CpG.plus.cutoff.0.30_rand.bed',\n",
      " '/home/anjuni/analysis/coverage/randomisation/5mC_hc_tombo_sorted.CpG.plus.cutoff.0.40_rand.bed',\n",
      " '/home/anjuni/analysis/coverage/randomisation/5mC_hc_tombo_sorted.CpG.plus.cutoff.0.50_rand.bed',\n",
      " '/home/anjuni/analysis/coverage/randomisation/5mC_hc_tombo_sorted.CpG.plus.cutoff.0.60_rand.bed',\n",
      " '/home/anjuni/analysis/coverage/randomisation/5mC_hc_tombo_sorted.CpG.plus.cutoff.0.70_rand.bed',\n",
      " '/home/anjuni/analysis/coverage/randomisation/5mC_hc_tombo_sorted.CpG.plus.cutoff.0.80_rand.bed',\n",
      " '/home/anjuni/analysis/coverage/randomisation/5mC_hc_tombo_sorted.CpG.plus.cutoff.0.90_rand.bed',\n",
      " '/home/anjuni/analysis/coverage/randomisation/5mC_hc_tombo_sorted.CpG.plus.cutoff.0.95_rand.bed',\n",
      " '/home/anjuni/analysis/coverage/randomisation/5mC_hc_tombo_sorted.CpG.plus.cutoff.0.99_rand.bed',\n",
      " '/home/anjuni/analysis/coverage/randomisation/5mC_hc_tombo_sorted.CpG.plus.cutoff.1.00_rand.bed',\n",
      " '/home/anjuni/analysis/coverage/randomisation/5mC_hc_tombo_sorted.cutoff.0.00_rand.bed',\n",
      " '/home/anjuni/analysis/coverage/randomisation/5mC_hc_tombo_sorted.cutoff.0.10_rand.bed',\n",
      " '/home/anjuni/analysis/coverage/randomisation/5mC_hc_tombo_sorted.cutoff.0.20_rand.bed',\n",
      " '/home/anjuni/analysis/coverage/randomisation/5mC_hc_tombo_sorted.cutoff.0.30_rand.bed',\n",
      " '/home/anjuni/analysis/coverage/randomisation/5mC_hc_tombo_sorted.cutoff.0.40_rand.bed',\n",
      " '/home/anjuni/analysis/coverage/randomisation/5mC_hc_tombo_sorted.cutoff.0.50_rand.bed',\n",
      " '/home/anjuni/analysis/coverage/randomisation/5mC_hc_tombo_sorted.cutoff.0.60_rand.bed',\n",
      " '/home/anjuni/analysis/coverage/randomisation/5mC_hc_tombo_sorted.cutoff.0.70_rand.bed',\n",
      " '/home/anjuni/analysis/coverage/randomisation/5mC_hc_tombo_sorted.cutoff.0.80_rand.bed',\n",
      " '/home/anjuni/analysis/coverage/randomisation/5mC_hc_tombo_sorted.cutoff.0.90_rand.bed',\n",
      " '/home/anjuni/analysis/coverage/randomisation/5mC_hc_tombo_sorted.cutoff.0.95_rand.bed',\n",
      " '/home/anjuni/analysis/coverage/randomisation/5mC_hc_tombo_sorted.cutoff.0.99_rand.bed',\n",
      " '/home/anjuni/analysis/coverage/randomisation/5mC_hc_tombo_sorted.cutoff.1.00_rand.bed']\n",
      "['/home/anjuni/analysis/coverage/randomisation/6mA_hc_tombo_sorted.cutoff.0.00_rand.bed',\n",
      " '/home/anjuni/analysis/coverage/randomisation/6mA_hc_tombo_sorted.cutoff.0.10_rand.bed',\n",
      " '/home/anjuni/analysis/coverage/randomisation/6mA_hc_tombo_sorted.cutoff.0.20_rand.bed',\n",
      " '/home/anjuni/analysis/coverage/randomisation/6mA_hc_tombo_sorted.cutoff.0.30_rand.bed',\n",
      " '/home/anjuni/analysis/coverage/randomisation/6mA_hc_tombo_sorted.cutoff.0.40_rand.bed',\n",
      " '/home/anjuni/analysis/coverage/randomisation/6mA_hc_tombo_sorted.cutoff.0.50_rand.bed',\n",
      " '/home/anjuni/analysis/coverage/randomisation/6mA_hc_tombo_sorted.cutoff.0.60_rand.bed',\n",
      " '/home/anjuni/analysis/coverage/randomisation/6mA_hc_tombo_sorted.cutoff.0.70_rand.bed',\n",
      " '/home/anjuni/analysis/coverage/randomisation/6mA_hc_tombo_sorted.cutoff.0.80_rand.bed',\n",
      " '/home/anjuni/analysis/coverage/randomisation/6mA_hc_tombo_sorted.cutoff.0.90_rand.bed',\n",
      " '/home/anjuni/analysis/coverage/randomisation/6mA_hc_tombo_sorted.cutoff.0.95_rand.bed',\n",
      " '/home/anjuni/analysis/coverage/randomisation/6mA_hc_tombo_sorted.cutoff.0.99_rand.bed',\n",
      " '/home/anjuni/analysis/coverage/randomisation/6mA_hc_tombo_sorted.cutoff.1.00_rand.bed']\n",
      "['/home/anjuni/analysis/coverage/randomisation/5mC_hc_tombo_sorted.CpG.plus.cutoff.0.00_rand.bed',\n",
      " '/home/anjuni/analysis/coverage/randomisation/5mC_hc_tombo_sorted.CpG.plus.cutoff.0.10_rand.bed',\n",
      " '/home/anjuni/analysis/coverage/randomisation/5mC_hc_tombo_sorted.CpG.plus.cutoff.0.20_rand.bed',\n",
      " '/home/anjuni/analysis/coverage/randomisation/5mC_hc_tombo_sorted.CpG.plus.cutoff.0.30_rand.bed',\n",
      " '/home/anjuni/analysis/coverage/randomisation/5mC_hc_tombo_sorted.CpG.plus.cutoff.0.40_rand.bed',\n",
      " '/home/anjuni/analysis/coverage/randomisation/5mC_hc_tombo_sorted.CpG.plus.cutoff.0.50_rand.bed',\n",
      " '/home/anjuni/analysis/coverage/randomisation/5mC_hc_tombo_sorted.CpG.plus.cutoff.0.60_rand.bed',\n",
      " '/home/anjuni/analysis/coverage/randomisation/5mC_hc_tombo_sorted.CpG.plus.cutoff.0.70_rand.bed',\n",
      " '/home/anjuni/analysis/coverage/randomisation/5mC_hc_tombo_sorted.CpG.plus.cutoff.0.80_rand.bed',\n",
      " '/home/anjuni/analysis/coverage/randomisation/5mC_hc_tombo_sorted.CpG.plus.cutoff.0.90_rand.bed',\n",
      " '/home/anjuni/analysis/coverage/randomisation/5mC_hc_tombo_sorted.CpG.plus.cutoff.0.95_rand.bed',\n",
      " '/home/anjuni/analysis/coverage/randomisation/5mC_hc_tombo_sorted.CpG.plus.cutoff.0.99_rand.bed',\n",
      " '/home/anjuni/analysis/coverage/randomisation/5mC_hc_tombo_sorted.CpG.plus.cutoff.1.00_rand.bed']\n"
     ]
    }
   ],
   "source": [
    "pprint.pprint(rand_np_5mC)\n",
    "pprint.pprint(rand_pb_6mA)\n",
    "pprint.pprint(rand_tombo_5mC)\n",
    "pprint.pprint(rand_tombo_6mA)\n",
    "pprint.pprint(rand_tombo_CpG_5mC)"
   ]
  },
  {
   "cell_type": "code",
   "execution_count": null,
   "metadata": {},
   "outputs": [],
   "source": [
    "# make a for loop to take a list of cutoffs, and a list of -a files and a list of -b files to intersect\n",
    "def intersect_rand_cutoffs(list_a, list_b, n_cutoffs, mod, a_name, b_name):\n",
    "    \"\"\"Take a list of files and intersect them with another list of files, where files are matched by methylation cutoff. Other required inputs are the number of cutoffs in the list, the modification, and the names to be used in the outfile to signify the BED file from list a and b.\"\"\"\n",
    "    for i in range(n_cutoffs): # go through each element in the sorted list, pairing them up\n",
    "        a_bed = BedTool(list_a[i])\n",
    "        b_bed = BedTool(list_b[i])\n",
    "        cutoff_suffix = list_a[i][-21:] # get cutoff value from one of the files\n",
    "        out_name = mod + '_' + a_name + '_' + b_name + cutoff_suffix # make a new file name with the two intersected files, basemod type and cutoff\n",
    "        out_file = os.path.join(DIRS['I_FROM_C'], out_name) # make the file path\n",
    "        intersected_cutoff = a_bed.intersect(b_bed).saveas(out_file) # save out the intersected file"
   ]
  },
  {
   "cell_type": "code",
   "execution_count": null,
   "metadata": {},
   "outputs": [],
   "source": [
    "intersect_rand_cutoffs(rand_tombo_CpG_5mC, rand_np_5mC, 13, '5mC', 'tombo', 'nanopolish')\n",
    "intersect_rand_cutoffs(rand_tombo_6mA, rand_pb_6mA, 13, '6mA', 'tombo', 'smrtlink')"
   ]
  },
  {
   "cell_type": "code",
   "execution_count": 38,
   "metadata": {},
   "outputs": [],
   "source": [
    "# Function that gives a dictionary of each input filehandle\n",
    "def file_name_dict(file_list):\n",
    "    \"\"\"Outputs a dictionary of input file paths for a given list of input file paths.\"\"\"\n",
    "    file_dict = {}\n",
    "    for file in file_list:\n",
    "        file_dict[file.split('/')[-1]] = file\n",
    "    return file_dict"
   ]
  },
  {
   "cell_type": "code",
   "execution_count": 617,
   "metadata": {},
   "outputs": [],
   "source": [
    "# Make file name dict\n",
    "intersect_5mC_dict = file_name_dict(intersected_5mC)\n",
    "intersect_6mA_dict = file_name_dict(intersected_6mA)\n",
    "tombo_5mC_dict = file_name_dict(hc_tombo_5mC)\n",
    "tombo_6mA_dict = file_name_dict(hc_tombo_6mA)"
   ]
  },
  {
   "cell_type": "code",
   "execution_count": 618,
   "metadata": {
    "collapsed": true
   },
   "outputs": [
    {
     "name": "stdout",
     "output_type": "stream",
     "text": [
      "{'5mC_tombo_nanopolish.cutoff.0.00.bed': '/home/anjuni/analysis/coverage/feature_files/5mC_tombo_nanopolish.cutoff.0.00.bed',\n",
      " '5mC_tombo_nanopolish.cutoff.0.10.bed': '/home/anjuni/analysis/coverage/feature_files/5mC_tombo_nanopolish.cutoff.0.10.bed',\n",
      " '5mC_tombo_nanopolish.cutoff.0.20.bed': '/home/anjuni/analysis/coverage/feature_files/5mC_tombo_nanopolish.cutoff.0.20.bed',\n",
      " '5mC_tombo_nanopolish.cutoff.0.30.bed': '/home/anjuni/analysis/coverage/feature_files/5mC_tombo_nanopolish.cutoff.0.30.bed',\n",
      " '5mC_tombo_nanopolish.cutoff.0.40.bed': '/home/anjuni/analysis/coverage/feature_files/5mC_tombo_nanopolish.cutoff.0.40.bed',\n",
      " '5mC_tombo_nanopolish.cutoff.0.50.bed': '/home/anjuni/analysis/coverage/feature_files/5mC_tombo_nanopolish.cutoff.0.50.bed',\n",
      " '5mC_tombo_nanopolish.cutoff.0.60.bed': '/home/anjuni/analysis/coverage/feature_files/5mC_tombo_nanopolish.cutoff.0.60.bed',\n",
      " '5mC_tombo_nanopolish.cutoff.0.70.bed': '/home/anjuni/analysis/coverage/feature_files/5mC_tombo_nanopolish.cutoff.0.70.bed',\n",
      " '5mC_tombo_nanopolish.cutoff.0.80.bed': '/home/anjuni/analysis/coverage/feature_files/5mC_tombo_nanopolish.cutoff.0.80.bed',\n",
      " '5mC_tombo_nanopolish.cutoff.0.90.bed': '/home/anjuni/analysis/coverage/feature_files/5mC_tombo_nanopolish.cutoff.0.90.bed',\n",
      " '5mC_tombo_nanopolish.cutoff.0.95.bed': '/home/anjuni/analysis/coverage/feature_files/5mC_tombo_nanopolish.cutoff.0.95.bed',\n",
      " '5mC_tombo_nanopolish.cutoff.0.99.bed': '/home/anjuni/analysis/coverage/feature_files/5mC_tombo_nanopolish.cutoff.0.99.bed',\n",
      " '5mC_tombo_nanopolish.cutoff.1.00.bed': '/home/anjuni/analysis/coverage/feature_files/5mC_tombo_nanopolish.cutoff.1.00.bed'}\n",
      "{'6mA_tombo_smrtlink.cutoff.0.00.bed': '/home/anjuni/analysis/coverage/feature_files/6mA_tombo_smrtlink.cutoff.0.00.bed',\n",
      " '6mA_tombo_smrtlink.cutoff.0.10.bed': '/home/anjuni/analysis/coverage/feature_files/6mA_tombo_smrtlink.cutoff.0.10.bed',\n",
      " '6mA_tombo_smrtlink.cutoff.0.20.bed': '/home/anjuni/analysis/coverage/feature_files/6mA_tombo_smrtlink.cutoff.0.20.bed',\n",
      " '6mA_tombo_smrtlink.cutoff.0.30.bed': '/home/anjuni/analysis/coverage/feature_files/6mA_tombo_smrtlink.cutoff.0.30.bed',\n",
      " '6mA_tombo_smrtlink.cutoff.0.40.bed': '/home/anjuni/analysis/coverage/feature_files/6mA_tombo_smrtlink.cutoff.0.40.bed',\n",
      " '6mA_tombo_smrtlink.cutoff.0.50.bed': '/home/anjuni/analysis/coverage/feature_files/6mA_tombo_smrtlink.cutoff.0.50.bed',\n",
      " '6mA_tombo_smrtlink.cutoff.0.60.bed': '/home/anjuni/analysis/coverage/feature_files/6mA_tombo_smrtlink.cutoff.0.60.bed',\n",
      " '6mA_tombo_smrtlink.cutoff.0.70.bed': '/home/anjuni/analysis/coverage/feature_files/6mA_tombo_smrtlink.cutoff.0.70.bed',\n",
      " '6mA_tombo_smrtlink.cutoff.0.80.bed': '/home/anjuni/analysis/coverage/feature_files/6mA_tombo_smrtlink.cutoff.0.80.bed',\n",
      " '6mA_tombo_smrtlink.cutoff.0.90.bed': '/home/anjuni/analysis/coverage/feature_files/6mA_tombo_smrtlink.cutoff.0.90.bed',\n",
      " '6mA_tombo_smrtlink.cutoff.0.95.bed': '/home/anjuni/analysis/coverage/feature_files/6mA_tombo_smrtlink.cutoff.0.95.bed',\n",
      " '6mA_tombo_smrtlink.cutoff.0.99.bed': '/home/anjuni/analysis/coverage/feature_files/6mA_tombo_smrtlink.cutoff.0.99.bed',\n",
      " '6mA_tombo_smrtlink.cutoff.1.00.bed': '/home/anjuni/analysis/coverage/feature_files/6mA_tombo_smrtlink.cutoff.1.00.bed'}\n",
      "{'5mC_hc_tombo_sorted.cutoff.0.00.bed': '/home/anjuni/analysis/coverage/feature_files/5mC_hc_tombo_sorted.cutoff.0.00.bed',\n",
      " '5mC_hc_tombo_sorted.cutoff.0.10.bed': '/home/anjuni/analysis/coverage/feature_files/5mC_hc_tombo_sorted.cutoff.0.10.bed',\n",
      " '5mC_hc_tombo_sorted.cutoff.0.20.bed': '/home/anjuni/analysis/coverage/feature_files/5mC_hc_tombo_sorted.cutoff.0.20.bed',\n",
      " '5mC_hc_tombo_sorted.cutoff.0.30.bed': '/home/anjuni/analysis/coverage/feature_files/5mC_hc_tombo_sorted.cutoff.0.30.bed',\n",
      " '5mC_hc_tombo_sorted.cutoff.0.40.bed': '/home/anjuni/analysis/coverage/feature_files/5mC_hc_tombo_sorted.cutoff.0.40.bed',\n",
      " '5mC_hc_tombo_sorted.cutoff.0.50.bed': '/home/anjuni/analysis/coverage/feature_files/5mC_hc_tombo_sorted.cutoff.0.50.bed',\n",
      " '5mC_hc_tombo_sorted.cutoff.0.60.bed': '/home/anjuni/analysis/coverage/feature_files/5mC_hc_tombo_sorted.cutoff.0.60.bed',\n",
      " '5mC_hc_tombo_sorted.cutoff.0.70.bed': '/home/anjuni/analysis/coverage/feature_files/5mC_hc_tombo_sorted.cutoff.0.70.bed',\n",
      " '5mC_hc_tombo_sorted.cutoff.0.80.bed': '/home/anjuni/analysis/coverage/feature_files/5mC_hc_tombo_sorted.cutoff.0.80.bed',\n",
      " '5mC_hc_tombo_sorted.cutoff.0.90.bed': '/home/anjuni/analysis/coverage/feature_files/5mC_hc_tombo_sorted.cutoff.0.90.bed',\n",
      " '5mC_hc_tombo_sorted.cutoff.0.95.bed': '/home/anjuni/analysis/coverage/feature_files/5mC_hc_tombo_sorted.cutoff.0.95.bed',\n",
      " '5mC_hc_tombo_sorted.cutoff.0.99.bed': '/home/anjuni/analysis/coverage/feature_files/5mC_hc_tombo_sorted.cutoff.0.99.bed',\n",
      " '5mC_hc_tombo_sorted.cutoff.1.00.bed': '/home/anjuni/analysis/coverage/feature_files/5mC_hc_tombo_sorted.cutoff.1.00.bed'}\n",
      "{'6mA_hc_tombo_sorted.cutoff.0.00.bed': '/home/anjuni/analysis/coverage/feature_files/6mA_hc_tombo_sorted.cutoff.0.00.bed',\n",
      " '6mA_hc_tombo_sorted.cutoff.0.10.bed': '/home/anjuni/analysis/coverage/feature_files/6mA_hc_tombo_sorted.cutoff.0.10.bed',\n",
      " '6mA_hc_tombo_sorted.cutoff.0.20.bed': '/home/anjuni/analysis/coverage/feature_files/6mA_hc_tombo_sorted.cutoff.0.20.bed',\n",
      " '6mA_hc_tombo_sorted.cutoff.0.30.bed': '/home/anjuni/analysis/coverage/feature_files/6mA_hc_tombo_sorted.cutoff.0.30.bed',\n",
      " '6mA_hc_tombo_sorted.cutoff.0.40.bed': '/home/anjuni/analysis/coverage/feature_files/6mA_hc_tombo_sorted.cutoff.0.40.bed',\n",
      " '6mA_hc_tombo_sorted.cutoff.0.50.bed': '/home/anjuni/analysis/coverage/feature_files/6mA_hc_tombo_sorted.cutoff.0.50.bed',\n",
      " '6mA_hc_tombo_sorted.cutoff.0.60.bed': '/home/anjuni/analysis/coverage/feature_files/6mA_hc_tombo_sorted.cutoff.0.60.bed',\n",
      " '6mA_hc_tombo_sorted.cutoff.0.70.bed': '/home/anjuni/analysis/coverage/feature_files/6mA_hc_tombo_sorted.cutoff.0.70.bed',\n",
      " '6mA_hc_tombo_sorted.cutoff.0.80.bed': '/home/anjuni/analysis/coverage/feature_files/6mA_hc_tombo_sorted.cutoff.0.80.bed',\n",
      " '6mA_hc_tombo_sorted.cutoff.0.90.bed': '/home/anjuni/analysis/coverage/feature_files/6mA_hc_tombo_sorted.cutoff.0.90.bed',\n",
      " '6mA_hc_tombo_sorted.cutoff.0.95.bed': '/home/anjuni/analysis/coverage/feature_files/6mA_hc_tombo_sorted.cutoff.0.95.bed',\n",
      " '6mA_hc_tombo_sorted.cutoff.0.99.bed': '/home/anjuni/analysis/coverage/feature_files/6mA_hc_tombo_sorted.cutoff.0.99.bed',\n",
      " '6mA_hc_tombo_sorted.cutoff.1.00.bed': '/home/anjuni/analysis/coverage/feature_files/6mA_hc_tombo_sorted.cutoff.1.00.bed'}\n"
     ]
    }
   ],
   "source": [
    "pprint.pprint(intersect_5mC_dict)\n",
    "pprint.pprint(intersect_6mA_dict)\n",
    "pprint.pprint(tombo_5mC_dict)\n",
    "pprint.pprint(tombo_6mA_dict)"
   ]
  },
  {
   "cell_type": "code",
   "execution_count": null,
   "metadata": {},
   "outputs": [],
   "source": [
    "pabcio_6mA_dict = file_name_dict()\n",
    "nanopolish_5mC_dict = file_name_dict()"
   ]
  },
  {
   "cell_type": "markdown",
   "metadata": {},
   "source": [
    "### <span style='color:#8a14ff'> 3.D Making a table for random distributions of the cutoff files. <span/>"
   ]
  },
  {
   "cell_type": "code",
   "execution_count": 98,
   "metadata": {},
   "outputs": [],
   "source": [
    "# make lists of intersect file paths\n",
    "rand_intersected_5mC = [fn for fn in glob.iglob('%s/5mC_*d.bed' % DIRS['I_FROM_C'], recursive=True)]\n",
    "rand_intersected_6mA = [fn for fn in glob.iglob('%s/6mA_*d.bed' % DIRS['I_FROM_C'], recursive=True)]"
   ]
  },
  {
   "cell_type": "code",
   "execution_count": 99,
   "metadata": {},
   "outputs": [],
   "source": [
    "rand_intersected_5mC.sort()\n",
    "rand_intersected_6mA.sort()"
   ]
  },
  {
   "cell_type": "code",
   "execution_count": 100,
   "metadata": {
    "collapsed": true
   },
   "outputs": [
    {
     "name": "stdout",
     "output_type": "stream",
     "text": [
      "['/home/anjuni/analysis/bedtools_output/intersects_from_cutoffs/5mC_tombo_nanopolish.cutoff.0.00_rand.bed',\n",
      " '/home/anjuni/analysis/bedtools_output/intersects_from_cutoffs/5mC_tombo_nanopolish.cutoff.0.10_rand.bed',\n",
      " '/home/anjuni/analysis/bedtools_output/intersects_from_cutoffs/5mC_tombo_nanopolish.cutoff.0.20_rand.bed',\n",
      " '/home/anjuni/analysis/bedtools_output/intersects_from_cutoffs/5mC_tombo_nanopolish.cutoff.0.30_rand.bed',\n",
      " '/home/anjuni/analysis/bedtools_output/intersects_from_cutoffs/5mC_tombo_nanopolish.cutoff.0.40_rand.bed',\n",
      " '/home/anjuni/analysis/bedtools_output/intersects_from_cutoffs/5mC_tombo_nanopolish.cutoff.0.50_rand.bed',\n",
      " '/home/anjuni/analysis/bedtools_output/intersects_from_cutoffs/5mC_tombo_nanopolish.cutoff.0.60_rand.bed',\n",
      " '/home/anjuni/analysis/bedtools_output/intersects_from_cutoffs/5mC_tombo_nanopolish.cutoff.0.70_rand.bed',\n",
      " '/home/anjuni/analysis/bedtools_output/intersects_from_cutoffs/5mC_tombo_nanopolish.cutoff.0.80_rand.bed',\n",
      " '/home/anjuni/analysis/bedtools_output/intersects_from_cutoffs/5mC_tombo_nanopolish.cutoff.0.90_rand.bed',\n",
      " '/home/anjuni/analysis/bedtools_output/intersects_from_cutoffs/5mC_tombo_nanopolish.cutoff.0.95_rand.bed',\n",
      " '/home/anjuni/analysis/bedtools_output/intersects_from_cutoffs/5mC_tombo_nanopolish.cutoff.0.99_rand.bed',\n",
      " '/home/anjuni/analysis/bedtools_output/intersects_from_cutoffs/5mC_tombo_nanopolish.cutoff.1.00_rand.bed']\n",
      "['/home/anjuni/analysis/bedtools_output/intersects_from_cutoffs/6mA_tombo_smrtlink.cutoff.0.00_rand.bed',\n",
      " '/home/anjuni/analysis/bedtools_output/intersects_from_cutoffs/6mA_tombo_smrtlink.cutoff.0.10_rand.bed',\n",
      " '/home/anjuni/analysis/bedtools_output/intersects_from_cutoffs/6mA_tombo_smrtlink.cutoff.0.20_rand.bed',\n",
      " '/home/anjuni/analysis/bedtools_output/intersects_from_cutoffs/6mA_tombo_smrtlink.cutoff.0.30_rand.bed',\n",
      " '/home/anjuni/analysis/bedtools_output/intersects_from_cutoffs/6mA_tombo_smrtlink.cutoff.0.40_rand.bed',\n",
      " '/home/anjuni/analysis/bedtools_output/intersects_from_cutoffs/6mA_tombo_smrtlink.cutoff.0.50_rand.bed',\n",
      " '/home/anjuni/analysis/bedtools_output/intersects_from_cutoffs/6mA_tombo_smrtlink.cutoff.0.60_rand.bed',\n",
      " '/home/anjuni/analysis/bedtools_output/intersects_from_cutoffs/6mA_tombo_smrtlink.cutoff.0.70_rand.bed',\n",
      " '/home/anjuni/analysis/bedtools_output/intersects_from_cutoffs/6mA_tombo_smrtlink.cutoff.0.80_rand.bed',\n",
      " '/home/anjuni/analysis/bedtools_output/intersects_from_cutoffs/6mA_tombo_smrtlink.cutoff.0.90_rand.bed',\n",
      " '/home/anjuni/analysis/bedtools_output/intersects_from_cutoffs/6mA_tombo_smrtlink.cutoff.0.95_rand.bed',\n",
      " '/home/anjuni/analysis/bedtools_output/intersects_from_cutoffs/6mA_tombo_smrtlink.cutoff.0.99_rand.bed',\n",
      " '/home/anjuni/analysis/bedtools_output/intersects_from_cutoffs/6mA_tombo_smrtlink.cutoff.1.00_rand.bed']\n"
     ]
    }
   ],
   "source": [
    "pprint.pprint(rand_intersected_5mC)\n",
    "pprint.pprint(rand_intersected_6mA)"
   ]
  },
  {
   "cell_type": "code",
   "execution_count": 102,
   "metadata": {},
   "outputs": [],
   "source": [
    "# make lists of site counts\n",
    "rand_np_5mC_count_list = make_site_count_list(rand_np_5mC)\n",
    "rand_tombo_CpG_5mC_count_list = make_site_count_list(rand_tombo_CpG_5mC)\n",
    "rand_pb_6mA_count_list = make_site_count_list(rand_pb_6mA)\n",
    "rand_tombo_6mA_count_list = make_site_count_list(rand_tombo_6mA)\n",
    "rand_intersected_5mC_count_list = make_site_count_list(rand_intersected_5mC)\n",
    "rand_intersected_6mA_count_list = make_site_count_list(rand_intersected_6mA)"
   ]
  },
  {
   "cell_type": "code",
   "execution_count": 104,
   "metadata": {
    "collapsed": true
   },
   "outputs": [
    {
     "name": "stdout",
     "output_type": "stream",
     "text": [
      "[3783438, 2655129, 2408326, 2329892, 2287038, 2249995, 2195581, 2122684, 1995419, 1597784, 1068255, 609093, 608808]\n",
      "[5167951, 5123192, 4970628, 4660551, 4184707, 3511671, 2414941, 1380931, 681458, 249792, 140848, 120970, 120970]\n",
      "[88932, 88932, 88932, 88932, 88932, 88932, 88932, 88932, 88932, 88932, 88932, 88932, 68]\n",
      "[83451878, 80777279, 73301535, 61332775, 47837744, 34554267, 19402593, 8986431, 3668473, 1333195, 928352, 882625, 882625]\n",
      "[3784549, 2631916, 2317437, 2103183, 1853044, 1528201, 1025363, 567390, 263069, 77356, 29328, 14333, 14009]\n",
      "[86488, 83703, 76216, 63935, 49243, 35533, 20270, 9300, 3751, 1358, 979, 935, 1]\n"
     ]
    }
   ],
   "source": [
    "# Gather the lists to be used as inputs\n",
    "print(rand_np_5mC_count_list)\n",
    "print(rand_tombo_CpG_5mC_count_list)\n",
    "print(rand_pb_6mA_count_list)\n",
    "print(rand_tombo_6mA_count_list)\n",
    "print(rand_intersected_5mC_count_list)\n",
    "print(rand_intersected_6mA_count_list)"
   ]
  },
  {
   "cell_type": "code",
   "execution_count": 153,
   "metadata": {},
   "outputs": [],
   "source": [
    "rand_percent_overlap_5mC_np = make_percent_overlap_list(rand_intersected_5mC_count_list, rand_np_5mC_count_list)\n",
    "rand_percent_overlap_6mA_pb = make_percent_overlap_list(rand_intersected_6mA_count_list, rand_pb_6mA_count_list)\n",
    "rand_percent_overlap_5mC_tombo = make_percent_overlap_list(rand_intersected_5mC_count_list, rand_tombo_CpG_5mC_count_list)\n",
    "rand_percent_overlap_6mA_tombo = make_percent_overlap_list(rand_intersected_6mA_count_list, rand_tombo_6mA_count_list)"
   ]
  },
  {
   "cell_type": "code",
   "execution_count": 158,
   "metadata": {},
   "outputs": [],
   "source": [
    "rand_cutoff_5mC = {}\n",
    "rand_cutoff_5mC['Tombo Sites'] = rand_tombo_CpG_5mC_count_list\n",
    "rand_cutoff_5mC['Nanopolish Sites'] = rand_np_5mC_count_list\n",
    "rand_cutoff_5mC['Overlapping Sites'] = rand_intersected_5mC_count_list\n",
    "rand_cutoff_5mC['Methylated Fraction Cutoff'] = cutoff_list\n",
    "rand_cutoff_5mC['Percentage Overlap of Nanopolish (%)'] = rand_percent_overlap_5mC_np\n",
    "rand_cutoff_5mC['Percentage Overlap of Tombo (%)'] = rand_percent_overlap_5mC_tombo\n",
    "\n",
    "rand_cutoff_6mA = {}\n",
    "rand_cutoff_6mA['PacBio Sites'] = rand_pb_6mA_count_list\n",
    "rand_cutoff_6mA['Nanopore Sites'] = rand_tombo_6mA_count_list\n",
    "rand_cutoff_6mA['Overlapping Sites'] = rand_intersected_6mA_count_list\n",
    "rand_cutoff_6mA['Methylated Fraction Cutoff'] = cutoff_list\n",
    "rand_cutoff_6mA['Percentage Overlap of PacBio (%)'] = rand_percent_overlap_6mA_pb\n",
    "rand_cutoff_6mA['Percentage Overlap of Tombo (%)'] = rand_percent_overlap_6mA_tombo"
   ]
  },
  {
   "cell_type": "code",
   "execution_count": 159,
   "metadata": {},
   "outputs": [],
   "source": [
    "# Save the dataframes as csv files for 5mC and 6mA\n",
    "df = pd.DataFrame.from_dict(rand_cutoff_5mC)\n",
    "df = df [['Methylated Fraction Cutoff', 'Tombo Sites', 'Nanopolish Sites', 'Overlapping Sites', 'Percentage Overlap of Nanopolish (%)', 'Percentage Overlap of Tombo (%)']]\n",
    "df.to_csv(os.path.join(DIRS['FIGURES'], '5mC_rand_cutoff_table.tsv'), header=True, index=None, sep='\\t')\n",
    "\n",
    "df = pd.DataFrame.from_dict(rand_cutoff_6mA)\n",
    "df = df [['Methylated Fraction Cutoff', 'Nanopore Sites', 'PacBio Sites', 'Overlapping Sites', 'Percentage Overlap of PacBio (%)', 'Percentage Overlap of Tombo (%)']]\n",
    "df.to_csv(os.path.join(DIRS['FIGURES'], '6mA_rand_cutoff_table.tsv'), header=True, index=None, sep='\\t')"
   ]
  },
  {
   "cell_type": "markdown",
   "metadata": {},
   "source": [
    "### <span style='color:#8a14ff'> 3.E Statistical tests on the overlap of the cutoff files. <span/>"
   ]
  },
  {
   "cell_type": "code",
   "execution_count": null,
   "metadata": {},
   "outputs": [],
   "source": [
    "# make the contingency tables\n",
    "\n",
    "# row 1 = obs overlap1, exp overlap1\n",
    "# row 2 = obs overlap2, exp overlap2"
   ]
  },
  {
   "cell_type": "code",
   "execution_count": 207,
   "metadata": {},
   "outputs": [],
   "source": [
    "def fisher_test(dict1, dict2, key1, key2, name, cutoff_list):\n",
    "    \"\"\"This function returns a dictionary of Fisher \"\"\"\n",
    "    fisher_dict = {}\n",
    "    for i in range(len(dict1[key1])):\n",
    "        cont = np.matrix( [ [ dict1[key1][i], dict2[key1][i] ], [dict1[key2][i],  dict2[key2][i] ] ])\n",
    "        stat, p = fisher_exact(cont)\n",
    "        fkey = name + '_' + str(cutoff_list[i])\n",
    "        fisher_dict[fkey] = stat, p\n",
    "    return fisher_dict"
   ]
  },
  {
   "cell_type": "code",
   "execution_count": 263,
   "metadata": {
    "collapsed": true
   },
   "outputs": [
    {
     "name": "stdout",
     "output_type": "stream",
     "text": [
      "Tombo Sites\n",
      "Nanopolish Sites\n",
      "Overlapping Sites\n",
      "Methylated Fraction Cutoff\n",
      "Percentage Overlap of Nanopolish (%)\n",
      "Percentage Overlap of Tombo (%)\n",
      "Tombo Sites\n",
      "Nanopolish Sites\n",
      "Overlapping Sites\n",
      "Methylated Fraction Cutoff\n",
      "Percentage Overlap of Nanopolish (%)\n",
      "Percentage Overlap of Tombo (%)\n",
      "PacBio Sites\n",
      "Nanopore Sites\n",
      "Overlapping Sites\n",
      "Methylated Fraction Cutoff\n",
      "Percentage Overlap of PacBio (%)\n",
      "Percentage Overlap of Tombo (%)\n",
      "PacBio Sites\n",
      "Nanopore Sites\n",
      "Overlapping Sites\n",
      "Methylated Fraction Cutoff\n",
      "Percentage Overlap of PacBio (%)\n",
      "Percentage Overlap of Tombo (%)\n"
     ]
    }
   ],
   "source": [
    "print(*cutoff_5mC, sep='\\n')\n",
    "print(*rand_cutoff_5mC, sep='\\n')\n",
    "print(*cutoff_6mA, sep='\\n')\n",
    "print(*rand_cutoff_6mA, sep='\\n')"
   ]
  },
  {
   "cell_type": "code",
   "execution_count": 208,
   "metadata": {},
   "outputs": [],
   "source": [
    "fisher_5mC_cutoff = fisher_test(cutoff_5mC, rand_cutoff_5mC, 'Percentage Overlap of Nanopolish (%)', 'Percentage Overlap of Tombo (%)', '5mC', cutoff_list)\n",
    "fisher_6mA_cutoff = fisher_test(cutoff_6mA, rand_cutoff_6mA, 'Percentage Overlap of PacBio (%)', 'Percentage Overlap of Tombo (%)', '6mA', cutoff_list)"
   ]
  },
  {
   "cell_type": "code",
   "execution_count": 210,
   "metadata": {},
   "outputs": [
    {
     "name": "stdout",
     "output_type": "stream",
     "text": [
      "{'5mC_0.0': (1.007605633802817, 1.0),\n",
      " '5mC_0.1': (0.9993939393939394, 1.0),\n",
      " '5mC_0.2': (1.0, 1.0),\n",
      " '5mC_0.3': (1.0108695652173914, 1.0),\n",
      " '5mC_0.4': (0.9958847736625515, 1.0),\n",
      " '5mC_0.5': (1.019315188762072, 1.0),\n",
      " '5mC_0.6': (1.0058953574060427, 1.0),\n",
      " '5mC_0.7': (1.0055741360089185, 1.0),\n",
      " '5mC_0.8': (1.0010537407797682, 1.0),\n",
      " '5mC_0.9': (1.125, 1.0),\n",
      " '5mC_0.95': (1.3157894736842106, 1.0),\n",
      " '5mC_0.99': (1.1, 1.0),\n",
      " '5mC_1.0': (1.1, 1.0)}\n",
      "{'6mA_0.0': (nan, 1.0),\n",
      " '6mA_0.1': (nan, 1.0),\n",
      " '6mA_0.2': (nan, 1.0),\n",
      " '6mA_0.3': (nan, 1.0),\n",
      " '6mA_0.4': (nan, 1.0),\n",
      " '6mA_0.5': (nan, 1.0),\n",
      " '6mA_0.6': (nan, 1.0),\n",
      " '6mA_0.7': (nan, 1.0),\n",
      " '6mA_0.8': (nan, 1.0),\n",
      " '6mA_0.9': (nan, 1.0),\n",
      " '6mA_0.95': (nan, 1.0),\n",
      " '6mA_0.99': (nan, 1.0),\n",
      " '6mA_1.0': (nan, 1.0)}\n"
     ]
    }
   ],
   "source": [
    "pprint.pprint(fisher_5mC_cutoff)\n",
    "pprint.pprint(fisher_6mA_cutoff)"
   ]
  },
  {
   "cell_type": "code",
   "execution_count": 211,
   "metadata": {},
   "outputs": [
    {
     "name": "stdout",
     "output_type": "stream",
     "text": [
      "Methylated Fraction Cutoff\tNanopore Sites\tPacBio Sites\tOverlapping Sites\tPercentage Overlap of PacBio (%)\tPercentage Overlap of Tombo (%)\n",
      "0.0\t83451878\t88932\t84733\t95.27841496874017\t0.10153516257596983\n",
      "0.1\t80777279\t88932\t77694\t87.36337876130077\t0.09618298729770286\n",
      "0.2\t73301535\t88932\t66199\t74.43777268025008\t0.09031052351086508\n",
      "0.3\t61332775\t88932\t53979\t60.696936985562\t0.08801004030879085\n",
      "0.4\t47837744\t88932\t42461\t47.745468447802814\t0.08876045659678267\n",
      "0.5\t34554267\t88932\t31857\t35.821751450546486\t0.0921941131033108\n",
      "0.6\t19402593\t88932\t19602\t22.041559843475913\t0.10102773376733719\n",
      "0.7\t8986431\t88932\t10085\t11.340125039355913\t0.11222475307494154\n",
      "0.8\t3668473\t88932\t4457\t5.011694328250798\t0.12149469275090753\n",
      "0.9\t1333195\t88932\t1380\t1.5517474025097828\t0.10351073923919607\n",
      "0.95\t928352\t88932\t622\t0.699410785768902\t0.06700044810589087\n",
      "0.99\t882625\t88932\t507\t0.5700985022264202\t0.05744228862767314\n",
      "1.0\t882625\t68\t0\t0.0\t0.0\n"
     ]
    }
   ],
   "source": [
    "%%bash\n",
    "\n",
    "cd /home/anjuni/analysis/figures/cutoff_tables\n",
    "cat 6mA_cutoff_table.tsv"
   ]
  },
  {
   "cell_type": "code",
   "execution_count": 212,
   "metadata": {},
   "outputs": [
    {
     "name": "stdout",
     "output_type": "stream",
     "text": [
      "Methylated Fraction Cutoff\tNanopore Sites\tPacBio Sites\tOverlapping Sites\tPercentage Overlap of PacBio (%)\tPercentage Overlap of Tombo (%)\n",
      "0.0\t83451878\t88932\t86488\t97.25183286106238\t0.10363817097081986\n",
      "0.1\t80777279\t88932\t83703\t94.12022669005532\t0.10362196032872066\n",
      "0.2\t73301535\t88932\t76216\t85.70143480412\t0.10397599449997875\n",
      "0.3\t61332775\t88932\t63935\t71.89200737642244\t0.10424279677545976\n",
      "0.4\t47837744\t88932\t49243\t55.371519812890746\t0.10293754655319866\n",
      "0.5\t34554267\t88932\t35533\t39.95524670534791\t0.10283245192265257\n",
      "0.6\t19402593\t88932\t20270\t22.792695542661807\t0.1044705725672852\n",
      "0.7\t8986431\t88932\t9300\t10.457428147348535\t0.10348936079295551\n",
      "0.8\t3668473\t88932\t3751\t4.21782935276391\t0.10224962811502224\n",
      "0.9\t1333195\t88932\t1358\t1.5270094004407864\t0.10186056803393351\n",
      "0.95\t928352\t88932\t979\t1.100841092070346\t0.10545568922132983\n",
      "0.99\t882625\t88932\t935\t1.0513650879323528\t0.10593400368219799\n",
      "1.0\t882625\t68\t1\t1.4705882352941175\t0.0001132983996601048\n"
     ]
    }
   ],
   "source": [
    "%%bash\n",
    "\n",
    "cd /home/anjuni/analysis/figures/cutoff_tables\n",
    "cat 6mA_rand_cutoff_table.tsv"
   ]
  }
 ],
 "metadata": {
  "kernelspec": {
   "display_name": "Python 3",
   "language": "python",
   "name": "python3"
  },
  "language_info": {
   "codemirror_mode": {
    "name": "ipython",
    "version": 3
   },
   "file_extension": ".py",
   "mimetype": "text/x-python",
   "name": "python",
   "nbconvert_exporter": "python",
   "pygments_lexer": "ipython3",
   "version": "3.6.3"
  }
 },
 "nbformat": 4,
 "nbformat_minor": 2
}
