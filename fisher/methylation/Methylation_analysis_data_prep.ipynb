{
 "cells": [
  {
   "cell_type": "markdown",
   "metadata": {},
   "source": [
    "# Methylation analysis data prep\n",
    "\n",
    "Converting tombo and nanopolish outputs into gff format for easy use with gene model files.\n",
    "\n",
    "1. Open wig files and view them.\n",
    "2. Convert each individual wig into a gff.\n",
    "3. Combine or append the two 5mc gff's and the two 6ma gff's, as there are separate gff's for the (+) and (-) strands.\n",
    "4. Put the contig number and chromosome position in ascending order.\n",
    "    -This is because the (-) strand file will just be added to the bottom of the (+) strand file. "
   ]
  },
  {
   "cell_type": "code",
   "execution_count": 136,
   "metadata": {},
   "outputs": [],
   "source": [
    "import os\n",
    "import pysam\n",
    "import pandas as pd\n",
    "import glob\n",
    "from Bio import SeqIO"
   ]
  },
  {
   "cell_type": "code",
   "execution_count": 140,
   "metadata": {},
   "outputs": [],
   "source": [
    "#first we need to define the base dirs\n",
    "DIRS ={}\n",
    "DIRS['BASE'] = '/home/anjuni/methylation_calling/pacbio'\n",
    "DIRS['WIG_INPUT'] = os.path.join(DIRS['BASE'], 'input', 'tombo_wig' )\n",
    "DIRS['TSV_INPUT'] = os.path.join(DIRS['BASE'], 'input', 'nanopolish_tsv') \n",
    "DIRS['GFF_INPUT'] = os.path.join(DIRS['BASE'], 'input', 'smrtlink_gff')\n",
    "DIRS['BED_OUT'] = os.path.join(DIRS['BASE'], 'input', 'bed_files')"
   ]
  },
  {
   "cell_type": "code",
   "execution_count": 141,
   "metadata": {},
   "outputs": [
    {
     "name": "stdout",
     "output_type": "stream",
     "text": [
      "/home/anjuni/methylation_calling/pacbio\n",
      "/home/anjuni/methylation_calling/pacbio/input/tombo_wig\n",
      "/home/anjuni/methylation_calling/pacbio/input/nanopolish_tsv\n",
      "/home/anjuni/methylation_calling/pacbio/input/smrtlink_gff\n",
      "/home/anjuni/methylation_calling/pacbio/input/bed_files\n"
     ]
    }
   ],
   "source": [
    "#quick chech if directories exist\n",
    "for value in DIRS.values():\n",
    "    if not os.path.exists(value):\n",
    "        print('%s does not exist' % value)\n",
    "    else:\n",
    "        print(value)"
   ]
  },
  {
   "cell_type": "code",
   "execution_count": 30,
   "metadata": {},
   "outputs": [],
   "source": [
    "#define functions\n",
    "\n",
    "\n",
    "def wig_to_gff(input_wig_file, output_gff_file):\n",
    "    \"\"\"Convert WIG files from tombo into gff files for BEDtools analysis.\"\"\"\n",
    "    \n",
    "def tsv_to_gff(input_tsv_file, output_gff_file):\n",
    "    \"\"\"Convert TSV files from nanopolish into gff files for BEDtools analysis.\"\"\"\n",
    "    \n",
    "    \n",
    "    "
   ]
  },
  {
   "cell_type": "code",
   "execution_count": 31,
   "metadata": {},
   "outputs": [
    {
     "ename": "KeyError",
     "evalue": "'FASTQ_OUT'",
     "output_type": "error",
     "traceback": [
      "\u001b[0;31m---------------------------------------------------------------------------\u001b[0m",
      "\u001b[0;31mKeyError\u001b[0m                                  Traceback (most recent call last)",
      "\u001b[0;32m<ipython-input-31-a2f1876ce7c6>\u001b[0m in \u001b[0;36m<module>\u001b[0;34m()\u001b[0m\n\u001b[1;32m      1\u001b[0m \u001b[0;31m### Do something in this format\u001b[0m\u001b[0;34m\u001b[0m\u001b[0;34m\u001b[0m\u001b[0m\n\u001b[1;32m      2\u001b[0m \u001b[0;31m#the outfile for the fastq files mapping to pcontig_019\u001b[0m\u001b[0;34m\u001b[0m\u001b[0;34m\u001b[0m\u001b[0m\n\u001b[0;32m----> 3\u001b[0;31m \u001b[0mfastq_out_fh\u001b[0m \u001b[0;34m=\u001b[0m \u001b[0mos\u001b[0m\u001b[0;34m.\u001b[0m\u001b[0mpath\u001b[0m\u001b[0;34m.\u001b[0m\u001b[0mjoin\u001b[0m\u001b[0;34m(\u001b[0m\u001b[0mDIRS\u001b[0m\u001b[0;34m[\u001b[0m\u001b[0;34m'FASTQ_OUT'\u001b[0m\u001b[0;34m]\u001b[0m\u001b[0;34m,\u001b[0m \u001b[0;34m'pcontig_019_aln.fastq'\u001b[0m\u001b[0;34m)\u001b[0m\u001b[0;34m\u001b[0m\u001b[0m\n\u001b[0m\u001b[1;32m      4\u001b[0m \u001b[0;34m\u001b[0m\u001b[0m\n\u001b[1;32m      5\u001b[0m \u001b[0;31m#we generate an new file and write out all the aligned reads in fastq format\u001b[0m\u001b[0;34m\u001b[0m\u001b[0;34m\u001b[0m\u001b[0m\n",
      "\u001b[0;31mKeyError\u001b[0m: 'FASTQ_OUT'"
     ]
    }
   ],
   "source": [
    "### Do something in this format\n",
    "#the outfile for the fastq files mapping to pcontig_019\n",
    "fastq_out_fh = os.path.join(DIRS['FASTQ_OUT'], 'pcontig_019_aln.fastq')\n",
    "\n",
    "#we generate an new file and write out all the aligned reads in fastq format\n",
    "#we added in an save guard to save out each read only once as it appears that pysam provides some reads in duplicate.\n",
    "saved_reads = []\n",
    "with open(fastq_out_fh, mode='w') as fastq_out:\n",
    "    for read in contig_19_reads_in_bam:\n",
    "        if read.query_name not in saved_reads:\n",
    "            print('@%s' % read.query_name, file=fastq_out)\n",
    "            print('%s' % read.get_forward_sequence(), file=fastq_out)\n",
    "            print('+', file=fastq_out)\n",
    "            print('%s' % read.get_forward_qualities(), file=fastq_out)\n",
    "            saved_reads.append(read.query_name)"
   ]
  },
  {
   "cell_type": "code",
   "execution_count": 36,
   "metadata": {},
   "outputs": [],
   "source": [
    "#make file handles for each wig and tsv file and output folder\n",
    "\n",
    "#wig files from tombo\n",
    "m5c_plus_fh = os.path.join(DIRS['WIG_INPUT'], '5mC.fraction_modified_reads.plus.wig')\n",
    "m5c_minus_fh = os.path.join(DIRS['WIG_INPUT'], '5mC.fraction_modified_reads.minus.wig')\n",
    "m6a_plus_fh = os.path.join(DIRS['WIG_INPUT'], '6mA.fraction_modified_reads.plus.wig')\n",
    "m6a_minus_fh = os.path.join(DIRS['WIG_INPUT'], '6mA.fraction_modified_reads.minus.wig')\n",
    "\n",
    "#make a directory of wig file handles\n",
    "wig_fh_list = [m5c_plus_fh, m5c_minus_fh, m6a_plus_fh, m6a_minus_fh]\n",
    "\n",
    "#tsv files from nanopolish\n",
    "m5c_nanopolish_fh = os.path.join(DIRS['TSV_INPUT'], 'Pst_104E_methylation_frequency_minimap2.tsv')\n",
    "\n",
    "#output folders\n",
    "#may need to find a way to make a list of these and use this list in the conversion function\n",
    "#or don't use this at all. do everything in the function.\n",
    "#gff_fh = os.path.join(DIRS['GFF_OUT'], 'ref_pcontig_019.fasta')\n"
   ]
  },
  {
   "cell_type": "code",
   "execution_count": 33,
   "metadata": {},
   "outputs": [
    {
     "name": "stdout",
     "output_type": "stream",
     "text": [
      "['/home/anjuni/methylation_calling/pacbio/input/tombo_wig/5mC.fraction_modified_reads.plus.wig', '/home/anjuni/methylation_calling/pacbio/input/tombo_wig/5mC.fraction_modified_reads.minus.wig', '/home/anjuni/methylation_calling/pacbio/input/tombo_wig/6mA.fraction_modified_reads.plus.wig', '/home/anjuni/methylation_calling/pacbio/input/tombo_wig/6mA.fraction_modified_reads.minus.wig']\n"
     ]
    }
   ],
   "source": [
    "#check if this works\n",
    "print(wig_fh_list)"
   ]
  },
  {
   "cell_type": "code",
   "execution_count": 74,
   "metadata": {},
   "outputs": [],
   "source": [
    "f  =open(m5c_minus_fh)"
   ]
  },
  {
   "cell_type": "code",
   "execution_count": 80,
   "metadata": {},
   "outputs": [
    {
     "name": "stdout",
     "output_type": "stream",
     "text": [
      "245 0.4167\n",
      "\n",
      "248 0.4167\n",
      "\n",
      "250 0.5\n",
      "\n",
      "254 0.1667\n",
      "\n",
      "257 0.3333\n",
      "\n",
      "259 0.3333\n",
      "\n",
      "260 0.3333\n",
      "\n",
      "264 0.25\n",
      "\n",
      "268 0.1667\n",
      "\n",
      "269 0.1667\n",
      "\n",
      "276 0.3333\n",
      "\n",
      "285 0.5833\n",
      "\n",
      "290 0.5\n",
      "\n",
      "291 0.5\n",
      "\n"
     ]
    }
   ],
   "source": [
    "count = 0\n",
    "for line in f:\n",
    "    if count < 14:\n",
    "        print(line)\n",
    "        count += 1 \n",
    "    else:\n",
    "        break"
   ]
  },
  {
   "cell_type": "code",
   "execution_count": 81,
   "metadata": {},
   "outputs": [],
   "source": [
    "f.close()"
   ]
  },
  {
   "cell_type": "code",
   "execution_count": 128,
   "metadata": {},
   "outputs": [],
   "source": [
    "bed_nanopolish_out_fn = os.path.join(DIRS['BED_OUT'], 'nanopolish.bed')"
   ]
  },
  {
   "cell_type": "code",
   "execution_count": 132,
   "metadata": {},
   "outputs": [],
   "source": [
    "#test first ten lines to convert tsv to bed\n",
    "#it worked, so clean up the code, write is as a function and test the first 10 lines again\n",
    "#then run on the whole file\n",
    "with open(m5c_nanopolish_fh) as myfile:\n",
    "    with open(bed_nanopolish_out_fn, 'w') as out_fh:\n",
    "        count = 0\n",
    "        for line in myfile:\n",
    "            if line.startswith('chr'):\n",
    "                continue\n",
    "            else:\n",
    "                if count < 11:\n",
    "                    line = line.rstrip()\n",
    "                    new = line.split('\\t')\n",
    "                    print('%s\\t%s\\t%s\\t%s\\t%s\\t%s' % (new[0], int(new[1])-1, new[2], '5mC_nano', new[6], '+'), file=out_fh)\n",
    "                    count += 1 \n",
    "                else:\n",
    "                    break"
   ]
  },
  {
   "cell_type": "code",
   "execution_count": 43,
   "metadata": {},
   "outputs": [
    {
     "name": "stdout",
     "output_type": "stream",
     "text": [
      "chromosome\tstart\tend\tnum_cpgs_in_group\tcalled_sites\tcalled_sites_methylated\tmethylated_frequency\tgroup_sequence\r\n",
      "hcontig_000_003\t42\t42\t1\t16\t0\t0.000\tTCCAGCGCTAT\r\n",
      "hcontig_000_003\t148\t148\t1\t22\t0\t0.000\tsplit-group\r\n",
      "hcontig_000_003\t157\t157\t1\t22\t0\t0.000\tsplit-group\r\n",
      "hcontig_000_003\t167\t167\t1\t22\t0\t0.000\tsplit-group\r\n",
      "hcontig_000_003\t175\t175\t1\t22\t0\t0.000\tsplit-group\r\n",
      "hcontig_000_003\t182\t182\t1\t22\t0\t0.000\tsplit-group\r\n",
      "hcontig_000_003\t200\t200\t1\t17\t0\t0.000\tsplit-group\r\n",
      "hcontig_000_003\t202\t202\t1\t17\t0\t0.000\tsplit-group\r\n",
      "hcontig_000_003\t215\t215\t1\t16\t0\t0.000\tsplit-group\r\n"
     ]
    }
   ],
   "source": [
    "!head {m5c_nanopolish_fh}"
   ]
  },
  {
   "cell_type": "code",
   "execution_count": 86,
   "metadata": {},
   "outputs": [
    {
     "name": "stdout",
     "output_type": "stream",
     "text": [
      "<_io.TextIOWrapper name='/home/anjuni/methylation_calling/pacbio/input/nanopolish_tsv/Pst_104E_methylation_frequency_minimap2.tsv' mode='r' encoding='UTF-8'>\n"
     ]
    }
   ],
   "source": [
    "print(myfile)"
   ]
  },
  {
   "cell_type": "code",
   "execution_count": 48,
   "metadata": {
    "collapsed": true
   },
   "outputs": [
    {
     "name": "stdout",
     "output_type": "stream",
     "text": [
      "/\n",
      "h\n",
      "o\n",
      "m\n",
      "e\n",
      "/\n",
      "a\n",
      "n\n",
      "j\n",
      "u\n",
      "n\n",
      "i\n",
      "/\n",
      "m\n",
      "e\n",
      "t\n",
      "h\n",
      "y\n",
      "l\n",
      "a\n",
      "t\n",
      "i\n",
      "o\n",
      "n\n",
      "_\n",
      "c\n",
      "a\n",
      "l\n",
      "l\n",
      "i\n",
      "n\n",
      "g\n",
      "/\n",
      "p\n",
      "a\n",
      "c\n",
      "b\n",
      "i\n",
      "o\n",
      "/\n",
      "i\n",
      "n\n",
      "p\n",
      "u\n",
      "t\n",
      "/\n",
      "n\n",
      "a\n",
      "n\n",
      "o\n",
      "p\n",
      "o\n",
      "l\n",
      "i\n",
      "s\n",
      "h\n",
      "_\n",
      "t\n",
      "s\n",
      "v\n",
      "/\n",
      "P\n",
      "s\n",
      "t\n",
      "_\n",
      "1\n",
      "0\n",
      "4\n",
      "E\n",
      "_\n",
      "m\n",
      "e\n",
      "t\n",
      "h\n",
      "y\n",
      "l\n",
      "a\n",
      "t\n",
      "i\n",
      "o\n",
      "n\n",
      "_\n",
      "f\n",
      "r\n",
      "e\n",
      "q\n",
      "u\n",
      "e\n",
      "n\n",
      "c\n",
      "y\n",
      "_\n",
      "m\n",
      "i\n",
      "n\n",
      "i\n",
      "m\n",
      "a\n",
      "p\n",
      "2\n",
      ".\n",
      "t\n",
      "s\n",
      "v\n"
     ]
    }
   ],
   "source": [
    "tsv = m5c_nanopolish_fh\n",
    "output = test.gff\n",
    "\n",
    "for x in tsv:\n",
    "    print(x)"
   ]
  },
  {
   "cell_type": "code",
   "execution_count": 52,
   "metadata": {},
   "outputs": [
    {
     "name": "stdout",
     "output_type": "stream",
     "text": [
      "track type=wiggle_0 name=\"5mC_fraction_modified_reads_rev_strand\" description=\"5mC fraction_modified_reads rev_strand\"\r\n",
      "variableStep chrom=pcontig_005 span=1\r\n",
      "16 0.25\r\n",
      "17 0.25\r\n",
      "20 0.375\r\n",
      "22 0.375\r\n",
      "25 0.5\r\n",
      "31 0.4444\r\n",
      "37 0.1818\r\n",
      "39 0.2727\r\n"
     ]
    }
   ],
   "source": [
    "!head {m5c_minus_fh}"
   ]
  },
  {
   "cell_type": "code",
   "execution_count": 54,
   "metadata": {},
   "outputs": [],
   "source": [
    "import wiggelen"
   ]
  },
  {
   "cell_type": "code",
   "execution_count": 152,
   "metadata": {},
   "outputs": [],
   "source": [
    "#test first 10 lines to convert wig to bed\n",
    "#first convert to a text file to get all the contig and position data out\n",
    "#it is hard to directly put the contig number next to the position in a bed file\n",
    "#could just read wiggelen documentation and find a way to put the contig name in front of every position number\n",
    "#remember to minus 1 from the start position as bed is 0-based\n",
    "#maybe wig is 0-based too. check that first.\n",
    "out_fn = os.path.join(DIRS['BED_OUT'], 'm5c_minus.txt')\n",
    "with open(out_fn, 'w') as out_fh:\n",
    "    count=0\n",
    "    for x in wiggelen.walk(open(m5c_minus_fh)):\n",
    "        if count < 10:\n",
    "            print('%s\\t%d\\t%s' % x, file=out_fh)\n",
    "            count += 1\n",
    "        else:\n",
    "            break"
   ]
  },
  {
   "cell_type": "code",
   "execution_count": null,
   "metadata": {},
   "outputs": [],
   "source": []
  },
  {
   "cell_type": "code",
   "execution_count": null,
   "metadata": {},
   "outputs": [],
   "source": []
  }
 ],
 "metadata": {
  "kernelspec": {
   "display_name": "Python 3",
   "language": "python",
   "name": "python3"
  },
  "language_info": {
   "codemirror_mode": {
    "name": "ipython",
    "version": 3
   },
   "file_extension": ".py",
   "mimetype": "text/x-python",
   "name": "python",
   "nbconvert_exporter": "python",
   "pygments_lexer": "ipython3",
   "version": "3.6.4"
  }
 },
 "nbformat": 4,
 "nbformat_minor": 2
}
